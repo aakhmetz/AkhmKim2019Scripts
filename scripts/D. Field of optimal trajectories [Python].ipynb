{
 "cells": [
  {
   "cell_type": "markdown",
   "metadata": {},
   "source": [
    "# Aim of this notebook\n",
    "\n",
    "* To construct the singular curve of universal type to finalize the solution of the optimal control problem"
   ]
  },
  {
   "cell_type": "markdown",
   "metadata": {},
   "source": [
    "# Preamble"
   ]
  },
  {
   "cell_type": "code",
   "execution_count": 96,
   "metadata": {},
   "outputs": [],
   "source": [
    "from sympy import *\n",
    "init_printing(use_latex='mathjax')\n",
    "\n",
    "# Plotting\n",
    "%matplotlib inline\n",
    "## Make inline plots raster graphics\n",
    "from IPython.display import set_matplotlib_formats\n",
    "## Import modules for plotting and data analysis\n",
    "import matplotlib.pyplot as plt\n",
    "from matplotlib import gridspec,rc,colors\n",
    "import matplotlib.ticker as plticker\n",
    "# Parameters for seaborn plots\n",
    "import seaborn as sns\n",
    "clrs = sns.color_palette(\"Spectral\", 6)\n",
    "def set_plot_style(usetex=False):\n",
    "    sns.set_style('white', {'axes.linewidth': 0.5})\n",
    "    sns.set(style='white', font_scale=1.1,#context='paper',\n",
    "            rc={'xtick.major.size': 6, 'ytick.major.size': 6, 'legend.fontsize': 14,\n",
    "                'text.usetex': usetex, 'font.family': 'serif', 'font.serif': ['Verdana'],\n",
    "                'text.latex.preamble': r\"\\usepackage{type1cm}\"}) \n",
    "    plt.rcParams['xtick.major.size'] = 6\n",
    "    plt.rcParams['xtick.major.width'] = 1\n",
    "    plt.rcParams['ytick.major.size'] = 6\n",
    "    plt.rcParams['ytick.major.width'] = 1\n",
    "    plt.rcParams['xtick.bottom'] = True\n",
    "    plt.rcParams['ytick.left'] = True\n",
    "    \n",
    "set_plot_style(True)\n",
    "\n",
    "import pandas as pd\n",
    "pd.set_option('mode.chained_assignment',None)\n",
    "\n",
    "import numpy as np\n",
    "from scipy.optimize import fsolve, root\n",
    "from scipy.integrate import ode\n",
    "backend = 'dopri5'\n",
    "import warnings\n",
    "\n",
    "# Timer\n",
    "import time\n",
    "\n",
    "from copy import deepcopy\n",
    "\n",
    "from itertools import cycle\n",
    "palette_size = 10;\n",
    "clrs = sns.color_palette(\"Reds\",palette_size)\n",
    "iclrs = cycle(clrs) # iterated colors\n",
    "\n",
    "clrs0 = sns.color_palette(\"Set1\",palette_size)\n",
    "\n",
    "# Suppress warnings\n",
    "import warnings\n",
    "warnings.filterwarnings(\"ignore\")"
   ]
  },
  {
   "cell_type": "markdown",
   "metadata": {},
   "source": [
    "# Parameter values"
   ]
  },
  {
   "cell_type": "markdown",
   "metadata": {},
   "source": [
    "* Birth rate and const of downregulation are defined below in order to fit some experim. data"
   ]
  },
  {
   "cell_type": "code",
   "execution_count": 97,
   "metadata": {},
   "outputs": [],
   "source": [
    "d = .13 # death rate\n",
    "α = .3 # low equilibrium point at expression of the main pathway (high equilibrium is at one)\n",
    "θ = .45 # threshold value for the expression of the main pathway\n",
    "κ = 40 # robustness parameter"
   ]
  },
  {
   "cell_type": "markdown",
   "metadata": {},
   "source": [
    "* Symbolic variables - the list insludes μ & μbar, because they will be varied later"
   ]
  },
  {
   "cell_type": "code",
   "execution_count": 98,
   "metadata": {},
   "outputs": [],
   "source": [
    "σ, φ0, φ, x, μ, μbar = symbols('sigma, phi0, phi, x, mu, mubar')"
   ]
  },
  {
   "cell_type": "markdown",
   "metadata": {},
   "source": [
    "* Main functions"
   ]
  },
  {
   "cell_type": "code",
   "execution_count": 99,
   "metadata": {},
   "outputs": [],
   "source": [
    "A = 1-σ*(1-θ)\n",
    "Eminus = (α*A-θ)**2/2\n",
    "ΔE = A*(1-α)*((1+α)*A/2-θ)\n",
    "ΔEf = lambdify(σ,ΔE)"
   ]
  },
  {
   "cell_type": "markdown",
   "metadata": {},
   "source": [
    "* Birth rate and cost of downregulation"
   ]
  },
  {
   "cell_type": "code",
   "execution_count": 100,
   "metadata": {},
   "outputs": [
    {
     "data": {
      "text/latex": [
       "$$\\left ( 0.140168330860362, \\quad 0.325961223954473\\right )$$"
      ],
      "text/plain": [
       "(0.140168330860362, 0.325961223954473)"
      ]
     },
     "execution_count": 100,
     "metadata": {},
     "output_type": "execute_result"
    }
   ],
   "source": [
    "b = (0.1*(exp(κ*(ΔEf(1)))+1)-0.14*(exp(κ*ΔEf(0))+1))/(exp(κ*ΔEf(1))-exp(κ*ΔEf(0))) # birth rate\n",
    "χ = 1-(0.14*(exp(κ*ΔEf(0))+1)-b*exp(κ*ΔEf(0)))/b\n",
    "b, χ"
   ]
  },
  {
   "cell_type": "code",
   "execution_count": 101,
   "metadata": {},
   "outputs": [
    {
     "data": {
      "text/latex": [
       "$$0.00833519849448376$$"
      ],
      "text/plain": [
       "0.00833519849448376"
      ]
     },
     "execution_count": 101,
     "metadata": {},
     "output_type": "execute_result"
    }
   ],
   "source": [
    "c_relative = 0.1\n",
    "c = c_relative*(b-d)/b+(1-c_relative)*χ/(exp(κ*ΔEf(0))+1) # cost of resistance\n",
    "c"
   ]
  },
  {
   "cell_type": "markdown",
   "metadata": {},
   "source": [
    "* Hamiltonian *H* and a part of it ρ that includes the control variable σ"
   ]
  },
  {
   "cell_type": "code",
   "execution_count": 102,
   "metadata": {},
   "outputs": [
    {
     "data": {
      "text/latex": [
       "$$\\left ( \\phi \\left(\\frac{\\mu \\left(- x + 1\\right)}{e^{40 \\left(- 0.385 \\sigma + 0.7\\right) \\left(- 0.3575 \\sigma + 0.2\\right)} + 1} - \\bar{\\mu} x e^{- 20 \\left(- 0.165 \\sigma - 0.15\\right)^{2}} + x \\left(-0.00116833086036159 + \\frac{0.045689440686899}{e^{40 \\left(- 0.385 \\sigma + 0.7\\right) \\left(- 0.3575 \\sigma + 0.2\\right)} + 1}\\right) \\left(- x + 1\\right)\\right) - \\phi_{0} + 0.00116833086036159 x + \\frac{0.045689440686899 \\left(- x + 1\\right)}{e^{40 \\left(- 0.385 \\sigma + 0.7\\right) \\left(- 0.3575 \\sigma + 0.2\\right)} + 1}, \\quad - \\bar{\\mu} \\phi x e^{- 20 \\left(- 0.165 \\sigma - 0.15\\right)^{2}} + \\frac{\\left(- x + 1\\right) \\left(\\phi \\left(\\mu + 0.045689440686899 x\\right) + 0.045689440686899\\right)}{e^{40 \\left(- 0.385 \\sigma + 0.7\\right) \\left(- 0.3575 \\sigma + 0.2\\right)} + 1}, \\quad - 0.00116833086036159 x - \\frac{0.140168330860362 \\left(- 0.325961223954473 x + 0.325961223954473\\right)}{e^{40 \\left(- 0.385 \\sigma + 0.7\\right) \\left(- 0.3575 \\sigma + 0.2\\right)} + 1} + 0.0101683308603616\\right )$$"
      ],
      "text/plain": [
       "⎛  ⎛                                                                        2 \n",
       "⎜  ⎜                μ⋅(-x + 1)                         -20⋅(-0.165⋅σ - 0.15)  \n",
       "⎜φ⋅⎜────────────────────────────────────────── - μ̅⋅x⋅ℯ                       \n",
       "⎜  ⎜ 40⋅(-0.385⋅σ + 0.7)⋅(-0.3575⋅σ + 0.2)                                    \n",
       "⎝  ⎝ℯ                                      + 1                                \n",
       "\n",
       "                                                                              \n",
       "    ⎛                                   0.045689440686899             ⎞       \n",
       "+ x⋅⎜-0.00116833086036159 + ──────────────────────────────────────────⎟⋅(-x + \n",
       "    ⎜                        40⋅(-0.385⋅σ + 0.7)⋅(-0.3575⋅σ + 0.2)    ⎟       \n",
       "    ⎝                       ℯ                                      + 1⎠       \n",
       "\n",
       "  ⎞                                                                           \n",
       "  ⎟                                        0.045689440686899⋅(-x + 1)         \n",
       "1)⎟ - φ₀ + 0.00116833086036159⋅x + ──────────────────────────────────────────,\n",
       "  ⎟                                 40⋅(-0.385⋅σ + 0.7)⋅(-0.3575⋅σ + 0.2)     \n",
       "  ⎠                                ℯ                                      + 1 \n",
       "\n",
       "                                2                                             \n",
       "           -20⋅(-0.165⋅σ - 0.15)    (-x + 1)⋅(φ⋅(μ + 0.045689440686899⋅x) + 0.\n",
       " - μ̅⋅φ⋅x⋅ℯ                       + ──────────────────────────────────────────\n",
       "                                             40⋅(-0.385⋅σ + 0.7)⋅(-0.3575⋅σ + \n",
       "                                            ℯ                                 \n",
       "\n",
       "                                                                              \n",
       "045689440686899)                           0.140168330860362⋅(-0.3259612239544\n",
       "────────────────, -0.00116833086036159⋅x - ───────────────────────────────────\n",
       "0.2)                                                 40⋅(-0.385⋅σ + 0.7)⋅(-0.3\n",
       "     + 1                                            ℯ                         \n",
       "\n",
       "                                              ⎞\n",
       "73⋅x + 0.325961223954473)                     ⎟\n",
       "───────────────────────── + 0.0101683308603616⎟\n",
       "575⋅σ + 0.2)                                  ⎟\n",
       "             + 1                              ⎠"
      ]
     },
     "execution_count": 102,
     "metadata": {},
     "output_type": "execute_result"
    }
   ],
   "source": [
    "h = b*(χ/(exp(κ*ΔE)+1)*(1-x)+c*x)\n",
    "H = -φ0 + φ*(b*(χ/(exp(κ*ΔE)+1)-c)*x*(1-x)+μ*(1-x)/(exp(κ*ΔE)+1)-μbar*exp(-κ*Eminus)*x) + h\n",
    "ρ = (φ*(b*χ*x+μ)+b*χ)/(exp(κ*ΔE)+1)*(1-x)-φ*μbar*exp(-κ*Eminus)*x\n",
    "ρ1 = (φ*(b*χ*x+μ)+b*χ)/(exp(κ*ΔE)+1)*(1-x)\n",
    "ρ2 = φ*μbar*exp(-κ*Eminus)*x\n",
    "n = b*(1-χ*(1-x)/(exp(κ*ΔE)+1)-c*x)-d\n",
    "H, ρ, n"
   ]
  },
  {
   "cell_type": "markdown",
   "metadata": {},
   "source": [
    "* Same but for no treatment (σ = 0)"
   ]
  },
  {
   "cell_type": "code",
   "execution_count": 103,
   "metadata": {},
   "outputs": [
    {
     "data": {
      "text/latex": [
       "$$\\left ( \\phi \\left(0.00368423989943599 \\mu \\left(- x + 1\\right) - 0.637628151621773 \\bar{\\mu} x - 0.001 x \\left(- x + 1\\right)\\right) - \\phi_{0} + 0.001 x + 0.000168330860361587, \\quad - 0.637628151621773 \\bar{\\mu} \\phi x + 0.00368423989943599 \\left(- x + 1\\right) \\left(\\phi \\left(\\mu + 0.045689440686899 x\\right) + 0.045689440686899\\right)\\right )$$"
      ],
      "text/plain": [
       "(φ⋅(0.00368423989943599⋅μ⋅(-x + 1) - 0.637628151621773⋅μ̅⋅x - 0.001⋅x⋅(-x + 1)\n",
       ") - φ₀ + 0.001⋅x + 0.000168330860361587, -0.637628151621773⋅μ̅⋅φ⋅x + 0.0036842\n",
       "3989943599⋅(-x + 1)⋅(φ⋅(μ + 0.045689440686899⋅x) + 0.045689440686899))"
      ]
     },
     "execution_count": 103,
     "metadata": {},
     "output_type": "execute_result"
    }
   ],
   "source": [
    "h0 = h.subs(σ,0)\n",
    "H0 = H.subs(σ,0)\n",
    "ρ0 = ρ.subs(σ,0)\n",
    "H0, ρ0"
   ]
  },
  {
   "cell_type": "markdown",
   "metadata": {},
   "source": [
    "* Machinery: definition of the Poisson brackets"
   ]
  },
  {
   "cell_type": "code",
   "execution_count": 104,
   "metadata": {},
   "outputs": [],
   "source": [
    "PoissonBrackets = lambda H1, H2: diff(H1,x)*diff(H2,φ)-diff(H1,φ)*diff(H2,x)"
   ]
  },
  {
   "cell_type": "markdown",
   "metadata": {},
   "source": [
    "* Necessary functions and defining the right hand side of dynamical equations"
   ]
  },
  {
   "cell_type": "code",
   "execution_count": 105,
   "metadata": {},
   "outputs": [],
   "source": [
    "ρf = lambdify((x,φ,σ,μ,μbar),ρ)\n",
    "ρ1f = lambdify((x,φ,σ,μ,μbar),ρ1)\n",
    "ρ2f = lambdify((x,φ,σ,μ,μbar),ρ2)\n",
    "ρ0f = lambdify((x,φ,μ,μbar),ρ0)\n",
    "dxdτ = lambdify((x,φ,σ,μ,μbar),-diff(H,φ))\n",
    "dφdτ = lambdify((x,φ,σ,μ,μbar),diff(H,x))\n",
    "dVdτ = lambdify((x,σ),h)\n",
    "dρdσ = lambdify((σ,x,φ,μ,μbar),diff(ρ,σ))\n",
    "dδρdτ = lambdify((x,φ,σ,μ,μbar),-PoissonBrackets(ρ0-ρ,H))\n",
    "def ode_rhs(t,state,μ,μbar):\n",
    "    x, φ, V, δρ = state\n",
    "    σs = [0,1]\n",
    "    if (dρdσ(1.,x,φ,μ,μbar)<0) and (dρdσ(θ,x,φ,μ,μbar)>0):\n",
    "        σstar = fsolve(dρdσ,.8,args=(x,φ,μ,μbar,))[0]\n",
    "    else:\n",
    "        σstar = 1.;\n",
    "    if ρf(x,φ,σstar,μ,μbar) < ρ0f(x,φ,μ,μbar):\n",
    "        sgm = 0\n",
    "    else:\n",
    "        sgm = σstar\n",
    "    return [dxdτ(x,φ,sgm,μ,μbar),dφdτ(x,φ,sgm,μ,μbar),dVdτ(x,sgm),dδρdτ(x,φ,σstar,μ,μbar)]\n",
    "def σstarf(x,φ,μ,μbar):\n",
    "    if (dρdσ(1.,x,φ,μ,μbar)<0) and (dρdσ(θ,x,φ,μ,μbar)>0):\n",
    "        σstar = fsolve(dρdσ,.8,args=(x,φ,μ,μbar,))[0]\n",
    "    else:\n",
    "        σstar = 1.;\n",
    "    if ρf(x,φ,σstar,μ,μbar) < ρ0f(x,φ,μ,μbar):\n",
    "        sgm = 0\n",
    "    else:\n",
    "        sgm = σstar\n",
    "    return sgm"
   ]
  },
  {
   "cell_type": "code",
   "execution_count": 106,
   "metadata": {},
   "outputs": [],
   "source": [
    "def get_primary_field(name, experiment,μ,μbar):\n",
    "    solutions = {}\n",
    "    solver = ode(ode_rhs).set_integrator(backend)\n",
    "    τ0 = experiment['τ0']\n",
    "    tms = np.linspace(τ0,experiment['T_end'],1e3+1)\n",
    "    for x0 in experiment['x0']:\n",
    "        δρ0 = ρ0.subs(x,x0).subs(φ,0)-ρ.subs(x,x0).subs(φ,0).subs(σ,1.)\n",
    "        solver.set_initial_value([x0,0,0,δρ0],0.).set_f_params(μ,μbar)\n",
    "        sol = []; k = 0;\n",
    "        while (solver.t < experiment['T_end']) and (solver.y[0]<=1.) and (solver.y[0]>=0.):\n",
    "            solver.integrate(tms[k])\n",
    "            sol.append([solver.t]+list(solver.y))\n",
    "            k += 1\n",
    "        solutions[x0] = {'solution': sol}\n",
    "    for x0, entry in solutions.items():\n",
    "        entry['τ'] = [entry['solution'][j][0] for j in range(len(entry['solution']))]\n",
    "        entry['x'] = [entry['solution'][j][1] for j in range(len(entry['solution']))]\n",
    "        entry['φ'] = [entry['solution'][j][2] for j in range(len(entry['solution']))]\n",
    "        entry['V'] = [entry['solution'][j][3] for j in range(len(entry['solution']))]\n",
    "        entry['δρ'] = [entry['solution'][j][4] for j in range(len(entry['solution']))]\n",
    "    return solutions\n",
    "def get_δρ_value(tme,x0,μ,μbar):\n",
    "    solver = ode(ode_rhs).set_integrator(backend)\n",
    "    δρ0 = ρ0.subs(x,x0).subs(φ,0)-ρ.subs(x,x0).subs(φ,0).subs(σ,1.)\n",
    "    solver.set_initial_value([x0,0,0,δρ0],0.).set_f_params(μ,μbar)\n",
    "    while (solver.t < tme) and (solver.y[0]<=1.) and (solver.y[0]>=0.):\n",
    "        solver.integrate(tme)\n",
    "        sol = [solver.t]+list(solver.y)\n",
    "    return solver.y[3]\n",
    "def get_δρ_ending(params,μ,μbar):\n",
    "    tme, x0 = params\n",
    "    solver = ode(ode_rhs).set_integrator(backend)\n",
    "    δρ0 = ρ0.subs(x,x0).subs(φ,0)-ρ.subs(x,x0).subs(φ,0).subs(σ,1.)\n",
    "    solver.set_initial_value([x0,0,0,δρ0],0.).set_f_params(μ,μbar)\n",
    "    δτ = 1.0e-8; tms = [tme,tme+δτ]\n",
    "    _k = 0; sol = []\n",
    "    while (_k<len(tms)):# and (solver.y[0]<=1.) and (solver.y[0]>=0.):\n",
    "        solver.integrate(tms[_k])\n",
    "        sol.append(solver.y)\n",
    "        _k += 1\n",
    "    #print(sol)\n",
    "    return(sol[0][3],(sol[1][3]-sol[0][3])/δτ)\n",
    "def get_state(tme,x0,μ,μbar):\n",
    "    solver = ode(ode_rhs).set_integrator(backend)\n",
    "    δρ0 = ρ0.subs(x,x0).subs(φ,0)-ρ.subs(x,x0).subs(φ,0).subs(σ,1.)\n",
    "    solver.set_initial_value([x0,0,0,δρ0],0.).set_f_params(μ,μbar)\n",
    "    δτ = 1.0e-8; tms = [tme,tme+δτ]\n",
    "    _k = 0; sol = []\n",
    "    while (solver.t < tms[-1]) and (solver.y[0]<=1.) and (solver.y[0]>=0.):\n",
    "        solver.integrate(tms[_k])\n",
    "        sol.append(solver.y)\n",
    "        _k += 1\n",
    "    return(list(sol[0])+[(sol[1][3]-sol[0][3])/δτ])"
   ]
  },
  {
   "cell_type": "markdown",
   "metadata": {},
   "source": [
    "# Machinery for the universal line"
   ]
  },
  {
   "cell_type": "markdown",
   "metadata": {},
   "source": [
    "* To find the universal singular curve we need to define two parameters"
   ]
  },
  {
   "cell_type": "code",
   "execution_count": 107,
   "metadata": {},
   "outputs": [],
   "source": [
    "γ0 = PoissonBrackets(PoissonBrackets(H,H0),H)\n",
    "γ1 = PoissonBrackets(PoissonBrackets(H0,H),H0)"
   ]
  },
  {
   "cell_type": "markdown",
   "metadata": {},
   "source": [
    "* The dynamics"
   ]
  },
  {
   "cell_type": "code",
   "execution_count": 108,
   "metadata": {},
   "outputs": [],
   "source": [
    "dxdτSingExpr = -(γ0*diff(H0,φ)+γ1*diff(H,φ))/(γ0+γ1)\n",
    "dφdτSingExpr = (γ0*diff(H0,x)+γ1*diff(H,x))/(γ0+γ1)\n",
    "dVdτSingExpr = (γ0*h0+γ1*h)/(γ0+γ1)\n",
    "σSingExpr = γ1*σ/(γ0+γ1)"
   ]
  },
  {
   "cell_type": "markdown",
   "metadata": {},
   "source": [
    "* Machinery for Python: lambdify the functions above"
   ]
  },
  {
   "cell_type": "code",
   "execution_count": 109,
   "metadata": {},
   "outputs": [],
   "source": [
    "dxdτSing = lambdify((x,φ,σ,μ,μbar),dxdτSingExpr)\n",
    "dφdτSing = lambdify((x,φ,σ,μ,μbar),dφdτSingExpr)\n",
    "dVdτSing = lambdify((x,φ,σ,μ,μbar),dVdτSingExpr)\n",
    "σSing = lambdify((x,φ,σ,μ,μbar),σSingExpr)"
   ]
  },
  {
   "cell_type": "code",
   "execution_count": 110,
   "metadata": {},
   "outputs": [],
   "source": [
    "def ode_rhs_Sing(t,state,μ,μbar):\n",
    "    x, φ, V = state\n",
    "    if (dρdσ(1.,x,φ,μ,μbar)<0) and (dρdσ(θ,x,φ,μ,μbar)>0):\n",
    "        σstar = fsolve(dρdσ,.8,args=(x,φ,μ,μbar,))[0]\n",
    "    else:\n",
    "        σstar = 1.;\n",
    "    return [dxdτSing(x,φ,σstar,μ,μbar),dφdτSing(x,φ,σstar,μ,μbar),dVdτSing(x,φ,σstar,μ,μbar)]\n",
    "def get_universal_curve(end_point,tmax,Nsteps,μ,μbar):\n",
    "    tms =  np.linspace(end_point[0],tmax,Nsteps);\n",
    "    solver = ode(ode_rhs_Sing).set_integrator(backend)\n",
    "    solver.set_initial_value(end_point[1:4],end_point[0]).set_f_params(μ,μbar)\n",
    "    _k = 0; sol = []\n",
    "    while (solver.t < tms[-1]):\n",
    "        solver.integrate(tms[_k])\n",
    "        sol.append([solver.t]+list(solver.y))\n",
    "        _k += 1\n",
    "    return sol\n",
    "def get_σ_universal(tme,end_point,μ,μbar):\n",
    "    δτ = 1.0e-8; tms = [tme,tme+δτ]\n",
    "    solver = ode(ode_rhs_Sing).set_integrator(backend)\n",
    "    solver.set_initial_value(end_point[1:4],end_point[0]).set_f_params(μ,μbar)\n",
    "    _k = 0; sol = []\n",
    "    while (solver.t < tme+δτ):\n",
    "        solver.integrate(tms[_k])\n",
    "        sol.append([solver.t]+list(solver.y))\n",
    "        _k += 1\n",
    "    x, φ = sol[0][:2]\n",
    "    sgm = fsolve(lambda σ: dxdτ(x,φ,σ,μ,μbar)-(sol[1][0]-sol[0][0])/δτ,θ/2)[0]\n",
    "    return sgm\n",
    "def get_state_universal(tme,end_point,μ,μbar):\n",
    "    solver = ode(ode_rhs_Sing).set_integrator(backend)\n",
    "    solver.set_initial_value(end_point[1:4],end_point[0]).set_f_params(μ,μbar)\n",
    "    solver.integrate(tme)\n",
    "    return [solver.t]+list(solver.y)"
   ]
  },
  {
   "cell_type": "code",
   "execution_count": 111,
   "metadata": {},
   "outputs": [],
   "source": [
    "def ode_rhs_with_σstar(t,state,μ,μbar):\n",
    "    x, φ, V = state\n",
    "    if (dρdσ(1.,x,φ,μ,μbar)<0) and (dρdσ(θ,x,φ,μ,μbar)>0):\n",
    "        σ = fsolve(dρdσ,.8,args=(x,φ,μ,μbar,))[0]\n",
    "    else:\n",
    "        σ = 1.;\n",
    "    return [dxdτ(x,φ,σ,μ,μbar),dφdτ(x,φ,σ,μ,μbar),dVdτ(x,σ)]\n",
    "def ode_rhs_with_given_σ(t,state,σ,μ,μbar):\n",
    "    x, φ, V = state\n",
    "    return [dxdτ(x,φ,σ,μ,μbar),dφdτ(x,φ,σ,μ,μbar),dVdτ(x,σ)]\n",
    "def get_trajectory_with_σstar(starting_point,tmax,Nsteps,μ,μbar):\n",
    "    tms = np.linspace(starting_point[0],tmax,Nsteps)\n",
    "    solver = ode(ode_rhs_with_σstar).set_integrator(backend)\n",
    "    solver.set_initial_value(starting_point[1:],starting_point[0]).set_f_params(μ,μbar)\n",
    "    sol = []; _k = 0;\n",
    "    while solver.t < max(tms) and (solver.y[0]<=1.) and (solver.y[0]>=0.):\n",
    "        solver.integrate(tms[_k])\n",
    "        sol.append([solver.t]+list(solver.y))\n",
    "        _k += 1\n",
    "    return sol\n",
    "def get_trajectory_with_given_σ(starting_point,tmax,Nsteps,σ,μ,μbar):\n",
    "    tms = np.linspace(starting_point[0],tmax,100)\n",
    "    solver = ode(ode_rhs_with_given_σ).set_integrator(backend)\n",
    "    solver.set_initial_value(starting_point[1:],starting_point[0]).set_f_params(σ,μ,μbar)\n",
    "    sol = []; _k = 0;\n",
    "    while solver.t < max(tms) and (solver.y[0]<=1.) and (solver.y[0]>=0.):\n",
    "        solver.integrate(tms[_k])\n",
    "        sol.append([solver.t]+list(solver.y))\n",
    "        _k += 1\n",
    "    return sol\n",
    "def get_state_with_σstar(tme,starting_point,μ,μbar):\n",
    "    solver = ode(ode_rhs_with_σstar).set_integrator(backend)\n",
    "    solver.set_initial_value(starting_point[1:4],starting_point[0]).set_f_params(μ,μbar)\n",
    "    solver.integrate(tme)\n",
    "    return [solver.t]+list(solver.y)\n",
    "def get_finalizing_point_from_universal_curve(tme,tmx,end_point,μ,μbar):\n",
    "    unv_point = get_state_universal(tme,end_point,μ,μbar)\n",
    "    return get_state_with_σstar(tmx,unv_point,μ,μbar)[1]"
   ]
  },
  {
   "cell_type": "markdown",
   "metadata": {},
   "source": [
    "# Field of optimal trajectories as the solution of the Bellman equation\n",
    "\n",
    "* μ & μbar are varied by *T* and *T*bar ($\\mu=1/T$ and $\\bar\\mu=1/\\bar{T}$)"
   ]
  },
  {
   "cell_type": "code",
   "execution_count": 112,
   "metadata": {},
   "outputs": [
    {
     "name": "stdout",
     "output_type": "stream",
     "text": [
      "Parameters: μ = 0.09524, μbar = 0.07143\n",
      "Ending point for the switching line: τ = 11.1 days, x = 62.9%\n",
      "Checking the solution - should give zero values: \n",
      "(-1.8766899605925048e-10, 9.321241741773813e-10)\n",
      "* Constructing the primary field\n",
      "* Constructing the switching curve\n",
      "* Constructing the universal curve\n",
      "* Finding the last characteristic\n",
      "The last point on the universal line:\n",
      "[168.21633500053056, 0.6285637714632423, -0.24007763436787447, 1.3270312549851486]\n",
      "Final state:\n",
      "[180.0, -8.373857163235243e-14, -0.3878381029647683, 1.6191478880823515]\n"
     ]
    }
   ],
   "source": [
    "tmx = 180.\n",
    "end_switching_curve = {'t': 19., 'x': .7} \n",
    "# for Τ, Τbar in zip([28]*5,[14,21,28,35,60]):\n",
    "Τ = 10.5; Τbar = 14.\n",
    "μ = 1./Τ; μbar = 1./Τbar\n",
    "print(\"Parameters: μ = %.5f, μbar = %.5f\"%(μ,μbar))\n",
    "end_switching_curve['t'], end_switching_curve['x'] = fsolve(get_δρ_ending,(end_switching_curve['t'],end_switching_curve['x']),args=(μ,μbar),xtol=1.0e-12)\n",
    "end_point = [end_switching_curve['t']]+get_state(end_switching_curve['t'],end_switching_curve['x'],μ,μbar)\n",
    "print(\"Ending point for the switching line: τ = %.1f days, x = %.1f%%\" % (end_point[0], end_point[1]*100))\n",
    "print(\"Checking the solution - should give zero values: \")\n",
    "print(get_δρ_ending([end_switching_curve['t'],end_switching_curve['x']],μ,μbar))\n",
    "print(\"* Constructing the primary field\")\n",
    "primary_field1 = []\n",
    "experiments = {\n",
    "    'sol1': { 'T_end': tmx, 'τ0': 0., 'x0': list(np.linspace(0,end_switching_curve['x']-(1e-3),7)) } }\n",
    "for name, values in experiments.items():\n",
    "    primary_field1.append(get_primary_field(name,values,μ,μbar))\n",
    "primary_field2 = []\n",
    "experiments = {\n",
    "    'sol1': { 'T_end': tmx, 'τ0': 0., 'x0': list(np.linspace(end_switching_curve['x']+(3e-6),1.,7)) } }\n",
    "for name, values in experiments.items():\n",
    "    primary_field2.append(get_primary_field(name,values,μ,μbar))\n",
    "print(\"* Constructing the switching curve\")\n",
    "switching_curve = []\n",
    "x0s = np.linspace(end_switching_curve['x'],1,21); _y = end_switching_curve['t']\n",
    "\n",
    "for x0 in x0s:\n",
    "    tme = fsolve(get_δρ_value,_y,args=(x0,μ,μbar))[0]\n",
    "    if (tme>0):\n",
    "        switching_curve = switching_curve+[[tme,get_state(tme,x0,μ,μbar)[0]]]\n",
    "        _y = tme\n",
    "print(\"* Constructing the universal curve\")\n",
    "universal_curve = get_universal_curve(end_point,tmx,25,μ,μbar)\n",
    "print(\"* Finding the last characteristic\")\n",
    "#time0 = time.time()\n",
    "tuniv = fsolve(get_finalizing_point_from_universal_curve,tmx-40.,args=(tmx,end_point,μ,μbar,))[0]\n",
    "#print(\"The proccess to find the last characteristic took %0.1f minutes\" % ((time.time()-time0)/60.))\n",
    "univ_point = get_state_universal(tuniv,end_point,μ,μbar)\n",
    "print(\"The last point on the universal line:\")\n",
    "print(univ_point)\n",
    "last_trajectory = get_trajectory_with_σstar(univ_point,tmx,50,μ,μbar)\n",
    "print(\"Final state:\")\n",
    "final_state = get_state_with_σstar(tmx,univ_point,μ,μbar)\n",
    "print(final_state)"
   ]
  },
  {
   "cell_type": "code",
   "execution_count": 113,
   "metadata": {},
   "outputs": [
    {
     "data": {
      "image/png": "[encoded data removed]",
      "text/plain": [
       "<Figure size 324x230.4 with 1 Axes>"
      ]
     },
     "metadata": {},
     "output_type": "display_data"
    }
   ],
   "source": [
    "# Plotting\n",
    "plt.rcParams['figure.figsize'] = (4.5, 3.2)\n",
    "_k = 0\n",
    "for solutions in primary_field1:\n",
    "    for x0, entry in solutions.items():\n",
    "        plt.plot(entry['τ'], entry['x'], '-', linewidth=1, color=clrs0[1])\n",
    "        _k += 1\n",
    "_k = 0\n",
    "for solutions in primary_field2:\n",
    "    for x0, entry in solutions.items():\n",
    "        plt.plot(entry['τ'], entry['x'], '-', linewidth=1, color=clrs0[1])\n",
    "        _k += 1\n",
    "plt.plot([x[0] for x in switching_curve],[x[1] for x in switching_curve],linewidth=3,color=\"k\",zorder=4,linestyle=\"dashed\")\n",
    "plt.plot([end_point[0]],[end_point[1]],marker='o',color=\"black\",zorder=4)\n",
    "\n",
    "plt.xlim([0,120]); plt.ylim([0,1]);\n",
    "ytks = np.arange(0,1.2,.2)\n",
    "plt.yticks(ytks,[int(y*100) for y in ytks])\n",
    "plt.xlabel(\"Backward time (days)\"); plt.ylabel(\"Fraction of resistant cells (\\%)\")\n",
    "# plt.show()\n",
    "plt.savefig(\"../figures/draft/Fig2-0.pdf\",format='pdf',bbox_inches='tight')"
   ]
  },
  {
   "cell_type": "code",
   "execution_count": 114,
   "metadata": {},
   "outputs": [
    {
     "data": {
      "image/png": "[encoded data removed]",
      "text/plain": [
       "<Figure size 324x230.4 with 1 Axes>"
      ]
     },
     "metadata": {},
     "output_type": "display_data"
    }
   ],
   "source": [
    "# Plotting\n",
    "plt.rcParams['figure.figsize'] = (4.5, 3.2)\n",
    "_k = 0\n",
    "for solutions in primary_field1:\n",
    "    for x0, entry in solutions.items():\n",
    "        plt.plot(entry['τ'], entry['x'], '-', linewidth=1, color=clrs0[1])\n",
    "        _k += 1\n",
    "_k = 0\n",
    "for solutions in primary_field2:\n",
    "    for x0, entry in solutions.items():\n",
    "        plt.plot(entry['τ'], entry['x'], '-', linewidth=1, color=clrs0[1])\n",
    "        _k += 1\n",
    "plt.plot([x[0] for x in switching_curve],[x[1] for x in switching_curve],linewidth=3,color=\"k\",zorder=4,linestyle=\"dashed\")\n",
    "# plt.plot([end_point[0]],[end_point[1]],marker='o',color=\"black\",zorder=4)\n",
    "plt.plot([x[0] for x in universal_curve],[x[1] for x in universal_curve],linewidth=3,color=\"k\",zorder=3)\n",
    "for tend in [42,64,86,110]:\n",
    "    tuniv = fsolve(get_finalizing_point_from_universal_curve,tend-20.,args=(tend,end_point,μ,μbar,))[0]\n",
    "    univ_point = get_state_universal(tuniv,end_point,μ,μbar)\n",
    "    trajectory = get_trajectory_with_σstar(univ_point,tend,50,μ,μbar)\n",
    "    plt.plot([x[0] for x in trajectory],[x[1] for x in trajectory],linewidth=1,color=clrs0[4])\n",
    "    trajectory = get_trajectory_with_given_σ(univ_point,tend+20,100,0,μ,μbar)\n",
    "    plt.plot([x[0] for x in trajectory],[x[1] for x in trajectory],linewidth=1,color=clrs0[4])\n",
    "plt.xlim([0,120]); plt.ylim([0,1]);\n",
    "ytks = np.arange(0,1.2,.2)\n",
    "plt.yticks(ytks,[int(y*100) for y in ytks])\n",
    "plt.xlabel(\"Backward time (days)\"); plt.ylabel(\"Fraction of resistant cells (\\%)\")\n",
    "# plt.show()\n",
    "plt.savefig(\"../figures/draft/Fig2-1.pdf\",format='pdf',bbox_inches='tight')"
   ]
  },
  {
   "cell_type": "code",
   "execution_count": 131,
   "metadata": {},
   "outputs": [
    {
     "name": "stdout",
     "output_type": "stream",
     "text": [
      "1000\n"
     ]
    },
    {
     "data": {
      "image/png": "[encoded data removed]",
      "text/plain": [
       "<Figure size 252x180 with 1 Axes>"
      ]
     },
     "metadata": {},
     "output_type": "display_data"
    }
   ],
   "source": [
    "# Plotting\n",
    "plt.rcParams['figure.figsize'] = (3.5, 2.5)\n",
    "\n",
    "σs = np.linspace(0,1,1001)\n",
    "plt.plot(σs,[ρf(.9,0,σ,μ,μbar) for σ in σs],linewidth=2,color=\"k\")\n",
    "σimx = np.argmax([ρf(.9,0,σ,μ,μbar) for σ in σs])\n",
    "print(σimx)\n",
    "plt.plot(σs[σimx],[ρf(.9,0,σs[σimx],μ,μbar)],'ro')\n",
    "plt.plot(σs,[ρ1f(.9,0,σ,μ,μbar) for σ in σs],'g--',linewidth=1,zorder=-5)\n",
    "plt.plot(σs,[ρ2f(.9,0,σ,μ,μbar) for σ in σs],'b--',linewidth=1,zorder=-5)\n",
    "plt.ylim([-.0002,.0082]);\n",
    "plt.savefig(\"../figures/draft/Fig3-A.pdf\",format='pdf',bbox_inches='tight')"
   ]
  },
  {
   "cell_type": "code",
   "execution_count": 132,
   "metadata": {},
   "outputs": [
    {
     "name": "stdout",
     "output_type": "stream",
     "text": [
      "Terminal point:  0.0 0.8326656101458483 0.0\n",
      "2.88 0.7939834808300518 -0.09528252394714697\n",
      "996\n"
     ]
    },
    {
     "data": {
      "image/png": "[encoded data removed]",
      "text/plain": [
       "<Figure size 252x180 with 1 Axes>"
      ]
     },
     "metadata": {},
     "output_type": "display_data"
    }
   ],
   "source": [
    "fig, ax = plt.subplots()\n",
    "for solution in primary_field2:\n",
    "    k = 0\n",
    "    for x0, entry in solution.items():\n",
    "        if (k==0):\n",
    "            print(\"Terminal point: \",entry['τ'][0],entry['x'][0],entry['φ'][0])\n",
    "            kk = 16\n",
    "            print(entry['τ'][kk],entry['x'][kk],entry['φ'][kk])\n",
    "            ρyy = [ρf(entry['x'][kk],entry['φ'][kk],σ,μ,μbar) for σ in σs]\n",
    "            plt.plot(σs,ρyy,linewidth=2,color=\"k\")\n",
    "            σimx = np.argmax(ρyy)\n",
    "            print(σimx)\n",
    "            plt.plot(σs[σimx],ρyy[σimx],'ro')\n",
    "            plt.plot(σs,[ρ1f(entry['x'][kk],entry['φ'][kk],σ,μ,μbar) for σ in σs],'g--',linewidth=1,zorder=-5)\n",
    "            plt.plot(σs,[-ρ2f(entry['x'][kk],entry['φ'][kk],σ,μ,μbar) for σ in σs],'b--',linewidth=1,zorder=-5)\n",
    "            plt.ylim([-.0002,.0082]);\n",
    "            break\n",
    "        k = k + 1\n",
    "plt.savefig(\"../figures/draft/Fig3-B.pdf\",format='pdf',bbox_inches='tight')"
   ]
  },
  {
   "cell_type": "code",
   "execution_count": 133,
   "metadata": {},
   "outputs": [
    {
     "name": "stdout",
     "output_type": "stream",
     "text": [
      "Terminal point:  0.0 0.8326656101458483 0.0\n",
      "12.6 0.6767246243275277 -0.22146918591472672\n",
      "0\n"
     ]
    },
    {
     "data": {
      "image/png": "[encoded data removed]",
      "text/plain": [
       "<Figure size 252x180 with 1 Axes>"
      ]
     },
     "metadata": {},
     "output_type": "display_data"
    }
   ],
   "source": [
    "fig, ax = plt.subplots()\n",
    "for solution in primary_field2:\n",
    "    k = 0\n",
    "    for x0, entry in solution.items():\n",
    "        if (k==0):\n",
    "            print(\"Terminal point: \",entry['τ'][0],entry['x'][0],entry['φ'][0])\n",
    "            kk = 70\n",
    "            print(entry['τ'][kk],entry['x'][kk],entry['φ'][kk])\n",
    "            ρyy = [ρf(entry['x'][kk],entry['φ'][kk],σ,μ,μbar) for σ in σs]\n",
    "            plt.plot(σs,ρyy,linewidth=2,color=\"k\")\n",
    "            σimx = np.argmax(ρyy)\n",
    "            print(σimx)\n",
    "            plt.plot(σs[σimx],ρyy[σimx],'ro')\n",
    "            plt.plot(σs,[ρ1f(entry['x'][kk],entry['φ'][kk],σ,μ,μbar) for σ in σs],'g--',linewidth=1,zorder=-5)\n",
    "            plt.plot(σs,[-ρ2f(entry['x'][kk],entry['φ'][kk],σ,μ,μbar) for σ in σs],'b--',linewidth=1,zorder=-5)\n",
    "            plt.ylim([-.0002,.0082]);\n",
    "            break\n",
    "        k = k + 1\n",
    "plt.savefig(\"../figures/draft/Fig3-C.pdf\",format='pdf',bbox_inches='tight')"
   ]
  },
  {
   "cell_type": "code",
   "execution_count": 135,
   "metadata": {},
   "outputs": [
    {
     "name": "stdout",
     "output_type": "stream",
     "text": [
      "Point on the universal curve:  81.49940489696118 0.6285617588441272 -0.2400770287900881\n",
      "803\n"
     ]
    },
    {
     "data": {
      "image/png": "[encoded data removed]",
      "text/plain": [
       "<Figure size 252x180 with 1 Axes>"
      ]
     },
     "metadata": {},
     "output_type": "display_data"
    }
   ],
   "source": [
    "fig, ax = plt.subplots()\n",
    "kk = 10\n",
    "xu = universal_curve[kk][1]\n",
    "φu = universal_curve[kk][2]\n",
    "print(\"Point on the universal curve: \",universal_curve[kk][0],xu,φu)\n",
    "\n",
    "ρyy = [ρf(xu,φu,σ,μ,μbar) for σ in σs]\n",
    "plt.plot(σs,ρyy,linewidth=2,color=\"k\")\n",
    "σimx = np.argmax(ρyy[1:]) #except zero\n",
    "print(σimx)\n",
    "plt.plot(σs[σimx],ρyy[σimx],'ro')\n",
    "plt.plot([0],ρyy[σimx],'ro')\n",
    "plt.plot(σs,[ρ1f(xu,φu,σ,μ,μbar) for σ in σs],'g--',linewidth=1,zorder=-5)\n",
    "plt.plot(σs,[-ρ2f(xu,φu,σ,μ,μbar) for σ in σs],'b--',linewidth=1,zorder=-5)\n",
    "plt.ylim([-.0002,.0082]);\n",
    "# ax.yaxis.set_major_formatter(plt.NullFormatter())\n",
    "plt.savefig(\"../figures/draft/Fig3-D.pdf\",format='pdf',bbox_inches='tight')"
   ]
  },
  {
   "cell_type": "markdown",
   "metadata": {},
   "source": [
    "# Preparation for second figure"
   ]
  },
  {
   "cell_type": "code",
   "execution_count": 136,
   "metadata": {},
   "outputs": [
    {
     "data": {
      "image/png": "[encoded data removed]",
      "text/plain": [
       "<Figure size 486x324 with 1 Axes>"
      ]
     },
     "metadata": {},
     "output_type": "display_data"
    }
   ],
   "source": [
    "# Plotting\n",
    "plt.rcParams['figure.figsize'] = (6.75, 4.5)\n",
    "_k = 0\n",
    "for solutions in primary_field1:\n",
    "    for x0, entry in solutions.items():\n",
    "        plt.plot(entry['τ'], entry['x'], '-', linewidth=1, color=clrs0[1])\n",
    "        _k += 1\n",
    "_k = 0\n",
    "for solutions in primary_field2:\n",
    "    for x0, entry in solutions.items():\n",
    "        plt.plot(entry['τ'], entry['x'], '-', linewidth=1, color=clrs0[1])\n",
    "        _k += 1\n",
    "plt.plot([x[0] for x in switching_curve],[x[1] for x in switching_curve],linewidth=3,color=clrs0[0],zorder=4,linestyle=\"dashed\")\n",
    "plt.plot([end_point[0]],[end_point[1]],marker='o',color=\"black\",zorder=4)\n",
    "plt.plot([x[0] for x in universal_curve],[x[1] for x in universal_curve],linewidth=3,color=clrs0[0],zorder=3)\n",
    "for tend in [80,110,140]:\n",
    "    tuniv = fsolve(get_finalizing_point_from_universal_curve,tend-20.,args=(tend,end_point,μ,μbar,))[0]\n",
    "    univ_point = get_state_universal(tuniv,end_point,μ,μbar)\n",
    "    trajectory = get_trajectory_with_σstar(univ_point,tend,50,μ,μbar)\n",
    "    plt.plot([x[0] for x in trajectory],[x[1] for x in trajectory],linewidth=1,color=clrs0[4])\n",
    "    trajectory = get_trajectory_with_given_σ(univ_point,tend+20,100,0,μ,μbar)\n",
    "    plt.plot([x[0] for x in trajectory],[x[1] for x in trajectory],linewidth=1,color=clrs0[4])\n",
    "plt.xlim([0,120]); plt.ylim([0,1]);\n",
    "plt.xlabel(\"Backward time (days)\"); plt.ylabel(\"Fraction of resistant cells (\\%)\")\n",
    "plt.show()"
   ]
  },
  {
   "cell_type": "code",
   "execution_count": 137,
   "metadata": {},
   "outputs": [
    {
     "name": "stdout",
     "output_type": "stream",
     "text": [
      "0.762\n"
     ]
    },
    {
     "data": {
      "image/png": "[encoded data removed]",
      "text/plain": [
       "<Figure size 486x324 with 1 Axes>"
      ]
     },
     "metadata": {},
     "output_type": "display_data"
    }
   ],
   "source": [
    "plt.rcParams['figure.figsize'] = (6.75, 4.5)\n",
    "\n",
    "_k = 0\n",
    "for solutions in primary_field1:\n",
    "    for x0, entry in solutions.items():\n",
    "        if _k==5:\n",
    "            sol = [[1,τ,σstarf(x,φ,μ,μbar),x,exp((b-d)*τ-V)] for τ,x,φ,V in zip(entry['τ'],entry['x'],entry['φ'],entry['V'])]\n",
    "        if _k==6:\n",
    "            trajectory_thr = [[τ,x,φ,V] for τ,x,φ,V in zip(entry['τ'],entry['x'],entry['φ'],entry['V'])]\n",
    "            sol += [[0,τ,σstarf(x,φ,μ,μbar),x,exp((b-d)*τ-V)] for τ,x,φ,V in trajectory_thr]\n",
    "            T0 = max([x[0] for x in trajectory_thr]) \n",
    "        _k += 1\n",
    "#plt.plot(τ1, x1, '-', linewidth=1, color=clrs0[1])\n",
    "#plt.plot(τthr, xthr, '--', linewidth=1, color=clrs0[1])\n",
    "print(T0/30.)\n",
    "\n",
    "plt.plot([end_point[0]],[end_point[1]],marker='o',color=\"black\",zorder=4)\n",
    "for tend in [180]:\n",
    "    tuniv = fsolve(get_finalizing_point_from_universal_curve,tend-20.,args=(tend,end_point,μ,μbar,))[0]\n",
    "    univ_point = get_state_universal(tuniv,end_point,μ,μbar)\n",
    "    trajectory = get_trajectory_with_σstar(univ_point,tend,50,μ,μbar)\n",
    "    plt.plot([x[0] for x in trajectory],[x[1] for x in trajectory],linewidth=1,color=clrs0[4])\n",
    "    sol += [[3,τ,σstarf(x,φ,μ,μbar),x,exp((b-d)*τ-V)] for τ,x,φ,V in trajectory]\n",
    "    universal_curve = get_universal_curve(end_point,univ_point[0],50,μ,μbar)\n",
    "    plt.plot([x[0] for x in universal_curve],[x[1] for x in universal_curve],linewidth=3,color=clrs0[0],zorder=3)\n",
    "    sol = [[3,τ,get_σ_universal(τ,end_point,μ,μbar),x,exp((b-d)*τ-V)] for τ,x,φ,V in universal_curve] + sol\n",
    "    trajectory = get_trajectory_with_σstar([0,end_switching_curve['x'],0,0],end_point[0],50,μ,μbar)\n",
    "    sol = [[3,τ,σstarf(x,φ,μ,μbar),x,exp((b-d)*τ-V)] for τ,x,φ,V in trajectory] + sol\n",
    "for tend in [124]:\n",
    "    tuniv = fsolve(get_finalizing_point_from_universal_curve,tend-20.,args=(tend,end_point,μ,μbar,))[0]\n",
    "    univ_point = get_state_universal(tuniv,end_point,μ,μbar)\n",
    "#     trajectory = get_trajectory_with_σstar(univ_point,tend,50,μ,μbar)\n",
    "    trajectory = get_trajectory_with_given_σ(univ_point,tend+20,200,0,μ,μbar)\n",
    "    plt.plot([x[0] for x in trajectory],[x[1] for x in trajectory],linewidth=1,color=clrs0[4])\n",
    "    sol += [[2,τ,σstarf(x,φ,μ,μbar),x,exp((b-d)*τ-V)] for τ,x,φ,V in trajectory]\n",
    "    universal_curve = get_universal_curve(end_point,univ_point[0],50,μ,μbar)\n",
    "    plt.plot([x[0] for x in universal_curve],[x[1] for x in universal_curve],linewidth=3,color=clrs0[0],zorder=3)\n",
    "    sol = [[2,τ,get_σ_universal(τ,end_point,μ,μbar),x,exp((b-d)*τ-V)] for τ,x,φ,V in universal_curve] + sol\n",
    "    trajectory = get_trajectory_with_σstar([0,end_switching_curve['x'],0,0],end_point[0],150,μ,μbar)\n",
    "    sol = [[2,τ,σstarf(x,φ,μ,μbar),x,exp((b-d)*τ-V)] for τ,x,φ,V in trajectory] + sol\n",
    "plt.xlim([0,180]); plt.ylim([0,1]);\n",
    "plt.xlabel(\"Backward time (days)\"); plt.ylabel(\"Fraction of resistant cells (\\%)\")\n",
    "plt.show()"
   ]
  },
  {
   "cell_type": "code",
   "execution_count": 138,
   "metadata": {},
   "outputs": [
    {
     "data": {
      "text/html": [
       "<div>\n",
       "<style scoped>\n",
       "    .dataframe tbody tr th:only-of-type {\n",
       "        vertical-align: middle;\n",
       "    }\n",
       "\n",
       "    .dataframe tbody tr th {\n",
       "        vertical-align: top;\n",
       "    }\n",
       "\n",
       "    .dataframe thead th {\n",
       "        text-align: right;\n",
       "    }\n",
       "</style>\n",
       "<table border=\"1\" class=\"dataframe\">\n",
       "  <thead>\n",
       "    <tr style=\"text-align: right;\">\n",
       "      <th></th>\n",
       "      <th>part</th>\n",
       "      <th>time</th>\n",
       "      <th>sigma</th>\n",
       "      <th>resistance</th>\n",
       "      <th>fold_change</th>\n",
       "    </tr>\n",
       "  </thead>\n",
       "  <tbody>\n",
       "    <tr>\n",
       "      <th>0</th>\n",
       "      <td>2</td>\n",
       "      <td>0.000000</td>\n",
       "      <td>1.0</td>\n",
       "      <td>0.832663</td>\n",
       "      <td>1</td>\n",
       "    </tr>\n",
       "    <tr>\n",
       "      <th>1</th>\n",
       "      <td>2</td>\n",
       "      <td>0.074777</td>\n",
       "      <td>1.0</td>\n",
       "      <td>0.831816</td>\n",
       "      <td>1.00018377186716</td>\n",
       "    </tr>\n",
       "    <tr>\n",
       "      <th>2</th>\n",
       "      <td>2</td>\n",
       "      <td>0.149555</td>\n",
       "      <td>1.0</td>\n",
       "      <td>0.830962</td>\n",
       "      <td>1.00036509677104</td>\n",
       "    </tr>\n",
       "    <tr>\n",
       "      <th>3</th>\n",
       "      <td>2</td>\n",
       "      <td>0.224332</td>\n",
       "      <td>1.0</td>\n",
       "      <td>0.830100</td>\n",
       "      <td>1.00054395111730</td>\n",
       "    </tr>\n",
       "    <tr>\n",
       "      <th>4</th>\n",
       "      <td>2</td>\n",
       "      <td>0.299110</td>\n",
       "      <td>1.0</td>\n",
       "      <td>0.829231</td>\n",
       "      <td>1.00072031112691</td>\n",
       "    </tr>\n",
       "    <tr>\n",
       "      <th>5</th>\n",
       "      <td>2</td>\n",
       "      <td>0.373887</td>\n",
       "      <td>1.0</td>\n",
       "      <td>0.828353</td>\n",
       "      <td>1.00089415283525</td>\n",
       "    </tr>\n",
       "    <tr>\n",
       "      <th>6</th>\n",
       "      <td>2</td>\n",
       "      <td>0.448665</td>\n",
       "      <td>1.0</td>\n",
       "      <td>0.827468</td>\n",
       "      <td>1.00106545209120</td>\n",
       "    </tr>\n",
       "    <tr>\n",
       "      <th>7</th>\n",
       "      <td>2</td>\n",
       "      <td>0.523442</td>\n",
       "      <td>1.0</td>\n",
       "      <td>0.826575</td>\n",
       "      <td>1.00123418455620</td>\n",
       "    </tr>\n",
       "    <tr>\n",
       "      <th>8</th>\n",
       "      <td>2</td>\n",
       "      <td>0.598219</td>\n",
       "      <td>1.0</td>\n",
       "      <td>0.825674</td>\n",
       "      <td>1.00140032570334</td>\n",
       "    </tr>\n",
       "    <tr>\n",
       "      <th>9</th>\n",
       "      <td>2</td>\n",
       "      <td>0.672997</td>\n",
       "      <td>1.0</td>\n",
       "      <td>0.824765</td>\n",
       "      <td>1.00156385081649</td>\n",
       "    </tr>\n",
       "  </tbody>\n",
       "</table>\n",
       "</div>"
      ],
      "text/plain": [
       "   part      time  sigma  resistance       fold_change\n",
       "0     2  0.000000    1.0    0.832663                 1\n",
       "1     2  0.074777    1.0    0.831816  1.00018377186716\n",
       "2     2  0.149555    1.0    0.830962  1.00036509677104\n",
       "3     2  0.224332    1.0    0.830100  1.00054395111730\n",
       "4     2  0.299110    1.0    0.829231  1.00072031112691\n",
       "5     2  0.373887    1.0    0.828353  1.00089415283525\n",
       "6     2  0.448665    1.0    0.827468  1.00106545209120\n",
       "7     2  0.523442    1.0    0.826575  1.00123418455620\n",
       "8     2  0.598219    1.0    0.825674  1.00140032570334\n",
       "9     2  0.672997    1.0    0.824765  1.00156385081649"
      ]
     },
     "execution_count": 138,
     "metadata": {},
     "output_type": "execute_result"
    }
   ],
   "source": [
    "df_res = pd.DataFrame(sol,columns=['part','time','sigma','resistance','fold_change'])\n",
    "df_res[:10]"
   ]
  },
  {
   "cell_type": "code",
   "execution_count": 139,
   "metadata": {},
   "outputs": [],
   "source": [
    "pd.DataFrame(sol).to_csv('../figures/draft/Fig6-trjs_optimal.csv',index=False,header=False)"
   ]
  },
  {
   "cell_type": "code",
   "execution_count": 140,
   "metadata": {
    "scrolled": false
   },
   "outputs": [
    {
     "data": {
      "text/html": [
       "<div>\n",
       "<style scoped>\n",
       "    .dataframe tbody tr th:only-of-type {\n",
       "        vertical-align: middle;\n",
       "    }\n",
       "\n",
       "    .dataframe tbody tr th {\n",
       "        vertical-align: top;\n",
       "    }\n",
       "\n",
       "    .dataframe thead th {\n",
       "        text-align: right;\n",
       "    }\n",
       "</style>\n",
       "<table border=\"1\" class=\"dataframe\">\n",
       "  <thead>\n",
       "    <tr style=\"text-align: right;\">\n",
       "      <th></th>\n",
       "      <th>time</th>\n",
       "      <th>sigma</th>\n",
       "      <th>resistance</th>\n",
       "      <th>fold_change</th>\n",
       "    </tr>\n",
       "  </thead>\n",
       "  <tbody>\n",
       "    <tr>\n",
       "      <th>200</th>\n",
       "      <td>0.000000</td>\n",
       "      <td>1.0</td>\n",
       "      <td>0.832663</td>\n",
       "      <td>1</td>\n",
       "    </tr>\n",
       "    <tr>\n",
       "      <th>201</th>\n",
       "      <td>0.227384</td>\n",
       "      <td>1.0</td>\n",
       "      <td>0.830065</td>\n",
       "      <td>1.00055119847425</td>\n",
       "    </tr>\n",
       "    <tr>\n",
       "      <th>202</th>\n",
       "      <td>0.454769</td>\n",
       "      <td>1.0</td>\n",
       "      <td>0.827396</td>\n",
       "      <td>1.00107932271479</td>\n",
       "    </tr>\n",
       "    <tr>\n",
       "      <th>203</th>\n",
       "      <td>0.682153</td>\n",
       "      <td>1.0</td>\n",
       "      <td>0.824653</td>\n",
       "      <td>1.00158369331340</td>\n",
       "    </tr>\n",
       "    <tr>\n",
       "      <th>204</th>\n",
       "      <td>0.909538</td>\n",
       "      <td>1.0</td>\n",
       "      <td>0.821835</td>\n",
       "      <td>1.00206361475324</td>\n",
       "    </tr>\n",
       "    <tr>\n",
       "      <th>205</th>\n",
       "      <td>1.136922</td>\n",
       "      <td>1.0</td>\n",
       "      <td>0.818941</td>\n",
       "      <td>1.00251837517607</td>\n",
       "    </tr>\n",
       "    <tr>\n",
       "      <th>206</th>\n",
       "      <td>1.364307</td>\n",
       "      <td>1.0</td>\n",
       "      <td>0.815967</td>\n",
       "      <td>1.00294724615568</td>\n",
       "    </tr>\n",
       "    <tr>\n",
       "      <th>207</th>\n",
       "      <td>1.591691</td>\n",
       "      <td>1.0</td>\n",
       "      <td>0.812912</td>\n",
       "      <td>1.00334948247831</td>\n",
       "    </tr>\n",
       "    <tr>\n",
       "      <th>208</th>\n",
       "      <td>1.819075</td>\n",
       "      <td>1.0</td>\n",
       "      <td>0.809775</td>\n",
       "      <td>1.00372432193087</td>\n",
       "    </tr>\n",
       "    <tr>\n",
       "      <th>209</th>\n",
       "      <td>2.046460</td>\n",
       "      <td>1.0</td>\n",
       "      <td>0.806552</td>\n",
       "      <td>1.00407098509788</td>\n",
       "    </tr>\n",
       "  </tbody>\n",
       "</table>\n",
       "</div>"
      ],
      "text/plain": [
       "         time  sigma  resistance       fold_change\n",
       "200  0.000000    1.0    0.832663                 1\n",
       "201  0.227384    1.0    0.830065  1.00055119847425\n",
       "202  0.454769    1.0    0.827396  1.00107932271479\n",
       "203  0.682153    1.0    0.824653  1.00158369331340\n",
       "204  0.909538    1.0    0.821835  1.00206361475324\n",
       "205  1.136922    1.0    0.818941  1.00251837517607\n",
       "206  1.364307    1.0    0.815967  1.00294724615568\n",
       "207  1.591691    1.0    0.812912  1.00334948247831\n",
       "208  1.819075    1.0    0.809775  1.00372432193087\n",
       "209  2.046460    1.0    0.806552  1.00407098509788"
      ]
     },
     "execution_count": 140,
     "metadata": {},
     "output_type": "execute_result"
    }
   ],
   "source": [
    "df_res_ = df_res.loc[lambda df: df.part==3].sort_values('time').drop('part',axis=1)\n",
    "df_res_[:10]"
   ]
  },
  {
   "cell_type": "code",
   "execution_count": 141,
   "metadata": {},
   "outputs": [],
   "source": [
    "df_res_.to_csv('../figures/draft/Fig7-trj_optimal.csv',index=False,header=False)"
   ]
  },
  {
   "cell_type": "code",
   "execution_count": null,
   "metadata": {},
   "outputs": [],
   "source": []
  }
 ],
 "metadata": {
  "anaconda-cloud": {},
  "kernelspec": {
   "display_name": "Python 3",
   "language": "python",
   "name": "python3"
  },
  "language_info": {
   "codemirror_mode": {
    "name": "ipython",
    "version": 3
   },
   "file_extension": ".py",
   "mimetype": "text/x-python",
   "name": "python",
   "nbconvert_exporter": "python",
   "pygments_lexer": "ipython3",
   "version": "3.7.3"
  }
 },
 "nbformat": 4,
 "nbformat_minor": 1
}
