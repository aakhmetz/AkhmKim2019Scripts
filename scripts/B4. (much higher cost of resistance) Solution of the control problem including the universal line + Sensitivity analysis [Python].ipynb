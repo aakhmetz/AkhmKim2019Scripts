{
 "cells": [
  {
   "cell_type": "markdown",
   "metadata": {},
   "source": [
    "# Aim of this notebook\n",
    "\n",
    "* To construct the singular curve of universal type to finalize the solution of the optimal control problem"
   ]
  },
  {
   "cell_type": "markdown",
   "metadata": {},
   "source": [
    "# Preamble"
   ]
  },
  {
   "cell_type": "code",
   "execution_count": 1,
   "metadata": {},
   "outputs": [],
   "source": [
    "from sympy import *\n",
    "init_printing(use_latex='mathjax')\n",
    "\n",
    "# Plotting\n",
    "%matplotlib inline\n",
    "## Make inline plots raster graphics\n",
    "from IPython.display import set_matplotlib_formats\n",
    "## Import modules for plotting and data analysis\n",
    "import matplotlib.pyplot as plt\n",
    "from matplotlib import gridspec,rc,colors\n",
    "import matplotlib.ticker as plticker\n",
    "## Parameters for seaborn plots\n",
    "import seaborn as sns\n",
    "sns.set(style='white',font_scale=1.25,\n",
    "        rc={\"xtick.major.size\": 6, \"ytick.major.size\": 6,\n",
    "            'text.usetex': False, 'font.family': 'serif', 'font.serif': ['Times']})\n",
    "\n",
    "import pandas as pd\n",
    "pd.set_option('mode.chained_assignment',None)\n",
    "\n",
    "import numpy as np\n",
    "from scipy.optimize import fsolve, root\n",
    "from scipy.integrate import ode\n",
    "backend = 'dopri5'\n",
    "import warnings\n",
    "\n",
    "# Timer\n",
    "import time\n",
    "\n",
    "from copy import deepcopy\n",
    "\n",
    "from itertools import cycle\n",
    "palette_size = 10;\n",
    "clrs = sns.color_palette(\"Reds\",palette_size)\n",
    "iclrs = cycle(clrs) # iterated colors\n",
    "\n",
    "# Suppress warnings\n",
    "import warnings\n",
    "warnings.filterwarnings(\"ignore\")"
   ]
  },
  {
   "cell_type": "markdown",
   "metadata": {},
   "source": [
    "# Parameter values"
   ]
  },
  {
   "cell_type": "markdown",
   "metadata": {},
   "source": [
    "* Birth rate and const of downregulation are defined below in order to fit some experim. data"
   ]
  },
  {
   "cell_type": "code",
   "execution_count": 2,
   "metadata": {},
   "outputs": [],
   "source": [
    "d = .13 # death rate\n",
    "α = .3 # low equilibrium point at expression of the main pathway (high equilibrium is at one)\n",
    "θ = .45 # threshold value for the expression of the main pathway\n",
    "κ = 40 # robustness parameter"
   ]
  },
  {
   "cell_type": "markdown",
   "metadata": {},
   "source": [
    "* Symbolic variables - the list insludes μ & μbar, because they will be varied later"
   ]
  },
  {
   "cell_type": "code",
   "execution_count": 3,
   "metadata": {},
   "outputs": [],
   "source": [
    "σ, φ0, φ, x, μ, μbar = symbols('sigma, phi0, phi, x, mu, mubar')"
   ]
  },
  {
   "cell_type": "markdown",
   "metadata": {},
   "source": [
    "* Main functions"
   ]
  },
  {
   "cell_type": "code",
   "execution_count": 4,
   "metadata": {},
   "outputs": [],
   "source": [
    "A = 1-σ*(1-θ)\n",
    "Eminus = (α*A-θ)**2/2\n",
    "ΔE = A*(1-α)*((1+α)*A/2-θ)\n",
    "ΔEf = lambdify(σ,ΔE)"
   ]
  },
  {
   "cell_type": "markdown",
   "metadata": {},
   "source": [
    "* Birth rate and cost of downregulation"
   ]
  },
  {
   "cell_type": "code",
   "execution_count": 5,
   "metadata": {},
   "outputs": [
    {
     "data": {
      "text/latex": [
       "$$\\left ( 0.140168330860362, \\quad 0.325961223954473\\right )$$"
      ],
      "text/plain": [
       "(0.140168330860362, 0.325961223954473)"
      ]
     },
     "execution_count": 5,
     "metadata": {},
     "output_type": "execute_result"
    }
   ],
   "source": [
    "b = (0.1*(exp(κ*(ΔEf(1)))+1)-0.14*(exp(κ*ΔEf(0))+1))/(exp(κ*ΔEf(1))-exp(κ*ΔEf(0))) # birth rate\n",
    "χ = 1-(0.14*(exp(κ*ΔEf(0))+1)-b*exp(κ*ΔEf(0)))/b\n",
    "b, χ"
   ]
  },
  {
   "cell_type": "code",
   "execution_count": 7,
   "metadata": {},
   "outputs": [
    {
     "data": {
      "text/latex": [
       "$$0.0297380359370489$$"
      ],
      "text/plain": [
       "0.0297380359370489"
      ]
     },
     "execution_count": 7,
     "metadata": {},
     "output_type": "execute_result"
    }
   ],
   "source": [
    "c_relative = 0.4\n",
    "c = c_relative*(b-d)/b+(1-c_relative)*χ/(exp(κ*ΔEf(0))+1) # cost of resistance\n",
    "c"
   ]
  },
  {
   "cell_type": "markdown",
   "metadata": {},
   "source": [
    "* Hamiltonian *H* and a part of it ρ that includes the control variable σ"
   ]
  },
  {
   "cell_type": "code",
   "execution_count": 8,
   "metadata": {},
   "outputs": [
    {
     "data": {
      "text/latex": [
       "$$\\left ( \\phi \\left(\\frac{\\mu \\left(- x + 1\\right)}{e^{40 \\left(- 0.385 \\sigma + 0.7\\right) \\left(- 0.3575 \\sigma + 0.2\\right)} + 1} - \\bar{\\mu} x e^{- 20 \\left(- 0.165 \\sigma - 0.15\\right)^{2}} + x \\left(-0.00416833086036159 + \\frac{0.045689440686899}{e^{40 \\left(- 0.385 \\sigma + 0.7\\right) \\left(- 0.3575 \\sigma + 0.2\\right)} + 1}\\right) \\left(- x + 1\\right)\\right) - \\phi_{0} + 0.00416833086036159 x + \\frac{0.045689440686899 \\left(- x + 1\\right)}{e^{40 \\left(- 0.385 \\sigma + 0.7\\right) \\left(- 0.3575 \\sigma + 0.2\\right)} + 1}, \\quad - \\bar{\\mu} \\phi x e^{- 20 \\left(- 0.165 \\sigma - 0.15\\right)^{2}} + \\frac{\\left(- x + 1\\right) \\left(\\phi \\left(\\mu + 0.045689440686899 x\\right) + 0.045689440686899\\right)}{e^{40 \\left(- 0.385 \\sigma + 0.7\\right) \\left(- 0.3575 \\sigma + 0.2\\right)} + 1}\\right )$$"
      ],
      "text/plain": [
       "⎛  ⎛                                                                        2 \n",
       "⎜  ⎜                μ⋅(-x + 1)                         -20⋅(-0.165⋅σ - 0.15)  \n",
       "⎜φ⋅⎜────────────────────────────────────────── - μ̅⋅x⋅ℯ                       \n",
       "⎜  ⎜ 40⋅(-0.385⋅σ + 0.7)⋅(-0.3575⋅σ + 0.2)                                    \n",
       "⎝  ⎝ℯ                                      + 1                                \n",
       "\n",
       "                                                                              \n",
       "    ⎛                                   0.045689440686899             ⎞       \n",
       "+ x⋅⎜-0.00416833086036159 + ──────────────────────────────────────────⎟⋅(-x + \n",
       "    ⎜                        40⋅(-0.385⋅σ + 0.7)⋅(-0.3575⋅σ + 0.2)    ⎟       \n",
       "    ⎝                       ℯ                                      + 1⎠       \n",
       "\n",
       "  ⎞                                                                           \n",
       "  ⎟                                        0.045689440686899⋅(-x + 1)         \n",
       "1)⎟ - φ₀ + 0.00416833086036159⋅x + ──────────────────────────────────────────,\n",
       "  ⎟                                 40⋅(-0.385⋅σ + 0.7)⋅(-0.3575⋅σ + 0.2)     \n",
       "  ⎠                                ℯ                                      + 1 \n",
       "\n",
       "                                2                                             \n",
       "           -20⋅(-0.165⋅σ - 0.15)    (-x + 1)⋅(φ⋅(μ + 0.045689440686899⋅x) + 0.\n",
       " - μ̅⋅φ⋅x⋅ℯ                       + ──────────────────────────────────────────\n",
       "                                             40⋅(-0.385⋅σ + 0.7)⋅(-0.3575⋅σ + \n",
       "                                            ℯ                                 \n",
       "\n",
       "                ⎞\n",
       "045689440686899)⎟\n",
       "────────────────⎟\n",
       "0.2)            ⎟\n",
       "     + 1        ⎠"
      ]
     },
     "execution_count": 8,
     "metadata": {},
     "output_type": "execute_result"
    }
   ],
   "source": [
    "h = b*(χ/(exp(κ*ΔE)+1)*(1-x)+c*x)\n",
    "H = -φ0 + φ*(b*(χ/(exp(κ*ΔE)+1)-c)*x*(1-x)+μ*(1-x)/(exp(κ*ΔE)+1)-μbar*exp(-κ*Eminus)*x) + h\n",
    "ρ = (φ*(b*χ*x+μ)+b*χ)/(exp(κ*ΔE)+1)*(1-x)-φ*μbar*exp(-κ*Eminus)*x\n",
    "H, ρ"
   ]
  },
  {
   "cell_type": "markdown",
   "metadata": {},
   "source": [
    "* Same but for no treatment (σ = 0)"
   ]
  },
  {
   "cell_type": "code",
   "execution_count": 9,
   "metadata": {},
   "outputs": [
    {
     "data": {
      "text/latex": [
       "$$\\left ( \\phi \\left(0.00368423989943599 \\mu \\left(- x + 1\\right) - 0.637628151621773 \\bar{\\mu} x - 0.004 x \\left(- x + 1\\right)\\right) - \\phi_{0} + 0.004 x + 0.000168330860361587, \\quad - 0.637628151621773 \\bar{\\mu} \\phi x + 0.00368423989943599 \\left(- x + 1\\right) \\left(\\phi \\left(\\mu + 0.045689440686899 x\\right) + 0.045689440686899\\right)\\right )$$"
      ],
      "text/plain": [
       "(φ⋅(0.00368423989943599⋅μ⋅(-x + 1) - 0.637628151621773⋅μ̅⋅x - 0.004⋅x⋅(-x + 1)\n",
       ") - φ₀ + 0.004⋅x + 0.000168330860361587, -0.637628151621773⋅μ̅⋅φ⋅x + 0.0036842\n",
       "3989943599⋅(-x + 1)⋅(φ⋅(μ + 0.045689440686899⋅x) + 0.045689440686899))"
      ]
     },
     "execution_count": 9,
     "metadata": {},
     "output_type": "execute_result"
    }
   ],
   "source": [
    "h0 = h.subs(σ,0)\n",
    "H0 = H.subs(σ,0)\n",
    "ρ0 = ρ.subs(σ,0)\n",
    "H0, ρ0"
   ]
  },
  {
   "cell_type": "markdown",
   "metadata": {},
   "source": [
    "* Machinery: definition of the Poisson brackets"
   ]
  },
  {
   "cell_type": "code",
   "execution_count": 10,
   "metadata": {},
   "outputs": [],
   "source": [
    "PoissonBrackets = lambda H1, H2: diff(H1,x)*diff(H2,φ)-diff(H1,φ)*diff(H2,x)"
   ]
  },
  {
   "cell_type": "markdown",
   "metadata": {},
   "source": [
    "* Necessary functions and defining the right hand side of dynamical equations"
   ]
  },
  {
   "cell_type": "code",
   "execution_count": 11,
   "metadata": {},
   "outputs": [],
   "source": [
    "ρf = lambdify((x,φ,σ,μ,μbar),ρ)\n",
    "ρ0f = lambdify((x,φ,μ,μbar),ρ0)\n",
    "dxdτ = lambdify((x,φ,σ,μ,μbar),-diff(H,φ))\n",
    "dφdτ = lambdify((x,φ,σ,μ,μbar),diff(H,x))\n",
    "dVdτ = lambdify((x,σ),h)\n",
    "dρdσ = lambdify((σ,x,φ,μ,μbar),diff(ρ,σ))\n",
    "dδρdτ = lambdify((x,φ,σ,μ,μbar),-PoissonBrackets(ρ0-ρ,H))\n",
    "def ode_rhs(t,state,μ,μbar):\n",
    "    x, φ, V, δρ = state\n",
    "    σs = [0,1]\n",
    "    if (dρdσ(1.,x,φ,μ,μbar)<0) and (dρdσ(θ,x,φ,μ,μbar)>0):\n",
    "        σstar = fsolve(dρdσ,.8,args=(x,φ,μ,μbar,))[0]\n",
    "    else:\n",
    "        σstar = 1.;\n",
    "    if ρf(x,φ,σstar,μ,μbar) < ρ0f(x,φ,μ,μbar):\n",
    "        sgm = 0\n",
    "    else:\n",
    "        sgm = σstar\n",
    "    return [dxdτ(x,φ,sgm,μ,μbar),dφdτ(x,φ,sgm,μ,μbar),dVdτ(x,sgm),dδρdτ(x,φ,σstar,μ,μbar)]"
   ]
  },
  {
   "cell_type": "code",
   "execution_count": 12,
   "metadata": {},
   "outputs": [],
   "source": [
    "def get_primary_field(name, experiment,μ,μbar):\n",
    "    solutions = {}\n",
    "    solver = ode(ode_rhs).set_integrator(backend)\n",
    "    τ0 = experiment['τ0']\n",
    "    tms = np.linspace(τ0,experiment['T_end'],1e3+1)\n",
    "    for x0 in experiment['x0']:\n",
    "        δρ0 = ρ0.subs(x,x0).subs(φ,0)-ρ.subs(x,x0).subs(φ,0).subs(σ,1.)\n",
    "        solver.set_initial_value([x0,0,0,δρ0],0.).set_f_params(μ,μbar)\n",
    "        sol = []; k = 0;\n",
    "        while (solver.t < experiment['T_end']) and (solver.y[0]<=1.) and (solver.y[0]>=0.):\n",
    "            solver.integrate(tms[k])\n",
    "            sol.append([solver.t]+list(solver.y))\n",
    "            k += 1\n",
    "        solutions[x0] = {'solution': sol}\n",
    "    for x0, entry in solutions.items():\n",
    "        entry['τ'] = [entry['solution'][j][0] for j in range(len(entry['solution']))]\n",
    "        entry['x'] = [entry['solution'][j][1] for j in range(len(entry['solution']))]\n",
    "        entry['φ'] = [entry['solution'][j][2] for j in range(len(entry['solution']))]\n",
    "        entry['V'] = [entry['solution'][j][3] for j in range(len(entry['solution']))]\n",
    "        entry['δρ'] = [entry['solution'][j][4] for j in range(len(entry['solution']))]\n",
    "    return solutions\n",
    "def get_δρ_value(tme,x0,μ,μbar):\n",
    "    solver = ode(ode_rhs).set_integrator(backend)\n",
    "    δρ0 = ρ0.subs(x,x0).subs(φ,0)-ρ.subs(x,x0).subs(φ,0).subs(σ,1.)\n",
    "    solver.set_initial_value([x0,0,0,δρ0],0.).set_f_params(μ,μbar)\n",
    "    while (solver.t < tme) and (solver.y[0]<=1.) and (solver.y[0]>=0.):\n",
    "        solver.integrate(tme)\n",
    "        sol = [solver.t]+list(solver.y)\n",
    "    return solver.y[3]\n",
    "def get_δρ_ending(params,μ,μbar):\n",
    "    tme, x0 = params\n",
    "    solver = ode(ode_rhs).set_integrator(backend)\n",
    "    δρ0 = ρ0.subs(x,x0).subs(φ,0)-ρ.subs(x,x0).subs(φ,0).subs(σ,1.)\n",
    "    solver.set_initial_value([x0,0,0,δρ0],0.).set_f_params(μ,μbar)\n",
    "    δτ = 1.0e-8; tms = [tme,tme+δτ]\n",
    "    _k = 0; sol = []\n",
    "    while (_k<len(tms)):# and (solver.y[0]<=1.) and (solver.y[0]>=0.):\n",
    "        solver.integrate(tms[_k])\n",
    "        sol.append(solver.y)\n",
    "        _k += 1\n",
    "    #print(sol)\n",
    "    return(sol[0][3],(sol[1][3]-sol[0][3])/δτ)\n",
    "def get_state(tme,x0,μ,μbar):\n",
    "    solver = ode(ode_rhs).set_integrator(backend)\n",
    "    δρ0 = ρ0.subs(x,x0).subs(φ,0)-ρ.subs(x,x0).subs(φ,0).subs(σ,1.)\n",
    "    solver.set_initial_value([x0,0,0,δρ0],0.).set_f_params(μ,μbar)\n",
    "    δτ = 1.0e-8; tms = [tme,tme+δτ]\n",
    "    _k = 0; sol = []\n",
    "    while (solver.t < tms[-1]) and (solver.y[0]<=1.) and (solver.y[0]>=0.):\n",
    "        solver.integrate(tms[_k])\n",
    "        sol.append(solver.y)\n",
    "        _k += 1\n",
    "    return(list(sol[0])+[(sol[1][3]-sol[0][3])/δτ])"
   ]
  },
  {
   "cell_type": "markdown",
   "metadata": {},
   "source": [
    "# Machinery for the universal line"
   ]
  },
  {
   "cell_type": "markdown",
   "metadata": {},
   "source": [
    "* To find the universal singular curve we need to define two parameters"
   ]
  },
  {
   "cell_type": "code",
   "execution_count": 13,
   "metadata": {},
   "outputs": [],
   "source": [
    "γ0 = PoissonBrackets(PoissonBrackets(H,H0),H)\n",
    "γ1 = PoissonBrackets(PoissonBrackets(H0,H),H0)"
   ]
  },
  {
   "cell_type": "markdown",
   "metadata": {},
   "source": [
    "* The dynamics"
   ]
  },
  {
   "cell_type": "code",
   "execution_count": 14,
   "metadata": {},
   "outputs": [],
   "source": [
    "dxdτSingExpr = -(γ0*diff(H0,φ)+γ1*diff(H,φ))/(γ0+γ1)\n",
    "dφdτSingExpr = (γ0*diff(H0,x)+γ1*diff(H,x))/(γ0+γ1)\n",
    "dVdτSingExpr = (γ0*h0+γ1*h)/(γ0+γ1)\n",
    "σSingExpr = γ1*σ/(γ0+γ1)"
   ]
  },
  {
   "cell_type": "markdown",
   "metadata": {},
   "source": [
    "* Machinery for Python: lambdify the functions above"
   ]
  },
  {
   "cell_type": "code",
   "execution_count": 15,
   "metadata": {},
   "outputs": [],
   "source": [
    "dxdτSing = lambdify((x,φ,σ,μ,μbar),dxdτSingExpr)\n",
    "dφdτSing = lambdify((x,φ,σ,μ,μbar),dφdτSingExpr)\n",
    "dVdτSing = lambdify((x,φ,σ,μ,μbar),dVdτSingExpr)\n",
    "σSing = lambdify((x,φ,σ,μ,μbar),σSingExpr)"
   ]
  },
  {
   "cell_type": "code",
   "execution_count": 16,
   "metadata": {},
   "outputs": [],
   "source": [
    "def ode_rhs_Sing(t,state,μ,μbar):\n",
    "    x, φ, V = state\n",
    "    if (dρdσ(1.,x,φ,μ,μbar)<0) and (dρdσ(θ,x,φ,μ,μbar)>0):\n",
    "        σstar = fsolve(dρdσ,.8,args=(x,φ,μ,μbar,))[0]\n",
    "    else:\n",
    "        σstar = 1.;\n",
    "    #print([σstar,σSing(x,φ,σstar,μ,μbar)])\n",
    "    return [dxdτSing(x,φ,σstar,μ,μbar),dφdτSing(x,φ,σstar,μ,μbar),dVdτSing(x,φ,σstar,μ,μbar)]\n",
    "# def ode_rhs_Sing(t,state,μ,μbar):\n",
    "#     x, φ, V = state\n",
    "#     if (dρdσ(1.,x,φ,μ,μbar)<0) and (dρdσ(θ,x,φ,μ,μbar)>0):\n",
    "#         σstar = fsolve(dρdσ,.8,args=(x,φ,μ,μbar,))[0]\n",
    "#     else:\n",
    "#         σstar = 1.;\n",
    "#     σTrav = fsolve(lambda σ: dxdτ(x,φ,σ,μ,μbar)-dxdτSing(x,φ,σstar,μ,μbar),.6)[0]\n",
    "#     print([σstar,σTrav])\n",
    "#     return [dxdτSing(x,φ,σstar,μ,μbar),dφdτSing(x,φ,σstar,μ,μbar),dVdτ(x,σTrav)]\n",
    "def get_universal_curve(end_point,tmax,Nsteps,μ,μbar):\n",
    "    tms =  np.linspace(end_point[0],tmax,Nsteps);\n",
    "    solver = ode(ode_rhs_Sing).set_integrator(backend)\n",
    "    solver.set_initial_value(end_point[1:4],end_point[0]).set_f_params(μ,μbar)\n",
    "    _k = 0; sol = []\n",
    "    while (solver.t < tms[-1]):\n",
    "        solver.integrate(tms[_k])\n",
    "        sol.append([solver.t]+list(solver.y))\n",
    "        _k += 1\n",
    "    return sol\n",
    "def get_σ_universal(tme,end_point,μ,μbar):\n",
    "    δτ = 1.0e-8; tms = [tme,tme+δτ]\n",
    "    solver = ode(ode_rhs_Sing).set_integrator(backend)\n",
    "    solver.set_initial_value(end_point[1:4],end_point[0]).set_f_params(μ,μbar)\n",
    "    _k = 0; sol = []\n",
    "    while (solver.t < tme+δτ):\n",
    "        solver.integrate(tms[_k])\n",
    "        sol.append([solver.t]+list(solver.y))\n",
    "        _k += 1\n",
    "    x, φ = sol[0][:2]\n",
    "    sgm = fsolve(lambda σ: dxdτ(x,φ,σ,μ,μbar)-(sol[1][0]-sol[0][0])/δτ,θ/2)[0]\n",
    "    return sgm\n",
    "def get_state_universal(tme,end_point,μ,μbar):\n",
    "    solver = ode(ode_rhs_Sing).set_integrator(backend)\n",
    "    solver.set_initial_value(end_point[1:4],end_point[0]).set_f_params(μ,μbar)\n",
    "    solver.integrate(tme)\n",
    "    return [solver.t]+list(solver.y)"
   ]
  },
  {
   "cell_type": "code",
   "execution_count": 17,
   "metadata": {},
   "outputs": [],
   "source": [
    "def ode_rhs_with_σstar(t,state,μ,μbar):\n",
    "    x, φ, V = state\n",
    "    if (dρdσ(1.,x,φ,μ,μbar)<0) and (dρdσ(θ,x,φ,μ,μbar)>0):\n",
    "        σ = fsolve(dρdσ,.8,args=(x,φ,μ,μbar,))[0]\n",
    "    else:\n",
    "        σ = 1.;\n",
    "    return [dxdτ(x,φ,σ,μ,μbar),dφdτ(x,φ,σ,μ,μbar),dVdτ(x,σ)]\n",
    "def ode_rhs_with_given_σ(t,state,σ,μ,μbar):\n",
    "    x, φ, V = state\n",
    "    return [dxdτ(x,φ,σ,μ,μbar),dφdτ(x,φ,σ,μ,μbar),dVdτ(x,σ)]\n",
    "def get_trajectory_with_σstar(starting_point,tmax,Nsteps,μ,μbar):\n",
    "    tms = np.linspace(starting_point[0],tmax,Nsteps)\n",
    "    solver = ode(ode_rhs_with_σstar).set_integrator(backend)\n",
    "    solver.set_initial_value(starting_point[1:],starting_point[0]).set_f_params(μ,μbar)\n",
    "    sol = []; _k = 0;\n",
    "    while solver.t < max(tms) and (solver.y[0]<=1.) and (solver.y[0]>=0.):\n",
    "        solver.integrate(tms[_k])\n",
    "        sol.append([solver.t]+list(solver.y))\n",
    "        _k += 1\n",
    "    return sol\n",
    "def get_trajectory_with_given_σ(starting_point,tmax,Nsteps,σ,μ,μbar):\n",
    "    tms = np.linspace(starting_point[0],tmax,100)\n",
    "    solver = ode(ode_rhs_with_given_σ).set_integrator(backend)\n",
    "    solver.set_initial_value(starting_point[1:],starting_point[0]).set_f_params(σ,μ,μbar)\n",
    "    sol = []; _k = 0;\n",
    "    while solver.t < max(tms) and (solver.y[0]<=1.) and (solver.y[0]>=0.):\n",
    "        solver.integrate(tms[_k])\n",
    "        sol.append([solver.t]+list(solver.y))\n",
    "        _k += 1\n",
    "    return sol\n",
    "def get_state_with_σstar(tme,starting_point,μ,μbar):\n",
    "    solver = ode(ode_rhs_with_σstar).set_integrator(backend)\n",
    "    solver.set_initial_value(starting_point[1:4],starting_point[0]).set_f_params(μ,μbar)\n",
    "    solver.integrate(tme)\n",
    "    return [solver.t]+list(solver.y)\n",
    "def get_finalizing_point_from_universal_curve(tme,tmx,end_point,μ,μbar):\n",
    "    unv_point = get_state_universal(tme,end_point,μ,μbar)\n",
    "    return get_state_with_σstar(tmx,unv_point,μ,μbar)[1]"
   ]
  },
  {
   "cell_type": "markdown",
   "metadata": {},
   "source": [
    "# Field of optimal trajectories as the solution of the Bellman equation\n",
    "\n",
    "* μ & μbar are varied by *T* and *T*bar ($\\mu=1/T$ and $\\bar\\mu=1/\\bar{T}$)"
   ]
  },
  {
   "cell_type": "code",
   "execution_count": 18,
   "metadata": {},
   "outputs": [
    {
     "name": "stdout",
     "output_type": "stream",
     "text": [
      "Parameters: μ = 0.03571, μbar = 0.01667\n",
      "Ending point for the switching line: τ = 25.2 days, x = 75.2%\n",
      "Checking the solution - should give zero values: \n",
      "(-5.203187869711606e-16, -1.5865532266051086e-15)\n",
      "* Constructing the primary field\n",
      "* Constructing the switching curve\n"
     ]
    },
    {
     "ename": "KeyboardInterrupt",
     "evalue": "",
     "output_type": "error",
     "traceback": [
      "\u001b[0;31m---------------------------------------------------------------------------\u001b[0m",
      "\u001b[0;31mKeyboardInterrupt\u001b[0m                         Traceback (most recent call last)",
      "\u001b[0;32m<ipython-input-18-b0b0b99571f7>\u001b[0m in \u001b[0;36m<module>\u001b[0;34m\u001b[0m\n\u001b[1;32m     21\u001b[0m \u001b[0;34m\u001b[0m\u001b[0m\n\u001b[1;32m     22\u001b[0m     \u001b[0;32mfor\u001b[0m \u001b[0mx0\u001b[0m \u001b[0;32min\u001b[0m \u001b[0mx0s\u001b[0m\u001b[0;34m:\u001b[0m\u001b[0;34m\u001b[0m\u001b[0m\n\u001b[0;32m---> 23\u001b[0;31m         \u001b[0mtme\u001b[0m \u001b[0;34m=\u001b[0m \u001b[0mfsolve\u001b[0m\u001b[0;34m(\u001b[0m\u001b[0mget_δρ_value\u001b[0m\u001b[0;34m,\u001b[0m\u001b[0m_y\u001b[0m\u001b[0;34m,\u001b[0m\u001b[0margs\u001b[0m\u001b[0;34m=\u001b[0m\u001b[0;34m(\u001b[0m\u001b[0mx0\u001b[0m\u001b[0;34m,\u001b[0m\u001b[0mμ\u001b[0m\u001b[0;34m,\u001b[0m\u001b[0mμbar\u001b[0m\u001b[0;34m)\u001b[0m\u001b[0;34m)\u001b[0m\u001b[0;34m[\u001b[0m\u001b[0;36m0\u001b[0m\u001b[0;34m]\u001b[0m\u001b[0;34m\u001b[0m\u001b[0m\n\u001b[0m\u001b[1;32m     24\u001b[0m         \u001b[0;32mif\u001b[0m \u001b[0;34m(\u001b[0m\u001b[0mtme\u001b[0m\u001b[0;34m>\u001b[0m\u001b[0;36m0\u001b[0m\u001b[0;34m)\u001b[0m\u001b[0;34m:\u001b[0m\u001b[0;34m\u001b[0m\u001b[0m\n\u001b[1;32m     25\u001b[0m             \u001b[0mswitching_curve\u001b[0m \u001b[0;34m=\u001b[0m \u001b[0mswitching_curve\u001b[0m\u001b[0;34m+\u001b[0m\u001b[0;34m[\u001b[0m\u001b[0;34m[\u001b[0m\u001b[0mtme\u001b[0m\u001b[0;34m,\u001b[0m\u001b[0mget_state\u001b[0m\u001b[0;34m(\u001b[0m\u001b[0mtme\u001b[0m\u001b[0;34m,\u001b[0m\u001b[0mx0\u001b[0m\u001b[0;34m,\u001b[0m\u001b[0mμ\u001b[0m\u001b[0;34m,\u001b[0m\u001b[0mμbar\u001b[0m\u001b[0;34m)\u001b[0m\u001b[0;34m[\u001b[0m\u001b[0;36m0\u001b[0m\u001b[0;34m]\u001b[0m\u001b[0;34m]\u001b[0m\u001b[0;34m]\u001b[0m\u001b[0;34m\u001b[0m\u001b[0m\n",
      "\u001b[0;32m~/anaconda3/lib/python3.6/site-packages/scipy/optimize/minpack.py\u001b[0m in \u001b[0;36mfsolve\u001b[0;34m(func, x0, args, fprime, full_output, col_deriv, xtol, maxfev, band, epsfcn, factor, diag)\u001b[0m\n\u001b[1;32m    146\u001b[0m                'diag': diag}\n\u001b[1;32m    147\u001b[0m \u001b[0;34m\u001b[0m\u001b[0m\n\u001b[0;32m--> 148\u001b[0;31m     \u001b[0mres\u001b[0m \u001b[0;34m=\u001b[0m \u001b[0m_root_hybr\u001b[0m\u001b[0;34m(\u001b[0m\u001b[0mfunc\u001b[0m\u001b[0;34m,\u001b[0m \u001b[0mx0\u001b[0m\u001b[0;34m,\u001b[0m \u001b[0margs\u001b[0m\u001b[0;34m,\u001b[0m \u001b[0mjac\u001b[0m\u001b[0;34m=\u001b[0m\u001b[0mfprime\u001b[0m\u001b[0;34m,\u001b[0m \u001b[0;34m**\u001b[0m\u001b[0moptions\u001b[0m\u001b[0;34m)\u001b[0m\u001b[0;34m\u001b[0m\u001b[0m\n\u001b[0m\u001b[1;32m    149\u001b[0m     \u001b[0;32mif\u001b[0m \u001b[0mfull_output\u001b[0m\u001b[0;34m:\u001b[0m\u001b[0;34m\u001b[0m\u001b[0m\n\u001b[1;32m    150\u001b[0m         \u001b[0mx\u001b[0m \u001b[0;34m=\u001b[0m \u001b[0mres\u001b[0m\u001b[0;34m[\u001b[0m\u001b[0;34m'x'\u001b[0m\u001b[0;34m]\u001b[0m\u001b[0;34m\u001b[0m\u001b[0m\n",
      "\u001b[0;32m~/anaconda3/lib/python3.6/site-packages/scipy/optimize/minpack.py\u001b[0m in \u001b[0;36m_root_hybr\u001b[0;34m(func, x0, args, jac, col_deriv, xtol, maxfev, band, eps, factor, diag, **unknown_options)\u001b[0m\n\u001b[1;32m    225\u001b[0m         \u001b[0;32mwith\u001b[0m \u001b[0m_MINPACK_LOCK\u001b[0m\u001b[0;34m:\u001b[0m\u001b[0;34m\u001b[0m\u001b[0m\n\u001b[1;32m    226\u001b[0m             retval = _minpack._hybrd(func, x0, args, 1, xtol, maxfev,\n\u001b[0;32m--> 227\u001b[0;31m                                      ml, mu, epsfcn, factor, diag)\n\u001b[0m\u001b[1;32m    228\u001b[0m     \u001b[0;32melse\u001b[0m\u001b[0;34m:\u001b[0m\u001b[0;34m\u001b[0m\u001b[0m\n\u001b[1;32m    229\u001b[0m         \u001b[0m_check_func\u001b[0m\u001b[0;34m(\u001b[0m\u001b[0;34m'fsolve'\u001b[0m\u001b[0;34m,\u001b[0m \u001b[0;34m'fprime'\u001b[0m\u001b[0;34m,\u001b[0m \u001b[0mDfun\u001b[0m\u001b[0;34m,\u001b[0m \u001b[0mx0\u001b[0m\u001b[0;34m,\u001b[0m \u001b[0margs\u001b[0m\u001b[0;34m,\u001b[0m \u001b[0mn\u001b[0m\u001b[0;34m,\u001b[0m \u001b[0;34m(\u001b[0m\u001b[0mn\u001b[0m\u001b[0;34m,\u001b[0m \u001b[0mn\u001b[0m\u001b[0;34m)\u001b[0m\u001b[0;34m)\u001b[0m\u001b[0;34m\u001b[0m\u001b[0m\n",
      "\u001b[0;32m<ipython-input-12-66680087dcc4>\u001b[0m in \u001b[0;36mget_δρ_value\u001b[0;34m(tme, x0, μ, μbar)\u001b[0m\n\u001b[1;32m     25\u001b[0m     \u001b[0msolver\u001b[0m\u001b[0;34m.\u001b[0m\u001b[0mset_initial_value\u001b[0m\u001b[0;34m(\u001b[0m\u001b[0;34m[\u001b[0m\u001b[0mx0\u001b[0m\u001b[0;34m,\u001b[0m\u001b[0;36m0\u001b[0m\u001b[0;34m,\u001b[0m\u001b[0;36m0\u001b[0m\u001b[0;34m,\u001b[0m\u001b[0mδρ0\u001b[0m\u001b[0;34m]\u001b[0m\u001b[0;34m,\u001b[0m\u001b[0;36m0.\u001b[0m\u001b[0;34m)\u001b[0m\u001b[0;34m.\u001b[0m\u001b[0mset_f_params\u001b[0m\u001b[0;34m(\u001b[0m\u001b[0mμ\u001b[0m\u001b[0;34m,\u001b[0m\u001b[0mμbar\u001b[0m\u001b[0;34m)\u001b[0m\u001b[0;34m\u001b[0m\u001b[0m\n\u001b[1;32m     26\u001b[0m     \u001b[0;32mwhile\u001b[0m \u001b[0;34m(\u001b[0m\u001b[0msolver\u001b[0m\u001b[0;34m.\u001b[0m\u001b[0mt\u001b[0m \u001b[0;34m<\u001b[0m \u001b[0mtme\u001b[0m\u001b[0;34m)\u001b[0m \u001b[0;32mand\u001b[0m \u001b[0;34m(\u001b[0m\u001b[0msolver\u001b[0m\u001b[0;34m.\u001b[0m\u001b[0my\u001b[0m\u001b[0;34m[\u001b[0m\u001b[0;36m0\u001b[0m\u001b[0;34m]\u001b[0m\u001b[0;34m<=\u001b[0m\u001b[0;36m1.\u001b[0m\u001b[0;34m)\u001b[0m \u001b[0;32mand\u001b[0m \u001b[0;34m(\u001b[0m\u001b[0msolver\u001b[0m\u001b[0;34m.\u001b[0m\u001b[0my\u001b[0m\u001b[0;34m[\u001b[0m\u001b[0;36m0\u001b[0m\u001b[0;34m]\u001b[0m\u001b[0;34m>=\u001b[0m\u001b[0;36m0.\u001b[0m\u001b[0;34m)\u001b[0m\u001b[0;34m:\u001b[0m\u001b[0;34m\u001b[0m\u001b[0m\n\u001b[0;32m---> 27\u001b[0;31m         \u001b[0msolver\u001b[0m\u001b[0;34m.\u001b[0m\u001b[0mintegrate\u001b[0m\u001b[0;34m(\u001b[0m\u001b[0mtme\u001b[0m\u001b[0;34m)\u001b[0m\u001b[0;34m\u001b[0m\u001b[0m\n\u001b[0m\u001b[1;32m     28\u001b[0m         \u001b[0msol\u001b[0m \u001b[0;34m=\u001b[0m \u001b[0;34m[\u001b[0m\u001b[0msolver\u001b[0m\u001b[0;34m.\u001b[0m\u001b[0mt\u001b[0m\u001b[0;34m]\u001b[0m\u001b[0;34m+\u001b[0m\u001b[0mlist\u001b[0m\u001b[0;34m(\u001b[0m\u001b[0msolver\u001b[0m\u001b[0;34m.\u001b[0m\u001b[0my\u001b[0m\u001b[0;34m)\u001b[0m\u001b[0;34m\u001b[0m\u001b[0m\n\u001b[1;32m     29\u001b[0m     \u001b[0;32mreturn\u001b[0m \u001b[0msolver\u001b[0m\u001b[0;34m.\u001b[0m\u001b[0my\u001b[0m\u001b[0;34m[\u001b[0m\u001b[0;36m3\u001b[0m\u001b[0;34m]\u001b[0m\u001b[0;34m\u001b[0m\u001b[0m\n",
      "\u001b[0;32m~/anaconda3/lib/python3.6/site-packages/scipy/integrate/_ode.py\u001b[0m in \u001b[0;36mintegrate\u001b[0;34m(self, t, step, relax)\u001b[0m\n\u001b[1;32m    430\u001b[0m             self._y, self.t = mth(self.f, self.jac or (lambda: None),\n\u001b[1;32m    431\u001b[0m                                   \u001b[0mself\u001b[0m\u001b[0;34m.\u001b[0m\u001b[0m_y\u001b[0m\u001b[0;34m,\u001b[0m \u001b[0mself\u001b[0m\u001b[0;34m.\u001b[0m\u001b[0mt\u001b[0m\u001b[0;34m,\u001b[0m \u001b[0mt\u001b[0m\u001b[0;34m,\u001b[0m\u001b[0;34m\u001b[0m\u001b[0m\n\u001b[0;32m--> 432\u001b[0;31m                                   self.f_params, self.jac_params)\n\u001b[0m\u001b[1;32m    433\u001b[0m         \u001b[0;32mexcept\u001b[0m \u001b[0mSystemError\u001b[0m\u001b[0;34m:\u001b[0m\u001b[0;34m\u001b[0m\u001b[0m\n\u001b[1;32m    434\u001b[0m             \u001b[0;31m# f2py issue with tuple returns, see ticket 1187.\u001b[0m\u001b[0;34m\u001b[0m\u001b[0;34m\u001b[0m\u001b[0m\n",
      "\u001b[0;32m~/anaconda3/lib/python3.6/site-packages/scipy/integrate/_ode.py\u001b[0m in \u001b[0;36mrun\u001b[0;34m(self, f, jac, y0, t0, t1, f_params, jac_params)\u001b[0m\n\u001b[1;32m   1170\u001b[0m     \u001b[0;32mdef\u001b[0m \u001b[0mrun\u001b[0m\u001b[0;34m(\u001b[0m\u001b[0mself\u001b[0m\u001b[0;34m,\u001b[0m \u001b[0mf\u001b[0m\u001b[0;34m,\u001b[0m \u001b[0mjac\u001b[0m\u001b[0;34m,\u001b[0m \u001b[0my0\u001b[0m\u001b[0;34m,\u001b[0m \u001b[0mt0\u001b[0m\u001b[0;34m,\u001b[0m \u001b[0mt1\u001b[0m\u001b[0;34m,\u001b[0m \u001b[0mf_params\u001b[0m\u001b[0;34m,\u001b[0m \u001b[0mjac_params\u001b[0m\u001b[0;34m)\u001b[0m\u001b[0;34m:\u001b[0m\u001b[0;34m\u001b[0m\u001b[0m\n\u001b[1;32m   1171\u001b[0m         x, y, iwork, istate = self.runner(*((f, t0, y0, t1) +\n\u001b[0;32m-> 1172\u001b[0;31m                                           tuple(self.call_args) + (f_params,)))\n\u001b[0m\u001b[1;32m   1173\u001b[0m         \u001b[0mself\u001b[0m\u001b[0;34m.\u001b[0m\u001b[0mistate\u001b[0m \u001b[0;34m=\u001b[0m \u001b[0mistate\u001b[0m\u001b[0;34m\u001b[0m\u001b[0m\n\u001b[1;32m   1174\u001b[0m         \u001b[0;32mif\u001b[0m \u001b[0mistate\u001b[0m \u001b[0;34m<\u001b[0m \u001b[0;36m0\u001b[0m\u001b[0;34m:\u001b[0m\u001b[0;34m\u001b[0m\u001b[0m\n",
      "\u001b[0;32m<ipython-input-11-0aa84d5ccd72>\u001b[0m in \u001b[0;36mode_rhs\u001b[0;34m(t, state, μ, μbar)\u001b[0m\n\u001b[1;32m     17\u001b[0m     \u001b[0;32melse\u001b[0m\u001b[0;34m:\u001b[0m\u001b[0;34m\u001b[0m\u001b[0m\n\u001b[1;32m     18\u001b[0m         \u001b[0msgm\u001b[0m \u001b[0;34m=\u001b[0m \u001b[0mσstar\u001b[0m\u001b[0;34m\u001b[0m\u001b[0m\n\u001b[0;32m---> 19\u001b[0;31m     \u001b[0;32mreturn\u001b[0m \u001b[0;34m[\u001b[0m\u001b[0mdxdτ\u001b[0m\u001b[0;34m(\u001b[0m\u001b[0mx\u001b[0m\u001b[0;34m,\u001b[0m\u001b[0mφ\u001b[0m\u001b[0;34m,\u001b[0m\u001b[0msgm\u001b[0m\u001b[0;34m,\u001b[0m\u001b[0mμ\u001b[0m\u001b[0;34m,\u001b[0m\u001b[0mμbar\u001b[0m\u001b[0;34m)\u001b[0m\u001b[0;34m,\u001b[0m\u001b[0mdφdτ\u001b[0m\u001b[0;34m(\u001b[0m\u001b[0mx\u001b[0m\u001b[0;34m,\u001b[0m\u001b[0mφ\u001b[0m\u001b[0;34m,\u001b[0m\u001b[0msgm\u001b[0m\u001b[0;34m,\u001b[0m\u001b[0mμ\u001b[0m\u001b[0;34m,\u001b[0m\u001b[0mμbar\u001b[0m\u001b[0;34m)\u001b[0m\u001b[0;34m,\u001b[0m\u001b[0mdVdτ\u001b[0m\u001b[0;34m(\u001b[0m\u001b[0mx\u001b[0m\u001b[0;34m,\u001b[0m\u001b[0msgm\u001b[0m\u001b[0;34m)\u001b[0m\u001b[0;34m,\u001b[0m\u001b[0mdδρdτ\u001b[0m\u001b[0;34m(\u001b[0m\u001b[0mx\u001b[0m\u001b[0;34m,\u001b[0m\u001b[0mφ\u001b[0m\u001b[0;34m,\u001b[0m\u001b[0mσstar\u001b[0m\u001b[0;34m,\u001b[0m\u001b[0mμ\u001b[0m\u001b[0;34m,\u001b[0m\u001b[0mμbar\u001b[0m\u001b[0;34m)\u001b[0m\u001b[0;34m]\u001b[0m\u001b[0;34m\u001b[0m\u001b[0m\n\u001b[0m",
      "\u001b[0;32m<lambdifygenerated-8>\u001b[0m in \u001b[0;36m_lambdifygenerated\u001b[0;34m(x, phi, sigma, mu, mubar)\u001b[0m\n\u001b[1;32m      1\u001b[0m \u001b[0;32mdef\u001b[0m \u001b[0m_lambdifygenerated\u001b[0m\u001b[0;34m(\u001b[0m\u001b[0mx\u001b[0m\u001b[0;34m,\u001b[0m \u001b[0mphi\u001b[0m\u001b[0;34m,\u001b[0m \u001b[0msigma\u001b[0m\u001b[0;34m,\u001b[0m \u001b[0mmu\u001b[0m\u001b[0;34m,\u001b[0m \u001b[0mmubar\u001b[0m\u001b[0;34m)\u001b[0m\u001b[0;34m:\u001b[0m\u001b[0;34m\u001b[0m\u001b[0m\n\u001b[0;32m----> 2\u001b[0;31m     \u001b[0;32mreturn\u001b[0m \u001b[0;34m(\u001b[0m\u001b[0;34m(\u001b[0m\u001b[0mphi\u001b[0m\u001b[0;34m*\u001b[0m\u001b[0;34m(\u001b[0m\u001b[0;34m-\u001b[0m\u001b[0mmu\u001b[0m\u001b[0;34m/\u001b[0m\u001b[0;34m(\u001b[0m\u001b[0mexp\u001b[0m\u001b[0;34m(\u001b[0m\u001b[0;36m40\u001b[0m\u001b[0;34m*\u001b[0m\u001b[0;34m(\u001b[0m\u001b[0;34m-\u001b[0m\u001b[0;36m0.385\u001b[0m\u001b[0;34m*\u001b[0m\u001b[0msigma\u001b[0m \u001b[0;34m+\u001b[0m \u001b[0;36m0.7\u001b[0m\u001b[0;34m)\u001b[0m\u001b[0;34m*\u001b[0m\u001b[0;34m(\u001b[0m\u001b[0;34m-\u001b[0m\u001b[0;36m0.3575\u001b[0m\u001b[0;34m*\u001b[0m\u001b[0msigma\u001b[0m \u001b[0;34m+\u001b[0m \u001b[0;36m0.2\u001b[0m\u001b[0;34m)\u001b[0m\u001b[0;34m)\u001b[0m \u001b[0;34m+\u001b[0m \u001b[0;36m1\u001b[0m\u001b[0;34m)\u001b[0m \u001b[0;34m-\u001b[0m \u001b[0mmubar\u001b[0m\u001b[0;34m*\u001b[0m\u001b[0mexp\u001b[0m\u001b[0;34m(\u001b[0m\u001b[0;34m-\u001b[0m\u001b[0;36m20\u001b[0m\u001b[0;34m*\u001b[0m\u001b[0;34m(\u001b[0m\u001b[0;34m-\u001b[0m\u001b[0;36m0.165\u001b[0m\u001b[0;34m*\u001b[0m\u001b[0msigma\u001b[0m \u001b[0;34m-\u001b[0m \u001b[0;36m0.15\u001b[0m\u001b[0;34m)\u001b[0m\u001b[0;34m**\u001b[0m\u001b[0;36m2\u001b[0m\u001b[0;34m)\u001b[0m \u001b[0;34m-\u001b[0m \u001b[0mx\u001b[0m\u001b[0;34m*\u001b[0m\u001b[0;34m(\u001b[0m\u001b[0;34m-\u001b[0m\u001b[0;36m0.00416833086036159\u001b[0m \u001b[0;34m+\u001b[0m \u001b[0;36m0.045689440686899\u001b[0m\u001b[0;34m/\u001b[0m\u001b[0;34m(\u001b[0m\u001b[0mexp\u001b[0m\u001b[0;34m(\u001b[0m\u001b[0;36m40\u001b[0m\u001b[0;34m*\u001b[0m\u001b[0;34m(\u001b[0m\u001b[0;34m-\u001b[0m\u001b[0;36m0.385\u001b[0m\u001b[0;34m*\u001b[0m\u001b[0msigma\u001b[0m \u001b[0;34m+\u001b[0m \u001b[0;36m0.7\u001b[0m\u001b[0;34m)\u001b[0m\u001b[0;34m*\u001b[0m\u001b[0;34m(\u001b[0m\u001b[0;34m-\u001b[0m\u001b[0;36m0.3575\u001b[0m\u001b[0;34m*\u001b[0m\u001b[0msigma\u001b[0m \u001b[0;34m+\u001b[0m \u001b[0;36m0.2\u001b[0m\u001b[0;34m)\u001b[0m\u001b[0;34m)\u001b[0m \u001b[0;34m+\u001b[0m \u001b[0;36m1\u001b[0m\u001b[0;34m)\u001b[0m\u001b[0;34m)\u001b[0m \u001b[0;34m+\u001b[0m \u001b[0;34m(\u001b[0m\u001b[0;34m-\u001b[0m\u001b[0;36m0.00416833086036159\u001b[0m \u001b[0;34m+\u001b[0m \u001b[0;36m0.045689440686899\u001b[0m\u001b[0;34m/\u001b[0m\u001b[0;34m(\u001b[0m\u001b[0mexp\u001b[0m\u001b[0;34m(\u001b[0m\u001b[0;36m40\u001b[0m\u001b[0;34m*\u001b[0m\u001b[0;34m(\u001b[0m\u001b[0;34m-\u001b[0m\u001b[0;36m0.385\u001b[0m\u001b[0;34m*\u001b[0m\u001b[0msigma\u001b[0m \u001b[0;34m+\u001b[0m \u001b[0;36m0.7\u001b[0m\u001b[0;34m)\u001b[0m\u001b[0;34m*\u001b[0m\u001b[0;34m(\u001b[0m\u001b[0;34m-\u001b[0m\u001b[0;36m0.3575\u001b[0m\u001b[0;34m*\u001b[0m\u001b[0msigma\u001b[0m \u001b[0;34m+\u001b[0m \u001b[0;36m0.2\u001b[0m\u001b[0;34m)\u001b[0m\u001b[0;34m)\u001b[0m \u001b[0;34m+\u001b[0m \u001b[0;36m1\u001b[0m\u001b[0;34m)\u001b[0m\u001b[0;34m)\u001b[0m\u001b[0;34m*\u001b[0m\u001b[0;34m(\u001b[0m\u001b[0;34m-\u001b[0m\u001b[0mx\u001b[0m \u001b[0;34m+\u001b[0m \u001b[0;36m1\u001b[0m\u001b[0;34m)\u001b[0m\u001b[0;34m)\u001b[0m \u001b[0;34m+\u001b[0m \u001b[0;36m0.00416833086036159\u001b[0m \u001b[0;34m-\u001b[0m \u001b[0;36m0.045689440686899\u001b[0m\u001b[0;34m/\u001b[0m\u001b[0;34m(\u001b[0m\u001b[0mexp\u001b[0m\u001b[0;34m(\u001b[0m\u001b[0;36m40\u001b[0m\u001b[0;34m*\u001b[0m\u001b[0;34m(\u001b[0m\u001b[0;34m-\u001b[0m\u001b[0;36m0.385\u001b[0m\u001b[0;34m*\u001b[0m\u001b[0msigma\u001b[0m \u001b[0;34m+\u001b[0m \u001b[0;36m0.7\u001b[0m\u001b[0;34m)\u001b[0m\u001b[0;34m*\u001b[0m\u001b[0;34m(\u001b[0m\u001b[0;34m-\u001b[0m\u001b[0;36m0.3575\u001b[0m\u001b[0;34m*\u001b[0m\u001b[0msigma\u001b[0m \u001b[0;34m+\u001b[0m \u001b[0;36m0.2\u001b[0m\u001b[0;34m)\u001b[0m\u001b[0;34m)\u001b[0m \u001b[0;34m+\u001b[0m \u001b[0;36m1\u001b[0m\u001b[0;34m)\u001b[0m\u001b[0;34m)\u001b[0m\u001b[0;34m*\u001b[0m\u001b[0;34m(\u001b[0m\u001b[0;34m-\u001b[0m\u001b[0;36m0.637628151621773\u001b[0m\u001b[0;34m*\u001b[0m\u001b[0mmubar\u001b[0m\u001b[0;34m*\u001b[0m\u001b[0mx\u001b[0m \u001b[0;34m+\u001b[0m \u001b[0mmubar\u001b[0m\u001b[0;34m*\u001b[0m\u001b[0mx\u001b[0m\u001b[0;34m*\u001b[0m\u001b[0mexp\u001b[0m\u001b[0;34m(\u001b[0m\u001b[0;34m-\u001b[0m\u001b[0;36m20\u001b[0m\u001b[0;34m*\u001b[0m\u001b[0;34m(\u001b[0m\u001b[0;34m-\u001b[0m\u001b[0;36m0.165\u001b[0m\u001b[0;34m*\u001b[0m\u001b[0msigma\u001b[0m \u001b[0;34m-\u001b[0m \u001b[0;36m0.15\u001b[0m\u001b[0;34m)\u001b[0m\u001b[0;34m**\u001b[0m\u001b[0;36m2\u001b[0m\u001b[0;34m)\u001b[0m \u001b[0;34m-\u001b[0m \u001b[0;34m(\u001b[0m\u001b[0mmu\u001b[0m \u001b[0;34m+\u001b[0m \u001b[0;36m0.045689440686899\u001b[0m\u001b[0;34m*\u001b[0m\u001b[0mx\u001b[0m\u001b[0;34m)\u001b[0m\u001b[0;34m*\u001b[0m\u001b[0;34m(\u001b[0m\u001b[0;34m-\u001b[0m\u001b[0mx\u001b[0m \u001b[0;34m+\u001b[0m \u001b[0;36m1\u001b[0m\u001b[0;34m)\u001b[0m\u001b[0;34m/\u001b[0m\u001b[0;34m(\u001b[0m\u001b[0mexp\u001b[0m\u001b[0;34m(\u001b[0m\u001b[0;36m40\u001b[0m\u001b[0;34m*\u001b[0m\u001b[0;34m(\u001b[0m\u001b[0;34m-\u001b[0m\u001b[0;36m0.385\u001b[0m\u001b[0;34m*\u001b[0m\u001b[0msigma\u001b[0m \u001b[0;34m+\u001b[0m \u001b[0;36m0.7\u001b[0m\u001b[0;34m)\u001b[0m\u001b[0;34m*\u001b[0m\u001b[0;34m(\u001b[0m\u001b[0;34m-\u001b[0m\u001b[0;36m0.3575\u001b[0m\u001b[0;34m*\u001b[0m\u001b[0msigma\u001b[0m \u001b[0;34m+\u001b[0m \u001b[0;36m0.2\u001b[0m\u001b[0;34m)\u001b[0m\u001b[0;34m)\u001b[0m \u001b[0;34m+\u001b[0m \u001b[0;36m1\u001b[0m\u001b[0;34m)\u001b[0m \u001b[0;34m+\u001b[0m \u001b[0;34m(\u001b[0m\u001b[0mmu\u001b[0m \u001b[0;34m+\u001b[0m \u001b[0;36m0.045689440686899\u001b[0m\u001b[0;34m*\u001b[0m\u001b[0mx\u001b[0m\u001b[0;34m)\u001b[0m\u001b[0;34m*\u001b[0m\u001b[0;34m(\u001b[0m\u001b[0;34m-\u001b[0m\u001b[0;36m0.00368423989943599\u001b[0m\u001b[0;34m*\u001b[0m\u001b[0mx\u001b[0m \u001b[0;34m+\u001b[0m \u001b[0;36m0.00368423989943599\u001b[0m\u001b[0;34m)\u001b[0m\u001b[0;34m)\u001b[0m \u001b[0;34m-\u001b[0m \u001b[0;34m(\u001b[0m\u001b[0mmu\u001b[0m\u001b[0;34m*\u001b[0m\u001b[0;34m(\u001b[0m\u001b[0;34m-\u001b[0m\u001b[0mx\u001b[0m \u001b[0;34m+\u001b[0m \u001b[0;36m1\u001b[0m\u001b[0;34m)\u001b[0m\u001b[0;34m/\u001b[0m\u001b[0;34m(\u001b[0m\u001b[0mexp\u001b[0m\u001b[0;34m(\u001b[0m\u001b[0;36m40\u001b[0m\u001b[0;34m*\u001b[0m\u001b[0;34m(\u001b[0m\u001b[0;34m-\u001b[0m\u001b[0;36m0.385\u001b[0m\u001b[0;34m*\u001b[0m\u001b[0msigma\u001b[0m \u001b[0;34m+\u001b[0m \u001b[0;36m0.7\u001b[0m\u001b[0;34m)\u001b[0m\u001b[0;34m*\u001b[0m\u001b[0;34m(\u001b[0m\u001b[0;34m-\u001b[0m\u001b[0;36m0.3575\u001b[0m\u001b[0;34m*\u001b[0m\u001b[0msigma\u001b[0m \u001b[0;34m+\u001b[0m \u001b[0;36m0.2\u001b[0m\u001b[0;34m)\u001b[0m\u001b[0;34m)\u001b[0m \u001b[0;34m+\u001b[0m \u001b[0;36m1\u001b[0m\u001b[0;34m)\u001b[0m \u001b[0;34m-\u001b[0m \u001b[0mmubar\u001b[0m\u001b[0;34m*\u001b[0m\u001b[0mx\u001b[0m\u001b[0;34m*\u001b[0m\u001b[0mexp\u001b[0m\u001b[0;34m(\u001b[0m\u001b[0;34m-\u001b[0m\u001b[0;36m20\u001b[0m\u001b[0;34m*\u001b[0m\u001b[0;34m(\u001b[0m\u001b[0;34m-\u001b[0m\u001b[0;36m0.165\u001b[0m\u001b[0;34m*\u001b[0m\u001b[0msigma\u001b[0m \u001b[0;34m-\u001b[0m \u001b[0;36m0.15\u001b[0m\u001b[0;34m)\u001b[0m\u001b[0;34m**\u001b[0m\u001b[0;36m2\u001b[0m\u001b[0;34m)\u001b[0m \u001b[0;34m+\u001b[0m \u001b[0mx\u001b[0m\u001b[0;34m*\u001b[0m\u001b[0;34m(\u001b[0m\u001b[0;34m-\u001b[0m\u001b[0;36m0.00416833086036159\u001b[0m \u001b[0;34m+\u001b[0m \u001b[0;36m0.045689440686899\u001b[0m\u001b[0;34m/\u001b[0m\u001b[0;34m(\u001b[0m\u001b[0mexp\u001b[0m\u001b[0;34m(\u001b[0m\u001b[0;36m40\u001b[0m\u001b[0;34m*\u001b[0m\u001b[0;34m(\u001b[0m\u001b[0;34m-\u001b[0m\u001b[0;36m0.385\u001b[0m\u001b[0;34m*\u001b[0m\u001b[0msigma\u001b[0m \u001b[0;34m+\u001b[0m \u001b[0;36m0.7\u001b[0m\u001b[0;34m)\u001b[0m\u001b[0;34m*\u001b[0m\u001b[0;34m(\u001b[0m\u001b[0;34m-\u001b[0m\u001b[0;36m0.3575\u001b[0m\u001b[0;34m*\u001b[0m\u001b[0msigma\u001b[0m \u001b[0;34m+\u001b[0m \u001b[0;36m0.2\u001b[0m\u001b[0;34m)\u001b[0m\u001b[0;34m)\u001b[0m \u001b[0;34m+\u001b[0m \u001b[0;36m1\u001b[0m\u001b[0;34m)\u001b[0m\u001b[0;34m)\u001b[0m\u001b[0;34m*\u001b[0m\u001b[0;34m(\u001b[0m\u001b[0;34m-\u001b[0m\u001b[0mx\u001b[0m \u001b[0;34m+\u001b[0m \u001b[0;36m1\u001b[0m\u001b[0;34m)\u001b[0m\u001b[0;34m)\u001b[0m\u001b[0;34m*\u001b[0m\u001b[0;34m(\u001b[0m\u001b[0;34m-\u001b[0m\u001b[0;36m0.637628151621773\u001b[0m\u001b[0;34m*\u001b[0m\u001b[0mmubar\u001b[0m\u001b[0;34m*\u001b[0m\u001b[0mphi\u001b[0m \u001b[0;34m+\u001b[0m \u001b[0mmubar\u001b[0m\u001b[0;34m*\u001b[0m\u001b[0mphi\u001b[0m\u001b[0;34m*\u001b[0m\u001b[0mexp\u001b[0m\u001b[0;34m(\u001b[0m\u001b[0;34m-\u001b[0m\u001b[0;36m20\u001b[0m\u001b[0;34m*\u001b[0m\u001b[0;34m(\u001b[0m\u001b[0;34m-\u001b[0m\u001b[0;36m0.165\u001b[0m\u001b[0;34m*\u001b[0m\u001b[0msigma\u001b[0m \u001b[0;34m-\u001b[0m \u001b[0;36m0.15\u001b[0m\u001b[0;34m)\u001b[0m\u001b[0;34m**\u001b[0m\u001b[0;36m2\u001b[0m\u001b[0;34m)\u001b[0m \u001b[0;34m-\u001b[0m \u001b[0;36m0.00368423989943599\u001b[0m\u001b[0;34m*\u001b[0m\u001b[0mphi\u001b[0m\u001b[0;34m*\u001b[0m\u001b[0;34m(\u001b[0m\u001b[0mmu\u001b[0m \u001b[0;34m+\u001b[0m \u001b[0;36m0.045689440686899\u001b[0m\u001b[0;34m*\u001b[0m\u001b[0mx\u001b[0m\u001b[0;34m)\u001b[0m \u001b[0;34m-\u001b[0m \u001b[0;36m0.045689440686899\u001b[0m\u001b[0;34m*\u001b[0m\u001b[0mphi\u001b[0m\u001b[0;34m*\u001b[0m\u001b[0;34m(\u001b[0m\u001b[0;34m-\u001b[0m\u001b[0mx\u001b[0m \u001b[0;34m+\u001b[0m \u001b[0;36m1\u001b[0m\u001b[0;34m)\u001b[0m\u001b[0;34m/\u001b[0m\u001b[0;34m(\u001b[0m\u001b[0mexp\u001b[0m\u001b[0;34m(\u001b[0m\u001b[0;36m40\u001b[0m\u001b[0;34m*\u001b[0m\u001b[0;34m(\u001b[0m\u001b[0;34m-\u001b[0m\u001b[0;36m0.385\u001b[0m\u001b[0;34m*\u001b[0m\u001b[0msigma\u001b[0m \u001b[0;34m+\u001b[0m \u001b[0;36m0.7\u001b[0m\u001b[0;34m)\u001b[0m\u001b[0;34m*\u001b[0m\u001b[0;34m(\u001b[0m\u001b[0;34m-\u001b[0m\u001b[0;36m0.3575\u001b[0m\u001b[0;34m*\u001b[0m\u001b[0msigma\u001b[0m \u001b[0;34m+\u001b[0m \u001b[0;36m0.2\u001b[0m\u001b[0;34m)\u001b[0m\u001b[0;34m)\u001b[0m \u001b[0;34m+\u001b[0m \u001b[0;36m1\u001b[0m\u001b[0;34m)\u001b[0m \u001b[0;34m+\u001b[0m \u001b[0;36m0.045689440686899\u001b[0m\u001b[0;34m*\u001b[0m\u001b[0mphi\u001b[0m\u001b[0;34m*\u001b[0m\u001b[0;34m(\u001b[0m\u001b[0;34m-\u001b[0m\u001b[0;36m0.00368423989943599\u001b[0m\u001b[0;34m*\u001b[0m\u001b[0mx\u001b[0m \u001b[0;34m+\u001b[0m \u001b[0;36m0.00368423989943599\u001b[0m\u001b[0;34m)\u001b[0m \u001b[0;34m+\u001b[0m \u001b[0;34m(\u001b[0m\u001b[0mphi\u001b[0m\u001b[0;34m*\u001b[0m\u001b[0;34m(\u001b[0m\u001b[0mmu\u001b[0m \u001b[0;34m+\u001b[0m \u001b[0;36m0.045689440686899\u001b[0m\u001b[0;34m*\u001b[0m\u001b[0mx\u001b[0m\u001b[0;34m)\u001b[0m \u001b[0;34m+\u001b[0m \u001b[0;36m0.045689440686899\u001b[0m\u001b[0;34m)\u001b[0m\u001b[0;34m/\u001b[0m\u001b[0;34m(\u001b[0m\u001b[0mexp\u001b[0m\u001b[0;34m(\u001b[0m\u001b[0;36m40\u001b[0m\u001b[0;34m*\u001b[0m\u001b[0;34m(\u001b[0m\u001b[0;34m-\u001b[0m\u001b[0;36m0.385\u001b[0m\u001b[0;34m*\u001b[0m\u001b[0msigma\u001b[0m \u001b[0;34m+\u001b[0m \u001b[0;36m0.7\u001b[0m\u001b[0;34m)\u001b[0m\u001b[0;34m*\u001b[0m\u001b[0;34m(\u001b[0m\u001b[0;34m-\u001b[0m\u001b[0;36m0.3575\u001b[0m\u001b[0;34m*\u001b[0m\u001b[0msigma\u001b[0m \u001b[0;34m+\u001b[0m \u001b[0;36m0.2\u001b[0m\u001b[0;34m)\u001b[0m\u001b[0;34m)\u001b[0m \u001b[0;34m+\u001b[0m \u001b[0;36m1\u001b[0m\u001b[0;34m)\u001b[0m \u001b[0;34m-\u001b[0m \u001b[0;36m0.000168330860361587\u001b[0m\u001b[0;34m)\u001b[0m\u001b[0;34m)\u001b[0m\u001b[0;34m\u001b[0m\u001b[0m\n\u001b[0m",
      "\u001b[0;31mKeyboardInterrupt\u001b[0m: "
     ]
    }
   ],
   "source": [
    "tmx = 180.\n",
    "end_switching_curve = {'t': 24., 'x': .9/.8} \n",
    "# for Τ, Τbar in zip([28]*5,[14,21,28,35,60]):\n",
    "for Τ, Τbar in zip([28],[60]):\n",
    "    μ = 1./Τ; μbar = 1./Τbar\n",
    "    print(\"Parameters: μ = %.5f, μbar = %.5f\"%(μ,μbar))\n",
    "    end_switching_curve['t'], end_switching_curve['x'] = root(get_δρ_ending,(end_switching_curve['t'],end_switching_curve['x']),args=(μ,μbar)).x\n",
    "    end_point = [end_switching_curve['t']]+get_state(end_switching_curve['t'],end_switching_curve['x'],μ,μbar)\n",
    "    print(\"Ending point for the switching line: τ = %.1f days, x = %.1f%%\" % (end_point[0], end_point[1]*100))\n",
    "    print(\"Checking the solution - should give zero values: \")\n",
    "    print(get_δρ_ending([end_switching_curve['t'],end_switching_curve['x']],μ,μbar))\n",
    "    print(\"* Constructing the primary field\")\n",
    "    experiments = {\n",
    "        'sol1': { 'T_end': tmx, 'τ0': 0., 'x0': list(np.linspace(0,end_switching_curve['x']-(1e-3),10))+list(np.linspace(end_switching_curve['x']+(1e-6),1.,10)) } }\n",
    "    primary_field = []\n",
    "    for name, values in experiments.items():\n",
    "        primary_field.append(get_primary_field(name,values,μ,μbar))\n",
    "    print(\"* Constructing the switching curve\")\n",
    "    switching_curve = []\n",
    "    x0s = np.linspace(end_switching_curve['x'],1,21); _y = end_switching_curve['t']\n",
    "    \n",
    "    for x0 in x0s:\n",
    "        tme = fsolve(get_δρ_value,_y,args=(x0,μ,μbar))[0]\n",
    "        if (tme>0):\n",
    "            switching_curve = switching_curve+[[tme,get_state(tme,x0,μ,μbar)[0]]]\n",
    "            _y = tme\n",
    "    print(\"* Constructing the universal curve\")\n",
    "    universal_curve = get_universal_curve(end_point,tmx,25,μ,μbar)\n",
    "    print(\"* Finding the last characteristic\")\n",
    "    #time0 = time.time()\n",
    "#     tuniv = fsolve(get_finalizing_point_from_universal_curve,tmx-40.,args=(tmx,end_point,μ,μbar,))[0]\n",
    "    tuniv = root(get_finalizing_point_from_universal_curve,tmx-40,args=(tmx,end_point,μ,μbar)).x\n",
    "    print(tuniv)\n",
    "    #print(\"The proccess to find the last characteristic took %0.1f minutes\" % ((time.time()-time0)/60.))\n",
    "    univ_point = get_state_universal(tuniv,end_point,μ,μbar)\n",
    "    print(\"The last point on the universal line:\")\n",
    "    print(univ_point)\n",
    "    last_trajectory = get_trajectory_with_σstar(univ_point,tmx,50,μ,μbar)\n",
    "    print(\"Final state:\")\n",
    "    final_state = get_state_with_σstar(tmx,univ_point,μ,μbar)\n",
    "    print(final_state)\n",
    "    print(\"Fold-change in tumor size: %.2f\"%(exp((b-d)*tmx-final_state[-1])))\n",
    "    # Plotting\n",
    "    plt.rcParams['figure.figsize'] = (6.75, 4)\n",
    "    _k = 0\n",
    "    for solutions in primary_field:\n",
    "        for x0, entry in solutions.items():\n",
    "            plt.plot(entry['τ'], entry['x'], 'k-', linewidth=.9, color=clrs[_k%palette_size])\n",
    "            _k += 1\n",
    "    plt.plot([x[0] for x in switching_curve],[x[1] for x in switching_curve],linewidth=2,color=\"red\")\n",
    "    plt.plot([end_point[0]],[end_point[1]],marker='o',color=\"red\")\n",
    "    plt.plot([x[0] for x in universal_curve],[x[1] for x in universal_curve],linewidth=2,color=\"red\")\n",
    "    plt.plot([x[0] for x in last_trajectory],[x[1] for x in last_trajectory],linewidth=.9,color=\"black\")\n",
    "    plt.xlim([0,tmx]); plt.ylim([0,1]);\n",
    "    plt.xlabel(\"time, days\"); plt.ylabel(\"fraction of resistant cells\")\n",
    "    plt.show()\n",
    "    print()"
   ]
  },
  {
   "cell_type": "code",
   "execution_count": null,
   "metadata": {
    "scrolled": true
   },
   "outputs": [],
   "source": [
    "import csv\n",
    "from numpy.linalg import norm\n",
    "File = open(\"../figures/draft/sensitivity_mu-much_higher_cost.csv\", 'w')\n",
    "File.write(\"T,Tbar,mu,mubar,sw_start_x,sw_end_t,sw_end_x,univ_point_t,univ_point_x,outcome,err_sw_t,err_sw_x\\n\")\n",
    "writer = csv.writer(File,lineterminator='\\n')\n",
    "\n",
    "end_switching_curve0 = {'t': 40.36, 'x': .92}\n",
    "end_switching_curve_prev_t = end_switching_curve0['t']\n",
    "tuniv = tmx-30.\n",
    "Ts = np.arange(40,3,-1) #Τbars; \n",
    "Τbars = np.arange(40,3,-1) #np.arange(120,1,-1) #need to change here if more\n",
    "for Τ in Ts:\n",
    "    μ = 1./Τ\n",
    "    end_switching_curve = deepcopy(end_switching_curve0)\n",
    "    for Τbar in Τbars:\n",
    "        μbar = 1./Τbar\n",
    "        print(\"* Parameters: T = %.1f, Tbar = %.1f (μ = %.5f, μbar = %.5f)\"%(Τ,Τbar,μ,μbar))\n",
    "        success = False; err = 1.\n",
    "        while (not success)|(norm(err)>1e-6):\n",
    "            end_switching_curve = {'t': 2*end_switching_curve['t']-end_switching_curve_prev_t-.001, \n",
    "                                   'x': end_switching_curve['x']-0.002} \n",
    "            sol = root(get_δρ_ending,(end_switching_curve['t'],end_switching_curve['x']),args=(μ,μbar))\n",
    "            end_switching_curve_prev_t = end_switching_curve['t']\n",
    "            end_switching_curve_prev_x = end_switching_curve['x']\n",
    "            end_switching_curve['t'], end_switching_curve['x'] = sol.x \n",
    "            success = sol.success\n",
    "            err = get_δρ_ending([end_switching_curve['t'],end_switching_curve['x']],μ,μbar)\n",
    "            if (not success): \n",
    "                print(\"! Trying again...\", sol.message)\n",
    "            elif (norm(err)>1e-6):\n",
    "                print(\"! Trying again... Convergence is not sufficient\")       \n",
    "        else:\n",
    "            end_point = [end_switching_curve['t']]+get_state(end_switching_curve['t'],end_switching_curve['x'],μ,μbar)\n",
    "            print(\"Ending point: t = %.2f, x = %.2f%%\"%(end_switching_curve['t'],100*end_switching_curve['x']),\" Checking the solution:\",err)\n",
    "            universal_curve = get_universal_curve(end_point,tmx,25,μ,μbar)\n",
    "            tuniv = root(get_finalizing_point_from_universal_curve,tuniv,args=(tmx,end_point,μ,μbar)).x\n",
    "            err_tuniv = get_finalizing_point_from_universal_curve(tuniv,tmx,end_point,μ,μbar)\n",
    "            univ_point = get_state_universal(tuniv,end_point,μ,μbar)\n",
    "            print(\"tuniv = %.2f\"%tuniv,\"xuniv = %.2f%%\"%(100*univ_point[1]),\" Checking the solution: \",err_tuniv)\n",
    "            final_state = get_state_with_σstar(tmx,univ_point,μ,μbar)\n",
    "            outcome = exp((b-d)*tmx-final_state[-1])\n",
    "            print(\"Fold-change in tumor size: %.2f\"%(outcome))\n",
    "            output = [Τ,Τbar,μ,μbar,end_switching_curve['x'],end_point[0],end_point[1]]+list(univ_point[0:2])+[outcome]+list(err)+[err_tuniv]\n",
    "            writer.writerow(output)\n",
    "        if (Τbar==Τ):\n",
    "            end_switching_curve0 = deepcopy(end_switching_curve) \n",
    "\n",
    "File.close()"
   ]
  },
  {
   "cell_type": "code",
   "execution_count": null,
   "metadata": {},
   "outputs": [],
   "source": []
  }
 ],
 "metadata": {
  "anaconda-cloud": {},
  "kernelspec": {
   "display_name": "Python 3",
   "language": "python",
   "name": "python3"
  },
  "language_info": {
   "codemirror_mode": {
    "name": "ipython",
    "version": 3
   },
   "file_extension": ".py",
   "mimetype": "text/x-python",
   "name": "python",
   "nbconvert_exporter": "python",
   "pygments_lexer": "ipython3",
   "version": "3.6.6"
  }
 },
 "nbformat": 4,
 "nbformat_minor": 1
}
