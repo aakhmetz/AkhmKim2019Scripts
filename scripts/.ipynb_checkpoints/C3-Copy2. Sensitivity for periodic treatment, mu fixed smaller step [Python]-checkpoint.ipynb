{
 "cells": [
  {
   "cell_type": "markdown",
   "metadata": {
    "collapsed": true
   },
   "source": [
    "# Preamble"
   ]
  },
  {
   "cell_type": "code",
   "execution_count": 1,
   "metadata": {
    "scrolled": false
   },
   "outputs": [],
   "source": [
    "import numpy as np\n",
    "import pandas as pd\n",
    "from pylab import meshgrid\n",
    "from scipy import exp,optimize,log,floor\n",
    "from scipy.signal import argrelextrema\n",
    "from scipy.optimize import fsolve\n",
    "from scipy.integrate import ode\n",
    "backend = 'dopri5'\n",
    "\n",
    "import csv\n",
    "\n",
    "# Timer\n",
    "import time"
   ]
  },
  {
   "cell_type": "markdown",
   "metadata": {},
   "source": [
    "# Parameters values"
   ]
  },
  {
   "cell_type": "markdown",
   "metadata": {},
   "source": [
    "### Main pathway dynamics"
   ]
  },
  {
   "cell_type": "code",
   "execution_count": 2,
   "metadata": {},
   "outputs": [],
   "source": [
    "α = 0.3; θ = 0.45\n",
    "κ = 40.0 # Robustness parameter for the main pathway\n",
    "L = 0.2 # Parameter desribing the treatment action on the main pathway"
   ]
  },
  {
   "cell_type": "markdown",
   "metadata": {},
   "source": [
    "Reduction and translocation factors to the expression of the main pathway due to the treatment"
   ]
  },
  {
   "cell_type": "code",
   "execution_count": 3,
   "metadata": {},
   "outputs": [],
   "source": [
    "A = lambda σ: 1-σ*(1-θ)*(1-L)\n",
    "Θ = lambda σ: θ+(1-θ)*σ*L"
   ]
  },
  {
   "cell_type": "markdown",
   "metadata": {},
   "source": [
    "Production function as a step-like function and corresponding potential function"
   ]
  },
  {
   "cell_type": "code",
   "execution_count": 4,
   "metadata": {},
   "outputs": [],
   "source": [
    "# Heaviside function #\n",
    "Heaviside = lambda x: 1.0 * (x >= 0)\n",
    "\n",
    "f = lambda y, σ: A(σ)*(α+(1-α)*Heaviside(y-Θ(σ)))\n",
    "U = lambda y, σ: -A(σ)*(α+(1.-α)*Heaviside(y-Θ(σ)))*(y-Θ(σ))+(y**2-Θ(σ)**2)/2.0"
   ]
  },
  {
   "cell_type": "markdown",
   "metadata": {},
   "source": [
    "Corresponding potential bariers (will be required for the dynamics)"
   ]
  },
  {
   "cell_type": "code",
   "execution_count": 5,
   "metadata": {},
   "outputs": [],
   "source": [
    "Eplus = lambda σ: U(Θ(σ),σ)-U(f(1.,σ),σ)\n",
    "Eminus = lambda σ: U(Θ(σ),σ)-U(f(0.,σ),σ)"
   ]
  },
  {
   "cell_type": "markdown",
   "metadata": {},
   "source": [
    "Difference in potential bariers"
   ]
  },
  {
   "cell_type": "code",
   "execution_count": 6,
   "metadata": {},
   "outputs": [],
   "source": [
    "ΔE = lambda σ: Eplus(σ)-Eminus(σ)"
   ]
  },
  {
   "cell_type": "markdown",
   "metadata": {},
   "source": [
    "### Fitting some parameter values according with Bozic, Reiter et al 2013 *eLife*"
   ]
  },
  {
   "cell_type": "code",
   "execution_count": 7,
   "metadata": {},
   "outputs": [],
   "source": [
    "d = 0.13 # death rate per day"
   ]
  },
  {
   "cell_type": "code",
   "execution_count": 8,
   "metadata": {},
   "outputs": [
    {
     "name": "stdout",
     "output_type": "stream",
     "text": [
      "Birth rate: 0.1402\n",
      "Penalty χ: 0.2998\n"
     ]
    }
   ],
   "source": [
    "b = (0.1*(exp(κ*ΔE(1))+1)-0.14*(exp(κ*ΔE(0))+1))/(exp(κ*ΔE(1))-exp(κ*ΔE(0)))\n",
    "χ = 1-(0.14*(exp(κ*ΔE(0))+1)-b*exp(κ*ΔE(0)))/b\n",
    "print(\"Birth rate: %.4f\" % b)\n",
    "print(\"Penalty χ: %.4f\" % χ)"
   ]
  },
  {
   "cell_type": "markdown",
   "metadata": {},
   "source": [
    "### Other parameters"
   ]
  },
  {
   "cell_type": "code",
   "execution_count": 9,
   "metadata": {},
   "outputs": [],
   "source": [
    "c = 0.04 # cost of resistance"
   ]
  },
  {
   "cell_type": "code",
   "execution_count": 10,
   "metadata": {},
   "outputs": [],
   "source": [
    "ε = 0.01 # initial fraction of resistant cells"
   ]
  },
  {
   "cell_type": "markdown",
   "metadata": {},
   "source": [
    "# Periodic treatment\n",
    "\n",
    "** ¡It takes quite a substantial amount of time! **"
   ]
  },
  {
   "cell_type": "code",
   "execution_count": 11,
   "metadata": {},
   "outputs": [],
   "source": [
    "T = 2.0*12*30 # two years\n",
    "def func(μ,μbar,treatment_periodicity,σ):\n",
    "    ode_rhs = lambda t, X, σ: [b*(χ/(exp(κ*ΔE(σ))+1)-c)*X[0]*(1-X[0])+μ*(1-X[0])/(exp(κ*ΔE(σ))+1)-μbar*exp(-κ*Eminus(σ))*X[0],\\\n",
    "            b*(1-χ*(1-X[0])/(exp(κ*ΔE(σ))+1)-c*X[0])*X[1]-d*X[1]]\n",
    "    n = floor(T/(2*treatment_periodicity))\n",
    "    x = n*treatment_periodicity + (treatment_periodicity if (T/treatment_periodicity-2*n>1) else T-2*n*treatment_periodicity)\n",
    "    σx = σ*T/2/x #here σx is the double of one half of the applied treatment intensity\n",
    "    solver = ode(ode_rhs).set_integrator(backend).set_initial_value([ε,1.])\n",
    "    tme = 0.0; treatment = True\n",
    "    while (tme+treatment_periodicity < T):\n",
    "        tme += treatment_periodicity\n",
    "        solver.set_f_params(int(treatment)*σx).integrate(tme)\n",
    "        treatment = not treatment\n",
    "    solver.set_f_params(int(treatment)*σx).integrate(T)\n",
    "    return solver.y"
   ]
  },
  {
   "cell_type": "code",
   "execution_count": 13,
   "metadata": {
    "scrolled": false
   },
   "outputs": [
    {
     "name": "stdout",
     "output_type": "stream",
     "text": [
      "This proccess took 24.3 minutes\n",
      "[120, 60.0, 28.800000000000004, 0.8400000000000001, 0.7849875422373307, 0.4082500642972917]\n",
      "This proccess took 24.4 minutes\n",
      "[118, 60.0, 28.800000000000004, 0.8400000000000001, 0.7864323712693633, 0.41731557008188147]\n",
      "This proccess took 24.3 minutes\n",
      "[116, 60.0, 28.800000000000004, 0.8400000000000001, 0.7879083433553836, 0.4267610899853316]\n",
      "This proccess took 24.4 minutes\n",
      "[114, 60.0, 28.800000000000004, 0.8400000000000001, 0.7894165431659942, 0.4366096400184209]\n",
      "This proccess took 24.3 minutes\n",
      "[112, 60.0, 28.800000000000004, 0.8400000000000001, 0.7909581077256657, 0.4468860539431654]\n",
      "This proccess took 24.3 minutes\n",
      "[110, 60.0, 28.800000000000004, 0.8400000000000001, 0.7925342296461979, 0.45761717947525393]\n",
      "This proccess took 24.3 minutes\n",
      "[108, 60.0, 28.800000000000004, 0.8400000000000001, 0.7941461606361001, 0.46883206407204386]\n",
      "This proccess took 24.4 minutes\n",
      "[106, 60.0, 28.800000000000004, 0.8400000000000001, 0.795795215263978, 0.48056215722971035]\n",
      "This proccess took 24.5 minutes\n",
      "[104, 60.0, 28.800000000000004, 0.8400000000000001, 0.7974827750161437, 0.49284138510125686]\n",
      "This proccess took 24.3 minutes\n",
      "[102, 60.0, 28.800000000000004, 0.8400000000000001, 0.7992102926848673, 0.5057073208822862]\n",
      "This proccess took 24.5 minutes\n",
      "[100, 60.0, 28.800000000000004, 0.8400000000000001, 0.8009792970802649, 0.5192000900938336]\n",
      "This proccess took 24.6 minutes\n",
      "[98, 60.0, 28.800000000000004, 0.8400000000000001, 0.8027913981501762, 0.5333636925761889]\n",
      "This proccess took 24.7 minutes\n",
      "[96, 60.0, 28.800000000000004, 0.8400000000000001, 0.8046482925010731, 0.5482461459182547]\n",
      "This proccess took 24.8 minutes\n",
      "[94, 60.0, 28.800000000000004, 0.8400000000000001, 0.8065517693805432, 0.5638999859110516]\n",
      "This proccess took 24.7 minutes\n",
      "[92, 60.0, 28.800000000000004, 0.8300000000000001, 0.8053746492295363, 0.5803762073287769]\n",
      "This proccess took 24.8 minutes\n",
      "[90, 60.0, 28.800000000000004, 0.8300000000000001, 0.8074051999167454, 0.5977389354726435]\n",
      "This proccess took 24.9 minutes\n",
      "[88, 60.0, 28.800000000000004, 0.8300000000000001, 0.8094889531625309, 0.6160623182031583]\n",
      "This proccess took 23.4 minutes\n",
      "[86, 60.0, 28.800000000000004, 0.8300000000000001, 0.8116281660192959, 0.6354228415039072]\n",
      "This proccess took 22.1 minutes\n",
      "[84, 60.0, 28.800000000000004, 0.8300000000000001, 0.8138252282873603, 0.6559049586491641]\n",
      "This proccess took 21.9 minutes\n",
      "[82, 60.0, 28.800000000000004, 0.8300000000000001, 0.8160826724505719, 0.6776021221789302]\n",
      "This proccess took 21.6 minutes\n",
      "[80, 60.0, 28.800000000000004, 0.8300000000000001, 0.8184031844911481, 0.7006179783242787]\n",
      "This proccess took 22.0 minutes\n",
      "[78, 60.0, 28.800000000000004, 0.8300000000000001, 0.8207896156704815, 0.7250677532231519]\n",
      "This proccess took 22.0 minutes\n",
      "[76, 60.0, 28.800000000000004, 0.8300000000000001, 0.8232449953619231, 0.7510798375824949]\n",
      "This proccess took 22.1 minutes\n",
      "[74, 60.0, 28.800000000000004, 0.8300000000000001, 0.8257725450420105, 0.7787976843895351]\n",
      "This proccess took 22.2 minutes\n",
      "[72, 60.0, 28.800000000000004, 0.8300000000000001, 0.8283756934674571, 0.8083815197588405]\n",
      "This proccess took 22.3 minutes\n",
      "[70, 60.0, 28.800000000000004, 0.8300000000000001, 0.8310580885319225, 0.8400127595522984]\n",
      "This proccess took 22.4 minutes\n",
      "[68, 60.0, 28.800000000000004, 0.8300000000000001, 0.833823628410596, 0.8738937549290051]\n",
      "This proccess took 22.4 minutes\n",
      "[66, 60.0, 28.800000000000004, 0.8300000000000001, 0.8366764675962812, 0.9102548161315959]\n",
      "This proccess took 22.6 minutes\n",
      "[64, 60.0, 28.800000000000004, 0.8300000000000001, 0.8396210440804517, 0.9493565005707961]\n",
      "This proccess took 22.6 minutes\n",
      "[62, 60.0, 28.800000000000004, 0.8300000000000001, 0.8426621015883468, 0.991495311189003]\n",
      "This proccess took 22.8 minutes\n",
      "[60, 60.0, 28.800000000000004, 0.8300000000000001, 0.8458047144451085, 1.0370098532869794]\n",
      "This proccess took 22.8 minutes\n",
      "[58, 60.0, 28.800000000000004, 0.8300000000000001, 0.8490543142974404, 1.0862881549349275]\n",
      "This proccess took 23.0 minutes\n",
      "[56, 60.0, 28.800000000000004, 0.8200000000000001, 0.8497680141191181, 1.1397301795137695]\n",
      "This proccess took 23.1 minutes\n",
      "[54, 60.0, 26.700000000000003, 0.8200000000000001, 0.8430927479008392, 1.1978124657596854]\n",
      "This proccess took 23.2 minutes\n",
      "[52, 60.0, 26.700000000000003, 0.8200000000000001, 0.8468278205570084, 1.260802085185131]\n",
      "This proccess took 23.3 minutes\n",
      "[50, 60.0, 26.700000000000003, 0.8200000000000001, 0.8507046728568642, 1.329728738798168]\n",
      "This proccess took 23.8 minutes\n",
      "[48, 60.0, 21.800000000000004, 0.8200000000000001, 0.8394872505939662, 1.4044123080619424]\n",
      "This proccess took 23.8 minutes\n",
      "[46, 60.0, 20.6, 0.8200000000000001, 0.8400572960119616, 1.4863370394368898]\n",
      "This proccess took 24.1 minutes\n",
      "[44, 60.0, 20.6, 0.8200000000000001, 0.8445249222295411, 1.5765786304396356]\n",
      "This proccess took 24.2 minutes\n",
      "[42, 60.0, 20.6, 0.8200000000000001, 0.8491886800814383, 1.6766077910499417]\n",
      "This proccess took 24.2 minutes\n",
      "[40, 60.0, 20.6, 0.8200000000000001, 0.8540626941755528, 1.7879560670682704]\n",
      "This proccess took 24.5 minutes\n",
      "[38, 60.0, 16.0, 0.8200000000000001, 0.850132903007193, 1.9121779271930661]\n",
      "This proccess took 24.7 minutes\n",
      "[36, 60.0, 16.0, 0.81, 0.8533443047813087, 2.050236786877576]\n",
      "This proccess took 24.9 minutes\n",
      "[34, 60.0, 16.0, 0.81, 0.8590457958904179, 2.205914982833983]\n",
      "This proccess took 25.2 minutes\n",
      "[32, 60.0, 16.0, 0.81, 0.8650423169747861, 2.3825810525253437]\n",
      "This proccess took 25.5 minutes\n",
      "[30, 60.0, 16.0, 0.81, 0.8713588064369724, 2.5843315342610897]\n",
      "This proccess took 25.9 minutes\n",
      "[28, 60.0, 16.0, 0.81, 0.8780228545783519, 2.8163316579716047]\n",
      "This proccess took 26.3 minutes\n",
      "[26, 60.0, 16.0, 0.81, 0.8850649151529193, 3.085169047574511]\n",
      "This proccess took 26.7 minutes\n",
      "[24, 60.0, 14.700000000000001, 0.8, 0.8849095077456387, 3.398046389044472]\n",
      "This proccess took 27.1 minutes\n",
      "[22, 60.0, 12.200000000000001, 0.8, 0.8845646390720828, 3.7648838324921994]\n",
      "This proccess took 27.7 minutes\n",
      "[20, 60.0, 11.8, 0.8, 0.8919351586286062, 4.199486754969997]\n",
      "This proccess took 31.5 minutes\n",
      "[18, 60.0, 9.6, 0.8, 0.895655645442818, 4.720796645679456]\n",
      "This proccess took 32.3 minutes\n",
      "[16, 60.0, 9.6, 0.79, 0.9043773169531188, 5.352955521787548]\n",
      "This proccess took 33.9 minutes\n",
      "[14, 60.0, 9.6, 0.79, 0.9154728672367055, 6.134795081725188]\n",
      "This proccess took 35.9 minutes\n",
      "[12, 60.0, 9.6, 0.79, 0.9274509030199083, 7.119762128928205]\n",
      "This proccess took 38.0 minutes\n",
      "[10, 60.0, 5.5, 0.78, 0.9213359977183858, 8.371805012551942]\n",
      "This proccess took 40.7 minutes\n",
      "[8, 60.0, 4.9, 0.78, 0.9355326151836707, 10.003044422561015]\n",
      "This proccess took 44.3 minutes\n",
      "[6, 60.0, 3.2, 0.77, 0.9469148204400799, 12.201706996473687]\n",
      "This proccess took 50.6 minutes\n",
      "[4, 60.0, 3.2, 0.76, 0.9653742518336467, 15.251999093042047]\n"
     ]
    }
   ],
   "source": [
    "File = open(\"../figures/draft/sensitivity_periodic_mubar_fixed_smaller_step.csv\", 'w')\n",
    "File.write(\"T,Tbar,period,sigma,Resistance,FoldChange\\n\")\n",
    "writer = csv.writer(File,lineterminator='\\n')\n",
    "\n",
    "step_periods = .1; step_σFixed = .01\n",
    "Periods, σFixed = np.meshgrid(np.arange(step_periods,30.0+step_periods,step_periods),\n",
    "                              np.arange(0.7,1.0+step_σFixed,step_σFixed))\n",
    "periods_n, σFixed_n = Periods.shape\n",
    "\n",
    "mubart = 60.0\n",
    "for mut in np.arange(120,2,-2):\n",
    "    time0=time.time()\n",
    "\n",
    "    FoldChangeMin = 1e10\n",
    "    for xk in range(periods_n):\n",
    "        for yk in range(σFixed_n):\n",
    "            Resistance, FoldChange = func(1./mut,1./mubart,Periods[xk,yk],σFixed[xk,yk])\n",
    "            if FoldChange<FoldChangeMin:\n",
    "                FoldChangeMin = FoldChange\n",
    "                output = [mut,mubart,Periods[xk,yk],σFixed[xk,yk],Resistance,FoldChange]\n",
    "\n",
    "    print(\"This proccess took %0.1f minutes\" % ((time.time()-time0)/60.))\n",
    "    writer.writerow(output)\n",
    "    print(output)\n",
    "        \n",
    "File.close()"
   ]
  },
  {
   "cell_type": "code",
   "execution_count": null,
   "metadata": {},
   "outputs": [],
   "source": []
  }
 ],
 "metadata": {
  "anaconda-cloud": {},
  "kernelspec": {
   "display_name": "Python 3",
   "language": "python",
   "name": "python3"
  },
  "language_info": {
   "codemirror_mode": {
    "name": "ipython",
    "version": 3
   },
   "file_extension": ".py",
   "mimetype": "text/x-python",
   "name": "python",
   "nbconvert_exporter": "python",
   "pygments_lexer": "ipython3",
   "version": "3.6.5"
  }
 },
 "nbformat": 4,
 "nbformat_minor": 1
}
