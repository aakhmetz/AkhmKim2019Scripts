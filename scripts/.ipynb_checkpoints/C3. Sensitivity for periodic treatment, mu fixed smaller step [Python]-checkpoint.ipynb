{
 "cells": [
  {
   "cell_type": "markdown",
   "metadata": {
    "collapsed": true
   },
   "source": [
    "# Preamble"
   ]
  },
  {
   "cell_type": "code",
   "execution_count": 1,
   "metadata": {
    "scrolled": false
   },
   "outputs": [],
   "source": [
    "import numpy as np\n",
    "import pandas as pd\n",
    "from pylab import meshgrid\n",
    "from scipy import exp,optimize,log,floor\n",
    "from scipy.signal import argrelextrema\n",
    "from scipy.optimize import fsolve\n",
    "from scipy.integrate import ode\n",
    "backend = 'dopri5'\n",
    "\n",
    "import csv\n",
    "\n",
    "# Timer\n",
    "import time"
   ]
  },
  {
   "cell_type": "markdown",
   "metadata": {},
   "source": [
    "# Parameters values"
   ]
  },
  {
   "cell_type": "markdown",
   "metadata": {},
   "source": [
    "### Main pathway dynamics"
   ]
  },
  {
   "cell_type": "code",
   "execution_count": 2,
   "metadata": {},
   "outputs": [],
   "source": [
    "α = 0.3; θ = 0.45\n",
    "κ = 40.0 # Robustness parameter for the main pathway\n",
    "L = 0.2 # Parameter desribing the treatment action on the main pathway"
   ]
  },
  {
   "cell_type": "markdown",
   "metadata": {},
   "source": [
    "Reduction and translocation factors to the expression of the main pathway due to the treatment"
   ]
  },
  {
   "cell_type": "code",
   "execution_count": 3,
   "metadata": {},
   "outputs": [],
   "source": [
    "A = lambda σ: 1-σ*(1-θ)*(1-L)\n",
    "Θ = lambda σ: θ+(1-θ)*σ*L"
   ]
  },
  {
   "cell_type": "markdown",
   "metadata": {},
   "source": [
    "Production function as a step-like function and corresponding potential function"
   ]
  },
  {
   "cell_type": "code",
   "execution_count": 14,
   "metadata": {},
   "outputs": [],
   "source": [
    "# Heaviside function #\n",
    "Heaviside = lambda x: 1.0 * (x >= 0)\n",
    "\n",
    "f = lambda y, σ: A(σ)*(α+(1-α)*Heaviside(y-Θ(σ)))\n",
    "U = lambda y, σ: -A(σ)*(α+(1.-α)*Heaviside(y-Θ(σ)))*(y-Θ(σ))+(y**2-Θ(σ)**2)/2.0"
   ]
  },
  {
   "cell_type": "markdown",
   "metadata": {},
   "source": [
    "Corresponding potential bariers (will be required for the dynamics)"
   ]
  },
  {
   "cell_type": "code",
   "execution_count": 15,
   "metadata": {},
   "outputs": [],
   "source": [
    "Eplus = lambda σ: U(Θ(σ),σ)-U(f(1.,σ),σ)\n",
    "Eminus = lambda σ: U(Θ(σ),σ)-U(f(0.,σ),σ)"
   ]
  },
  {
   "cell_type": "markdown",
   "metadata": {},
   "source": [
    "Difference in potential bariers"
   ]
  },
  {
   "cell_type": "code",
   "execution_count": 16,
   "metadata": {},
   "outputs": [],
   "source": [
    "ΔE = lambda σ: Eplus(σ)-Eminus(σ)"
   ]
  },
  {
   "cell_type": "markdown",
   "metadata": {},
   "source": [
    "### Fitting some parameter values according with Bozic, Reiter et al 2013 *eLife*"
   ]
  },
  {
   "cell_type": "code",
   "execution_count": 17,
   "metadata": {},
   "outputs": [],
   "source": [
    "d = 0.13 # death rate per day"
   ]
  },
  {
   "cell_type": "code",
   "execution_count": 18,
   "metadata": {},
   "outputs": [
    {
     "name": "stdout",
     "output_type": "stream",
     "text": [
      "Birth rate: 0.1402\n",
      "Penalty χ: 0.2998\n"
     ]
    }
   ],
   "source": [
    "b = (0.1*(exp(κ*ΔE(1))+1)-0.14*(exp(κ*ΔE(0))+1))/(exp(κ*ΔE(1))-exp(κ*ΔE(0)))\n",
    "χ = 1-(0.14*(exp(κ*ΔE(0))+1)-b*exp(κ*ΔE(0)))/b\n",
    "print(\"Birth rate: %.4f\" % b)\n",
    "print(\"Penalty χ: %.4f\" % χ)"
   ]
  },
  {
   "cell_type": "markdown",
   "metadata": {},
   "source": [
    "### Other parameters"
   ]
  },
  {
   "cell_type": "code",
   "execution_count": 19,
   "metadata": {},
   "outputs": [],
   "source": [
    "c = 0.04 # cost of resistance"
   ]
  },
  {
   "cell_type": "code",
   "execution_count": 20,
   "metadata": {},
   "outputs": [],
   "source": [
    "ε = 0.01 # initial fraction of resistant cells"
   ]
  },
  {
   "cell_type": "markdown",
   "metadata": {},
   "source": [
    "# Periodic treatment\n",
    "\n",
    "** ¡It takes quite a substantial amount of time! **"
   ]
  },
  {
   "cell_type": "code",
   "execution_count": 21,
   "metadata": {},
   "outputs": [],
   "source": [
    "T = 2.0*12*30 # two years\n",
    "def func(μ,μbar,treatment_periodicity,σ):\n",
    "    ode_rhs = lambda t, X, σ: [b*(χ/(exp(κ*ΔE(σ))+1)-c)*X[0]*(1-X[0])+μ*(1-X[0])/(exp(κ*ΔE(σ))+1)-μbar*exp(-κ*Eminus(σ))*X[0],\\\n",
    "            b*(1-χ*(1-X[0])/(exp(κ*ΔE(σ))+1)-c*X[0])*X[1]-d*X[1]]\n",
    "    n = floor(T/(2*treatment_periodicity))\n",
    "    x = n*treatment_periodicity + (treatment_periodicity if (T/treatment_periodicity-2*n>1) else T-2*n*treatment_periodicity)\n",
    "    σx = σ*T/2/x #here σx is the double of one half of the applied treatment intensity\n",
    "    solver = ode(ode_rhs).set_integrator(backend).set_initial_value([ε,1.])\n",
    "    tme = 0.0; treatment = True\n",
    "    while (tme+treatment_periodicity < T):\n",
    "        tme += treatment_periodicity\n",
    "        solver.set_f_params(int(treatment)*σx).integrate(tme)\n",
    "        treatment = not treatment\n",
    "    solver.set_f_params(int(treatment)*σx).integrate(T)\n",
    "    return solver.y"
   ]
  },
  {
   "cell_type": "code",
   "execution_count": 22,
   "metadata": {},
   "outputs": [
    {
     "data": {
      "text/plain": [
       "array([0.91237541, 6.11969575])"
      ]
     },
     "execution_count": 22,
     "metadata": {},
     "output_type": "execute_result"
    }
   ],
   "source": [
    "func(1./mut,1./mubart,5.5,.8)"
   ]
  },
  {
   "cell_type": "code",
   "execution_count": null,
   "metadata": {
    "scrolled": false
   },
   "outputs": [
    {
     "name": "stdout",
     "output_type": "stream",
     "text": [
      "This proccess took 26.3 minutes\n",
      "[28.0, 120, 26.700000000000003, 0.8, 0.9487799292779633, 5.949412476538993]\n",
      "This proccess took 26.1 minutes\n",
      "[28.0, 118, 26.700000000000003, 0.8, 0.9479471519888029, 5.870814120929659]\n",
      "This proccess took 26.1 minutes\n",
      "[28.0, 116, 24.900000000000002, 0.8, 0.9415935872360333, 5.790752308255301]\n",
      "This proccess took 26.1 minutes\n",
      "[28.0, 114, 24.900000000000002, 0.8, 0.9406148026633389, 5.708946061423756]\n",
      "This proccess took 26.1 minutes\n",
      "[28.0, 112, 20.6, 0.8, 0.9356474323842221, 5.624805898341981]\n",
      "This proccess took 26.2 minutes\n",
      "[28.0, 110, 20.6, 0.8, 0.9345325551318123, 5.539067256811435]\n"
     ]
    }
   ],
   "source": [
    "File = open(\"../figures/draft/sensitivity_periodic_mu_fixed_smaller_step.csv\", 'w')\n",
    "File.write(\"T,Tbar,period,sigma,Resistance,FoldChange\\n\")\n",
    "writer = csv.writer(File,lineterminator='\\n')\n",
    "\n",
    "step_periods = .1; step_σFixed = .01\n",
    "Periods, σFixed = np.meshgrid(np.arange(step_periods,30.0+step_periods,step_periods),\n",
    "                              np.arange(0.7,1.0+step_σFixed,step_σFixed))\n",
    "periods_n, σFixed_n = Periods.shape\n",
    "\n",
    "mut = 28.0\n",
    "for mubart in np.arange(120,2,-2):\n",
    "    time0=time.time()\n",
    "\n",
    "    FoldChangeMin = 1e10\n",
    "    for xk in range(periods_n):\n",
    "        for yk in range(σFixed_n):\n",
    "            Resistance, FoldChange = func(1./mut,1./mubart,Periods[xk,yk],σFixed[xk,yk])\n",
    "            if FoldChange<FoldChangeMin:\n",
    "                FoldChangeMin = FoldChange\n",
    "                output = [mut,mubart,Periods[xk,yk],σFixed[xk,yk],Resistance,FoldChange]\n",
    "\n",
    "    print(\"This proccess took %0.1f minutes\" % ((time.time()-time0)/60.))\n",
    "    writer.writerow(output)\n",
    "    print(output)\n",
    "        \n",
    "File.close()"
   ]
  },
  {
   "cell_type": "code",
   "execution_count": null,
   "metadata": {},
   "outputs": [],
   "source": []
  }
 ],
 "metadata": {
  "anaconda-cloud": {},
  "kernelspec": {
   "display_name": "Python 3",
   "language": "python",
   "name": "python3"
  },
  "language_info": {
   "codemirror_mode": {
    "name": "ipython",
    "version": 3
   },
   "file_extension": ".py",
   "mimetype": "text/x-python",
   "name": "python",
   "nbconvert_exporter": "python",
   "pygments_lexer": "ipython3",
   "version": "3.6.5"
  }
 },
 "nbformat": 4,
 "nbformat_minor": 1
}
