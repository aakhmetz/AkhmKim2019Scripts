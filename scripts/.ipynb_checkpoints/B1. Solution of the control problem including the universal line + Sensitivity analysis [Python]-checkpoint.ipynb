{
 "cells": [
  {
   "cell_type": "markdown",
   "metadata": {},
   "source": [
    "# Aim of this notebook\n",
    "\n",
    "* To construct the singular curve of universal type to finalize the solution of the optimal control problem"
   ]
  },
  {
   "cell_type": "markdown",
   "metadata": {},
   "source": [
    "# Preamble"
   ]
  },
  {
   "cell_type": "code",
   "execution_count": 1,
   "metadata": {},
   "outputs": [],
   "source": [
    "from sympy import *\n",
    "init_printing(use_latex='mathjax')\n",
    "\n",
    "# Plotting\n",
    "%matplotlib inline\n",
    "## Make inline plots raster graphics\n",
    "from IPython.display import set_matplotlib_formats\n",
    "## Import modules for plotting and data analysis\n",
    "import matplotlib.pyplot as plt\n",
    "from matplotlib import gridspec,rc,colors\n",
    "import matplotlib.ticker as plticker\n",
    "## Parameters for seaborn plots\n",
    "import seaborn as sns\n",
    "sns.set(style='white',font_scale=1.25,\n",
    "        rc={\"xtick.major.size\": 6, \"ytick.major.size\": 6,\n",
    "            'text.usetex': False, 'font.family': 'serif', 'font.serif': ['Times']})\n",
    "\n",
    "import pandas as pd\n",
    "pd.set_option('mode.chained_assignment',None)\n",
    "\n",
    "import numpy as np\n",
    "from numpy.linalg import norm\n",
    "from scipy.optimize import fsolve, root\n",
    "from scipy.integrate import ode\n",
    "backend = 'dopri5'\n",
    "import warnings\n",
    "\n",
    "# For I/O\n",
    "import csv\n",
    "\n",
    "\n",
    "# Timer\n",
    "import time\n",
    "\n",
    "from copy import deepcopy\n",
    "\n",
    "from itertools import cycle\n",
    "palette_size = 10;\n",
    "clrs = sns.color_palette(\"Reds\",palette_size)\n",
    "iclrs = cycle(clrs) # iterated colors\n",
    "\n",
    "# Suppress warnings\n",
    "import warnings\n",
    "warnings.filterwarnings(\"ignore\")"
   ]
  },
  {
   "cell_type": "markdown",
   "metadata": {},
   "source": [
    "# Parameter values"
   ]
  },
  {
   "cell_type": "markdown",
   "metadata": {},
   "source": [
    "* Birth rate and const of downregulation are defined below in order to fit some experim. data"
   ]
  },
  {
   "cell_type": "code",
   "execution_count": 2,
   "metadata": {},
   "outputs": [],
   "source": [
    "d = .13 # death rate\n",
    "α = .3 # low equilibrium point at expression of the main pathway (high equilibrium is at one)\n",
    "θ = .45 # threshold value for the expression of the main pathway\n",
    "κ = 40 # robustness parameter"
   ]
  },
  {
   "cell_type": "markdown",
   "metadata": {},
   "source": [
    "* Symbolic variables - the list insludes μ & μbar, because they will be varied later"
   ]
  },
  {
   "cell_type": "code",
   "execution_count": 3,
   "metadata": {},
   "outputs": [],
   "source": [
    "σ, φ0, φ, x, μ, μbar = symbols('sigma, phi0, phi, x, mu, mubar')"
   ]
  },
  {
   "cell_type": "markdown",
   "metadata": {},
   "source": [
    "* Main functions"
   ]
  },
  {
   "cell_type": "code",
   "execution_count": 4,
   "metadata": {},
   "outputs": [],
   "source": [
    "A = 1-σ*(1-θ)\n",
    "Eminus = (α*A-θ)**2/2\n",
    "ΔE = A*(1-α)*((1+α)*A/2-θ)\n",
    "ΔEf = lambdify(σ,ΔE)"
   ]
  },
  {
   "cell_type": "markdown",
   "metadata": {},
   "source": [
    "* Birth rate and cost of downregulation"
   ]
  },
  {
   "cell_type": "code",
   "execution_count": 5,
   "metadata": {},
   "outputs": [
    {
     "data": {
      "text/latex": [
       "$$\\left ( 0.140168330860362, \\quad 0.325961223954473\\right )$$"
      ],
      "text/plain": [
       "(0.140168330860362, 0.325961223954473)"
      ]
     },
     "execution_count": 5,
     "metadata": {},
     "output_type": "execute_result"
    }
   ],
   "source": [
    "b = (0.1*(exp(κ*(ΔEf(1)))+1)-0.14*(exp(κ*ΔEf(0))+1))/(exp(κ*ΔEf(1))-exp(κ*ΔEf(0))) # birth rate\n",
    "χ = 1-(0.14*(exp(κ*ΔEf(0))+1)-b*exp(κ*ΔEf(0)))/b\n",
    "b, χ"
   ]
  },
  {
   "cell_type": "code",
   "execution_count": 8,
   "metadata": {},
   "outputs": [],
   "source": [
    "c_relative = 0.1\n",
    "c = c_relative*(b-d)/b+(1-c_relative)*χ/(exp(κ*ΔEf(0))+1) # cost of resistance"
   ]
  },
  {
   "cell_type": "markdown",
   "metadata": {},
   "source": [
    "* Hamiltonian *H* and a part of it ρ that includes the control variable σ"
   ]
  },
  {
   "cell_type": "code",
   "execution_count": 9,
   "metadata": {},
   "outputs": [
    {
     "data": {
      "text/latex": [
       "$$\\left ( \\phi \\left(\\frac{\\mu \\left(- x + 1\\right)}{e^{40 \\left(- 0.385 \\sigma + 0.7\\right) \\left(- 0.3575 \\sigma + 0.2\\right)} + 1} - \\bar{\\mu} x e^{- 20 \\left(- 0.165 \\sigma - 0.15\\right)^{2}} + x \\left(-0.00116833086036159 + \\frac{0.045689440686899}{e^{40 \\left(- 0.385 \\sigma + 0.7\\right) \\left(- 0.3575 \\sigma + 0.2\\right)} + 1}\\right) \\left(- x + 1\\right)\\right) - \\phi_{0} + 0.00116833086036159 x + \\frac{0.045689440686899 \\left(- x + 1\\right)}{e^{40 \\left(- 0.385 \\sigma + 0.7\\right) \\left(- 0.3575 \\sigma + 0.2\\right)} + 1}, \\quad - \\bar{\\mu} \\phi x e^{- 20 \\left(- 0.165 \\sigma - 0.15\\right)^{2}} + \\frac{\\left(- x + 1\\right) \\left(\\phi \\left(\\mu + 0.045689440686899 x\\right) + 0.045689440686899\\right)}{e^{40 \\left(- 0.385 \\sigma + 0.7\\right) \\left(- 0.3575 \\sigma + 0.2\\right)} + 1}\\right )$$"
      ],
      "text/plain": [
       "⎛  ⎛                                                                        2 \n",
       "⎜  ⎜                μ⋅(-x + 1)                         -20⋅(-0.165⋅σ - 0.15)  \n",
       "⎜φ⋅⎜────────────────────────────────────────── - μ̅⋅x⋅ℯ                       \n",
       "⎜  ⎜ 40⋅(-0.385⋅σ + 0.7)⋅(-0.3575⋅σ + 0.2)                                    \n",
       "⎝  ⎝ℯ                                      + 1                                \n",
       "\n",
       "                                                                              \n",
       "    ⎛                                   0.045689440686899             ⎞       \n",
       "+ x⋅⎜-0.00116833086036159 + ──────────────────────────────────────────⎟⋅(-x + \n",
       "    ⎜                        40⋅(-0.385⋅σ + 0.7)⋅(-0.3575⋅σ + 0.2)    ⎟       \n",
       "    ⎝                       ℯ                                      + 1⎠       \n",
       "\n",
       "  ⎞                                                                           \n",
       "  ⎟                                        0.045689440686899⋅(-x + 1)         \n",
       "1)⎟ - φ₀ + 0.00116833086036159⋅x + ──────────────────────────────────────────,\n",
       "  ⎟                                 40⋅(-0.385⋅σ + 0.7)⋅(-0.3575⋅σ + 0.2)     \n",
       "  ⎠                                ℯ                                      + 1 \n",
       "\n",
       "                                2                                             \n",
       "           -20⋅(-0.165⋅σ - 0.15)    (-x + 1)⋅(φ⋅(μ + 0.045689440686899⋅x) + 0.\n",
       " - μ̅⋅φ⋅x⋅ℯ                       + ──────────────────────────────────────────\n",
       "                                             40⋅(-0.385⋅σ + 0.7)⋅(-0.3575⋅σ + \n",
       "                                            ℯ                                 \n",
       "\n",
       "                ⎞\n",
       "045689440686899)⎟\n",
       "────────────────⎟\n",
       "0.2)            ⎟\n",
       "     + 1        ⎠"
      ]
     },
     "execution_count": 9,
     "metadata": {},
     "output_type": "execute_result"
    }
   ],
   "source": [
    "h = b*(χ/(exp(κ*ΔE)+1)*(1-x)+c*x)\n",
    "H = -φ0 + φ*(b*(χ/(exp(κ*ΔE)+1)-c)*x*(1-x)+μ*(1-x)/(exp(κ*ΔE)+1)-μbar*exp(-κ*Eminus)*x) + h\n",
    "ρ = (φ*(b*χ*x+μ)+b*χ)/(exp(κ*ΔE)+1)*(1-x)-φ*μbar*exp(-κ*Eminus)*x\n",
    "H, ρ"
   ]
  },
  {
   "cell_type": "markdown",
   "metadata": {},
   "source": [
    "* Same but for no treatment (σ = 0)"
   ]
  },
  {
   "cell_type": "code",
   "execution_count": 10,
   "metadata": {},
   "outputs": [
    {
     "data": {
      "text/latex": [
       "$$\\left ( \\phi \\left(0.00368423989943599 \\mu \\left(- x + 1\\right) - 0.637628151621773 \\bar{\\mu} x - 0.001 x \\left(- x + 1\\right)\\right) - \\phi_{0} + 0.001 x + 0.000168330860361587, \\quad - 0.637628151621773 \\bar{\\mu} \\phi x + 0.00368423989943599 \\left(- x + 1\\right) \\left(\\phi \\left(\\mu + 0.045689440686899 x\\right) + 0.045689440686899\\right)\\right )$$"
      ],
      "text/plain": [
       "(φ⋅(0.00368423989943599⋅μ⋅(-x + 1) - 0.637628151621773⋅μ̅⋅x - 0.001⋅x⋅(-x + 1)\n",
       ") - φ₀ + 0.001⋅x + 0.000168330860361587, -0.637628151621773⋅μ̅⋅φ⋅x + 0.0036842\n",
       "3989943599⋅(-x + 1)⋅(φ⋅(μ + 0.045689440686899⋅x) + 0.045689440686899))"
      ]
     },
     "execution_count": 10,
     "metadata": {},
     "output_type": "execute_result"
    }
   ],
   "source": [
    "h0 = h.subs(σ,0)\n",
    "H0 = H.subs(σ,0)\n",
    "ρ0 = ρ.subs(σ,0)\n",
    "H0, ρ0"
   ]
  },
  {
   "cell_type": "markdown",
   "metadata": {},
   "source": [
    "* Machinery: definition of the Poisson brackets"
   ]
  },
  {
   "cell_type": "code",
   "execution_count": 11,
   "metadata": {},
   "outputs": [],
   "source": [
    "PoissonBrackets = lambda H1, H2: diff(H1,x)*diff(H2,φ)-diff(H1,φ)*diff(H2,x)"
   ]
  },
  {
   "cell_type": "markdown",
   "metadata": {},
   "source": [
    "* Necessary functions and defining the right hand side of dynamical equations"
   ]
  },
  {
   "cell_type": "code",
   "execution_count": 12,
   "metadata": {},
   "outputs": [],
   "source": [
    "ρf = lambdify((x,φ,σ,μ,μbar),ρ)\n",
    "ρ0f = lambdify((x,φ,μ,μbar),ρ0)\n",
    "dxdτ = lambdify((x,φ,σ,μ,μbar),-diff(H,φ))\n",
    "dφdτ = lambdify((x,φ,σ,μ,μbar),diff(H,x))\n",
    "dVdτ = lambdify((x,σ),h)\n",
    "dρdσ = lambdify((σ,x,φ,μ,μbar),diff(ρ,σ))\n",
    "dδρdτ = lambdify((x,φ,σ,μ,μbar),-PoissonBrackets(ρ0-ρ,H))\n",
    "def ode_rhs(t,state,μ,μbar):\n",
    "    x, φ, V, δρ = state\n",
    "    σs = [0,1]\n",
    "    if (dρdσ(1.,x,φ,μ,μbar)<0) and (dρdσ(θ,x,φ,μ,μbar)>0):\n",
    "        σstar = fsolve(dρdσ,.8,args=(x,φ,μ,μbar,))[0]\n",
    "    else:\n",
    "        σstar = 1.;\n",
    "    if ρf(x,φ,σstar,μ,μbar) < ρ0f(x,φ,μ,μbar):\n",
    "        sgm = 0\n",
    "    else:\n",
    "        sgm = σstar\n",
    "    return [dxdτ(x,φ,sgm,μ,μbar),dφdτ(x,φ,sgm,μ,μbar),dVdτ(x,sgm),dδρdτ(x,φ,σstar,μ,μbar)]\n",
    "def σstarf(x,φ,μ,μbar):\n",
    "    if (dρdσ(1.,x,φ,μ,μbar)<0) and (dρdσ(θ,x,φ,μ,μbar)>0):\n",
    "        σstar = fsolve(dρdσ,.8,args=(x,φ,μ,μbar,))[0]\n",
    "    else:\n",
    "        σstar = 1.;\n",
    "    if ρf(x,φ,σstar,μ,μbar) < ρ0f(x,φ,μ,μbar):\n",
    "        sgm = 0\n",
    "    else:\n",
    "        sgm = σstar\n",
    "    return sgm"
   ]
  },
  {
   "cell_type": "code",
   "execution_count": 13,
   "metadata": {},
   "outputs": [],
   "source": [
    "def get_primary_field(name, experiment,μ,μbar):\n",
    "    solutions = {}\n",
    "    solver = ode(ode_rhs).set_integrator(backend)\n",
    "    τ0 = experiment['τ0']\n",
    "    tms = np.linspace(τ0,experiment['T_end'],1e3+1)\n",
    "    for x0 in experiment['x0']:\n",
    "        δρ0 = ρ0.subs(x,x0).subs(φ,0)-ρ.subs(x,x0).subs(φ,0).subs(σ,1.)\n",
    "        solver.set_initial_value([x0,0,0,δρ0],0.).set_f_params(μ,μbar)\n",
    "        sol = []; k = 0;\n",
    "        while (solver.t < experiment['T_end']) and (solver.y[0]<=1.) and (solver.y[0]>=0.):\n",
    "            solver.integrate(tms[k])\n",
    "            sol.append([solver.t]+list(solver.y))\n",
    "            k += 1\n",
    "        solutions[x0] = {'solution': sol}\n",
    "    for x0, entry in solutions.items():\n",
    "        entry['τ'] = [entry['solution'][j][0] for j in range(len(entry['solution']))]\n",
    "        entry['x'] = [entry['solution'][j][1] for j in range(len(entry['solution']))]\n",
    "        entry['φ'] = [entry['solution'][j][2] for j in range(len(entry['solution']))]\n",
    "        entry['V'] = [entry['solution'][j][3] for j in range(len(entry['solution']))]\n",
    "        entry['δρ'] = [entry['solution'][j][4] for j in range(len(entry['solution']))]\n",
    "    return solutions\n",
    "def get_δρ_value(tme,x0,μ,μbar):\n",
    "    solver = ode(ode_rhs).set_integrator(backend)\n",
    "    δρ0 = ρ0.subs(x,x0).subs(φ,0)-ρ.subs(x,x0).subs(φ,0).subs(σ,1.)\n",
    "    solver.set_initial_value([x0,0,0,δρ0],0.).set_f_params(μ,μbar)\n",
    "    while (solver.t < tme) and (solver.y[0]<=1.) and (solver.y[0]>=0.):\n",
    "        solver.integrate(tme)\n",
    "        sol = [solver.t]+list(solver.y)\n",
    "    return solver.y[3]\n",
    "def get_δρ_ending(params,μ,μbar):\n",
    "    tme, x0 = params\n",
    "    solver = ode(ode_rhs).set_integrator(backend)\n",
    "    δρ0 = ρ0.subs(x,x0).subs(φ,0)-ρ.subs(x,x0).subs(φ,0).subs(σ,1.)\n",
    "    solver.set_initial_value([x0,0,0,δρ0],0.).set_f_params(μ,μbar)\n",
    "    δτ = 1.0e-8; tms = [tme,tme+δτ]\n",
    "    _k = 0; sol = []\n",
    "    while (_k<len(tms)):# and (solver.y[0]<=1.) and (solver.y[0]>=0.):\n",
    "        solver.integrate(tms[_k])\n",
    "        sol.append(solver.y)\n",
    "        _k += 1\n",
    "    #print(sol)\n",
    "    return(sol[0][3],(sol[1][3]-sol[0][3])/δτ)\n",
    "def get_state(tme,x0,μ,μbar):\n",
    "    solver = ode(ode_rhs).set_integrator(backend)\n",
    "    δρ0 = ρ0.subs(x,x0).subs(φ,0)-ρ.subs(x,x0).subs(φ,0).subs(σ,1.)\n",
    "    solver.set_initial_value([x0,0,0,δρ0],0.).set_f_params(μ,μbar)\n",
    "    δτ = 1.0e-8; tms = [tme,tme+δτ]\n",
    "    _k = 0; sol = []\n",
    "    while (solver.t < tms[-1]) and (solver.y[0]<=1.) and (solver.y[0]>=0.):\n",
    "        solver.integrate(tms[_k])\n",
    "        sol.append(solver.y)\n",
    "        _k += 1\n",
    "    return(list(sol[0])+[(sol[1][3]-sol[0][3])/δτ])"
   ]
  },
  {
   "cell_type": "markdown",
   "metadata": {},
   "source": [
    "# Machinery for the universal line"
   ]
  },
  {
   "cell_type": "markdown",
   "metadata": {},
   "source": [
    "* To find the universal singular curve we need to define two parameters"
   ]
  },
  {
   "cell_type": "code",
   "execution_count": 14,
   "metadata": {},
   "outputs": [],
   "source": [
    "γ0 = PoissonBrackets(PoissonBrackets(H,H0),H)\n",
    "γ1 = PoissonBrackets(PoissonBrackets(H0,H),H0)"
   ]
  },
  {
   "cell_type": "markdown",
   "metadata": {},
   "source": [
    "* The dynamics"
   ]
  },
  {
   "cell_type": "code",
   "execution_count": 15,
   "metadata": {},
   "outputs": [],
   "source": [
    "dxdτSingExpr = -(γ0*diff(H0,φ)+γ1*diff(H,φ))/(γ0+γ1)\n",
    "dφdτSingExpr = (γ0*diff(H0,x)+γ1*diff(H,x))/(γ0+γ1)\n",
    "dVdτSingExpr = (γ0*h0+γ1*h)/(γ0+γ1)\n",
    "σSingExpr = γ1*σ/(γ0+γ1)"
   ]
  },
  {
   "cell_type": "markdown",
   "metadata": {},
   "source": [
    "* Machinery for Python: lambdify the functions above"
   ]
  },
  {
   "cell_type": "code",
   "execution_count": 16,
   "metadata": {},
   "outputs": [],
   "source": [
    "dxdτSing = lambdify((x,φ,σ,μ,μbar),dxdτSingExpr)\n",
    "dφdτSing = lambdify((x,φ,σ,μ,μbar),dφdτSingExpr)\n",
    "dVdτSing = lambdify((x,φ,σ,μ,μbar),dVdτSingExpr)\n",
    "σSing = lambdify((x,φ,σ,μ,μbar),σSingExpr)"
   ]
  },
  {
   "cell_type": "code",
   "execution_count": 17,
   "metadata": {},
   "outputs": [],
   "source": [
    "def ode_rhs_Sing(t,state,μ,μbar):\n",
    "    x, φ, V = state\n",
    "    if (dρdσ(1.,x,φ,μ,μbar)<0) and (dρdσ(θ,x,φ,μ,μbar)>0):\n",
    "        σstar = fsolve(dρdσ,.8,args=(x,φ,μ,μbar,))[0]\n",
    "    else:\n",
    "        σstar = 1.;\n",
    "    return [dxdτSing(x,φ,σstar,μ,μbar),dφdτSing(x,φ,σstar,μ,μbar),dVdτSing(x,φ,σstar,μ,μbar)]\n",
    "def get_universal_curve(end_point,tmax,Nsteps,μ,μbar):\n",
    "    tms =  np.linspace(end_point[0],tmax,Nsteps);\n",
    "    solver = ode(ode_rhs_Sing).set_integrator(backend)\n",
    "    solver.set_initial_value(end_point[1:4],end_point[0]).set_f_params(μ,μbar)\n",
    "    _k = 0; sol = []\n",
    "    while (solver.t < tms[-1]):\n",
    "        solver.integrate(tms[_k])\n",
    "        sol.append([solver.t]+list(solver.y))\n",
    "        _k += 1\n",
    "    return sol\n",
    "def get_σ_universal(tme,end_point,μ,μbar):\n",
    "    δτ = 1.0e-8; tms = [tme,tme+δτ]\n",
    "    solver = ode(ode_rhs_Sing).set_integrator(backend)\n",
    "    solver.set_initial_value(end_point[1:4],end_point[0]).set_f_params(μ,μbar)\n",
    "    _k = 0; sol = []\n",
    "    while (solver.t < tme+δτ):\n",
    "        solver.integrate(tms[_k])\n",
    "        sol.append([solver.t]+list(solver.y))\n",
    "        _k += 1\n",
    "    x, φ = sol[0][:2]\n",
    "    sgm = fsolve(lambda σ: dxdτ(x,φ,σ,μ,μbar)-(sol[1][0]-sol[0][0])/δτ,θ/2)[0]\n",
    "    return sgm\n",
    "def get_state_universal(tme,end_point,μ,μbar):\n",
    "    solver = ode(ode_rhs_Sing).set_integrator(backend)\n",
    "    solver.set_initial_value(end_point[1:4],end_point[0]).set_f_params(μ,μbar)\n",
    "    solver.integrate(tme)\n",
    "    return [solver.t]+list(solver.y)"
   ]
  },
  {
   "cell_type": "code",
   "execution_count": 18,
   "metadata": {},
   "outputs": [],
   "source": [
    "def ode_rhs_with_σstar(t,state,μ,μbar):\n",
    "    x, φ, V = state\n",
    "    if (dρdσ(1.,x,φ,μ,μbar)<0) and (dρdσ(θ,x,φ,μ,μbar)>0):\n",
    "        σ = fsolve(dρdσ,.8,args=(x,φ,μ,μbar,))[0]\n",
    "    else:\n",
    "        σ = 1.;\n",
    "    return [dxdτ(x,φ,σ,μ,μbar),dφdτ(x,φ,σ,μ,μbar),dVdτ(x,σ)]\n",
    "def ode_rhs_with_given_σ(t,state,σ,μ,μbar):\n",
    "    x, φ, V = state\n",
    "    return [dxdτ(x,φ,σ,μ,μbar),dφdτ(x,φ,σ,μ,μbar),dVdτ(x,σ)]\n",
    "def get_trajectory_with_σstar(starting_point,tmax,Nsteps,μ,μbar):\n",
    "    tms = np.linspace(starting_point[0],tmax,Nsteps)\n",
    "    solver = ode(ode_rhs_with_σstar).set_integrator(backend)\n",
    "    solver.set_initial_value(starting_point[1:],starting_point[0]).set_f_params(μ,μbar)\n",
    "    sol = []; _k = 0;\n",
    "    while solver.t < max(tms) and (solver.y[0]<=1.) and (solver.y[0]>=0.):\n",
    "        solver.integrate(tms[_k])\n",
    "        sol.append([solver.t]+list(solver.y))\n",
    "        _k += 1\n",
    "    return sol\n",
    "def get_trajectory_with_given_σ(starting_point,tmax,Nsteps,σ,μ,μbar):\n",
    "    tms = np.linspace(starting_point[0],tmax,100)\n",
    "    solver = ode(ode_rhs_with_given_σ).set_integrator(backend)\n",
    "    solver.set_initial_value(starting_point[1:],starting_point[0]).set_f_params(σ,μ,μbar)\n",
    "    sol = []; _k = 0;\n",
    "    while solver.t < max(tms) and (solver.y[0]<=1.) and (solver.y[0]>=0.):\n",
    "        solver.integrate(tms[_k])\n",
    "        sol.append([solver.t]+list(solver.y))\n",
    "        _k += 1\n",
    "    return sol\n",
    "def get_state_with_σstar(tme,starting_point,μ,μbar):\n",
    "    solver = ode(ode_rhs_with_σstar).set_integrator(backend)\n",
    "    solver.set_initial_value(starting_point[1:4],starting_point[0]).set_f_params(μ,μbar)\n",
    "    solver.integrate(tme)\n",
    "    return [solver.t]+list(solver.y)\n",
    "def get_finalizing_point_from_universal_curve(tme,tmx,end_point,μ,μbar):\n",
    "    unv_point = get_state_universal(tme,end_point,μ,μbar)\n",
    "    return get_state_with_σstar(tmx,unv_point,μ,μbar)[1]"
   ]
  },
  {
   "cell_type": "markdown",
   "metadata": {},
   "source": [
    "# Field of optimal trajectories as the solution of the Bellman equation\n",
    "\n",
    "* μ & μbar are varied by *T* and *T*bar ($\\mu=1/T$ and $\\bar\\mu=1/\\bar{T}$)"
   ]
  },
  {
   "cell_type": "code",
   "execution_count": 19,
   "metadata": {},
   "outputs": [
    {
     "name": "stdout",
     "output_type": "stream",
     "text": [
      "Parameters: μ = 0.06691, μbar = 0.03498\n",
      "Ending point for the switching line: τ = 16.0 days, x = 67.6%\n",
      "Checking the solution - should give zero values: \n",
      "(9.535572930086588e-16, 1.836815483368039e-16)\n",
      "* Constructing the primary field\n",
      "* Constructing the switching curve\n",
      "* Constructing the universal curve\n",
      "* Finding the last characteristic\n",
      "The last point on the universal line:\n",
      "[162.75569484901806, 0.6758507987530668, -0.33150647095997365, 1.0042562314176555]\n",
      "Final state:\n",
      "[180.0, -4.990313717812e-13, -0.5827734501478564, 1.4160717330481958]\n",
      "Fold-change in tumor size: 1.51\n"
     ]
    },
    {
     "data": {
      "image/png": "[encoded data removed]",
      "text/plain": [
       "<Figure size 486x288 with 1 Axes>"
      ]
     },
     "metadata": {
      "needs_background": "light"
     },
     "output_type": "display_data"
    },
    {
     "name": "stdout",
     "output_type": "stream",
     "text": [
      "\n"
     ]
    }
   ],
   "source": [
    "tmx = 180 #six months\n",
    "end_switching_curve = {'t': 24., 'x': .9/.8} \n",
    "end_switching_curve = {'t': 25.797553399746018, 'x': 0.9572}\n",
    "# for Τ, Τbar in zip([28]*5,[14,21,28,35,60]):\n",
    "for Τ, Τbar in zip([14.94572081],[28.58943701]):\n",
    "    μ = 1./Τ; μbar = 1./Τbar\n",
    "    print(\"Parameters: μ = %.5f, μbar = %.5f\"%(μ,μbar))\n",
    "    end_switching_curve['t'], end_switching_curve['x'] = fsolve(get_δρ_ending,(end_switching_curve['t'],end_switching_curve['x']),args=(μ,μbar),xtol=1.0e-12)\n",
    "    end_point = [end_switching_curve['t']]+get_state(end_switching_curve['t'],end_switching_curve['x'],μ,μbar)\n",
    "    print(\"Ending point for the switching line: τ = %.1f days, x = %.1f%%\" % (end_point[0], end_point[1]*100))\n",
    "    print(\"Checking the solution - should give zero values: \")\n",
    "    print(get_δρ_ending([end_switching_curve['t'],end_switching_curve['x']],μ,μbar))\n",
    "    print(\"* Constructing the primary field\")\n",
    "    experiments = {\n",
    "        'sol1': { 'T_end': tmx, 'τ0': 0., 'x0': list(np.linspace(0,end_switching_curve['x']-(1e-3),10))+\n",
    "                 list(np.linspace(end_switching_curve['x']+(1e-6),1.,10)) } }\n",
    "    primary_field = []\n",
    "    for name, values in experiments.items():\n",
    "        primary_field.append(get_primary_field(name,values,μ,μbar))\n",
    "    print(\"* Constructing the switching curve\")\n",
    "    switching_curve = []\n",
    "    x0s = np.linspace(end_switching_curve['x'],1,21); _y = end_switching_curve['t']\n",
    "    \n",
    "    for x0 in x0s:\n",
    "        tme = fsolve(get_δρ_value,_y,args=(x0,μ,μbar))[0]\n",
    "        if (tme>0):\n",
    "            switching_curve = switching_curve+[[tme,get_state(tme,x0,μ,μbar)[0]]]\n",
    "            _y = tme\n",
    "    print(\"* Constructing the universal curve\")\n",
    "    universal_curve = get_universal_curve(end_point,tmx,25,μ,μbar)\n",
    "    print(\"* Finding the last characteristic\")\n",
    "    #time0 = time.time()\n",
    "    tuniv = fsolve(get_finalizing_point_from_universal_curve,tmx-40.,args=(tmx,end_point,μ,μbar,))[0]\n",
    "    #print(\"The proccess to find the last characteristic took %0.1f minutes\" % ((time.time()-time0)/60.))\n",
    "    univ_point = get_state_universal(tuniv,end_point,μ,μbar)\n",
    "    print(\"The last point on the universal line:\")\n",
    "    print(univ_point)\n",
    "    last_trajectory = get_trajectory_with_σstar(univ_point,tmx,50,μ,μbar)\n",
    "    print(\"Final state:\")\n",
    "    final_state = get_state_with_σstar(tmx,univ_point,μ,μbar)\n",
    "    print(final_state)\n",
    "    print(\"Fold-change in tumor size: %.2f\"%(exp((b-d)*tmx-final_state[-1])))\n",
    "    # Plotting\n",
    "    plt.rcParams['figure.figsize'] = (6.75, 4)\n",
    "    _k = 0\n",
    "    for solutions in primary_field:\n",
    "        for x0, entry in solutions.items():\n",
    "            plt.plot(entry['τ'], entry['x'], 'k-', linewidth=.9, color=clrs[_k%palette_size])\n",
    "            _k += 1\n",
    "    plt.plot([x[0] for x in switching_curve],[x[1] for x in switching_curve],linewidth=2,color=\"red\")\n",
    "    plt.plot([end_point[0]],[end_point[1]],marker='o',color=\"red\")\n",
    "    plt.plot([x[0] for x in universal_curve],[x[1] for x in universal_curve],linewidth=2,color=\"red\")\n",
    "    plt.plot([x[0] for x in last_trajectory],[x[1] for x in last_trajectory],linewidth=.9,color=\"black\")\n",
    "    plt.xlim([0,tmx]); plt.ylim([0,1]);\n",
    "    plt.xlabel(\"time, days\"); plt.ylabel(\"fraction of resistant cells\")\n",
    "    plt.show()\n",
    "    print()"
   ]
  },
  {
   "cell_type": "code",
   "execution_count": null,
   "metadata": {
    "scrolled": true
   },
   "outputs": [
    {
     "name": "stdout",
     "output_type": "stream",
     "text": [
      "* Parameters: T = 90.0, Tbar = 90.0 (μ = 0.01111, μbar = 0.01111)\n",
      "Ending point: t = 44.73, x = 90.03%  Checking the solution: (-2.1682109433011283e-08, -4.600184188118984e-08)\n",
      "tuniv = 131.44 xuniv = 60.58%  Checking the solution:  2.3177432195709002e-12\n",
      "Fold-change in tumor size: 0.70\n",
      "* Parameters: T = 90.0, Tbar = 88.0 (μ = 0.01111, μbar = 0.01136)\n",
      "Ending point: t = 44.56, x = 89.84%  Checking the solution: (-3.80414854100257e-09, -4.488640834662454e-09)\n",
      "tuniv = 131.63 xuniv = 60.29%  Checking the solution:  -6.932364404743652e-12\n",
      "Fold-change in tumor size: 0.70\n",
      "* Parameters: T = 90.0, Tbar = 86.0 (μ = 0.01111, μbar = 0.01163)\n",
      "! Trying again... Convergence is not sufficient\n",
      "Ending point: t = 44.41, x = 89.65%  Checking the solution: (-2.2947960675529675e-08, -6.200245770571261e-09)\n",
      "tuniv = 131.86 xuniv = 59.96%  Checking the solution:  4.0729433714581376e-12\n",
      "Fold-change in tumor size: 0.69\n",
      "* Parameters: T = 90.0, Tbar = 84.0 (μ = 0.01111, μbar = 0.01190)\n",
      "Ending point: t = 44.25, x = 89.44%  Checking the solution: (6.78962535337075e-14, -3.6781706245873534e-15)\n",
      "tuniv = 132.09 xuniv = 59.63%  Checking the solution:  -1.160752050033409e-12\n",
      "Fold-change in tumor size: 0.69\n",
      "* Parameters: T = 90.0, Tbar = 82.0 (μ = 0.01111, μbar = 0.01220)\n",
      "Ending point: t = 44.09, x = 89.23%  Checking the solution: (-2.0346671599619746e-13, -1.5942588846139017e-13)\n",
      "tuniv = 132.34 xuniv = 59.29%  Checking the solution:  1.3368334217389588e-12\n",
      "Fold-change in tumor size: 0.68\n",
      "* Parameters: T = 90.0, Tbar = 80.0 (μ = 0.01111, μbar = 0.01250)\n",
      "Ending point: t = 43.92, x = 89.01%  Checking the solution: (-1.2081278191126543e-13, -1.0050062688966723e-14)\n",
      "tuniv = 132.58 xuniv = 58.94%  Checking the solution:  -1.4001300119304005e-13\n",
      "Fold-change in tumor size: 0.67\n",
      "* Parameters: T = 90.0, Tbar = 78.0 (μ = 0.01111, μbar = 0.01282)\n",
      "Ending point: t = 43.75, x = 88.78%  Checking the solution: (-3.30178518575531e-08, -6.669288610752105e-09)\n",
      "tuniv = 132.84 xuniv = 58.58%  Checking the solution:  2.9038854654217516e-12\n",
      "Fold-change in tumor size: 0.67\n",
      "* Parameters: T = 90.0, Tbar = 76.0 (μ = 0.01111, μbar = 0.01316)\n",
      "Ending point: t = 43.57, x = 88.54%  Checking the solution: (4.8721927202097486e-14, 3.814410058362643e-15)\n",
      "tuniv = 133.09 xuniv = 58.21%  Checking the solution:  -7.890114950281912e-11\n",
      "Fold-change in tumor size: 0.66\n",
      "* Parameters: T = 90.0, Tbar = 74.0 (μ = 0.01111, μbar = 0.01351)\n",
      "! Trying again... Convergence is not sufficient\n",
      "Ending point: t = 43.58, x = 88.29%  Checking the solution: (-7.014793266638745e-08, -5.801930869700421e-07)\n",
      "tuniv = 133.80 xuniv = 57.44%  Checking the solution:  -7.289113757025234e-12\n",
      "Fold-change in tumor size: 0.65\n",
      "* Parameters: T = 90.0, Tbar = 72.0 (μ = 0.01111, μbar = 0.01389)\n",
      "Ending point: t = 43.27, x = 88.03%  Checking the solution: (-2.225207387090221e-08, -1.7579554787550693e-07)\n",
      "tuniv = 133.75 xuniv = 57.33%  Checking the solution:  2.2974504243489235e-11\n",
      "Fold-change in tumor size: 0.64\n",
      "* Parameters: T = 90.0, Tbar = 70.0 (μ = 0.01111, μbar = 0.01429)\n",
      "! Trying again... Convergence is not sufficient\n",
      "! Trying again... Convergence is not sufficient\n",
      "Ending point: t = 43.03, x = 87.75%  Checking the solution: (-2.7224843478885052e-08, -4.537945265945922e-09)\n",
      "tuniv = 133.89 xuniv = 57.04%  Checking the solution:  -1.225824997064251e-12\n",
      "Fold-change in tumor size: 0.64\n",
      "* Parameters: T = 90.0, Tbar = 68.0 (μ = 0.01111, μbar = 0.01471)\n",
      "Ending point: t = 42.83, x = 87.46%  Checking the solution: (-8.863403412639245e-14, -1.241287982443034e-13)\n",
      "tuniv = 134.16 xuniv = 56.63%  Checking the solution:  -8.049554078848331e-12\n",
      "Fold-change in tumor size: 0.63\n",
      "* Parameters: T = 90.0, Tbar = 66.0 (μ = 0.01111, μbar = 0.01515)\n",
      "Ending point: t = 42.64, x = 87.16%  Checking the solution: (-1.937680965035891e-08, -2.0792260362188915e-08)\n",
      "tuniv = 134.46 xuniv = 56.20%  Checking the solution:  2.006381172314775e-12\n",
      "Fold-change in tumor size: 0.62\n",
      "* Parameters: T = 90.0, Tbar = 64.0 (μ = 0.01111, μbar = 0.01562)\n",
      "! Trying again... Convergence is not sufficient\n",
      "Ending point: t = 42.44, x = 86.84%  Checking the solution: (-2.753999986934421e-08, -7.105498799536147e-08)\n",
      "tuniv = 134.78 xuniv = 55.73%  Checking the solution:  -4.9998061246725456e-12\n",
      "Fold-change in tumor size: 0.61\n",
      "* Parameters: T = 90.0, Tbar = 62.0 (μ = 0.01111, μbar = 0.01613)\n",
      "Ending point: t = 42.27, x = 86.50%  Checking the solution: (-3.1063584658547876e-07, -2.0291857980020553e-07)\n",
      "tuniv = 135.16 xuniv = 55.21%  Checking the solution:  -5.2873322040070114e-12\n",
      "Fold-change in tumor size: 0.60\n",
      "* Parameters: T = 90.0, Tbar = 60.0 (μ = 0.01111, μbar = 0.01667)\n",
      "! Trying again... The iteration is not making good progress, as measured by the \n",
      "  improvement from the last five Jacobian evaluations.\n",
      "Ending point: t = 42.06, x = 86.15%  Checking the solution: (-2.7677961733446685e-07, -2.647640975209152e-07)\n",
      "tuniv = 135.50 xuniv = 54.71%  Checking the solution:  8.080203173221889e-13\n",
      "Fold-change in tumor size: 0.59\n",
      "* Parameters: T = 90.0, Tbar = 58.0 (μ = 0.01111, μbar = 0.01724)\n",
      "Ending point: t = 41.80, x = 85.77%  Checking the solution: (-2.0456022111014788e-07, -1.0212821299437316e-07)\n",
      "tuniv = 135.70 xuniv = 54.33%  Checking the solution:  1.2312831310090644e-11\n",
      "Fold-change in tumor size: 0.58\n",
      "* Parameters: T = 90.0, Tbar = 56.0 (μ = 0.01111, μbar = 0.01786)\n",
      "Ending point: t = 41.74, x = 85.38%  Checking the solution: (-3.074408458379433e-07, -9.22713017044823e-07)\n",
      "tuniv = 136.52 xuniv = 53.40%  Checking the solution:  -3.277170201876345e-13\n",
      "Fold-change in tumor size: 0.57\n",
      "* Parameters: T = 90.0, Tbar = 54.0 (μ = 0.01111, μbar = 0.01852)\n",
      "Ending point: t = 41.40, x = 84.96%  Checking the solution: (-2.4517547215775953e-07, -4.59558831969608e-07)\n",
      "tuniv = 136.55 xuniv = 53.14%  Checking the solution:  -5.98437965848575e-13\n",
      "Fold-change in tumor size: 0.56\n",
      "* Parameters: T = 90.0, Tbar = 52.0 (μ = 0.01111, μbar = 0.01923)\n",
      "Ending point: t = 41.08, x = 84.51%  Checking the solution: (-2.0220612387515214e-07, -1.3957881125724455e-07)\n",
      "tuniv = 136.69 xuniv = 52.78%  Checking the solution:  2.0762176700106494e-12\n",
      "Fold-change in tumor size: 0.55\n",
      "* Parameters: T = 90.0, Tbar = 50.0 (μ = 0.01111, μbar = 0.02000)\n",
      "Ending point: t = 40.92, x = 84.04%  Checking the solution: (-1.9169588571755907e-07, -6.355886817314708e-07)\n",
      "tuniv = 137.31 xuniv = 51.99%  Checking the solution:  -3.437528039995641e-14\n",
      "Fold-change in tumor size: 0.54\n",
      "* Parameters: T = 90.0, Tbar = 48.0 (μ = 0.01111, μbar = 0.02083)\n",
      "Ending point: t = 40.53, x = 83.54%  Checking the solution: (-9.150208408405164e-08, -1.6712728996424775e-08)\n",
      "tuniv = 137.31 xuniv = 51.72%  Checking the solution:  1.7985439526579938e-11\n",
      "Fold-change in tumor size: 0.52\n",
      "* Parameters: T = 90.0, Tbar = 46.0 (μ = 0.01111, μbar = 0.02174)\n",
      "Ending point: t = 40.23, x = 83.00%  Checking the solution: (-6.251897313584867e-08, 1.565061903139044e-07)\n",
      "tuniv = 137.58 xuniv = 51.21%  Checking the solution:  1.1288192602876279e-13\n",
      "Fold-change in tumor size: 0.51\n",
      "* Parameters: T = 90.0, Tbar = 44.0 (μ = 0.01111, μbar = 0.02273)\n",
      "Ending point: t = 39.97, x = 82.42%  Checking the solution: (-5.634789992953311e-09, -2.975367505300383e-09)\n",
      "tuniv = 138.04 xuniv = 50.52%  Checking the solution:  -6.639758187709788e-13\n",
      "Fold-change in tumor size: 0.50\n",
      "* Parameters: T = 90.0, Tbar = 42.0 (μ = 0.01111, μbar = 0.02381)\n",
      "Ending point: t = 39.67, x = 81.80%  Checking the solution: (-1.82972347261565e-14, 7.528188286489863e-15)\n",
      "tuniv = 138.42 xuniv = 49.87%  Checking the solution:  4.2908315789347284e-12\n",
      "Fold-change in tumor size: 0.48\n",
      "* Parameters: T = 90.0, Tbar = 40.0 (μ = 0.01111, μbar = 0.02500)\n",
      "Ending point: t = 39.36, x = 81.13%  Checking the solution: (-1.4299961522461972e-13, -4.102628278694192e-14)\n",
      "tuniv = 138.81 xuniv = 49.20%  Checking the solution:  -2.4607147916522187e-12\n",
      "Fold-change in tumor size: 0.47\n",
      "* Parameters: T = 90.0, Tbar = 38.0 (μ = 0.01111, μbar = 0.02632)\n",
      "Ending point: t = 39.04, x = 80.41%  Checking the solution: (3.0367551463912623e-13, -3.7032579159863196e-14)\n",
      "tuniv = 139.22 xuniv = 48.50%  Checking the solution:  9.26665688627537e-12\n",
      "Fold-change in tumor size: 0.45\n",
      "* Parameters: T = 90.0, Tbar = 36.0 (μ = 0.01111, μbar = 0.02778)\n",
      "! Trying again... The iteration is not making good progress, as measured by the \n",
      "  improvement from the last five Jacobian evaluations.\n"
     ]
    },
    {
     "name": "stdout",
     "output_type": "stream",
     "text": [
      "Ending point: t = 38.73, x = 79.63%  Checking the solution: (-1.7287265906931747e-07, -1.2401903571535375e-07)\n",
      "tuniv = 139.70 xuniv = 47.71%  Checking the solution:  5.6621589361594005e-11\n",
      "Fold-change in tumor size: 0.44\n",
      "* Parameters: T = 90.0, Tbar = 34.0 (μ = 0.01111, μbar = 0.02941)\n",
      "! Trying again... Convergence is not sufficient\n",
      "Ending point: t = 38.36, x = 78.77%  Checking the solution: (-2.733757977784639e-07, -2.2573009821809397e-08)\n",
      "tuniv = 140.09 xuniv = 46.97%  Checking the solution:  3.685170224532186e-12\n",
      "Fold-change in tumor size: 0.42\n",
      "* Parameters: T = 90.0, Tbar = 32.0 (μ = 0.01111, μbar = 0.03125)\n",
      "Ending point: t = 38.06, x = 77.84%  Checking the solution: (-5.8923530803453944e-08, -5.918673086394072e-07)\n",
      "tuniv = 140.78 xuniv = 45.97%  Checking the solution:  -1.5056053626061328e-11\n",
      "Fold-change in tumor size: 0.40\n",
      "* Parameters: T = 90.0, Tbar = 30.0 (μ = 0.01111, μbar = 0.03333)\n",
      "Ending point: t = 37.61, x = 76.82%  Checking the solution: (1.730027626961183e-13, -2.0246625809492872e-13)\n",
      "tuniv = 141.00 xuniv = 45.30%  Checking the solution:  5.140601139208556e-11\n",
      "Fold-change in tumor size: 0.38\n",
      "* Parameters: T = 90.0, Tbar = 28.0 (μ = 0.01111, μbar = 0.03571)\n",
      "Ending point: t = 37.25, x = 75.69%  Checking the solution: (-2.795878380910382e-07, -3.139884696324891e-07)\n",
      "tuniv = 141.61 xuniv = 44.28%  Checking the solution:  -5.068515052109035e-12\n",
      "Fold-change in tumor size: 0.36\n",
      "* Parameters: T = 90.0, Tbar = 26.0 (μ = 0.01111, μbar = 0.03846)\n",
      "! Trying again... Convergence is not sufficient\n",
      "! Trying again... The iteration is not making good progress, as measured by the \n",
      "  improvement from the last ten iterations.\n",
      "! Trying again... The iteration is not making good progress, as measured by the \n",
      "  improvement from the last five Jacobian evaluations.\n",
      "Ending point: t = 36.79, x = 74.44%  Checking the solution: (5.992783309524685e-13, 4.2541973624507156e-14)\n",
      "tuniv = 142.00 xuniv = 43.40%  Checking the solution:  9.096196018631986e-13\n",
      "Fold-change in tumor size: 0.34\n",
      "* Parameters: T = 90.0, Tbar = 24.0 (μ = 0.01111, μbar = 0.04167)\n",
      "Ending point: t = 36.35, x = 73.04%  Checking the solution: (-4.677520889606428e-12, -3.630679885428502e-13)\n",
      "tuniv = 142.53 xuniv = 42.35%  Checking the solution:  3.836493622788595e-12\n",
      "Fold-change in tumor size: 0.31\n",
      "* Parameters: T = 90.0, Tbar = 22.0 (μ = 0.01111, μbar = 0.04545)\n",
      "! Trying again... The iteration is not making good progress, as measured by the \n",
      "  improvement from the last ten iterations.\n",
      "Ending point: t = 35.90, x = 71.47%  Checking the solution: (-1.8358279940103664e-07, 3.4465982382014294e-09)\n",
      "tuniv = 143.08 xuniv = 41.23%  Checking the solution:  2.543576460567465e-12\n",
      "Fold-change in tumor size: 0.29\n",
      "* Parameters: T = 90.0, Tbar = 20.0 (μ = 0.01111, μbar = 0.05000)\n",
      "! Trying again... The iteration is not making good progress, as measured by the \n",
      "  improvement from the last ten iterations.\n",
      "! Trying again... Convergence is not sufficient\n",
      "! Trying again... The iteration is not making good progress, as measured by the \n",
      "  improvement from the last ten iterations.\n",
      "! Trying again... The iteration is not making good progress, as measured by the \n",
      "  improvement from the last five Jacobian evaluations.\n",
      "Ending point: t = 35.45, x = 69.68%  Checking the solution: (-2.0310706921403414e-07, -5.145558553777061e-07)\n",
      "tuniv = 143.82 xuniv = 39.89%  Checking the solution:  -2.0087681518177192e-11\n",
      "Fold-change in tumor size: 0.27\n",
      "* Parameters: T = 90.0, Tbar = 18.0 (μ = 0.01111, μbar = 0.05556)\n",
      "! Trying again... The iteration is not making good progress, as measured by the \n",
      "  improvement from the last ten iterations.\n",
      "! Trying again... The iteration is not making good progress, as measured by the \n",
      "  improvement from the last five Jacobian evaluations.\n",
      "Ending point: t = 34.96, x = 67.63%  Checking the solution: (-7.47023631191823e-08, -7.243546720502215e-07)\n",
      "tuniv = 144.46 xuniv = 38.53%  Checking the solution:  4.0591141559076505e-12\n",
      "Fold-change in tumor size: 0.24\n",
      "* Parameters: T = 90.0, Tbar = 16.0 (μ = 0.01111, μbar = 0.06250)\n",
      "Ending point: t = 34.39, x = 65.25%  Checking the solution: (1.6872464837498595e-11, -3.018151672480705e-12)\n",
      "tuniv = 144.86 xuniv = 37.23%  Checking the solution:  9.479431128944782e-12\n",
      "Fold-change in tumor size: 0.21\n",
      "* Parameters: T = 90.0, Tbar = 14.0 (μ = 0.01111, μbar = 0.07143)\n",
      "Ending point: t = 33.88, x = 62.44%  Checking the solution: (-9.88042540064351e-08, -1.9059002451734204e-07)\n",
      "tuniv = 145.52 xuniv = 35.58%  Checking the solution:  2.143639432627964e-12\n",
      "Fold-change in tumor size: 0.18\n",
      "* Parameters: T = 90.0, Tbar = 12.0 (μ = 0.01111, μbar = 0.08333)\n",
      "Ending point: t = 33.41, x = 59.08%  Checking the solution: (-7.021116667545185e-08, -7.444620404309786e-07)\n",
      "tuniv = 146.26 xuniv = 33.69%  Checking the solution:  -7.880848751362635e-13\n",
      "Fold-change in tumor size: 0.15\n",
      "* Parameters: T = 90.0, Tbar = 10.0 (μ = 0.01111, μbar = 0.10000)\n",
      "Ending point: t = 32.95, x = 54.95%  Checking the solution: (-6.181493137162304e-08, -2.2859023731339613e-08)\n",
      "tuniv = 146.58 xuniv = 31.72%  Checking the solution:  1.4051260155412137e-16\n",
      "Fold-change in tumor size: 0.12\n",
      "* Parameters: T = 90.0, Tbar = 8.0 (μ = 0.01111, μbar = 0.12500)\n",
      "! Trying again... The iteration is not making good progress, as measured by the \n",
      "  improvement from the last ten iterations.\n",
      "! Trying again... Convergence is not sufficient\n",
      "! Trying again... Convergence is not sufficient\n",
      "! Trying again... Convergence is not sufficient\n",
      "! Trying again... Convergence is not sufficient\n",
      "! Trying again... Convergence is not sufficient\n",
      "! Trying again... Convergence is not sufficient\n",
      "! Trying again... Convergence is not sufficient\n",
      "! Trying again... The iteration is not making good progress, as measured by the \n",
      "  improvement from the last five Jacobian evaluations.\n",
      "! Trying again... The iteration is not making good progress, as measured by the \n",
      "  improvement from the last five Jacobian evaluations.\n",
      "! Trying again... Convergence is not sufficient\n",
      "! Trying again... Convergence is not sufficient\n",
      "! Trying again... The iteration is not making good progress, as measured by the \n",
      "  improvement from the last ten iterations.\n",
      "Ending point: t = 32.80, x = 49.73%  Checking the solution: (-5.498979910676428e-07, 2.0149007991048483e-09)\n",
      "tuniv = 146.82 xuniv = 29.29%  Checking the solution:  2.0626264585210663e-11\n",
      "Fold-change in tumor size: 0.09\n",
      "* Parameters: T = 90.0, Tbar = 6.0 (μ = 0.01111, μbar = 0.16667)\n",
      "Ending point: t = 33.56, x = 42.84%  Checking the solution: (8.194420035788375e-11, 1.1515625916929946e-11)\n",
      "tuniv = 146.15 xuniv = 26.34%  Checking the solution:  -1.7581908151598213e-12\n",
      "Fold-change in tumor size: 0.06\n",
      "* Parameters: T = 90.0, Tbar = 4.0 (μ = 0.01111, μbar = 0.25000)\n",
      "Ending point: t = 40.28, x = 33.10%  Checking the solution: (-4.775577269618386e-11, -3.985914538193961e-12)\n",
      "tuniv = 139.53 xuniv = 22.53%  Checking the solution:  2.6076363290883364e-14\n",
      "Fold-change in tumor size: 0.04\n",
      "* Parameters: T = 88.0, Tbar = 90.0 (μ = 0.01136, μbar = 0.01111)\n",
      "Ending point: t = 44.52, x = 90.09%  Checking the solution: (-4.0542057691230926e-08, -3.845652234875753e-07)\n",
      "tuniv = 132.09 xuniv = 60.60%  Checking the solution:  2.998618020555455e-11\n",
      "Fold-change in tumor size: 0.72\n",
      "* Parameters: T = 88.0, Tbar = 88.0 (μ = 0.01136, μbar = 0.01136)\n",
      "Ending point: t = 44.22, x = 89.90%  Checking the solution: (-3.604975109338613e-09, -6.30253107872972e-09)\n",
      "tuniv = 131.97 xuniv = 60.58%  Checking the solution:  -6.212599878985259e-12\n",
      "Fold-change in tumor size: 0.71\n",
      "* Parameters: T = 88.0, Tbar = 86.0 (μ = 0.01136, μbar = 0.01163)\n",
      "Ending point: t = 44.06, x = 89.71%  Checking the solution: (-1.4035381966737879e-08, 1.3981319387642819e-08)\n",
      "tuniv = 132.18 xuniv = 60.27%  Checking the solution:  4.431871536425547e-13\n",
      "Fold-change in tumor size: 0.70\n",
      "* Parameters: T = 88.0, Tbar = 84.0 (μ = 0.01136, μbar = 0.01190)\n",
      "! Trying again... Convergence is not sufficient\n",
      "Ending point: t = 43.91, x = 89.50%  Checking the solution: (-1.7332796829072237e-13, -1.3067459437969439e-14)\n",
      "tuniv = 132.43 xuniv = 59.92%  Checking the solution:  -3.335386133951346e-11\n",
      "Fold-change in tumor size: 0.70\n",
      "* Parameters: T = 88.0, Tbar = 82.0 (μ = 0.01136, μbar = 0.01220)\n",
      "Ending point: t = 43.75, x = 89.29%  Checking the solution: (-6.072436288886724e-14, -1.0577729855202886e-14)\n"
     ]
    },
    {
     "name": "stdout",
     "output_type": "stream",
     "text": [
      "tuniv = 132.67 xuniv = 59.58%  Checking the solution:  -1.0551372275902082e-11\n",
      "Fold-change in tumor size: 0.69\n",
      "* Parameters: T = 88.0, Tbar = 80.0 (μ = 0.01136, μbar = 0.01250)\n",
      "! Trying again... Convergence is not sufficient\n",
      "Ending point: t = 43.58, x = 89.07%  Checking the solution: (2.3023536270300356e-14, 1.904483774602671e-15)\n",
      "tuniv = 132.92 xuniv = 59.23%  Checking the solution:  -1.104123736883622e-12\n",
      "Fold-change in tumor size: 0.68\n",
      "* Parameters: T = 88.0, Tbar = 78.0 (μ = 0.01136, μbar = 0.01282)\n",
      "Ending point: t = 43.42, x = 88.85%  Checking the solution: (-3.292241735420688e-08, -5.681719662658515e-09)\n",
      "tuniv = 133.17 xuniv = 58.86%  Checking the solution:  -2.6852513268504907e-12\n",
      "Fold-change in tumor size: 0.68\n",
      "* Parameters: T = 88.0, Tbar = 76.0 (μ = 0.01136, μbar = 0.01316)\n",
      "Ending point: t = 43.24, x = 88.61%  Checking the solution: (3.205983697139906e-12, 4.7340418873462076e-14)\n",
      "tuniv = 133.42 xuniv = 58.50%  Checking the solution:  4.045999646429266e-13\n",
      "Fold-change in tumor size: 0.67\n",
      "* Parameters: T = 88.0, Tbar = 74.0 (μ = 0.01136, μbar = 0.01351)\n",
      "! Trying again... The iteration is not making good progress, as measured by the \n",
      "  improvement from the last ten iterations.\n",
      "Ending point: t = 43.07, x = 88.36%  Checking the solution: (-3.137978861865961e-08, -3.426339261511026e-08)\n",
      "tuniv = 133.71 xuniv = 58.10%  Checking the solution:  -1.532835663953236e-11\n",
      "Fold-change in tumor size: 0.66\n",
      "* Parameters: T = 88.0, Tbar = 72.0 (μ = 0.01136, μbar = 0.01389)\n",
      "Ending point: t = 42.91, x = 88.09%  Checking the solution: (-1.8889824820667646e-08, -9.05156543309515e-08)\n",
      "tuniv = 134.02 xuniv = 57.67%  Checking the solution:  -5.431630145658062e-11\n",
      "Fold-change in tumor size: 0.66\n",
      "* Parameters: T = 88.0, Tbar = 70.0 (μ = 0.01136, μbar = 0.01429)\n",
      "Ending point: t = 42.72, x = 87.82%  Checking the solution: (-2.2385479028003692e-08, -9.80811401958456e-08)\n",
      "tuniv = 134.29 xuniv = 57.27%  Checking the solution:  3.258469882805315e-12\n",
      "Fold-change in tumor size: 0.65\n",
      "* Parameters: T = 88.0, Tbar = 68.0 (μ = 0.01136, μbar = 0.01471)\n",
      "Ending point: t = 42.50, x = 87.53%  Checking the solution: (-1.0233559927062949e-13, -8.670363898396899e-15)\n",
      "tuniv = 134.49 xuniv = 56.92%  Checking the solution:  9.380649035328759e-12\n",
      "Fold-change in tumor size: 0.64\n",
      "* Parameters: T = 88.0, Tbar = 66.0 (μ = 0.01136, μbar = 0.01515)\n",
      "! Trying again... Convergence is not sufficient\n",
      "Ending point: t = 42.31, x = 87.23%  Checking the solution: (-1.798104789063232e-08, -3.781550535050446e-08)\n",
      "tuniv = 134.80 xuniv = 56.48%  Checking the solution:  2.3791385528326714e-13\n",
      "Fold-change in tumor size: 0.63\n",
      "* Parameters: T = 88.0, Tbar = 64.0 (μ = 0.01136, μbar = 0.01562)\n",
      "Ending point: t = 42.11, x = 86.92%  Checking the solution: (-2.807450665888856e-08, -5.139654409879899e-08)\n",
      "tuniv = 135.10 xuniv = 56.03%  Checking the solution:  -8.25157997486059e-12\n",
      "Fold-change in tumor size: 0.62\n",
      "* Parameters: T = 88.0, Tbar = 62.0 (μ = 0.01136, μbar = 0.01613)\n",
      "Ending point: t = 41.92, x = 86.58%  Checking the solution: (-3.0888031370645784e-07, -1.517602938271961e-07)\n",
      "tuniv = 135.46 xuniv = 55.53%  Checking the solution:  1.3636977300428982e-10\n",
      "Fold-change in tumor size: 0.61\n",
      "* Parameters: T = 88.0, Tbar = 60.0 (μ = 0.01136, μbar = 0.01667)\n",
      "Ending point: t = 41.70, x = 86.23%  Checking the solution: (-2.686229118662235e-07, -1.436368666982011e-07)\n",
      "tuniv = 135.75 xuniv = 55.07%  Checking the solution:  2.998559733846662e-12\n",
      "Fold-change in tumor size: 0.60\n",
      "* Parameters: T = 88.0, Tbar = 58.0 (μ = 0.01136, μbar = 0.01724)\n"
     ]
    }
   ],
   "source": [
    "File = open(\"../figures/draft/sensitivity_mu-baseline_cost.csv\", 'w')\n",
    "File.write(\"T,Tbar,mu,mubar,sw_start_x,sw_end_t,sw_end_x,univ_point_t,univ_point_x,outcome,err_sw_t,err_sw_x\\n\")\n",
    "writer = csv.writer(File,lineterminator='\\n')\n",
    "\n",
    "end_switching_curve0 = {'t': 45.48, 'x': .932}\n",
    "end_switching_curve_prev_t = end_switching_curve['t']\n",
    "tuniv = tmx-30.\n",
    "Ts = np.arange(45,1,-1); #np.arange(30,28,-2)\n",
    "Τbars = np.arange(90,1,-2) #need to change here if more\n",
    "for Τ in Ts:\n",
    "    μ = 1./Τ\n",
    "    end_switching_curve = deepcopy(end_switching_curve0)\n",
    "    for Τbar in Τbars:\n",
    "        μbar = 1./Τbar\n",
    "        print(\"* Parameters: T = %.1f, Tbar = %.1f (μ = %.5f, μbar = %.5f)\"%(Τ,Τbar,μ,μbar))\n",
    "        success = False; err = 1.\n",
    "        while (not success)|(norm(err)>1e-6):\n",
    "            end_switching_curve = {'t': 2*end_switching_curve['t']-end_switching_curve_prev_t-.001, \n",
    "                                   'x': end_switching_curve['x']-0.002} \n",
    "            sol = root(get_δρ_ending,(end_switching_curve['t'],end_switching_curve['x']),args=(μ,μbar))\n",
    "            end_switching_curve_prev_t = end_switching_curve['t']\n",
    "            end_switching_curve_prev_x = end_switching_curve['x']\n",
    "            end_switching_curve['t'], end_switching_curve['x'] = sol.x \n",
    "            success = sol.success\n",
    "            err = get_δρ_ending([end_switching_curve['t'],end_switching_curve['x']],μ,μbar)\n",
    "            if (not success): \n",
    "                print(\"! Trying again...\", sol.message)\n",
    "            elif (norm(err)>1e-6):\n",
    "                print(\"! Trying again... Convergence is not sufficient\")       \n",
    "        else:\n",
    "            end_point = [end_switching_curve['t']]+get_state(end_switching_curve['t'],end_switching_curve['x'],μ,μbar)\n",
    "            print(\"Ending point: t = %.2f, x = %.2f%%\"%(end_switching_curve['t'],100*end_switching_curve['x']),\" Checking the solution:\",err)\n",
    "            universal_curve = get_universal_curve(end_point,tmx,25,μ,μbar)\n",
    "            tuniv = root(get_finalizing_point_from_universal_curve,tuniv,args=(tmx,end_point,μ,μbar)).x\n",
    "            err_tuniv = get_finalizing_point_from_universal_curve(tuniv,tmx,end_point,μ,μbar)\n",
    "            univ_point = get_state_universal(tuniv,end_point,μ,μbar)\n",
    "            print(\"tuniv = %.2f\"%tuniv,\"xuniv = %.2f%%\"%(100*univ_point[1]),\" Checking the solution: \",err_tuniv)\n",
    "            final_state = get_state_with_σstar(tmx,univ_point,μ,μbar)\n",
    "            outcome = exp((b-d)*tmx-final_state[-1])\n",
    "            print(\"Fold-change in tumor size: %.2f\"%(outcome))\n",
    "            output = [Τ,Τbar,μ,μbar,end_switching_curve['x'],end_point[0],end_point[1]]+list(univ_point[0:2])+[outcome]+list(err)+[err_tuniv]\n",
    "            writer.writerow(output)\n",
    "        if (Τbar==Τ):\n",
    "            end_switching_curve0 = deepcopy(end_switching_curve) \n",
    "\n",
    "File.close()"
   ]
  },
  {
   "cell_type": "markdown",
   "metadata": {},
   "source": [
    "* Here I investigate the dependence of $\\mathrm{FoldChange}(T,\\bar T)$. I fix $T$ at 15,30,45,60 days, and then I vary $\\bar T$ between zero and $4T$. The example below is just a simulation for only one given value of $T$.  "
   ]
  },
  {
   "cell_type": "code",
   "execution_count": null,
   "metadata": {
    "scrolled": true
   },
   "outputs": [],
   "source": [
    "from numpy.linalg import norm\n",
    "File = open(\"../results/sensitivity1.csv\", 'w')\n",
    "File.write(\"T,Tbar,mu,mubar,sw_end_t,sw_end_x,univ_point_t,univ_point_x,outcome,err_sw_t,err_sw_x\\n\")\n",
    "writer = csv.writer(File,lineterminator='\\n')\n",
    "\n",
    "end_switching_curve = {'t': 23.36, 'x': .9592}\n",
    "end_switching_curve_prev_t = end_switching_curve['t']\n",
    "tuniv = tmx-30.\n",
    "Τ = 15\n",
    "Τbars_step = .5; Tbars = np.arange(Τ*4,0,-Τbars_step)\n",
    "for Τbar in Tbars:\n",
    "    μ = 1./Τ; μbar = 1./Τbar\n",
    "    print(\"* Parameters: T = %.1f, Tbar = %.1f (μ = %.5f, μbar = %.5f)\"%(Τ,Τbar,μ,μbar))\n",
    "    success = False; err = 1.\n",
    "    while (not success)|(norm(err)>1e-6):\n",
    "        end_switching_curve = {'t': 2*end_switching_curve['t']-end_switching_curve_prev_t-.001, \n",
    "                               'x': end_switching_curve['x']-0.002} \n",
    "        sol = root(get_δρ_ending,(end_switching_curve['t'],end_switching_curve['x']),args=(μ,μbar))\n",
    "        end_switching_curve_prev_t = end_switching_curve['t']\n",
    "        end_switching_curve_prev_x = end_switching_curve['x']\n",
    "        end_switching_curve['t'], end_switching_curve['x'] = sol.x   \n",
    "        success = sol.success\n",
    "        err = get_δρ_ending([end_switching_curve['t'],end_switching_curve['x']],μ,μbar)\n",
    "        if (not success): \n",
    "            print(\"! Trying again...\", sol.message)\n",
    "        elif (norm(err)>1e-6):\n",
    "            print(\"! Trying again... Convergence is not sufficient\")       \n",
    "    else:\n",
    "        end_point = [end_switching_curve['t']]+get_state(end_switching_curve['t'],end_switching_curve['x'],μ,μbar)\n",
    "        print(\"Ending point: t = %.2f, x = %.2f%%\"%(end_switching_curve['t'],100*end_switching_curve['x']),\" Checking the solution:\",err)\n",
    "        universal_curve = get_universal_curve(end_point,tmx,25,μ,μbar)\n",
    "        tuniv = root(get_finalizing_point_from_universal_curve,tuniv,args=(tmx,end_point,μ,μbar)).x\n",
    "        err_tuniv = get_finalizing_point_from_universal_curve(tuniv,tmx,end_point,μ,μbar)\n",
    "        univ_point = get_state_universal(tuniv,end_point,μ,μbar)\n",
    "        print(\"tuniv = %.2f\"%tuniv,\" Checking the solution: \",err_tuniv)\n",
    "        final_state = get_state_with_σstar(tmx,univ_point,μ,μbar)\n",
    "        outcome = exp((b-d)*tmx-final_state[-1])\n",
    "        print(\"Fold-change in tumor size: %.2f\"%(outcome))\n",
    "        output = [Τ,Τbar,μ,μbar,end_switching_curve['t'],end_switching_curve['x']]+list(univ_point[0:2])+[outcome]+list(err)+[err_tuniv]\n",
    "        writer.writerow(output)\n",
    "    \n",
    "File.close()"
   ]
  },
  {
   "cell_type": "markdown",
   "metadata": {},
   "source": [
    "* The results are aggregated in a file **sensitivity1_agg.csv**."
   ]
  },
  {
   "cell_type": "code",
   "execution_count": null,
   "metadata": {},
   "outputs": [],
   "source": [
    "df = pd.DataFrame.from_csv(\"../figures/draft/sensitivity1_agg.csv\").reset_index().drop(['err_sw_t','err_sw_x','err_tuniv'],1)\n",
    "df['Tratio'] = df['Tbar']/df['T']\n",
    "df.head()"
   ]
  },
  {
   "cell_type": "code",
   "execution_count": null,
   "metadata": {},
   "outputs": [],
   "source": []
  }
 ],
 "metadata": {
  "anaconda-cloud": {},
  "kernelspec": {
   "display_name": "Python 3",
   "language": "python",
   "name": "python3"
  },
  "language_info": {
   "codemirror_mode": {
    "name": "ipython",
    "version": 3
   },
   "file_extension": ".py",
   "mimetype": "text/x-python",
   "name": "python",
   "nbconvert_exporter": "python",
   "pygments_lexer": "ipython3",
   "version": "3.6.6"
  }
 },
 "nbformat": 4,
 "nbformat_minor": 1
}
