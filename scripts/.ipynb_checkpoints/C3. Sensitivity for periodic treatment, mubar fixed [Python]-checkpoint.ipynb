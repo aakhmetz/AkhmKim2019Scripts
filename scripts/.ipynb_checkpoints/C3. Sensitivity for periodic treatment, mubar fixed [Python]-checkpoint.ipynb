{
 "cells": [
  {
   "cell_type": "markdown",
   "metadata": {
    "collapsed": true
   },
   "source": [
    "# Preamble"
   ]
  },
  {
   "cell_type": "code",
   "execution_count": 1,
   "metadata": {
    "scrolled": false
   },
   "outputs": [],
   "source": [
    "import numpy as np\n",
    "import pandas as pd\n",
    "from pylab import meshgrid\n",
    "from scipy import exp,optimize,log,floor\n",
    "from scipy.signal import argrelextrema\n",
    "from scipy.optimize import fsolve\n",
    "from scipy.integrate import ode\n",
    "backend = 'dopri5'\n",
    "\n",
    "import csv\n",
    "\n",
    "# Timer\n",
    "import time"
   ]
  },
  {
   "cell_type": "markdown",
   "metadata": {},
   "source": [
    "# Parameters values"
   ]
  },
  {
   "cell_type": "markdown",
   "metadata": {},
   "source": [
    "### Main pathway dynamics"
   ]
  },
  {
   "cell_type": "code",
   "execution_count": 2,
   "metadata": {},
   "outputs": [],
   "source": [
    "α = 0.3; θ = 0.45\n",
    "κ = 40.0 # Robustness parameter for the main pathway\n",
    "L = 0.2 # Parameter desribing the treatment action on the main pathway"
   ]
  },
  {
   "cell_type": "markdown",
   "metadata": {},
   "source": [
    "Reduction and translocation factors to the expression of the main pathway due to the treatment"
   ]
  },
  {
   "cell_type": "code",
   "execution_count": 3,
   "metadata": {},
   "outputs": [],
   "source": [
    "A = lambda σ: 1-σ*(1-θ)*(1-L)\n",
    "Θ = lambda σ: θ+(1-θ)*σ*L"
   ]
  },
  {
   "cell_type": "markdown",
   "metadata": {},
   "source": [
    "Production function as a step-like function and corresponding potential function"
   ]
  },
  {
   "cell_type": "code",
   "execution_count": 4,
   "metadata": {},
   "outputs": [],
   "source": [
    "# Heaviside function #\n",
    "Heaviside = lambda x: 1 * (x >= 0)\n",
    "\n",
    "f = lambda y, σ: A(σ)*(α+(1-α)*Heaviside(y-Θ(σ)))\n",
    "U = lambda y, σ: -A(σ)*(α+(1.-α)*Heaviside(y-Θ(σ)))*(y-Θ(σ))+(y**2-Θ(σ)**2)/2"
   ]
  },
  {
   "cell_type": "markdown",
   "metadata": {},
   "source": [
    "Corresponding potential bariers (will be required for the dynamics)"
   ]
  },
  {
   "cell_type": "code",
   "execution_count": 5,
   "metadata": {},
   "outputs": [],
   "source": [
    "Eplus = lambda σ: U(Θ(σ),σ)-U(f(1.,σ),σ)\n",
    "Eminus = lambda σ: U(Θ(σ),σ)-U(f(0.,σ),σ)"
   ]
  },
  {
   "cell_type": "markdown",
   "metadata": {},
   "source": [
    "Difference in potential bariers"
   ]
  },
  {
   "cell_type": "code",
   "execution_count": 6,
   "metadata": {},
   "outputs": [],
   "source": [
    "ΔE = lambda σ: Eplus(σ)-Eminus(σ)"
   ]
  },
  {
   "cell_type": "markdown",
   "metadata": {},
   "source": [
    "### Fitting some parameter values according with Bozic, Reiter et al 2013 *eLife*"
   ]
  },
  {
   "cell_type": "code",
   "execution_count": 7,
   "metadata": {},
   "outputs": [],
   "source": [
    "d = 0.13 # death rate per day"
   ]
  },
  {
   "cell_type": "code",
   "execution_count": 8,
   "metadata": {},
   "outputs": [
    {
     "name": "stdout",
     "output_type": "stream",
     "text": [
      "Birth rate: 0.1402\n",
      "Penalty χ: 0.2998\n"
     ]
    }
   ],
   "source": [
    "b = (0.1*(exp(κ*ΔE(1))+1)-0.14*(exp(κ*ΔE(0))+1))/(exp(κ*ΔE(1))-exp(κ*ΔE(0)))\n",
    "χ = 1-(0.14*(exp(κ*ΔE(0))+1)-b*exp(κ*ΔE(0)))/b\n",
    "print(\"Birth rate: %.4f\" % b)\n",
    "print(\"Penalty χ: %.4f\" % χ)"
   ]
  },
  {
   "cell_type": "markdown",
   "metadata": {},
   "source": [
    "### Other parameters"
   ]
  },
  {
   "cell_type": "code",
   "execution_count": 9,
   "metadata": {},
   "outputs": [],
   "source": [
    "c = 0.04 # cost of resistance"
   ]
  },
  {
   "cell_type": "code",
   "execution_count": 10,
   "metadata": {},
   "outputs": [],
   "source": [
    "ε = 0.01 # initial fraction of resistant cells"
   ]
  },
  {
   "cell_type": "markdown",
   "metadata": {},
   "source": [
    "# Periodic treatment\n",
    "\n",
    "** ¡It takes quite a substantial amount of time! **"
   ]
  },
  {
   "cell_type": "code",
   "execution_count": 11,
   "metadata": {},
   "outputs": [],
   "source": [
    "T = 2*12*30 # two years\n",
    "def func(μ,μbar,treatment_periodicity,σ):\n",
    "    ode_rhs = lambda t, X, σ: [b*(χ/(exp(κ*ΔE(σ))+1)-c)*X[0]*(1-X[0])+μ*(1-X[0])/(exp(κ*ΔE(σ))+1)-μbar*exp(-κ*Eminus(σ))*X[0],\\\n",
    "            b*(1-χ*(1-X[0])/(exp(κ*ΔE(σ))+1)-c*X[0])*X[1]-d*X[1]]\n",
    "    n = floor(T/(2*treatment_periodicity))\n",
    "    x = n*treatment_periodicity + (treatment_periodicity if (T/treatment_periodicity-2*n>1) else T-2*n*treatment_periodicity)\n",
    "    σx = σ*T/2/x #here σx is the double of one half of the applied treatment intensity\n",
    "    solver = ode(ode_rhs).set_integrator(backend).set_initial_value([ε,1.])\n",
    "    tme = 0; treatment = True\n",
    "    while (tme+treatment_periodicity < T):\n",
    "        tme += treatment_periodicity\n",
    "        solver.set_f_params(int(treatment)*σx).integrate(tme)\n",
    "        treatment = not treatment\n",
    "    solver.set_f_params(int(treatment)*σx).integrate(T)\n",
    "    return solver.y"
   ]
  },
  {
   "cell_type": "code",
   "execution_count": 13,
   "metadata": {
    "scrolled": false
   },
   "outputs": [
    {
     "name": "stdout",
     "output_type": "stream",
     "text": [
      "This proccess took 6.5 minutes\n",
      "[120, 60, 38, 0.8400000000000004, 0.7999831428867515, 0.405942893631237]\n",
      "This proccess took 6.5 minutes\n",
      "[118, 60, 38, 0.8400000000000004, 0.801437712699724, 0.41514397438422523]\n",
      "This proccess took 6.5 minutes\n",
      "[116, 60, 38, 0.8400000000000004, 0.8029229958731499, 0.4247365779638212]\n",
      "This proccess took 6.5 minutes\n",
      "[114, 60, 38, 0.8400000000000004, 0.8044400357687687, 0.4347447142486667]\n",
      "This proccess took 6.5 minutes\n",
      "[112, 60, 38, 0.8400000000000004, 0.8059899245365814, 0.4451943069485313]\n",
      "This proccess took 6.5 minutes\n",
      "[110, 60, 38, 0.8400000000000004, 0.8075738060194794, 0.4561134111570863]\n",
      "This proccess took 6.5 minutes\n",
      "[108, 60, 38, 0.8400000000000004, 0.8091928788644503, 0.46753239851998385]\n",
      "This proccess took 6.5 minutes\n",
      "[106, 60, 38, 0.8400000000000004, 0.810848399861783, 0.47948425443839005]\n",
      "This proccess took 6.5 minutes\n",
      "[104, 60, 38, 0.8400000000000004, 0.8125416875045184, 0.49200452040779763]\n",
      "This proccess took 6.5 minutes\n",
      "[102, 60, 38, 0.8400000000000004, 0.8142741258677686, 0.5051324287901008]\n",
      "This proccess took 6.6 minutes\n",
      "[100, 60, 38, 0.8400000000000004, 0.8160471686897799, 0.5189102367807624]\n",
      "This proccess took 6.6 minutes\n",
      "[98, 60, 38, 0.8400000000000004, 0.8178623438216394, 0.5333841239134631]\n",
      "This proccess took 6.5 minutes\n",
      "[96, 60, 38, 0.8300000000000004, 0.8164390539058548, 0.5485971684666991]\n",
      "This proccess took 6.5 minutes\n",
      "[94, 60, 38, 0.8300000000000004, 0.8183723188359029, 0.564605904989797]\n",
      "This proccess took 6.5 minutes\n",
      "[92, 60, 38, 0.8300000000000004, 0.8203534166503125, 0.5814760980975692]\n",
      "This proccess took 6.5 minutes\n",
      "[90, 60, 38, 0.8300000000000004, 0.8223842484663361, 0.5992743871792428]\n",
      "This proccess took 6.5 minutes\n",
      "[88, 60, 38, 0.8300000000000004, 0.8244668187254955, 0.618074069955422]\n",
      "This proccess took 6.5 minutes\n",
      "[86, 60, 38, 0.8300000000000004, 0.826603242167773, 0.6379560055696317]\n",
      "This proccess took 6.6 minutes\n",
      "[84, 60, 38, 0.8300000000000004, 0.8287957513326161, 0.6590095819965802]\n",
      "This proccess took 6.6 minutes\n",
      "[82, 60, 38, 0.8300000000000004, 0.8310467046245379, 0.681333832100987]\n",
      "This proccess took 6.6 minutes\n",
      "[80, 60, 38, 0.8300000000000004, 0.8333585949805677, 0.7050387251990489]\n",
      "This proccess took 6.7 minutes\n",
      "[78, 60, 38, 0.8300000000000004, 0.8357340591763239, 0.7302466660934175]\n",
      "This proccess took 6.7 minutes\n",
      "[76, 60, 38, 0.8300000000000004, 0.8381758878050185, 0.7570942554042869]\n",
      "This proccess took 6.7 minutes\n",
      "[74, 60, 38, 0.8300000000000004, 0.8406870359605768, 0.7857343043223682]\n",
      "This proccess took 6.7 minutes\n",
      "[72, 60, 38, 0.8300000000000004, 0.8432706346438237, 0.8163382629216964]\n",
      "This proccess took 6.7 minutes\n",
      "[70, 60, 38, 0.8300000000000004, 0.8459300029037513, 0.8490990341277103]\n",
      "This proccess took 6.8 minutes\n",
      "[68, 60, 29, 0.8300000000000004, 0.8072234329244226, 0.8834693904204964]\n",
      "This proccess took 6.8 minutes\n",
      "[66, 60, 29, 0.8300000000000004, 0.8102200817584782, 0.9200191455550094]\n",
      "This proccess took 6.9 minutes\n",
      "[64, 60, 29, 0.8300000000000004, 0.8133181380788778, 0.959315188663825]\n",
      "This proccess took 6.9 minutes\n",
      "[62, 60, 29, 0.8300000000000004, 0.8165232299092562, 1.001654039737877]\n",
      "This proccess took 6.9 minutes\n",
      "[60, 60, 29, 0.8200000000000004, 0.8171032270540614, 1.0473610820268369]\n",
      "This proccess took 7.0 minutes\n",
      "[58, 60, 29, 0.8200000000000004, 0.8205831678657897, 1.0968056519145972]\n",
      "This proccess took 7.0 minutes\n",
      "[56, 60, 16, 0.8200000000000004, 0.8112074992830797, 1.1501454404840639]\n",
      "This proccess took 7.1 minutes\n",
      "[54, 60, 16, 0.8200000000000004, 0.8148577866757266, 1.2067542143961099]\n",
      "This proccess took 7.2 minutes\n",
      "[52, 60, 16, 0.8200000000000004, 0.8186514734967215, 1.2683975888264292]\n",
      "This proccess took 7.2 minutes\n",
      "[50, 60, 16, 0.8200000000000004, 0.8225979290111727, 1.3357201314686957]\n",
      "This proccess took 7.2 minutes\n",
      "[48, 60, 16, 0.8200000000000004, 0.8267073897605881, 1.4094750940494813]\n",
      "This proccess took 7.4 minutes\n",
      "[46, 60, 16, 0.8200000000000004, 0.830991062051937, 1.4905474641340615]\n",
      "This proccess took 7.4 minutes\n",
      "[44, 60, 16, 0.8200000000000004, 0.8354612383388442, 1.5799826850144585]\n",
      "This proccess took 7.5 minutes\n",
      "[42, 60, 16, 0.8200000000000004, 0.8401314292333066, 1.679024013183262]\n",
      "This proccess took 7.7 minutes\n",
      "[40, 60, 16, 0.8200000000000004, 0.8450165128593999, 1.7891584206632238]\n",
      "This proccess took 7.7 minutes\n",
      "[38, 60, 16, 0.8200000000000004, 0.850132903007193, 1.9121779271930661]\n",
      "This proccess took 7.8 minutes\n",
      "[36, 60, 16, 0.8100000000000004, 0.8533443047813086, 2.0502367868775733]\n",
      "This proccess took 7.9 minutes\n",
      "[34, 60, 16, 0.8100000000000004, 0.8590457958904173, 2.205914982833987]\n",
      "This proccess took 8.1 minutes\n",
      "[32, 60, 16, 0.8100000000000004, 0.8650423169747861, 2.3825810525253446]\n",
      "This proccess took 8.2 minutes\n",
      "[30, 60, 16, 0.8100000000000004, 0.8713588064369722, 2.584331534261089]\n",
      "This proccess took 8.4 minutes\n",
      "[28, 60, 16, 0.8100000000000004, 0.8780228545783518, 2.8163316579716087]\n",
      "This proccess took 8.5 minutes\n",
      "[26, 60, 16, 0.8100000000000004, 0.8850649151529185, 3.085169047574506]\n",
      "This proccess took 8.8 minutes\n",
      "[24, 60, 16, 0.8000000000000004, 0.8907139327962333, 3.3991673448937414]\n",
      "This proccess took 9.1 minutes\n",
      "[22, 60, 16, 0.8000000000000004, 0.8987127788174524, 3.7695312788909194]\n",
      "This proccess took 9.3 minutes\n",
      "[20, 60, 16, 0.8000000000000004, 0.9072038848009204, 4.211229236681399]\n",
      "This proccess took 9.6 minutes\n",
      "[18, 60, 7, 0.8000000000000004, 0.8784300111700838, 4.74370407701344]\n",
      "This proccess took 10.2 minutes\n",
      "[16, 60, 7, 0.7900000000000004, 0.887396807047941, 5.372307153636182]\n",
      "This proccess took 10.7 minutes\n",
      "[14, 60, 7, 0.7900000000000004, 0.8988180658461818, 6.148153395617848]\n",
      "This proccess took 11.4 minutes\n",
      "[12, 60, 7, 0.7900000000000004, 0.9112661150139275, 7.122977550062803]\n",
      "This proccess took 12.1 minutes\n",
      "[10, 60, 7, 0.7800000000000004, 0.9237865165115612, 8.372730955062579]\n",
      "This proccess took 13.3 minutes\n",
      "[8, 60, 7, 0.7800000000000004, 0.9389533460122391, 10.016069112899787]\n",
      "This proccess took 14.9 minutes\n",
      "[6, 60, 7, 0.7700000000000004, 0.9548754637510746, 12.244947452169187]\n",
      "This proccess took 15.7 minutes\n",
      "[4, 60, 2, 0.7600000000000003, 0.9400559561645757, 15.28388358240321]\n"
     ]
    }
   ],
   "source": [
    "File = open(\"../figures/draft/sensitivity_periodic_mubar_fixed.csv\", 'w')\n",
    "File.write(\"T,Tbar,period,sigma,Resistance,FoldChange\\n\")\n",
    "writer = csv.writer(File,lineterminator='\\n')\n",
    "\n",
    "step_periods = 1; step_σFixed = .01\n",
    "Periods, σFixed = np.meshgrid(np.arange(step_periods,60+step_periods,step_periods),np.arange(.4,1.+step_σFixed,step_σFixed))\n",
    "periods_n, σFixed_n = Periods.shape\n",
    "\n",
    "mubart = 60\n",
    "for mut in np.arange(120,2,-2):\n",
    "    time0=time.time()\n",
    "\n",
    "    FoldChangeMin = 1e10\n",
    "    for xk in range(periods_n):\n",
    "        for yk in range(σFixed_n):\n",
    "            Resistance, FoldChange = func(1./mut,1./mubart,Periods[xk,yk],σFixed[xk,yk])\n",
    "            if FoldChange<FoldChangeMin:\n",
    "                FoldChangeMin = FoldChange\n",
    "                output = [mut,mubart,Periods[xk,yk],σFixed[xk,yk],Resistance,FoldChange]\n",
    "\n",
    "    print(\"This proccess took %0.1f minutes\" % ((time.time()-time0)/60.))\n",
    "    writer.writerow(output)\n",
    "    print(output)\n",
    "        \n",
    "File.close()"
   ]
  },
  {
   "cell_type": "code",
   "execution_count": null,
   "metadata": {},
   "outputs": [],
   "source": []
  }
 ],
 "metadata": {
  "anaconda-cloud": {},
  "kernelspec": {
   "display_name": "Python 3",
   "language": "python",
   "name": "python3"
  },
  "language_info": {
   "codemirror_mode": {
    "name": "ipython",
    "version": 3
   },
   "file_extension": ".py",
   "mimetype": "text/x-python",
   "name": "python",
   "nbconvert_exporter": "python",
   "pygments_lexer": "ipython3",
   "version": "3.6.5"
  }
 },
 "nbformat": 4,
 "nbformat_minor": 1
}
