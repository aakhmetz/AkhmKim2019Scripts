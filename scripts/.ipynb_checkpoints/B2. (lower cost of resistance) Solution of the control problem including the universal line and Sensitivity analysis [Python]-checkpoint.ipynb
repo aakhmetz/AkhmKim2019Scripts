{
 "cells": [
  {
   "cell_type": "markdown",
   "metadata": {},
   "source": [
    "# Aim of this notebook\n",
    "\n",
    "* To construct the singular curve of universal type to finalize the solution of the optimal control problem"
   ]
  },
  {
   "cell_type": "markdown",
   "metadata": {},
   "source": [
    "# Preamble"
   ]
  },
  {
   "cell_type": "code",
   "execution_count": 1,
   "metadata": {},
   "outputs": [],
   "source": [
    "from sympy import *\n",
    "init_printing(use_latex='mathjax')\n",
    "\n",
    "# Plotting\n",
    "%matplotlib inline\n",
    "## Make inline plots raster graphics\n",
    "from IPython.display import set_matplotlib_formats\n",
    "## Import modules for plotting and data analysis\n",
    "import matplotlib.pyplot as plt\n",
    "from matplotlib import gridspec,rc,colors\n",
    "import matplotlib.ticker as plticker\n",
    "## Parameters for seaborn plots\n",
    "import seaborn as sns\n",
    "sns.set(style='white',font_scale=1.25,\n",
    "        rc={\"xtick.major.size\": 6, \"ytick.major.size\": 6,\n",
    "            'text.usetex': False, 'font.family': 'serif', 'font.serif': ['Times']})\n",
    "\n",
    "import pandas as pd\n",
    "pd.set_option('mode.chained_assignment',None)\n",
    "\n",
    "import numpy as np\n",
    "from scipy.optimize import fsolve, root\n",
    "from scipy.integrate import ode\n",
    "backend = 'dopri5'\n",
    "import warnings\n",
    "\n",
    "# Timer\n",
    "import time\n",
    "\n",
    "from copy import deepcopy\n",
    "\n",
    "from itertools import cycle\n",
    "palette_size = 10;\n",
    "clrs = sns.color_palette(\"Reds\",palette_size)\n",
    "iclrs = cycle(clrs) # iterated colors\n",
    "\n",
    "# Suppress warnings\n",
    "import warnings\n",
    "warnings.filterwarnings(\"ignore\")"
   ]
  },
  {
   "cell_type": "markdown",
   "metadata": {},
   "source": [
    "# Parameter values"
   ]
  },
  {
   "cell_type": "markdown",
   "metadata": {},
   "source": [
    "* Birth rate and const of downregulation are defined below in order to fit some experim. data"
   ]
  },
  {
   "cell_type": "code",
   "execution_count": 2,
   "metadata": {},
   "outputs": [],
   "source": [
    "d = .13 # death rate\n",
    "α = .3 # low equilibrium point at expression of the main pathway (high equilibrium is at one)\n",
    "θ = .45 # threshold value for the expression of the main pathway\n",
    "κ = 40 # robustness parameter"
   ]
  },
  {
   "cell_type": "markdown",
   "metadata": {},
   "source": [
    "* Symbolic variables - the list insludes μ & μbar, because they will be varied later"
   ]
  },
  {
   "cell_type": "code",
   "execution_count": 3,
   "metadata": {},
   "outputs": [],
   "source": [
    "σ, φ0, φ, x, μ, μbar = symbols('sigma, phi0, phi, x, mu, mubar')"
   ]
  },
  {
   "cell_type": "markdown",
   "metadata": {},
   "source": [
    "* Main functions"
   ]
  },
  {
   "cell_type": "code",
   "execution_count": 4,
   "metadata": {},
   "outputs": [],
   "source": [
    "A = 1-σ*(1-θ)\n",
    "Eminus = (α*A-θ)**2/2\n",
    "ΔE = A*(1-α)*((1+α)*A/2-θ)\n",
    "ΔEf = lambdify(σ,ΔE)"
   ]
  },
  {
   "cell_type": "markdown",
   "metadata": {},
   "source": [
    "* Birth rate and cost of downregulation"
   ]
  },
  {
   "cell_type": "code",
   "execution_count": 5,
   "metadata": {},
   "outputs": [
    {
     "data": {
      "text/latex": [
       "$$\\left ( 0.140168330860362, \\quad 0.325961223954473\\right )$$"
      ],
      "text/plain": [
       "(0.140168330860362, 0.325961223954473)"
      ]
     },
     "execution_count": 5,
     "metadata": {},
     "output_type": "execute_result"
    }
   ],
   "source": [
    "b = (0.1*(exp(κ*(ΔEf(1)))+1)-0.14*(exp(κ*ΔEf(0))+1))/(exp(κ*ΔEf(1))-exp(κ*ΔEf(0))) # birth rate\n",
    "χ = 1-(0.14*(exp(κ*ΔEf(0))+1)-b*exp(κ*ΔEf(0)))/b\n",
    "b, χ"
   ]
  },
  {
   "cell_type": "code",
   "execution_count": 8,
   "metadata": {},
   "outputs": [
    {
     "data": {
      "text/latex": [
       "$$0.00476805892072291$$"
      ],
      "text/plain": [
       "0.00476805892072291"
      ]
     },
     "execution_count": 8,
     "metadata": {},
     "output_type": "execute_result"
    }
   ],
   "source": [
    "c_relative = 0.05\n",
    "c = c_relative*(b-d)/b+(1-c_relative)*χ/(exp(κ*ΔEf(0))+1) # cost of resistance\n",
    "c"
   ]
  },
  {
   "cell_type": "markdown",
   "metadata": {},
   "source": [
    "* Hamiltonian *H* and a part of it ρ that includes the control variable σ"
   ]
  },
  {
   "cell_type": "code",
   "execution_count": 9,
   "metadata": {},
   "outputs": [
    {
     "data": {
      "text/latex": [
       "$$\\left ( \\phi \\left(\\frac{\\mu \\left(- x + 1\\right)}{e^{40 \\left(- 0.385 \\sigma + 0.7\\right) \\left(- 0.3575 \\sigma + 0.2\\right)} + 1} - \\bar{\\mu} x e^{- 20 \\left(- 0.165 \\sigma - 0.15\\right)^{2}} + x \\left(-0.000668330860361588 + \\frac{0.045689440686899}{e^{40 \\left(- 0.385 \\sigma + 0.7\\right) \\left(- 0.3575 \\sigma + 0.2\\right)} + 1}\\right) \\left(- x + 1\\right)\\right) - \\phi_{0} + 0.000668330860361588 x + \\frac{0.045689440686899 \\left(- x + 1\\right)}{e^{40 \\left(- 0.385 \\sigma + 0.7\\right) \\left(- 0.3575 \\sigma + 0.2\\right)} + 1}, \\quad - \\bar{\\mu} \\phi x e^{- 20 \\left(- 0.165 \\sigma - 0.15\\right)^{2}} + \\frac{\\left(- x + 1\\right) \\left(\\phi \\left(\\mu + 0.045689440686899 x\\right) + 0.045689440686899\\right)}{e^{40 \\left(- 0.385 \\sigma + 0.7\\right) \\left(- 0.3575 \\sigma + 0.2\\right)} + 1}\\right )$$"
      ],
      "text/plain": [
       "⎛  ⎛                                                                        2 \n",
       "⎜  ⎜                μ⋅(-x + 1)                         -20⋅(-0.165⋅σ - 0.15)  \n",
       "⎜φ⋅⎜────────────────────────────────────────── - μ̅⋅x⋅ℯ                       \n",
       "⎜  ⎜ 40⋅(-0.385⋅σ + 0.7)⋅(-0.3575⋅σ + 0.2)                                    \n",
       "⎝  ⎝ℯ                                      + 1                                \n",
       "\n",
       "                                                                              \n",
       "    ⎛                                    0.045689440686899             ⎞      \n",
       "+ x⋅⎜-0.000668330860361588 + ──────────────────────────────────────────⎟⋅(-x +\n",
       "    ⎜                         40⋅(-0.385⋅σ + 0.7)⋅(-0.3575⋅σ + 0.2)    ⎟      \n",
       "    ⎝                        ℯ                                      + 1⎠      \n",
       "\n",
       "   ⎞                                                                          \n",
       "   ⎟                                         0.045689440686899⋅(-x + 1)       \n",
       " 1)⎟ - φ₀ + 0.000668330860361588⋅x + ─────────────────────────────────────────\n",
       "   ⎟                                  40⋅(-0.385⋅σ + 0.7)⋅(-0.3575⋅σ + 0.2)   \n",
       "   ⎠                                 ℯ                                      + \n",
       "\n",
       "                                  2                                           \n",
       "             -20⋅(-0.165⋅σ - 0.15)    (-x + 1)⋅(φ⋅(μ + 0.045689440686899⋅x) + \n",
       "─, - μ̅⋅φ⋅x⋅ℯ                       + ────────────────────────────────────────\n",
       "                                               40⋅(-0.385⋅σ + 0.7)⋅(-0.3575⋅σ \n",
       "1                                             ℯ                               \n",
       "\n",
       "                  ⎞\n",
       "0.045689440686899)⎟\n",
       "──────────────────⎟\n",
       "+ 0.2)            ⎟\n",
       "       + 1        ⎠"
      ]
     },
     "execution_count": 9,
     "metadata": {},
     "output_type": "execute_result"
    }
   ],
   "source": [
    "h = b*(χ/(exp(κ*ΔE)+1)*(1-x)+c*x)\n",
    "H = -φ0 + φ*(b*(χ/(exp(κ*ΔE)+1)-c)*x*(1-x)+μ*(1-x)/(exp(κ*ΔE)+1)-μbar*exp(-κ*Eminus)*x) + h\n",
    "ρ = (φ*(b*χ*x+μ)+b*χ)/(exp(κ*ΔE)+1)*(1-x)-φ*μbar*exp(-κ*Eminus)*x\n",
    "H, ρ"
   ]
  },
  {
   "cell_type": "markdown",
   "metadata": {},
   "source": [
    "* Same but for no treatment (σ = 0)"
   ]
  },
  {
   "cell_type": "code",
   "execution_count": 10,
   "metadata": {},
   "outputs": [
    {
     "data": {
      "text/latex": [
       "$$\\left ( \\phi \\left(0.00368423989943599 \\mu \\left(- x + 1\\right) - 0.637628151621773 \\bar{\\mu} x - 0.0005 x \\left(- x + 1\\right)\\right) - \\phi_{0} + 0.0005 x + 0.000168330860361587, \\quad - 0.637628151621773 \\bar{\\mu} \\phi x + 0.00368423989943599 \\left(- x + 1\\right) \\left(\\phi \\left(\\mu + 0.045689440686899 x\\right) + 0.045689440686899\\right)\\right )$$"
      ],
      "text/plain": [
       "(φ⋅(0.00368423989943599⋅μ⋅(-x + 1) - 0.637628151621773⋅μ̅⋅x - 0.0005⋅x⋅(-x + 1\n",
       ")) - φ₀ + 0.0005⋅x + 0.000168330860361587, -0.637628151621773⋅μ̅⋅φ⋅x + 0.00368\n",
       "423989943599⋅(-x + 1)⋅(φ⋅(μ + 0.045689440686899⋅x) + 0.045689440686899))"
      ]
     },
     "execution_count": 10,
     "metadata": {},
     "output_type": "execute_result"
    }
   ],
   "source": [
    "h0 = h.subs(σ,0)\n",
    "H0 = H.subs(σ,0)\n",
    "ρ0 = ρ.subs(σ,0)\n",
    "H0, ρ0"
   ]
  },
  {
   "cell_type": "markdown",
   "metadata": {},
   "source": [
    "* Machinery: definition of the Poisson brackets"
   ]
  },
  {
   "cell_type": "code",
   "execution_count": 11,
   "metadata": {},
   "outputs": [],
   "source": [
    "PoissonBrackets = lambda H1, H2: diff(H1,x)*diff(H2,φ)-diff(H1,φ)*diff(H2,x)"
   ]
  },
  {
   "cell_type": "markdown",
   "metadata": {},
   "source": [
    "* Necessary functions and defining the right hand side of dynamical equations"
   ]
  },
  {
   "cell_type": "code",
   "execution_count": 12,
   "metadata": {},
   "outputs": [],
   "source": [
    "ρf = lambdify((x,φ,σ,μ,μbar),ρ)\n",
    "ρ0f = lambdify((x,φ,μ,μbar),ρ0)\n",
    "dxdτ = lambdify((x,φ,σ,μ,μbar),-diff(H,φ))\n",
    "dφdτ = lambdify((x,φ,σ,μ,μbar),diff(H,x))\n",
    "dVdτ = lambdify((x,σ),h)\n",
    "dρdσ = lambdify((σ,x,φ,μ,μbar),diff(ρ,σ))\n",
    "dδρdτ = lambdify((x,φ,σ,μ,μbar),-PoissonBrackets(ρ0-ρ,H))\n",
    "def ode_rhs(t,state,μ,μbar):\n",
    "    x, φ, V, δρ = state\n",
    "    σs = [0,1]\n",
    "    if (dρdσ(1.,x,φ,μ,μbar)<0) and (dρdσ(θ,x,φ,μ,μbar)>0):\n",
    "        σstar = fsolve(dρdσ,.8,args=(x,φ,μ,μbar,))[0]\n",
    "    else:\n",
    "        σstar = 1.;\n",
    "    if ρf(x,φ,σstar,μ,μbar) < ρ0f(x,φ,μ,μbar):\n",
    "        sgm = 0\n",
    "    else:\n",
    "        sgm = σstar\n",
    "    return [dxdτ(x,φ,sgm,μ,μbar),dφdτ(x,φ,sgm,μ,μbar),dVdτ(x,sgm),dδρdτ(x,φ,σstar,μ,μbar)]"
   ]
  },
  {
   "cell_type": "code",
   "execution_count": 13,
   "metadata": {},
   "outputs": [],
   "source": [
    "def get_primary_field(name, experiment,μ,μbar):\n",
    "    solutions = {}\n",
    "    solver = ode(ode_rhs).set_integrator(backend)\n",
    "    τ0 = experiment['τ0']\n",
    "    tms = np.linspace(τ0,experiment['T_end'],1e3+1)\n",
    "    for x0 in experiment['x0']:\n",
    "        δρ0 = ρ0.subs(x,x0).subs(φ,0)-ρ.subs(x,x0).subs(φ,0).subs(σ,1.)\n",
    "        solver.set_initial_value([x0,0,0,δρ0],0.).set_f_params(μ,μbar)\n",
    "        sol = []; k = 0;\n",
    "        while (solver.t < experiment['T_end']) and (solver.y[0]<=1.) and (solver.y[0]>=0.):\n",
    "            solver.integrate(tms[k])\n",
    "            sol.append([solver.t]+list(solver.y))\n",
    "            k += 1\n",
    "        solutions[x0] = {'solution': sol}\n",
    "    for x0, entry in solutions.items():\n",
    "        entry['τ'] = [entry['solution'][j][0] for j in range(len(entry['solution']))]\n",
    "        entry['x'] = [entry['solution'][j][1] for j in range(len(entry['solution']))]\n",
    "        entry['φ'] = [entry['solution'][j][2] for j in range(len(entry['solution']))]\n",
    "        entry['V'] = [entry['solution'][j][3] for j in range(len(entry['solution']))]\n",
    "        entry['δρ'] = [entry['solution'][j][4] for j in range(len(entry['solution']))]\n",
    "    return solutions\n",
    "def get_δρ_value(tme,x0,μ,μbar):\n",
    "    solver = ode(ode_rhs).set_integrator(backend)\n",
    "    δρ0 = ρ0.subs(x,x0).subs(φ,0)-ρ.subs(x,x0).subs(φ,0).subs(σ,1.)\n",
    "    solver.set_initial_value([x0,0,0,δρ0],0.).set_f_params(μ,μbar)\n",
    "    while (solver.t < tme) and (solver.y[0]<=1.) and (solver.y[0]>=0.):\n",
    "        solver.integrate(tme)\n",
    "        sol = [solver.t]+list(solver.y)\n",
    "    return solver.y[3]\n",
    "def get_δρ_ending(params,μ,μbar):\n",
    "    tme, x0 = params\n",
    "    solver = ode(ode_rhs).set_integrator(backend)\n",
    "    δρ0 = ρ0.subs(x,x0).subs(φ,0)-ρ.subs(x,x0).subs(φ,0).subs(σ,1.)\n",
    "    solver.set_initial_value([x0,0,0,δρ0],0.).set_f_params(μ,μbar)\n",
    "    δτ = 1.0e-8; tms = [tme,tme+δτ]\n",
    "    _k = 0; sol = []\n",
    "    while (_k<len(tms)):# and (solver.y[0]<=1.) and (solver.y[0]>=0.):\n",
    "        solver.integrate(tms[_k])\n",
    "        sol.append(solver.y)\n",
    "        _k += 1\n",
    "    #print(sol)\n",
    "    return(sol[0][3],(sol[1][3]-sol[0][3])/δτ)\n",
    "def get_state(tme,x0,μ,μbar):\n",
    "    solver = ode(ode_rhs).set_integrator(backend)\n",
    "    δρ0 = ρ0.subs(x,x0).subs(φ,0)-ρ.subs(x,x0).subs(φ,0).subs(σ,1.)\n",
    "    solver.set_initial_value([x0,0,0,δρ0],0.).set_f_params(μ,μbar)\n",
    "    δτ = 1.0e-8; tms = [tme,tme+δτ]\n",
    "    _k = 0; sol = []\n",
    "    while (solver.t < tms[-1]) and (solver.y[0]<=1.) and (solver.y[0]>=0.):\n",
    "        solver.integrate(tms[_k])\n",
    "        sol.append(solver.y)\n",
    "        _k += 1\n",
    "    return(list(sol[0])+[(sol[1][3]-sol[0][3])/δτ])"
   ]
  },
  {
   "cell_type": "markdown",
   "metadata": {},
   "source": [
    "# Machinery for the universal line"
   ]
  },
  {
   "cell_type": "markdown",
   "metadata": {},
   "source": [
    "* To find the universal singular curve we need to define two parameters"
   ]
  },
  {
   "cell_type": "code",
   "execution_count": 14,
   "metadata": {},
   "outputs": [],
   "source": [
    "γ0 = PoissonBrackets(PoissonBrackets(H,H0),H)\n",
    "γ1 = PoissonBrackets(PoissonBrackets(H0,H),H0)"
   ]
  },
  {
   "cell_type": "markdown",
   "metadata": {},
   "source": [
    "* The dynamics"
   ]
  },
  {
   "cell_type": "code",
   "execution_count": 15,
   "metadata": {},
   "outputs": [],
   "source": [
    "dxdτSingExpr = -(γ0*diff(H0,φ)+γ1*diff(H,φ))/(γ0+γ1)\n",
    "dφdτSingExpr = (γ0*diff(H0,x)+γ1*diff(H,x))/(γ0+γ1)\n",
    "dVdτSingExpr = (γ0*h0+γ1*h)/(γ0+γ1)\n",
    "σSingExpr = γ1*σ/(γ0+γ1)"
   ]
  },
  {
   "cell_type": "markdown",
   "metadata": {},
   "source": [
    "* Machinery for Python: lambdify the functions above"
   ]
  },
  {
   "cell_type": "code",
   "execution_count": 16,
   "metadata": {},
   "outputs": [],
   "source": [
    "dxdτSing = lambdify((x,φ,σ,μ,μbar),dxdτSingExpr)\n",
    "dφdτSing = lambdify((x,φ,σ,μ,μbar),dφdτSingExpr)\n",
    "dVdτSing = lambdify((x,φ,σ,μ,μbar),dVdτSingExpr)\n",
    "σSing = lambdify((x,φ,σ,μ,μbar),σSingExpr)"
   ]
  },
  {
   "cell_type": "code",
   "execution_count": 17,
   "metadata": {},
   "outputs": [],
   "source": [
    "def ode_rhs_Sing(t,state,μ,μbar):\n",
    "    x, φ, V = state\n",
    "    if (dρdσ(1.,x,φ,μ,μbar)<0) and (dρdσ(θ,x,φ,μ,μbar)>0):\n",
    "        σstar = fsolve(dρdσ,.8,args=(x,φ,μ,μbar,))[0]\n",
    "    else:\n",
    "        σstar = 1.;\n",
    "    #print([σstar,σSing(x,φ,σstar,μ,μbar)])\n",
    "    return [dxdτSing(x,φ,σstar,μ,μbar),dφdτSing(x,φ,σstar,μ,μbar),dVdτSing(x,φ,σstar,μ,μbar)]\n",
    "# def ode_rhs_Sing(t,state,μ,μbar):\n",
    "#     x, φ, V = state\n",
    "#     if (dρdσ(1.,x,φ,μ,μbar)<0) and (dρdσ(θ,x,φ,μ,μbar)>0):\n",
    "#         σstar = fsolve(dρdσ,.8,args=(x,φ,μ,μbar,))[0]\n",
    "#     else:\n",
    "#         σstar = 1.;\n",
    "#     σTrav = fsolve(lambda σ: dxdτ(x,φ,σ,μ,μbar)-dxdτSing(x,φ,σstar,μ,μbar),.6)[0]\n",
    "#     print([σstar,σTrav])\n",
    "#     return [dxdτSing(x,φ,σstar,μ,μbar),dφdτSing(x,φ,σstar,μ,μbar),dVdτ(x,σTrav)]\n",
    "def get_universal_curve(end_point,tmax,Nsteps,μ,μbar):\n",
    "    tms =  np.linspace(end_point[0],tmax,Nsteps);\n",
    "    solver = ode(ode_rhs_Sing).set_integrator(backend)\n",
    "    solver.set_initial_value(end_point[1:4],end_point[0]).set_f_params(μ,μbar)\n",
    "    _k = 0; sol = []\n",
    "    while (solver.t < tms[-1]):\n",
    "        solver.integrate(tms[_k])\n",
    "        sol.append([solver.t]+list(solver.y))\n",
    "        _k += 1\n",
    "    return sol\n",
    "def get_σ_universal(tme,end_point,μ,μbar):\n",
    "    δτ = 1.0e-8; tms = [tme,tme+δτ]\n",
    "    solver = ode(ode_rhs_Sing).set_integrator(backend)\n",
    "    solver.set_initial_value(end_point[1:4],end_point[0]).set_f_params(μ,μbar)\n",
    "    _k = 0; sol = []\n",
    "    while (solver.t < tme+δτ):\n",
    "        solver.integrate(tms[_k])\n",
    "        sol.append([solver.t]+list(solver.y))\n",
    "        _k += 1\n",
    "    x, φ = sol[0][:2]\n",
    "    sgm = fsolve(lambda σ: dxdτ(x,φ,σ,μ,μbar)-(sol[1][0]-sol[0][0])/δτ,θ/2)[0]\n",
    "    return sgm\n",
    "def get_state_universal(tme,end_point,μ,μbar):\n",
    "    solver = ode(ode_rhs_Sing).set_integrator(backend)\n",
    "    solver.set_initial_value(end_point[1:4],end_point[0]).set_f_params(μ,μbar)\n",
    "    solver.integrate(tme)\n",
    "    return [solver.t]+list(solver.y)"
   ]
  },
  {
   "cell_type": "code",
   "execution_count": 18,
   "metadata": {},
   "outputs": [],
   "source": [
    "def ode_rhs_with_σstar(t,state,μ,μbar):\n",
    "    x, φ, V = state\n",
    "    if (dρdσ(1.,x,φ,μ,μbar)<0) and (dρdσ(θ,x,φ,μ,μbar)>0):\n",
    "        σ = fsolve(dρdσ,.8,args=(x,φ,μ,μbar,))[0]\n",
    "    else:\n",
    "        σ = 1.;\n",
    "    return [dxdτ(x,φ,σ,μ,μbar),dφdτ(x,φ,σ,μ,μbar),dVdτ(x,σ)]\n",
    "def ode_rhs_with_given_σ(t,state,σ,μ,μbar):\n",
    "    x, φ, V = state\n",
    "    return [dxdτ(x,φ,σ,μ,μbar),dφdτ(x,φ,σ,μ,μbar),dVdτ(x,σ)]\n",
    "def get_trajectory_with_σstar(starting_point,tmax,Nsteps,μ,μbar):\n",
    "    tms = np.linspace(starting_point[0],tmax,Nsteps)\n",
    "    solver = ode(ode_rhs_with_σstar).set_integrator(backend)\n",
    "    solver.set_initial_value(starting_point[1:],starting_point[0]).set_f_params(μ,μbar)\n",
    "    sol = []; _k = 0;\n",
    "    while solver.t < max(tms) and (solver.y[0]<=1.) and (solver.y[0]>=0.):\n",
    "        solver.integrate(tms[_k])\n",
    "        sol.append([solver.t]+list(solver.y))\n",
    "        _k += 1\n",
    "    return sol\n",
    "def get_trajectory_with_given_σ(starting_point,tmax,Nsteps,σ,μ,μbar):\n",
    "    tms = np.linspace(starting_point[0],tmax,100)\n",
    "    solver = ode(ode_rhs_with_given_σ).set_integrator(backend)\n",
    "    solver.set_initial_value(starting_point[1:],starting_point[0]).set_f_params(σ,μ,μbar)\n",
    "    sol = []; _k = 0;\n",
    "    while solver.t < max(tms) and (solver.y[0]<=1.) and (solver.y[0]>=0.):\n",
    "        solver.integrate(tms[_k])\n",
    "        sol.append([solver.t]+list(solver.y))\n",
    "        _k += 1\n",
    "    return sol\n",
    "def get_state_with_σstar(tme,starting_point,μ,μbar):\n",
    "    solver = ode(ode_rhs_with_σstar).set_integrator(backend)\n",
    "    solver.set_initial_value(starting_point[1:4],starting_point[0]).set_f_params(μ,μbar)\n",
    "    solver.integrate(tme)\n",
    "    return [solver.t]+list(solver.y)\n",
    "def get_finalizing_point_from_universal_curve(tme,tmx,end_point,μ,μbar):\n",
    "    unv_point = get_state_universal(tme,end_point,μ,μbar)\n",
    "    return get_state_with_σstar(tmx,unv_point,μ,μbar)[1]"
   ]
  },
  {
   "cell_type": "markdown",
   "metadata": {},
   "source": [
    "# Field of optimal trajectories as the solution of the Bellman equation\n",
    "\n",
    "* μ & μbar are varied by *T* and *T*bar ($\\mu=1/T$ and $\\bar\\mu=1/\\bar{T}$)"
   ]
  },
  {
   "cell_type": "code",
   "execution_count": 19,
   "metadata": {},
   "outputs": [
    {
     "name": "stdout",
     "output_type": "stream",
     "text": [
      "Parameters: μ = 0.03571, μbar = 0.01667\n",
      "Ending point for the switching line: τ = 26.0 days, x = 68.2%\n",
      "Checking the solution - should give zero values: \n",
      "(-1.1784909046308408e-07, -1.8859110484767172e-07)\n",
      "* Constructing the primary field\n",
      "* Constructing the switching curve\n",
      "* Constructing the universal curve\n",
      "* Finding the last characteristic\n",
      "The last point on the universal line:\n",
      "[152.6538238219764, 0.6808471997745928, -0.5280849644519049, 0.750489960036538]\n",
      "Final state:\n",
      "[180.0, -2.4826529720911594e-12, -1.1395291913141377, 1.4121875664938413]\n",
      "Fold-change in tumor size: 1.52\n"
     ]
    },
    {
     "data": {
      "image/png": "[encoded data removed]",
      "text/plain": [
       "<Figure size 486x288 with 1 Axes>"
      ]
     },
     "metadata": {
      "needs_background": "light"
     },
     "output_type": "display_data"
    },
    {
     "name": "stdout",
     "output_type": "stream",
     "text": [
      "\n"
     ]
    }
   ],
   "source": [
    "tmx = 180.\n",
    "end_switching_curve = {'t': 24., 'x': .9/.8} \n",
    "# for Τ, Τbar in zip([28]*5,[14,21,28,35,60]):\n",
    "for Τ, Τbar in zip([28],[60]):\n",
    "    μ = 1./Τ; μbar = 1./Τbar\n",
    "    print(\"Parameters: μ = %.5f, μbar = %.5f\"%(μ,μbar))\n",
    "    end_switching_curve['t'], end_switching_curve['x'] = fsolve(get_δρ_ending,(end_switching_curve['t'],.8*end_switching_curve['x']),args=(μ,μbar),xtol=1.0e-12)\n",
    "    end_point = [end_switching_curve['t']]+get_state(end_switching_curve['t'],end_switching_curve['x'],μ,μbar)\n",
    "    print(\"Ending point for the switching line: τ = %.1f days, x = %.1f%%\" % (end_point[0], end_point[1]*100))\n",
    "    print(\"Checking the solution - should give zero values: \")\n",
    "    print(get_δρ_ending([end_switching_curve['t'],end_switching_curve['x']],μ,μbar))\n",
    "    print(\"* Constructing the primary field\")\n",
    "    experiments = {\n",
    "        'sol1': { 'T_end': tmx, 'τ0': 0., 'x0': list(np.linspace(0,end_switching_curve['x']-(1e-3),10))+list(np.linspace(end_switching_curve['x']+(1e-6),1.,10)) } }\n",
    "    primary_field = []\n",
    "    for name, values in experiments.items():\n",
    "        primary_field.append(get_primary_field(name,values,μ,μbar))\n",
    "    print(\"* Constructing the switching curve\")\n",
    "    switching_curve = []\n",
    "    x0s = np.linspace(end_switching_curve['x'],1,21); _y = end_switching_curve['t']\n",
    "    \n",
    "    for x0 in x0s:\n",
    "        tme = fsolve(get_δρ_value,_y,args=(x0,μ,μbar))[0]\n",
    "        if (tme>0):\n",
    "            switching_curve = switching_curve+[[tme,get_state(tme,x0,μ,μbar)[0]]]\n",
    "            _y = tme\n",
    "    print(\"* Constructing the universal curve\")\n",
    "    universal_curve = get_universal_curve(end_point,tmx,25,μ,μbar)\n",
    "    print(\"* Finding the last characteristic\")\n",
    "    #time0 = time.time()\n",
    "    tuniv = fsolve(get_finalizing_point_from_universal_curve,tmx-40.,args=(tmx,end_point,μ,μbar,))[0]\n",
    "    #print(\"The proccess to find the last characteristic took %0.1f minutes\" % ((time.time()-time0)/60.))\n",
    "    univ_point = get_state_universal(tuniv,end_point,μ,μbar)\n",
    "    print(\"The last point on the universal line:\")\n",
    "    print(univ_point)\n",
    "    last_trajectory = get_trajectory_with_σstar(univ_point,tmx,50,μ,μbar)\n",
    "    print(\"Final state:\")\n",
    "    final_state = get_state_with_σstar(tmx,univ_point,μ,μbar)\n",
    "    print(final_state)\n",
    "    print(\"Fold-change in tumor size: %.2f\"%(exp((b-d)*tmx-final_state[-1])))\n",
    "    # Plotting\n",
    "    plt.rcParams['figure.figsize'] = (6.75, 4)\n",
    "    _k = 0\n",
    "    for solutions in primary_field:\n",
    "        for x0, entry in solutions.items():\n",
    "            plt.plot(entry['τ'], entry['x'], 'k-', linewidth=.9, color=clrs[_k%palette_size])\n",
    "            _k += 1\n",
    "    plt.plot([x[0] for x in switching_curve],[x[1] for x in switching_curve],linewidth=2,color=\"red\")\n",
    "    plt.plot([end_point[0]],[end_point[1]],marker='o',color=\"red\")\n",
    "    plt.plot([x[0] for x in universal_curve],[x[1] for x in universal_curve],linewidth=2,color=\"red\")\n",
    "    plt.plot([x[0] for x in last_trajectory],[x[1] for x in last_trajectory],linewidth=.9,color=\"black\")\n",
    "    plt.xlim([0,tmx]); plt.ylim([0,1]);\n",
    "    plt.xlabel(\"time, days\"); plt.ylabel(\"fraction of resistant cells\")\n",
    "    plt.show()\n",
    "    print()"
   ]
  },
  {
   "cell_type": "code",
   "execution_count": null,
   "metadata": {
    "scrolled": true
   },
   "outputs": [
    {
     "name": "stdout",
     "output_type": "stream",
     "text": [
      "* Parameters: T = 90.0, Tbar = 90.0 (μ = 0.01111, μbar = 0.01111)\n",
      "Ending point: t = 45.07, x = 89.94%  Checking the solution: (1.500588033692019e-08, 3.476372657289835e-07)\n",
      "tuniv = 132.46 xuniv = 59.61%  Checking the solution:  5.967226712755291e-12\n",
      "Fold-change in tumor size: 0.75\n",
      "* Parameters: T = 90.0, Tbar = 88.0 (μ = 0.01111, μbar = 0.01136)\n",
      "Ending point: t = 44.84, x = 89.75%  Checking the solution: (-4.4182813374515356e-08, -2.122730270429693e-07)\n",
      "tuniv = 133.19 xuniv = 58.86%  Checking the solution:  2.0560081415155196e-11\n",
      "Fold-change in tumor size: 0.75\n",
      "* Parameters: T = 90.0, Tbar = 86.0 (μ = 0.01111, μbar = 0.01163)\n",
      "Ending point: t = 44.61, x = 89.56%  Checking the solution: (-3.208999700922589e-08, -4.837822060798036e-08)\n",
      "tuniv = 133.26 xuniv = 58.68%  Checking the solution:  -2.2218338280310945e-13\n",
      "Fold-change in tumor size: 0.74\n",
      "* Parameters: T = 90.0, Tbar = 84.0 (μ = 0.01111, μbar = 0.01190)\n",
      "! Trying again... Convergence is not sufficient\n",
      "Ending point: t = 44.42, x = 89.35%  Checking the solution: (-1.7456313536702116e-08, -4.85957360218573e-10)\n",
      "tuniv = 133.43 xuniv = 58.40%  Checking the solution:  -7.042168931326032e-12\n",
      "Fold-change in tumor size: 0.73\n",
      "* Parameters: T = 90.0, Tbar = 82.0 (μ = 0.01111, μbar = 0.01220)\n",
      "! Trying again... Convergence is not sufficient\n",
      "Ending point: t = 44.26, x = 89.14%  Checking the solution: (-1.4734552235557343e-08, -2.8232416783752662e-08)\n",
      "tuniv = 133.68 xuniv = 58.05%  Checking the solution:  4.1918031545851164e-13\n",
      "Fold-change in tumor size: 0.73\n",
      "* Parameters: T = 90.0, Tbar = 80.0 (μ = 0.01111, μbar = 0.01250)\n",
      "! Trying again... The iteration is not making good progress, as measured by the \n",
      "  improvement from the last ten iterations.\n",
      "Ending point: t = 44.07, x = 88.92%  Checking the solution: (-8.029672270788626e-14, 4.387915344337429e-14)\n",
      "tuniv = 133.88 xuniv = 57.74%  Checking the solution:  2.0053206057496498e-12\n",
      "Fold-change in tumor size: 0.72\n",
      "* Parameters: T = 90.0, Tbar = 78.0 (μ = 0.01111, μbar = 0.01282)\n",
      "Ending point: t = 43.88, x = 88.69%  Checking the solution: (-1.1360138903789702e-13, -9.26835580552298e-15)\n",
      "tuniv = 134.12 xuniv = 57.40%  Checking the solution:  2.2367316332427833e-12\n",
      "Fold-change in tumor size: 0.71\n",
      "* Parameters: T = 90.0, Tbar = 76.0 (μ = 0.01111, μbar = 0.01316)\n",
      "Ending point: t = 43.70, x = 88.45%  Checking the solution: (5.704471065030555e-13, 1.1283833066796716e-13)\n",
      "tuniv = 134.35 xuniv = 57.04%  Checking the solution:  1.786303049922111e-11\n",
      "Fold-change in tumor size: 0.71\n",
      "* Parameters: T = 90.0, Tbar = 74.0 (μ = 0.01111, μbar = 0.01351)\n",
      "Ending point: t = 43.58, x = 88.20%  Checking the solution: (-4.291315846561832e-08, -2.4588433002014685e-07)\n",
      "tuniv = 134.78 xuniv = 56.52%  Checking the solution:  -3.242885127097139e-11\n",
      "Fold-change in tumor size: 0.70\n",
      "* Parameters: T = 90.0, Tbar = 72.0 (μ = 0.01111, μbar = 0.01389)\n",
      "Ending point: t = 43.29, x = 87.93%  Checking the solution: (-1.2070606510000817e-08, 4.586701921684145e-08)\n",
      "tuniv = 134.80 xuniv = 56.34%  Checking the solution:  1.7019989584365902e-11\n",
      "Fold-change in tumor size: 0.69\n",
      "* Parameters: T = 90.0, Tbar = 70.0 (μ = 0.01111, μbar = 0.01429)\n",
      "! Trying again... Convergence is not sufficient\n",
      "Ending point: t = 43.15, x = 87.66%  Checking the solution: (-2.6160683786572956e-08, 1.560834341846963e-07)\n",
      "tuniv = 134.97 xuniv = 56.03%  Checking the solution:  2.7964866533558563e-11\n",
      "Fold-change in tumor size: 0.68\n",
      "* Parameters: T = 90.0, Tbar = 68.0 (μ = 0.01111, μbar = 0.01471)\n",
      "! Trying again... The iteration is not making good progress, as measured by the \n",
      "  improvement from the last ten iterations.\n",
      "! Trying again... Convergence is not sufficient\n",
      "Ending point: t = 42.90, x = 87.37%  Checking the solution: (-5.159488584102032e-09, -2.8221341993403435e-09)\n",
      "tuniv = 135.35 xuniv = 55.54%  Checking the solution:  1.2086567857672037e-11\n",
      "Fold-change in tumor size: 0.67\n",
      "* Parameters: T = 90.0, Tbar = 66.0 (μ = 0.01111, μbar = 0.01515)\n",
      "Ending point: t = 42.69, x = 87.06%  Checking the solution: (1.0631762312841636e-13, 8.074820615520624e-15)\n",
      "tuniv = 135.61 xuniv = 55.14%  Checking the solution:  2.126285258974292e-13\n",
      "Fold-change in tumor size: 0.66\n",
      "* Parameters: T = 90.0, Tbar = 64.0 (μ = 0.01111, μbar = 0.01562)\n",
      "Ending point: t = 42.47, x = 86.74%  Checking the solution: (-4.949341669009379e-13, -3.4686110504017124e-14)\n",
      "tuniv = 135.88 xuniv = 54.72%  Checking the solution:  3.627508016190717e-12\n",
      "Fold-change in tumor size: 0.65\n",
      "* Parameters: T = 90.0, Tbar = 62.0 (μ = 0.01111, μbar = 0.01613)\n",
      "Ending point: t = 42.25, x = 86.41%  Checking the solution: (-8.210271646805657e-09, -2.653205257062396e-08)\n",
      "tuniv = 136.17 xuniv = 54.28%  Checking the solution:  -4.2805495693160056e-11\n",
      "Fold-change in tumor size: 0.64\n",
      "* Parameters: T = 90.0, Tbar = 60.0 (μ = 0.01111, μbar = 0.01667)\n",
      "Ending point: t = 42.18, x = 86.05%  Checking the solution: (-3.6315179201646606e-07, -6.884988621264846e-07)\n",
      "tuniv = 136.88 xuniv = 53.46%  Checking the solution:  -6.426512100254911e-12\n",
      "Fold-change in tumor size: 0.63\n",
      "* Parameters: T = 90.0, Tbar = 58.0 (μ = 0.01111, μbar = 0.01724)\n",
      "Ending point: t = 41.60, x = 85.68%  Checking the solution: (-2.7422823533809055e-07, 7.685335971202687e-07)\n",
      "tuniv = 136.22 xuniv = 53.82%  Checking the solution:  3.228244060959895e-12\n",
      "Fold-change in tumor size: 0.62\n",
      "* Parameters: T = 90.0, Tbar = 56.0 (μ = 0.01111, μbar = 0.01786)\n",
      "! Trying again... Convergence is not sufficient\n",
      "Ending point: t = 41.54, x = 85.28%  Checking the solution: (-1.9238840843054784e-07, -3.8565084510199194e-08)\n",
      "tuniv = 137.04 xuniv = 52.90%  Checking the solution:  6.580153089075225e-13\n",
      "Fold-change in tumor size: 0.61\n",
      "* Parameters: T = 90.0, Tbar = 54.0 (μ = 0.01111, μbar = 0.01852)\n",
      "Ending point: t = 41.30, x = 84.86%  Checking the solution: (-2.5181731908319653e-07, -1.2109103604608673e-07)\n",
      "tuniv = 137.39 xuniv = 52.37%  Checking the solution:  -8.087754424512816e-12\n",
      "Fold-change in tumor size: 0.60\n",
      "* Parameters: T = 90.0, Tbar = 52.0 (μ = 0.01111, μbar = 0.01923)\n",
      "! Trying again... Convergence is not sufficient\n",
      "Ending point: t = 41.02, x = 84.42%  Checking the solution: (-2.3217573557971024e-07, -5.3501486154558194e-09)\n",
      "tuniv = 137.63 xuniv = 51.92%  Checking the solution:  -3.159347783388e-13\n",
      "Fold-change in tumor size: 0.59\n",
      "* Parameters: T = 90.0, Tbar = 50.0 (μ = 0.01111, μbar = 0.02000)\n",
      "! Trying again... Convergence is not sufficient\n",
      "Ending point: t = 40.76, x = 83.94%  Checking the solution: (-1.9683236342948334e-07, -9.333056881518742e-08)\n",
      "tuniv = 138.00 xuniv = 51.36%  Checking the solution:  -4.535136155503494e-12\n",
      "Fold-change in tumor size: 0.57\n",
      "* Parameters: T = 90.0, Tbar = 48.0 (μ = 0.01111, μbar = 0.02083)\n",
      "Ending point: t = 40.57, x = 83.44%  Checking the solution: (-1.6986952957187867e-07, -5.937813112708818e-07)\n",
      "tuniv = 138.60 xuniv = 50.58%  Checking the solution:  1.6946999359390702e-12\n",
      "Fold-change in tumor size: 0.56\n",
      "* Parameters: T = 90.0, Tbar = 46.0 (μ = 0.01111, μbar = 0.02174)\n",
      "Ending point: t = 40.18, x = 82.90%  Checking the solution: (-2.052556857542744e-08, -3.832735644174615e-08)\n",
      "tuniv = 138.64 xuniv = 50.27%  Checking the solution:  5.440217720753537e-12\n",
      "Fold-change in tumor size: 0.55\n",
      "* Parameters: T = 90.0, Tbar = 44.0 (μ = 0.01111, μbar = 0.02273)\n",
      "Ending point: t = 39.87, x = 82.32%  Checking the solution: (-4.675436557168061e-08, 2.344675673238222e-08)\n",
      "tuniv = 138.96 xuniv = 49.70%  Checking the solution:  -3.5191710656690134e-12\n",
      "Fold-change in tumor size: 0.53\n",
      "* Parameters: T = 90.0, Tbar = 42.0 (μ = 0.01111, μbar = 0.02381)\n",
      "Ending point: t = 39.57, x = 81.70%  Checking the solution: (3.16021351882273e-13, 3.547443119729024e-14)\n",
      "tuniv = 139.33 xuniv = 49.08%  Checking the solution:  5.929548518857075e-12\n",
      "Fold-change in tumor size: 0.51\n",
      "* Parameters: T = 90.0, Tbar = 40.0 (μ = 0.01111, μbar = 0.02500)\n",
      "Ending point: t = 39.25, x = 81.03%  Checking the solution: (2.190340044556326e-12, 2.7199495881430006e-13)\n",
      "tuniv = 139.70 xuniv = 48.43%  Checking the solution:  3.744206333866629e-12\n",
      "Fold-change in tumor size: 0.50\n",
      "* Parameters: T = 90.0, Tbar = 38.0 (μ = 0.01111, μbar = 0.02632)\n",
      "Ending point: t = 38.91, x = 80.31%  Checking the solution: (-1.5346066526789813e-12, -2.300380801677517e-13)\n",
      "tuniv = 140.09 xuniv = 47.75%  Checking the solution:  1.6792997548087385e-11\n",
      "Fold-change in tumor size: 0.48\n",
      "* Parameters: T = 90.0, Tbar = 36.0 (μ = 0.01111, μbar = 0.02778)\n"
     ]
    },
    {
     "name": "stdout",
     "output_type": "stream",
     "text": [
      "Ending point: t = 38.65, x = 79.53%  Checking the solution: (-6.913985615860486e-08, -6.348607297051996e-07)\n",
      "tuniv = 140.77 xuniv = 46.81%  Checking the solution:  1.9024965630665136e-11\n",
      "Fold-change in tumor size: 0.46\n",
      "* Parameters: T = 90.0, Tbar = 34.0 (μ = 0.01111, μbar = 0.02941)\n",
      "Ending point: t = 38.25, x = 78.68%  Checking the solution: (-2.852119772249931e-07, -3.7745928476030216e-07)\n",
      "tuniv = 141.06 xuniv = 46.16%  Checking the solution:  -3.151593569450384e-11\n",
      "Fold-change in tumor size: 0.44\n",
      "* Parameters: T = 90.0, Tbar = 32.0 (μ = 0.01111, μbar = 0.03125)\n",
      "Ending point: t = 37.83, x = 77.75%  Checking the solution: (-1.2062591330166447e-07, -1.00640664320317e-07)\n",
      "tuniv = 141.37 xuniv = 45.47%  Checking the solution:  -2.4147350785597155e-14\n",
      "Fold-change in tumor size: 0.42\n",
      "* Parameters: T = 90.0, Tbar = 30.0 (μ = 0.01111, μbar = 0.03333)\n",
      "Ending point: t = 37.53, x = 76.73%  Checking the solution: (-2.8665355121959573e-07, -9.429755962722306e-07)\n",
      "tuniv = 142.15 xuniv = 44.36%  Checking the solution:  1.964924056796491e-11\n",
      "Fold-change in tumor size: 0.40\n",
      "* Parameters: T = 90.0, Tbar = 28.0 (μ = 0.01111, μbar = 0.03571)\n",
      "Ending point: t = 37.04, x = 75.60%  Checking the solution: (-3.180299506094764e-08, -2.2730274921880306e-07)\n",
      "tuniv = 142.33 xuniv = 43.70%  Checking the solution:  -8.42874381401515e-12\n",
      "Fold-change in tumor size: 0.38\n",
      "* Parameters: T = 90.0, Tbar = 26.0 (μ = 0.01111, μbar = 0.03846)\n",
      "! Trying again... The iteration is not making good progress, as measured by the \n",
      "  improvement from the last ten iterations.\n",
      "Ending point: t = 36.58, x = 74.35%  Checking the solution: (2.4854697835453854e-14, 2.1627748210006694e-15)\n",
      "tuniv = 142.73 xuniv = 42.82%  Checking the solution:  5.454664497861472e-12\n",
      "Fold-change in tumor size: 0.36\n",
      "* Parameters: T = 90.0, Tbar = 24.0 (μ = 0.01111, μbar = 0.04167)\n",
      "Ending point: t = 36.13, x = 72.95%  Checking the solution: (-1.5706732450575765e-12, -1.1535429460899775e-13)\n",
      "tuniv = 143.24 xuniv = 41.81%  Checking the solution:  8.141577689801949e-13\n",
      "Fold-change in tumor size: 0.33\n",
      "* Parameters: T = 90.0, Tbar = 22.0 (μ = 0.01111, μbar = 0.04545)\n",
      "! Trying again... Convergence is not sufficient\n",
      "Ending point: t = 35.66, x = 71.38%  Checking the solution: (-1.8512894913559898e-07, -1.2054321219349409e-07)\n",
      "tuniv = 143.80 xuniv = 40.68%  Checking the solution:  -7.840277038706489e-12\n",
      "Fold-change in tumor size: 0.31\n",
      "* Parameters: T = 90.0, Tbar = 20.0 (μ = 0.01111, μbar = 0.05000)\n",
      "! Trying again... Convergence is not sufficient\n",
      "Ending point: t = 35.16, x = 69.59%  Checking the solution: (-1.7801499899729428e-07, -9.54414172713925e-08)\n",
      "tuniv = 144.34 xuniv = 39.51%  Checking the solution:  2.7110674816199776e-12\n",
      "Fold-change in tumor size: 0.28\n",
      "* Parameters: T = 90.0, Tbar = 18.0 (μ = 0.01111, μbar = 0.05556)\n",
      "Ending point: t = 34.64, x = 67.55%  Checking the solution: (2.079499309429406e-12, -2.0424540928974056e-12)\n",
      "tuniv = 144.88 xuniv = 38.24%  Checking the solution:  1.6504573532513667e-11\n",
      "Fold-change in tumor size: 0.25\n",
      "* Parameters: T = 90.0, Tbar = 16.0 (μ = 0.01111, μbar = 0.06250)\n",
      "Ending point: t = 34.11, x = 65.17%  Checking the solution: (-5.3865412264115804e-08, -1.6911522136666092e-07)\n",
      "tuniv = 145.52 xuniv = 36.79%  Checking the solution:  -1.8587342602571777e-11\n",
      "Fold-change in tumor size: 0.22\n",
      "* Parameters: T = 90.0, Tbar = 14.0 (μ = 0.01111, μbar = 0.07143)\n",
      "Ending point: t = 33.56, x = 62.37%  Checking the solution: (-8.825600847828154e-08, -4.486002029246736e-08)\n",
      "tuniv = 146.08 xuniv = 35.23%  Checking the solution:  -1.9994908506681952e-12\n",
      "Fold-change in tumor size: 0.19\n",
      "* Parameters: T = 90.0, Tbar = 12.0 (μ = 0.01111, μbar = 0.08333)\n",
      "! Trying again... The iteration is not making good progress, as measured by the \n",
      "  improvement from the last ten iterations.\n",
      "Ending point: t = 33.04, x = 59.02%  Checking the solution: (-8.141105174838086e-09, -9.549380956790263e-09)\n",
      "tuniv = 146.65 xuniv = 33.46%  Checking the solution:  2.1415022533055605e-12\n",
      "Fold-change in tumor size: 0.16\n",
      "* Parameters: T = 90.0, Tbar = 10.0 (μ = 0.01111, μbar = 0.10000)\n",
      "! Trying again... The iteration is not making good progress, as measured by the \n",
      "  improvement from the last ten iterations.\n",
      "! Trying again... Convergence is not sufficient\n",
      "! Trying again... The iteration is not making good progress, as measured by the \n",
      "  improvement from the last five Jacobian evaluations.\n",
      "! Trying again... The iteration is not making good progress, as measured by the \n",
      "  improvement from the last five Jacobian evaluations.\n",
      "Ending point: t = 32.62, x = 54.90%  Checking the solution: (-8.000396304670048e-08, -8.077356279074904e-07)\n",
      "tuniv = 147.35 xuniv = 31.32%  Checking the solution:  1.088650003477909e-12\n",
      "Fold-change in tumor size: 0.13\n",
      "* Parameters: T = 90.0, Tbar = 8.0 (μ = 0.01111, μbar = 0.12500)\n",
      "! Trying again... The iteration is not making good progress, as measured by the \n",
      "  improvement from the last ten iterations.\n",
      "! Trying again... Convergence is not sufficient\n",
      "! Trying again... Convergence is not sufficient\n",
      "Ending point: t = 32.37, x = 49.70%  Checking the solution: (-6.181892025487087e-07, 2.1994305265542234e-07)\n",
      "tuniv = 147.35 xuniv = 29.06%  Checking the solution:  7.816948477401553e-12\n",
      "Fold-change in tumor size: 0.09\n",
      "* Parameters: T = 90.0, Tbar = 6.0 (μ = 0.01111, μbar = 0.16667)\n",
      "Ending point: t = 33.03, x = 42.83%  Checking the solution: (-4.392043748412426e-11, -3.379696485473721e-12)\n",
      "tuniv = 146.81 xuniv = 26.12%  Checking the solution:  2.8822083608659455e-12\n",
      "Fold-change in tumor size: 0.06\n",
      "* Parameters: T = 90.0, Tbar = 4.0 (μ = 0.01111, μbar = 0.25000)\n",
      "Ending point: t = 39.07, x = 33.13%  Checking the solution: (1.3181056644332069e-11, 1.1043843454560326e-12)\n",
      "tuniv = 140.82 xuniv = 22.37%  Checking the solution:  3.2190292098555062e-12\n",
      "Fold-change in tumor size: 0.04\n",
      "* Parameters: T = 88.0, Tbar = 90.0 (μ = 0.01136, μbar = 0.01111)\n",
      "Ending point: t = 44.65, x = 90.00%  Checking the solution: (-3.5862911667972276e-08, -1.7209235027035767e-07)\n",
      "tuniv = 133.29 xuniv = 59.47%  Checking the solution:  6.832201471240751e-12\n",
      "Fold-change in tumor size: 0.77\n",
      "* Parameters: T = 88.0, Tbar = 88.0 (μ = 0.01136, μbar = 0.01136)\n",
      "Ending point: t = 45.13, x = 89.81%  Checking the solution: (3.391989841021889e-07, 8.982145107514915e-07)\n",
      "tuniv = 132.50 xuniv = 60.02%  Checking the solution:  1.4414159536096927e-11\n",
      "Fold-change in tumor size: 0.76\n",
      "* Parameters: T = 88.0, Tbar = 86.0 (μ = 0.01136, μbar = 0.01163)\n",
      "Ending point: t = 44.30, x = 89.62%  Checking the solution: (-3.291758030172231e-08, -1.1589169569118912e-07)\n",
      "tuniv = 133.65 xuniv = 58.91%  Checking the solution:  1.9604838585873807e-12\n",
      "Fold-change in tumor size: 0.75\n",
      "* Parameters: T = 88.0, Tbar = 84.0 (μ = 0.01136, μbar = 0.01190)\n",
      "Ending point: t = 44.70, x = 89.41%  Checking the solution: (2.958585994336961e-07, 8.534979315181747e-07)\n",
      "tuniv = 133.01 xuniv = 59.33%  Checking the solution:  -5.468681063547365e-13\n",
      "Fold-change in tumor size: 0.75\n",
      "* Parameters: T = 88.0, Tbar = 82.0 (μ = 0.01136, μbar = 0.01220)\n",
      "Ending point: t = 43.91, x = 89.20%  Checking the solution: (-1.9854571570555537e-08, 5.497660726709136e-10)\n",
      "tuniv = 133.99 xuniv = 58.35%  Checking the solution:  5.178969232633168e-13\n",
      "Fold-change in tumor size: 0.74\n",
      "* Parameters: T = 88.0, Tbar = 80.0 (μ = 0.01136, μbar = 0.01250)\n",
      "! Trying again... Convergence is not sufficient\n",
      "Ending point: t = 43.73, x = 88.98%  Checking the solution: (8.845180261108721e-14, 1.3685186751677977e-14)\n",
      "tuniv = 134.22 xuniv = 58.02%  Checking the solution:  -2.7149463233122617e-12\n",
      "Fold-change in tumor size: 0.73\n",
      "* Parameters: T = 88.0, Tbar = 78.0 (μ = 0.01136, μbar = 0.01282)\n",
      "Ending point: t = 43.55, x = 88.75%  Checking the solution: (-6.1587206620877626e-12, -2.102131377463342e-12)\n",
      "tuniv = 134.45 xuniv = 57.68%  Checking the solution:  1.9423074260060957e-12\n",
      "Fold-change in tumor size: 0.73\n",
      "* Parameters: T = 88.0, Tbar = 76.0 (μ = 0.01136, μbar = 0.01316)\n",
      "! Trying again... Convergence is not sufficient\n",
      "Ending point: t = 43.36, x = 88.51%  Checking the solution: (1.3957021980206055e-13, 1.1081655463635516e-14)\n",
      "tuniv = 134.68 xuniv = 57.33%  Checking the solution:  -1.2531264220738692e-11\n",
      "Fold-change in tumor size: 0.72\n",
      "* Parameters: T = 88.0, Tbar = 74.0 (μ = 0.01136, μbar = 0.01351)\n"
     ]
    },
    {
     "name": "stdout",
     "output_type": "stream",
     "text": [
      "Ending point: t = 43.18, x = 88.26%  Checking the solution: (-3.0954356230088475e-08, -9.57077747225905e-10)\n",
      "tuniv = 134.92 xuniv = 56.97%  Checking the solution:  -1.6111209588665076e-12\n",
      "Fold-change in tumor size: 0.71\n",
      "* Parameters: T = 88.0, Tbar = 72.0 (μ = 0.01136, μbar = 0.01389)\n",
      "! Trying again... The iteration is not making good progress, as measured by the \n",
      "  improvement from the last ten iterations.\n",
      "Ending point: t = 42.99, x = 88.00%  Checking the solution: (-2.152531973503716e-08, -4.2778175766388595e-08)\n",
      "tuniv = 135.20 xuniv = 56.57%  Checking the solution:  5.475820491485095e-11\n",
      "Fold-change in tumor size: 0.70\n",
      "* Parameters: T = 88.0, Tbar = 70.0 (μ = 0.01136, μbar = 0.01429)\n"
     ]
    }
   ],
   "source": [
    "import csv\n",
    "from numpy.linalg import norm\n",
    "File = open(\"../figures/draft/sensitivity_mu-low_cost.csv\", 'w')\n",
    "File.write(\"T,Tbar,mu,mubar,sw_start_x,sw_end_t,sw_end_x,univ_point_t,univ_point_x,outcome,err_sw_t,err_sw_x\\n\")\n",
    "writer = csv.writer(File,lineterminator='\\n')\n",
    "\n",
    "end_switching_curve0 = {'t': 40.36, 'x': .92}\n",
    "end_switching_curve_prev_t = end_switching_curve0['t']\n",
    "tuniv = tmx-30.\n",
    "Ts = np.arange(90,2,-2) #Τbars; \n",
    "Τbars = np.arange(90,2,-2) #np.arange(120,1,-1) #need to change here if more\n",
    "for Τ in Ts:\n",
    "    μ = 1./Τ\n",
    "    end_switching_curve = deepcopy(end_switching_curve0)\n",
    "    for Τbar in Τbars:\n",
    "        μbar = 1./Τbar\n",
    "        print(\"* Parameters: T = %.1f, Tbar = %.1f (μ = %.5f, μbar = %.5f)\"%(Τ,Τbar,μ,μbar))\n",
    "        success = False; err = 1.\n",
    "        while (not success)|(norm(err)>1e-6):\n",
    "            end_switching_curve = {'t': 2*end_switching_curve['t']-end_switching_curve_prev_t-.001, \n",
    "                                   'x': end_switching_curve['x']-0.002} \n",
    "            sol = root(get_δρ_ending,(end_switching_curve['t'],end_switching_curve['x']),args=(μ,μbar))\n",
    "            end_switching_curve_prev_t = end_switching_curve['t']\n",
    "            end_switching_curve_prev_x = end_switching_curve['x']\n",
    "            end_switching_curve['t'], end_switching_curve['x'] = sol.x \n",
    "            success = sol.success\n",
    "            err = get_δρ_ending([end_switching_curve['t'],end_switching_curve['x']],μ,μbar)\n",
    "            if (not success): \n",
    "                print(\"! Trying again...\", sol.message)\n",
    "            elif (norm(err)>1e-6):\n",
    "                print(\"! Trying again... Convergence is not sufficient\")       \n",
    "        else:\n",
    "            end_point = [end_switching_curve['t']]+get_state(end_switching_curve['t'],end_switching_curve['x'],μ,μbar)\n",
    "            print(\"Ending point: t = %.2f, x = %.2f%%\"%(end_switching_curve['t'],100*end_switching_curve['x']),\" Checking the solution:\",err)\n",
    "            universal_curve = get_universal_curve(end_point,tmx,25,μ,μbar)\n",
    "            tuniv = root(get_finalizing_point_from_universal_curve,tuniv,args=(tmx,end_point,μ,μbar)).x\n",
    "            err_tuniv = get_finalizing_point_from_universal_curve(tuniv,tmx,end_point,μ,μbar)\n",
    "            univ_point = get_state_universal(tuniv,end_point,μ,μbar)\n",
    "            print(\"tuniv = %.2f\"%tuniv,\"xuniv = %.2f%%\"%(100*univ_point[1]),\" Checking the solution: \",err_tuniv)\n",
    "            final_state = get_state_with_σstar(tmx,univ_point,μ,μbar)\n",
    "            outcome = exp((b-d)*tmx-final_state[-1])\n",
    "            print(\"Fold-change in tumor size: %.2f\"%(outcome))\n",
    "            output = [Τ,Τbar,μ,μbar,end_switching_curve['x'],end_point[0],end_point[1]]+list(univ_point[0:2])+[outcome]+list(err)+[err_tuniv]\n",
    "            writer.writerow(output)\n",
    "        if (Τbar==Τ):\n",
    "            end_switching_curve0 = deepcopy(end_switching_curve) \n",
    "\n",
    "File.close()"
   ]
  },
  {
   "cell_type": "markdown",
   "metadata": {},
   "source": [
    "* Here I investigate the dependence of $\\mathrm{FoldChange}(T,\\bar T)$. I fix $T$ at 15,30,45,60 days, and then I vary $\\bar T$ between zero and $4T$. The example below is just a simulation for only one given value of $T$.  "
   ]
  },
  {
   "cell_type": "code",
   "execution_count": null,
   "metadata": {
    "scrolled": true
   },
   "outputs": [],
   "source": [
    "import csv\n",
    "from numpy.linalg import norm\n",
    "File = open(\"../results/sensitivity1.csv\", 'w')\n",
    "File.write(\"T,Tbar,mu,mubar,sw_end_t,sw_end_x,univ_point_t,univ_point_x,outcome,err_sw_t,err_sw_x\\n\")\n",
    "writer = csv.writer(File,lineterminator='\\n')\n",
    "\n",
    "end_switching_curve = {'t': 23.36, 'x': .9592}\n",
    "end_switching_curve_prev_t = end_switching_curve['t']\n",
    "tuniv = tmx-30.\n",
    "Τ = 15\n",
    "Τbars_step = .5; Tbars = np.arange(Τ*4,0,-Τbars_step)\n",
    "for Τbar in Tbars:\n",
    "    μ = 1./Τ; μbar = 1./Τbar\n",
    "    print(\"* Parameters: T = %.1f, Tbar = %.1f (μ = %.5f, μbar = %.5f)\"%(Τ,Τbar,μ,μbar))\n",
    "    success = False; err = 1.\n",
    "    while (not success)|(norm(err)>1e-6):\n",
    "        end_switching_curve = {'t': 2*end_switching_curve['t']-end_switching_curve_prev_t-.001, \n",
    "                               'x': end_switching_curve['x']-0.002} \n",
    "        sol = root(get_δρ_ending,(end_switching_curve['t'],end_switching_curve['x']),args=(μ,μbar))\n",
    "        end_switching_curve_prev_t = end_switching_curve['t']\n",
    "        end_switching_curve_prev_x = end_switching_curve['x']\n",
    "        end_switching_curve['t'], end_switching_curve['x'] = sol.x   \n",
    "        success = sol.success\n",
    "        err = get_δρ_ending([end_switching_curve['t'],end_switching_curve['x']],μ,μbar)\n",
    "        if (not success): \n",
    "            print(\"! Trying again...\", sol.message)\n",
    "        elif (norm(err)>1e-6):\n",
    "            print(\"! Trying again... Convergence is not sufficient\")       \n",
    "    else:\n",
    "        end_point = [end_switching_curve['t']]+get_state(end_switching_curve['t'],end_switching_curve['x'],μ,μbar)\n",
    "        print(\"Ending point: t = %.2f, x = %.2f%%\"%(end_switching_curve['t'],100*end_switching_curve['x']),\" Checking the solution:\",err)\n",
    "        universal_curve = get_universal_curve(end_point,tmx,25,μ,μbar)\n",
    "        tuniv = root(get_finalizing_point_from_universal_curve,tuniv,args=(tmx,end_point,μ,μbar)).x\n",
    "        err_tuniv = get_finalizing_point_from_universal_curve(tuniv,tmx,end_point,μ,μbar)\n",
    "        univ_point = get_state_universal(tuniv,end_point,μ,μbar)\n",
    "        print(\"tuniv = %.2f\"%tuniv,\" Checking the solution: \",err_tuniv)\n",
    "        final_state = get_state_with_σstar(tmx,univ_point,μ,μbar)\n",
    "        outcome = exp((b-d)*tmx-final_state[-1])\n",
    "        print(\"Fold-change in tumor size: %.2f\"%(outcome))\n",
    "        output = [Τ,Τbar,μ,μbar,end_switching_curve['t'],end_switching_curve['x']]+list(univ_point[0:2])+[outcome]+list(err)+[err_tuniv]\n",
    "        writer.writerow(output)\n",
    "    \n",
    "File.close()"
   ]
  },
  {
   "cell_type": "markdown",
   "metadata": {},
   "source": [
    "* The results are aggregated in a file **sensitivity1_agg.csv**."
   ]
  },
  {
   "cell_type": "code",
   "execution_count": null,
   "metadata": {},
   "outputs": [],
   "source": [
    "df = pd.DataFrame.from_csv(\"../figures/draft/sensitivity1_agg.csv\").reset_index().drop(['err_sw_t','err_sw_x','err_tuniv'],1)\n",
    "df['Tratio'] = df['Tbar']/df['T']\n",
    "df.head()"
   ]
  },
  {
   "cell_type": "code",
   "execution_count": null,
   "metadata": {},
   "outputs": [],
   "source": []
  }
 ],
 "metadata": {
  "anaconda-cloud": {},
  "kernelspec": {
   "display_name": "Python 3",
   "language": "python",
   "name": "python3"
  },
  "language_info": {
   "codemirror_mode": {
    "name": "ipython",
    "version": 3
   },
   "file_extension": ".py",
   "mimetype": "text/x-python",
   "name": "python",
   "nbconvert_exporter": "python",
   "pygments_lexer": "ipython3",
   "version": "3.6.6"
  }
 },
 "nbformat": 4,
 "nbformat_minor": 1
}
