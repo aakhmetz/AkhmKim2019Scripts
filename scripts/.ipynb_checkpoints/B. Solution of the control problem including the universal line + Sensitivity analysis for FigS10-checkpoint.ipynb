{
 "cells": [
  {
   "cell_type": "markdown",
   "metadata": {},
   "source": [
    "# Aim of this notebook\n",
    "\n",
    "* To construct the singular curve of universal type to finalize the solution of the optimal control problem"
   ]
  },
  {
   "cell_type": "markdown",
   "metadata": {},
   "source": [
    "# Preamble"
   ]
  },
  {
   "cell_type": "code",
   "execution_count": 1,
   "metadata": {
    "collapsed": true
   },
   "outputs": [],
   "source": [
    "from sympy import *\n",
    "init_printing(use_latex='mathjax')\n",
    "\n",
    "# Plotting\n",
    "%matplotlib inline\n",
    "## Make inline plots raster graphics\n",
    "from IPython.display import set_matplotlib_formats\n",
    "## Import modules for plotting and data analysis\n",
    "import matplotlib.pyplot as plt\n",
    "from matplotlib import gridspec,rc,colors\n",
    "import matplotlib.ticker as plticker\n",
    "## Parameters for seaborn plots\n",
    "import seaborn as sns\n",
    "sns.set(style='white',font_scale=1.25,\n",
    "        rc={\"xtick.major.size\": 6, \"ytick.major.size\": 6,\n",
    "            'text.usetex': False, 'font.family': 'serif', 'font.serif': ['Times']})\n",
    "\n",
    "import pandas as pd\n",
    "pd.set_option('mode.chained_assignment',None)\n",
    "\n",
    "import numpy as np\n",
    "from scipy.optimize import fsolve, root\n",
    "from scipy.integrate import ode\n",
    "backend = 'dopri5'\n",
    "import warnings\n",
    "\n",
    "# Timer\n",
    "import time\n",
    "\n",
    "from copy import deepcopy\n",
    "\n",
    "from itertools import cycle\n",
    "palette_size = 10;\n",
    "clrs = sns.color_palette(\"Reds\",palette_size)\n",
    "iclrs = cycle(clrs) # iterated colors\n",
    "\n",
    "# Suppress warnings\n",
    "import warnings\n",
    "warnings.filterwarnings(\"ignore\")"
   ]
  },
  {
   "cell_type": "markdown",
   "metadata": {},
   "source": [
    "# Parameter values"
   ]
  },
  {
   "cell_type": "markdown",
   "metadata": {},
   "source": [
    "* Birth rate and const of downregulation are defined below in order to fit some experim. data"
   ]
  },
  {
   "cell_type": "code",
   "execution_count": 2,
   "metadata": {
    "collapsed": true
   },
   "outputs": [],
   "source": [
    "d = .13 # death rate\n",
    "c = .04 # cost of resistance\n",
    "α = .3 # low equilibrium point at expression of the main pathway (high equilibrium is at one)\n",
    "θ = .45 # threshold value for the expression of the main pathway\n",
    "κ = 40 # robustness parameter\n",
    "L = .2 # parameter used to model the effect of treatment (see the line below)"
   ]
  },
  {
   "cell_type": "markdown",
   "metadata": {},
   "source": [
    "* Symbolic variables - the list insludes μ & μbar, because they will be varied later"
   ]
  },
  {
   "cell_type": "code",
   "execution_count": 3,
   "metadata": {
    "collapsed": true
   },
   "outputs": [],
   "source": [
    "σ, φ0, φ, x, μ, μbar = symbols('sigma, phi0, phi, x, mu, mubar')"
   ]
  },
  {
   "cell_type": "markdown",
   "metadata": {},
   "source": [
    "* Main functions"
   ]
  },
  {
   "cell_type": "code",
   "execution_count": 4,
   "metadata": {
    "collapsed": true
   },
   "outputs": [],
   "source": [
    "A = 1-σ*(1-θ)*(1-L)\n",
    "Θ = θ+σ*(1-θ)*L\n",
    "Eminus = (α*A-Θ)**2/2\n",
    "ΔE = A*(1-α)*((1+α)*A/2-Θ)\n",
    "ΔEf = lambdify(σ,ΔE)"
   ]
  },
  {
   "cell_type": "markdown",
   "metadata": {},
   "source": [
    "* Birth rate and cost of downregulation"
   ]
  },
  {
   "cell_type": "code",
   "execution_count": 5,
   "metadata": {},
   "outputs": [
    {
     "data": {
      "text/latex": [
       "$$\\left ( 0.140154784911281, \\quad 0.299759386875464\\right )$$"
      ],
      "text/plain": [
       "(0.140154784911281, 0.299759386875464)"
      ]
     },
     "execution_count": 5,
     "metadata": {},
     "output_type": "execute_result"
    }
   ],
   "source": [
    "b = (0.1*(exp(κ*(ΔEf(1)))+1)-0.14*(exp(κ*ΔEf(0))+1))/(exp(κ*ΔEf(1))-exp(κ*ΔEf(0))) # birth rate\n",
    "χ = 1-(0.14*(exp(κ*ΔEf(0))+1)-b*exp(κ*ΔEf(0)))/b\n",
    "b, χ"
   ]
  },
  {
   "cell_type": "markdown",
   "metadata": {},
   "source": [
    "* Hamiltonian *H* and a part of it ρ that includes the control variable σ"
   ]
  },
  {
   "cell_type": "code",
   "execution_count": 6,
   "metadata": {},
   "outputs": [
    {
     "data": {
      "text/latex": [
       "$$\\left ( \\phi \\left(\\frac{\\mu \\left(- x + 1\\right)}{e^{40 \\left(- 0.396 \\sigma + 0.2\\right) \\left(- 0.308 \\sigma + 0.7\\right)} + 1} - \\bar{\\mu} x e^{- 20 \\left(- 0.242 \\sigma - 0.15\\right)^{2}} + x \\left(-0.00560619139645122 + \\frac{0.042012712392668}{e^{40 \\left(- 0.396 \\sigma + 0.2\\right) \\left(- 0.308 \\sigma + 0.7\\right)} + 1}\\right) \\left(- x + 1\\right)\\right) - \\phi_{0} + 0.00560619139645122 x + \\frac{0.042012712392668 \\left(- x + 1\\right)}{e^{40 \\left(- 0.396 \\sigma + 0.2\\right) \\left(- 0.308 \\sigma + 0.7\\right)} + 1}, \\quad - \\bar{\\mu} \\phi x e^{- 20 \\left(- 0.242 \\sigma - 0.15\\right)^{2}} + \\frac{\\left(- x + 1\\right) \\left(\\phi \\left(\\mu + 0.042012712392668 x\\right) + 0.042012712392668\\right)}{e^{40 \\left(- 0.396 \\sigma + 0.2\\right) \\left(- 0.308 \\sigma + 0.7\\right)} + 1}\\right )$$"
      ],
      "text/plain": [
       "⎛  ⎛                                                                       2  \n",
       "⎜  ⎜                μ⋅(-x + 1)                        -20⋅(-0.242⋅σ - 0.15)   \n",
       "⎜φ⋅⎜───────────────────────────────────────── - μ̅⋅x⋅ℯ                       +\n",
       "⎜  ⎜ 40⋅(-0.396⋅σ + 0.2)⋅(-0.308⋅σ + 0.7)                                     \n",
       "⎝  ⎝ℯ                                     + 1                                 \n",
       "\n",
       "                                                                              \n",
       "   ⎛                                   0.042012712392668            ⎞         \n",
       " x⋅⎜-0.00560619139645122 + ─────────────────────────────────────────⎟⋅(-x + 1)\n",
       "   ⎜                        40⋅(-0.396⋅σ + 0.2)⋅(-0.308⋅σ + 0.7)    ⎟         \n",
       "   ⎝                       ℯ                                     + 1⎠         \n",
       "\n",
       "⎞                                                                             \n",
       "⎟                                        0.042012712392668⋅(-x + 1)           \n",
       "⎟ - φ₀ + 0.00560619139645122⋅x + ─────────────────────────────────────────, - \n",
       "⎟                                 40⋅(-0.396⋅σ + 0.2)⋅(-0.308⋅σ + 0.7)        \n",
       "⎠                                ℯ                                     + 1    \n",
       "\n",
       "                             2                                                \n",
       "        -20⋅(-0.242⋅σ - 0.15)    (-x + 1)⋅(φ⋅(μ + 0.042012712392668⋅x) + 0.042\n",
       "μ̅⋅φ⋅x⋅ℯ                       + ─────────────────────────────────────────────\n",
       "                                          40⋅(-0.396⋅σ + 0.2)⋅(-0.308⋅σ + 0.7)\n",
       "                                         ℯ                                    \n",
       "\n",
       "             ⎞\n",
       "012712392668)⎟\n",
       "─────────────⎟\n",
       "             ⎟\n",
       " + 1         ⎠"
      ]
     },
     "execution_count": 6,
     "metadata": {},
     "output_type": "execute_result"
    }
   ],
   "source": [
    "h = b*(χ/(exp(κ*ΔE)+1)*(1-x)+c*x)\n",
    "H = -φ0 + φ*(b*(χ/(exp(κ*ΔE)+1)-c)*x*(1-x)+μ*(1-x)/(exp(κ*ΔE)+1)-μbar*exp(-κ*Eminus)*x) + h\n",
    "ρ = (φ*(b*χ*x+μ)+b*χ)/(exp(κ*ΔE)+1)*(1-x)-φ*μbar*exp(-κ*Eminus)*x\n",
    "H, ρ"
   ]
  },
  {
   "cell_type": "markdown",
   "metadata": {},
   "source": [
    "* Same but for no treatment (σ = 0)"
   ]
  },
  {
   "cell_type": "code",
   "execution_count": 7,
   "metadata": {},
   "outputs": [
    {
     "data": {
      "text/latex": [
       "$$\\left ( \\phi \\left(0.00368423989943599 \\mu \\left(- x + 1\\right) - 0.637628151621773 \\bar{\\mu} x - 0.00545140648517063 x \\left(- x + 1\\right)\\right) - \\phi_{0} + 0.00545140648517063 x + 0.000154784911280596, \\quad - 0.637628151621773 \\bar{\\mu} \\phi x + 0.00368423989943599 \\left(- x + 1\\right) \\left(\\phi \\left(\\mu + 0.042012712392668 x\\right) + 0.042012712392668\\right)\\right )$$"
      ],
      "text/plain": [
       "(φ⋅(0.00368423989943599⋅μ⋅(-x + 1) - 0.637628151621773⋅μ̅⋅x - 0.00545140648517\n",
       "063⋅x⋅(-x + 1)) - φ₀ + 0.00545140648517063⋅x + 0.000154784911280596, -0.637628\n",
       "151621773⋅μ̅⋅φ⋅x + 0.00368423989943599⋅(-x + 1)⋅(φ⋅(μ + 0.042012712392668⋅x) +\n",
       " 0.042012712392668))"
      ]
     },
     "execution_count": 7,
     "metadata": {},
     "output_type": "execute_result"
    }
   ],
   "source": [
    "h0 = h.subs(σ,0)\n",
    "H0 = H.subs(σ,0)\n",
    "ρ0 = ρ.subs(σ,0)\n",
    "H0, ρ0"
   ]
  },
  {
   "cell_type": "markdown",
   "metadata": {},
   "source": [
    "* Machinery: definition of the Poisson brackets"
   ]
  },
  {
   "cell_type": "code",
   "execution_count": 8,
   "metadata": {
    "collapsed": true
   },
   "outputs": [],
   "source": [
    "PoissonBrackets = lambda H1, H2: diff(H1,x)*diff(H2,φ)-diff(H1,φ)*diff(H2,x)"
   ]
  },
  {
   "cell_type": "markdown",
   "metadata": {},
   "source": [
    "* Necessary functions and defining the right hand side of dynamical equations"
   ]
  },
  {
   "cell_type": "code",
   "execution_count": 9,
   "metadata": {
    "collapsed": true
   },
   "outputs": [],
   "source": [
    "ρf = lambdify((x,φ,σ,μ,μbar),ρ)\n",
    "ρ0f = lambdify((x,φ,μ,μbar),ρ0)\n",
    "dxdτ = lambdify((x,φ,σ,μ,μbar),-diff(H,φ))\n",
    "dφdτ = lambdify((x,φ,σ,μ,μbar),diff(H,x))\n",
    "dVdτ = lambdify((x,σ),h)\n",
    "dρdσ = lambdify((σ,x,φ,μ,μbar),diff(ρ,σ))\n",
    "dδρdτ = lambdify((x,φ,σ,μ,μbar),-PoissonBrackets(ρ0-ρ,H))\n",
    "def ode_rhs(t,state,μ,μbar):\n",
    "    x, φ, V, δρ = state\n",
    "    σs = [0,1]\n",
    "    if (dρdσ(1.,x,φ,μ,μbar)<0) and (dρdσ(θ,x,φ,μ,μbar)>0):\n",
    "        σstar = fsolve(dρdσ,.8,args=(x,φ,μ,μbar,))[0]\n",
    "    else:\n",
    "        σstar = 1.;\n",
    "    if ρf(x,φ,σstar,μ,μbar) < ρ0f(x,φ,μ,μbar):\n",
    "        sgm = 0\n",
    "    else:\n",
    "        sgm = σstar\n",
    "    return [dxdτ(x,φ,sgm,μ,μbar),dφdτ(x,φ,sgm,μ,μbar),dVdτ(x,sgm),dδρdτ(x,φ,σstar,μ,μbar)]\n",
    "def σstarf(x,φ,μ,μbar):\n",
    "    if (dρdσ(1.,x,φ,μ,μbar)<0) and (dρdσ(θ,x,φ,μ,μbar)>0):\n",
    "        σstar = fsolve(dρdσ,.8,args=(x,φ,μ,μbar,))[0]\n",
    "    else:\n",
    "        σstar = 1.;\n",
    "    if ρf(x,φ,σstar,μ,μbar) < ρ0f(x,φ,μ,μbar):\n",
    "        sgm = 0\n",
    "    else:\n",
    "        sgm = σstar\n",
    "    return sgm"
   ]
  },
  {
   "cell_type": "code",
   "execution_count": 10,
   "metadata": {
    "collapsed": true
   },
   "outputs": [],
   "source": [
    "def get_primary_field(name, experiment,μ,μbar):\n",
    "    solutions = {}\n",
    "    solver = ode(ode_rhs).set_integrator(backend)\n",
    "    τ0 = experiment['τ0']\n",
    "    tms = np.linspace(τ0,experiment['T_end'],1e3+1)\n",
    "    for x0 in experiment['x0']:\n",
    "        δρ0 = ρ0.subs(x,x0).subs(φ,0)-ρ.subs(x,x0).subs(φ,0).subs(σ,1.)\n",
    "        solver.set_initial_value([x0,0,0,δρ0],0.).set_f_params(μ,μbar)\n",
    "        sol = []; k = 0;\n",
    "        while (solver.t < experiment['T_end']) and (solver.y[0]<=1.) and (solver.y[0]>=0.):\n",
    "            solver.integrate(tms[k])\n",
    "            sol.append([solver.t]+list(solver.y))\n",
    "            k += 1\n",
    "        solutions[x0] = {'solution': sol}\n",
    "    for x0, entry in solutions.items():\n",
    "        entry['τ'] = [entry['solution'][j][0] for j in range(len(entry['solution']))]\n",
    "        entry['x'] = [entry['solution'][j][1] for j in range(len(entry['solution']))]\n",
    "        entry['φ'] = [entry['solution'][j][2] for j in range(len(entry['solution']))]\n",
    "        entry['V'] = [entry['solution'][j][3] for j in range(len(entry['solution']))]\n",
    "        entry['δρ'] = [entry['solution'][j][4] for j in range(len(entry['solution']))]\n",
    "    return solutions\n",
    "def get_δρ_value(tme,x0,μ,μbar):\n",
    "    solver = ode(ode_rhs).set_integrator(backend)\n",
    "    δρ0 = ρ0.subs(x,x0).subs(φ,0)-ρ.subs(x,x0).subs(φ,0).subs(σ,1.)\n",
    "    solver.set_initial_value([x0,0,0,δρ0],0.).set_f_params(μ,μbar)\n",
    "    while (solver.t < tme) and (solver.y[0]<=1.) and (solver.y[0]>=0.):\n",
    "        solver.integrate(tme)\n",
    "        sol = [solver.t]+list(solver.y)\n",
    "    return solver.y[3]\n",
    "def get_δρ_ending(params,μ,μbar):\n",
    "    tme, x0 = params\n",
    "    solver = ode(ode_rhs).set_integrator(backend)\n",
    "    δρ0 = ρ0.subs(x,x0).subs(φ,0)-ρ.subs(x,x0).subs(φ,0).subs(σ,1.)\n",
    "    solver.set_initial_value([x0,0,0,δρ0],0.).set_f_params(μ,μbar)\n",
    "    δτ = 1.0e-8; tms = [tme,tme+δτ]\n",
    "    _k = 0; sol = []\n",
    "    while (_k<len(tms)):# and (solver.y[0]<=1.) and (solver.y[0]>=0.):\n",
    "        solver.integrate(tms[_k])\n",
    "        sol.append(solver.y)\n",
    "        _k += 1\n",
    "    #print(sol)\n",
    "    return(sol[0][3],(sol[1][3]-sol[0][3])/δτ)\n",
    "def get_state(tme,x0,μ,μbar):\n",
    "    solver = ode(ode_rhs).set_integrator(backend)\n",
    "    δρ0 = ρ0.subs(x,x0).subs(φ,0)-ρ.subs(x,x0).subs(φ,0).subs(σ,1.)\n",
    "    solver.set_initial_value([x0,0,0,δρ0],0.).set_f_params(μ,μbar)\n",
    "    δτ = 1.0e-8; tms = [tme,tme+δτ]\n",
    "    _k = 0; sol = []\n",
    "    while (solver.t < tms[-1]) and (solver.y[0]<=1.) and (solver.y[0]>=0.):\n",
    "        solver.integrate(tms[_k])\n",
    "        sol.append(solver.y)\n",
    "        _k += 1\n",
    "    return(list(sol[0])+[(sol[1][3]-sol[0][3])/δτ])"
   ]
  },
  {
   "cell_type": "markdown",
   "metadata": {},
   "source": [
    "# Machinery for the universal line"
   ]
  },
  {
   "cell_type": "markdown",
   "metadata": {},
   "source": [
    "* To find the universal singular curve we need to define two parameters"
   ]
  },
  {
   "cell_type": "code",
   "execution_count": 11,
   "metadata": {
    "collapsed": true
   },
   "outputs": [],
   "source": [
    "γ0 = PoissonBrackets(PoissonBrackets(H,H0),H)\n",
    "γ1 = PoissonBrackets(PoissonBrackets(H0,H),H0)"
   ]
  },
  {
   "cell_type": "markdown",
   "metadata": {},
   "source": [
    "* The dynamics"
   ]
  },
  {
   "cell_type": "code",
   "execution_count": 12,
   "metadata": {
    "collapsed": true
   },
   "outputs": [],
   "source": [
    "dxdτSingExpr = -(γ0*diff(H0,φ)+γ1*diff(H,φ))/(γ0+γ1)\n",
    "dφdτSingExpr = (γ0*diff(H0,x)+γ1*diff(H,x))/(γ0+γ1)\n",
    "dVdτSingExpr = (γ0*h0+γ1*h)/(γ0+γ1)\n",
    "σSingExpr = γ1*σ/(γ0+γ1)"
   ]
  },
  {
   "cell_type": "markdown",
   "metadata": {},
   "source": [
    "* Machinery for Python: lambdify the functions above"
   ]
  },
  {
   "cell_type": "code",
   "execution_count": 13,
   "metadata": {
    "collapsed": true
   },
   "outputs": [],
   "source": [
    "dxdτSing = lambdify((x,φ,σ,μ,μbar),dxdτSingExpr)\n",
    "dφdτSing = lambdify((x,φ,σ,μ,μbar),dφdτSingExpr)\n",
    "dVdτSing = lambdify((x,φ,σ,μ,μbar),dVdτSingExpr)\n",
    "σSing = lambdify((x,φ,σ,μ,μbar),σSingExpr)"
   ]
  },
  {
   "cell_type": "code",
   "execution_count": 15,
   "metadata": {
    "collapsed": true
   },
   "outputs": [],
   "source": [
    "def ode_rhs_Sing(t,state,μ,μbar):\n",
    "    x, φ, V = state\n",
    "    if (dρdσ(1.,x,φ,μ,μbar)<0) and (dρdσ(θ,x,φ,μ,μbar)>0):\n",
    "        σstar = fsolve(dρdσ,.8,args=(x,φ,μ,μbar,))[0]\n",
    "    else:\n",
    "        σstar = 1.;\n",
    "    #print([σstar,σSing(x,φ,σstar,μ,μbar)])\n",
    "    return [dxdτSing(x,φ,σstar,μ,μbar),dφdτSing(x,φ,σstar,μ,μbar),dVdτSing(x,φ,σstar,μ,μbar)]\n",
    "# def ode_rhs_Sing(t,state,μ,μbar):\n",
    "#     x, φ, V = state\n",
    "#     if (dρdσ(1.,x,φ,μ,μbar)<0) and (dρdσ(θ,x,φ,μ,μbar)>0):\n",
    "#         σstar = fsolve(dρdσ,.8,args=(x,φ,μ,μbar,))[0]\n",
    "#     else:\n",
    "#         σstar = 1.;\n",
    "#     σTrav = fsolve(lambda σ: dxdτ(x,φ,σ,μ,μbar)-dxdτSing(x,φ,σstar,μ,μbar),.6)[0]\n",
    "#     print([σstar,σTrav])\n",
    "#     return [dxdτSing(x,φ,σstar,μ,μbar),dφdτSing(x,φ,σstar,μ,μbar),dVdτ(x,σTrav)]\n",
    "def get_universal_curve(end_point,tmax,Nsteps,μ,μbar):\n",
    "    tms =  np.linspace(end_point[0],tmax,Nsteps);\n",
    "    solver = ode(ode_rhs_Sing).set_integrator(backend)\n",
    "    solver.set_initial_value(end_point[1:4],end_point[0]).set_f_params(μ,μbar)\n",
    "    _k = 0; sol = []\n",
    "    while (solver.t < tms[-1]):\n",
    "        solver.integrate(tms[_k])\n",
    "        sol.append([solver.t]+list(solver.y))\n",
    "        _k += 1\n",
    "    return sol\n",
    "def get_σ_universal(tme,end_point,μ,μbar):\n",
    "    δτ = 1.0e-8; tms = [tme,tme+δτ]\n",
    "    solver = ode(ode_rhs_Sing).set_integrator(backend)\n",
    "    solver.set_initial_value(end_point[1:4],end_point[0]).set_f_params(μ,μbar)\n",
    "    _k = 0; sol = []\n",
    "    while (solver.t < tme+δτ):\n",
    "        solver.integrate(tms[_k])\n",
    "        sol.append([solver.t]+list(solver.y))\n",
    "        _k += 1\n",
    "    x, φ = sol[0][:2]\n",
    "    sgm = fsolve(lambda σ: dxdτ(x,φ,σ,μ,μbar)-(sol[1][0]-sol[0][0])/δτ,θ/2)[0]\n",
    "    return sgm\n",
    "def get_state_universal(tme,end_point,μ,μbar):\n",
    "    solver = ode(ode_rhs_Sing).set_integrator(backend)\n",
    "    solver.set_initial_value(end_point[1:4],end_point[0]).set_f_params(μ,μbar)\n",
    "    solver.integrate(tme)\n",
    "    return [solver.t]+list(solver.y)"
   ]
  },
  {
   "cell_type": "code",
   "execution_count": 16,
   "metadata": {
    "collapsed": true
   },
   "outputs": [],
   "source": [
    "def ode_rhs_with_σstar(t,state,μ,μbar):\n",
    "    x, φ, V = state\n",
    "    if (dρdσ(1.,x,φ,μ,μbar)<0) and (dρdσ(θ,x,φ,μ,μbar)>0):\n",
    "        σ = fsolve(dρdσ,.8,args=(x,φ,μ,μbar,))[0]\n",
    "    else:\n",
    "        σ = 1.;\n",
    "    return [dxdτ(x,φ,σ,μ,μbar),dφdτ(x,φ,σ,μ,μbar),dVdτ(x,σ)]\n",
    "def ode_rhs_with_given_σ(t,state,σ,μ,μbar):\n",
    "    x, φ, V = state\n",
    "    return [dxdτ(x,φ,σ,μ,μbar),dφdτ(x,φ,σ,μ,μbar),dVdτ(x,σ)]\n",
    "def get_trajectory_with_σstar(starting_point,tmax,Nsteps,μ,μbar):\n",
    "    tms = np.linspace(starting_point[0],tmax,Nsteps)\n",
    "    solver = ode(ode_rhs_with_σstar).set_integrator(backend)\n",
    "    solver.set_initial_value(starting_point[1:],starting_point[0]).set_f_params(μ,μbar)\n",
    "    sol = []; _k = 0;\n",
    "    while solver.t < max(tms) and (solver.y[0]<=1.) and (solver.y[0]>=0.):\n",
    "        solver.integrate(tms[_k])\n",
    "        sol.append([solver.t]+list(solver.y))\n",
    "        _k += 1\n",
    "    return sol\n",
    "def get_trajectory_with_given_σ(starting_point,tmax,Nsteps,σ,μ,μbar):\n",
    "    tms = np.linspace(starting_point[0],tmax,100)\n",
    "    solver = ode(ode_rhs_with_given_σ).set_integrator(backend)\n",
    "    solver.set_initial_value(starting_point[1:],starting_point[0]).set_f_params(σ,μ,μbar)\n",
    "    sol = []; _k = 0;\n",
    "    while solver.t < max(tms) and (solver.y[0]<=1.) and (solver.y[0]>=0.):\n",
    "        solver.integrate(tms[_k])\n",
    "        sol.append([solver.t]+list(solver.y))\n",
    "        _k += 1\n",
    "    return sol\n",
    "def get_state_with_σstar(tme,starting_point,μ,μbar):\n",
    "    solver = ode(ode_rhs_with_σstar).set_integrator(backend)\n",
    "    solver.set_initial_value(starting_point[1:4],starting_point[0]).set_f_params(μ,μbar)\n",
    "    solver.integrate(tme)\n",
    "    return [solver.t]+list(solver.y)\n",
    "def get_finalizing_point_from_universal_curve(tme,tmx,end_point,μ,μbar):\n",
    "    unv_point = get_state_universal(tme,end_point,μ,μbar)\n",
    "    return get_state_with_σstar(tmx,unv_point,μ,μbar)[1]"
   ]
  },
  {
   "cell_type": "markdown",
   "metadata": {},
   "source": [
    "# Field of optimal trajectories as the solution of the Bellman equation\n",
    "\n",
    "* μ & μbar are varied by *T* and *T*bar ($\\mu=1/T$ and $\\bar\\mu=1/\\bar{T}$)"
   ]
  },
  {
   "cell_type": "code",
   "execution_count": 18,
   "metadata": {},
   "outputs": [
    {
     "name": "stdout",
     "output_type": "stream",
     "text": [
      "Parameters: μ = 0.03571, μbar = 0.01667\n",
      "Ending point for the switching line: τ = 20.9 days, x = 77.1%\n",
      "Checking the solution - should give zero values: \n",
      "(-4.0352221855556505e-15, -5.4812075178673266e-16)\n",
      "* Constructing the primary field\n",
      "* Constructing the switching curve\n",
      "* Constructing the universal curve\n",
      "* Finding the last characteristic\n",
      "The last point on the universal line:\n",
      "[688.6199123123826, 0.77138782757389357, -0.4099731302026397, 5.6229521163124669]\n",
      "Final state:\n",
      "[720.0, 7.7458178759926e-13, -0.93898455223338606, 6.3856849974652103]\n",
      "Fold-change in tumor size: 2.52\n"
     ]
    },
    {
     "data": {
      "image/png": "[encoded data removed]",
      "text/plain": [
       "<matplotlib.figure.Figure at 0x1a15164048>"
      ]
     },
     "metadata": {},
     "output_type": "display_data"
    },
    {
     "name": "stdout",
     "output_type": "stream",
     "text": [
      "\n"
     ]
    }
   ],
   "source": [
    "tmx = 720.\n",
    "end_switching_curve = {'t': 24., 'x': .9/.8} \n",
    "# for Τ, Τbar in zip([28]*5,[14,21,28,35,60]):\n",
    "for Τ, Τbar in zip([28],[60]):\n",
    "    μ = 1./Τ; μbar = 1./Τbar\n",
    "    print(\"Parameters: μ = %.5f, μbar = %.5f\"%(μ,μbar))\n",
    "    end_switching_curve['t'], end_switching_curve['x'] = fsolve(get_δρ_ending,(end_switching_curve['t'],.8*end_switching_curve['x']),args=(μ,μbar),xtol=1.0e-12)\n",
    "    end_point = [end_switching_curve['t']]+get_state(end_switching_curve['t'],end_switching_curve['x'],μ,μbar)\n",
    "    print(\"Ending point for the switching line: τ = %.1f days, x = %.1f%%\" % (end_point[0], end_point[1]*100))\n",
    "    print(\"Checking the solution - should give zero values: \")\n",
    "    print(get_δρ_ending([end_switching_curve['t'],end_switching_curve['x']],μ,μbar))\n",
    "    print(\"* Constructing the primary field\")\n",
    "    experiments = {\n",
    "        'sol1': { 'T_end': tmx, 'τ0': 0., 'x0': list(np.linspace(0,end_switching_curve['x']-(1e-3),10))+\n",
    "                 list(np.linspace(end_switching_curve['x']+(1e-6),1.,10)) } }\n",
    "    primary_field = []\n",
    "    for name, values in experiments.items():\n",
    "        primary_field.append(get_primary_field(name,values,μ,μbar))\n",
    "    print(\"* Constructing the switching curve\")\n",
    "    switching_curve = []\n",
    "    x0s = np.linspace(end_switching_curve['x'],1,21); _y = end_switching_curve['t']\n",
    "    \n",
    "    for x0 in x0s:\n",
    "        tme = fsolve(get_δρ_value,_y,args=(x0,μ,μbar))[0]\n",
    "        if (tme>0):\n",
    "            switching_curve = switching_curve+[[tme,get_state(tme,x0,μ,μbar)[0]]]\n",
    "            _y = tme\n",
    "    print(\"* Constructing the universal curve\")\n",
    "    universal_curve = get_universal_curve(end_point,tmx,25,μ,μbar)\n",
    "    print(\"* Finding the last characteristic\")\n",
    "    #time0 = time.time()\n",
    "    tuniv = fsolve(get_finalizing_point_from_universal_curve,tmx-40.,args=(tmx,end_point,μ,μbar,))[0]\n",
    "    #print(\"The proccess to find the last characteristic took %0.1f minutes\" % ((time.time()-time0)/60.))\n",
    "    univ_point = get_state_universal(tuniv,end_point,μ,μbar)\n",
    "    print(\"The last point on the universal line:\")\n",
    "    print(univ_point)\n",
    "    last_trajectory = get_trajectory_with_σstar(univ_point,tmx,50,μ,μbar)\n",
    "    print(\"Final state:\")\n",
    "    final_state = get_state_with_σstar(tmx,univ_point,μ,μbar)\n",
    "    print(final_state)\n",
    "    print(\"Fold-change in tumor size: %.2f\"%(exp((b-d)*tmx-final_state[-1])))\n",
    "    # Plotting\n",
    "    plt.rcParams['figure.figsize'] = (6.75, 4)\n",
    "    _k = 0\n",
    "    for solutions in primary_field:\n",
    "        for x0, entry in solutions.items():\n",
    "            plt.plot(entry['τ'], entry['x'], 'k-', linewidth=.9, color=clrs[_k%palette_size])\n",
    "            _k += 1\n",
    "    plt.plot([x[0] for x in switching_curve],[x[1] for x in switching_curve],linewidth=2,color=\"red\")\n",
    "    plt.plot([end_point[0]],[end_point[1]],marker='o',color=\"red\")\n",
    "    plt.plot([x[0] for x in universal_curve],[x[1] for x in universal_curve],linewidth=2,color=\"red\")\n",
    "    plt.plot([x[0] for x in last_trajectory],[x[1] for x in last_trajectory],linewidth=.9,color=\"black\")\n",
    "    plt.xlim([0,tmx]); plt.ylim([0,1]);\n",
    "    plt.xlabel(\"time, days\"); plt.ylabel(\"fraction of resistant cells\")\n",
    "    plt.show()\n",
    "    print()"
   ]
  },
  {
   "cell_type": "code",
   "execution_count": 20,
   "metadata": {
    "scrolled": true
   },
   "outputs": [
    {
     "name": "stdout",
     "output_type": "stream",
     "text": [
      "* Parameters: T = 120.0, Tbar = 120.0 (μ = 0.00833, μbar = 0.00833)\n",
      "! Trying again... The iteration is not making good progress, as measured by the \n",
      "  improvement from the last ten iterations.\n",
      "Ending point: t = 43.94, x = 92.84%  Checking the solution: (-2.7006279317595854e-08, -1.1914446499779019e-08)\n",
      "tuniv = 656.53  Checking the solution:  -8.0798839841e-12\n",
      "Fold-change in tumor size: 1.11\n",
      "* Parameters: T = 120.0, Tbar = 118.0 (μ = 0.00833, μbar = 0.00847)\n",
      "Ending point: t = 43.89, x = 92.73%  Checking the solution: (-1.7344666138311858e-08, -4.8119089737485873e-08)\n",
      "tuniv = 656.97  Checking the solution:  3.00085650773e-12\n",
      "Fold-change in tumor size: 1.09\n",
      "* Parameters: T = 120.0, Tbar = 116.0 (μ = 0.00833, μbar = 0.00862)\n",
      "Ending point: t = 43.79, x = 92.62%  Checking the solution: (-1.2685041635657623e-08, 3.6918493488895216e-09)\n",
      "tuniv = 657.05  Checking the solution:  1.7980637812e-11\n",
      "Fold-change in tumor size: 1.06\n",
      "* Parameters: T = 120.0, Tbar = 114.0 (μ = 0.00833, μbar = 0.00877)\n",
      "Ending point: t = 43.72, x = 92.51%  Checking the solution: (-1.9878475069761174e-13, 1.1444109912769432e-14)\n",
      "tuniv = 657.36  Checking the solution:  1.11022302463e-16\n",
      "Fold-change in tumor size: 1.04\n",
      "* Parameters: T = 120.0, Tbar = 112.0 (μ = 0.00833, μbar = 0.00893)\n",
      "Ending point: t = 43.65, x = 92.39%  Checking the solution: (2.0457370335496411e-16, -1.4128422391608128e-17)\n",
      "tuniv = 657.67  Checking the solution:  1.11022302463e-16\n",
      "Fold-change in tumor size: 1.01\n",
      "* Parameters: T = 118.0, Tbar = 120.0 (μ = 0.00847, μbar = 0.00833)\n",
      "Ending point: t = 43.69, x = 92.87%  Checking the solution: (-2.3692779680055269e-08, -3.269167732111009e-08)\n",
      "tuniv = 656.90  Checking the solution:  -3.69231034636e-12\n",
      "Fold-change in tumor size: 1.13\n",
      "* Parameters: T = 118.0, Tbar = 118.0 (μ = 0.00847, μbar = 0.00847)\n",
      "Ending point: t = 43.58, x = 92.76%  Checking the solution: (-1.3395095041897369e-08, 4.4019561776721631e-08)\n",
      "tuniv = 656.86  Checking the solution:  2.84964760122e-11\n",
      "Fold-change in tumor size: 1.11\n",
      "* Parameters: T = 118.0, Tbar = 116.0 (μ = 0.00847, μbar = 0.00862)\n",
      "Ending point: t = 43.60, x = 92.65%  Checking the solution: (-1.1289966761475234e-08, -1.4969356321439766e-07)\n",
      "tuniv = 657.96  Checking the solution:  1.28284952106e-11\n",
      "Fold-change in tumor size: 1.08\n",
      "* Parameters: T = 118.0, Tbar = 114.0 (μ = 0.00847, μbar = 0.00877)\n",
      "Ending point: t = 43.46, x = 92.54%  Checking the solution: (9.6789370680576414e-14, 6.6004724002762103e-15)\n",
      "tuniv = 657.64  Checking the solution:  3.87082033093e-12\n",
      "Fold-change in tumor size: 1.06\n",
      "* Parameters: T = 118.0, Tbar = 112.0 (μ = 0.00847, μbar = 0.00893)\n",
      "Ending point: t = 43.39, x = 92.43%  Checking the solution: (1.804022460116881e-13, -1.5390442505598505e-13)\n",
      "tuniv = 657.94  Checking the solution:  -2.15487350186e-13\n",
      "Fold-change in tumor size: 1.03\n",
      "* Parameters: T = 116.0, Tbar = 120.0 (μ = 0.00862, μbar = 0.00833)\n",
      "Ending point: t = 43.42, x = 92.90%  Checking the solution: (-1.9451303168186168e-08, -3.6554528725415964e-08)\n",
      "tuniv = 657.20  Checking the solution:  -6.83112594269e-12\n",
      "Fold-change in tumor size: 1.16\n",
      "* Parameters: T = 116.0, Tbar = 118.0 (μ = 0.00862, μbar = 0.00847)\n",
      "! Trying again... Convergence is not sufficient\n",
      "Ending point: t = 43.41, x = 92.80%  Checking the solution: (-1.3661690581785762e-08, -1.4806224740659346e-07)\n",
      "tuniv = 657.95  Checking the solution:  1.63146579579e-12\n",
      "Fold-change in tumor size: 1.13\n",
      "* Parameters: T = 116.0, Tbar = 116.0 (μ = 0.00862, μbar = 0.00862)\n",
      "Ending point: t = 43.27, x = 92.69%  Checking the solution: (-1.6010962866663033e-13, -8.4632834931553141e-15)\n",
      "tuniv = 657.63  Checking the solution:  3.88245685601e-12\n",
      "Fold-change in tumor size: 1.11\n",
      "* Parameters: T = 116.0, Tbar = 114.0 (μ = 0.00862, μbar = 0.00877)\n",
      "Ending point: t = 43.19, x = 92.58%  Checking the solution: (1.3055056786388298e-11, 3.3093864565241406e-13)\n",
      "tuniv = 657.93  Checking the solution:  3.94630161882e-12\n",
      "Fold-change in tumor size: 1.08\n",
      "* Parameters: T = 116.0, Tbar = 112.0 (μ = 0.00862, μbar = 0.00893)\n",
      "Ending point: t = 43.12, x = 92.46%  Checking the solution: (1.6018858399577569e-14, 1.0324374869261036e-15)\n",
      "tuniv = 658.23  Checking the solution:  -1.99767979936e-12\n",
      "Fold-change in tumor size: 1.05\n",
      "* Parameters: T = 114.0, Tbar = 120.0 (μ = 0.00877, μbar = 0.00833)\n",
      "! Trying again... Convergence is not sufficient\n",
      "Ending point: t = 43.14, x = 92.94%  Checking the solution: (-1.5108305319068232e-08, -1.479771191064693e-09)\n",
      "tuniv = 657.34  Checking the solution:  -5.51789169911e-12\n",
      "Fold-change in tumor size: 1.18\n",
      "* Parameters: T = 114.0, Tbar = 118.0 (μ = 0.00877, μbar = 0.00847)\n",
      "Ending point: t = 43.12, x = 92.84%  Checking the solution: (-1.3127479394635852e-08, -1.0791913141667277e-07)\n",
      "tuniv = 658.08  Checking the solution:  4.07815448078e-12\n",
      "Fold-change in tumor size: 1.15\n",
      "* Parameters: T = 114.0, Tbar = 116.0 (μ = 0.00877, μbar = 0.00862)\n",
      "Ending point: t = 43.00, x = 92.73%  Checking the solution: (1.2633460282342689e-12, 1.7033445749256512e-12)\n",
      "tuniv = 657.92  Checking the solution:  1.09303399665e-11\n",
      "Fold-change in tumor size: 1.13\n",
      "* Parameters: T = 114.0, Tbar = 114.0 (μ = 0.00877, μbar = 0.00877)\n",
      "Ending point: t = 42.92, x = 92.62%  Checking the solution: (-7.4922629000407151e-14, -1.9960153685443375e-14)\n",
      "tuniv = 658.22  Checking the solution:  9.53604556431e-12\n",
      "Fold-change in tumor size: 1.10\n",
      "* Parameters: T = 114.0, Tbar = 112.0 (μ = 0.00877, μbar = 0.00893)\n",
      "Ending point: t = 42.85, x = 92.50%  Checking the solution: (-1.6939842744138033e-13, -2.3807277111347937e-13)\n",
      "tuniv = 658.52  Checking the solution:  1.40221584344e-11\n",
      "Fold-change in tumor size: 1.07\n",
      "* Parameters: T = 112.0, Tbar = 120.0 (μ = 0.00893, μbar = 0.00833)\n",
      "Ending point: t = 42.88, x = 92.98%  Checking the solution: (-1.1758343450175372e-08, -3.7262725858862016e-08)\n",
      "tuniv = 657.80  Checking the solution:  -5.73836117512e-12\n",
      "Fold-change in tumor size: 1.21\n",
      "* Parameters: T = 112.0, Tbar = 118.0 (μ = 0.00893, μbar = 0.00847)\n",
      "Ending point: t = 42.79, x = 92.87%  Checking the solution: (-7.889332548659039e-13, 1.7695212857518809e-14)\n",
      "tuniv = 657.92  Checking the solution:  3.99958885455e-11\n",
      "Fold-change in tumor size: 1.18\n",
      "* Parameters: T = 112.0, Tbar = 116.0 (μ = 0.00893, μbar = 0.00862)\n",
      "Ending point: t = 42.72, x = 92.77%  Checking the solution: (1.333639450230243e-13, 3.1306165904749315e-15)\n",
      "tuniv = 658.22  Checking the solution:  -2.09600670154e-11\n",
      "Fold-change in tumor size: 1.15\n",
      "* Parameters: T = 112.0, Tbar = 114.0 (μ = 0.00893, μbar = 0.00877)\n",
      "Ending point: t = 42.65, x = 92.65%  Checking the solution: (3.425363461026943e-14, 2.4115812349630145e-15)\n",
      "tuniv = 658.51  Checking the solution:  -2.86443577191e-11\n",
      "Fold-change in tumor size: 1.12\n",
      "* Parameters: T = 112.0, Tbar = 112.0 (μ = 0.00893, μbar = 0.00893)\n",
      "Ending point: t = 42.58, x = 92.54%  Checking the solution: (4.510545630780086e-14, 1.2877680961189885e-15)\n",
      "tuniv = 658.81  Checking the solution:  1.10841613665e-11\n",
      "Fold-change in tumor size: 1.10\n"
     ]
    }
   ],
   "source": [
    "import csv\n",
    "from numpy.linalg import norm\n",
    "File = open(\"../figures/draft/sensitivity_mu-example.csv\", 'w')\n",
    "File.write(\"T,Tbar,mu,mubar,sw_end_t,sw_end_x,univ_point_t,univ_point_x,outcome,err_sw_t,err_sw_x\\n\")\n",
    "writer = csv.writer(File,lineterminator='\\n')\n",
    "\n",
    "tmx = 720.\n",
    "end_switching_curve0 = {'t': 23.36, 'x': .9592}\n",
    "end_switching_curve_prev_t = end_switching_curve['t']\n",
    "tuniv = tmx-30.\n",
    "Τbars = np.arange(120,110,-2) #need to change here if more\n",
    "for Τ in Τbars:\n",
    "    μ = 1./Τ\n",
    "    end_switching_curve = deepcopy(end_switching_curve0)\n",
    "    for Τbar in Τbars:\n",
    "        μbar = 1./Τbar\n",
    "        print(\"* Parameters: T = %.1f, Tbar = %.1f (μ = %.5f, μbar = %.5f)\"%(Τ,Τbar,μ,μbar))\n",
    "        success = False; err = 1.\n",
    "        while (not success)|(norm(err)>1e-6):\n",
    "            end_switching_curve = {'t': 2*end_switching_curve['t']-end_switching_curve_prev_t-.001, \n",
    "                                   'x': end_switching_curve['x']-0.002} \n",
    "            sol = root(get_δρ_ending,(end_switching_curve['t'],end_switching_curve['x']),args=(μ,μbar))\n",
    "            end_switching_curve_prev_t = end_switching_curve['t']\n",
    "            end_switching_curve_prev_x = end_switching_curve['x']\n",
    "            end_switching_curve['t'], end_switching_curve['x'] = sol.x   \n",
    "            success = sol.success\n",
    "            err = get_δρ_ending([end_switching_curve['t'],end_switching_curve['x']],μ,μbar)\n",
    "            if (not success): \n",
    "                print(\"! Trying again...\", sol.message)\n",
    "            elif (norm(err)>1e-6):\n",
    "                print(\"! Trying again... Convergence is not sufficient\")       \n",
    "        else:\n",
    "            end_point = [end_switching_curve['t']]+get_state(end_switching_curve['t'],end_switching_curve['x'],μ,μbar)\n",
    "            print(\"Ending point: t = %.2f, x = %.2f%%\"%(end_switching_curve['t'],100*end_switching_curve['x']),\" Checking the solution:\",err)\n",
    "            universal_curve = get_universal_curve(end_point,tmx,25,μ,μbar)\n",
    "            tuniv = root(get_finalizing_point_from_universal_curve,tuniv,args=(tmx,end_point,μ,μbar)).x\n",
    "            err_tuniv = get_finalizing_point_from_universal_curve(tuniv,tmx,end_point,μ,μbar)\n",
    "            univ_point = get_state_universal(tuniv,end_point,μ,μbar)\n",
    "            print(\"tuniv = %.2f\"%tuniv,\" Checking the solution: \",err_tuniv)\n",
    "            final_state = get_state_with_σstar(tmx,univ_point,μ,μbar)\n",
    "            outcome = exp((b-d)*tmx-final_state[-1])\n",
    "            print(\"Fold-change in tumor size: %.2f\"%(outcome))\n",
    "            output = [Τ,Τbar,μ,μbar,end_switching_curve['t'],end_switching_curve['x']]+list(univ_point[0:2])+[outcome]+list(err)+[err_tuniv]\n",
    "            writer.writerow(output)\n",
    "        if (Τbar==Τ):\n",
    "            end_switching_curve0 = deepcopy(end_switching_curve) \n",
    "\n",
    "File.close()"
   ]
  },
  {
   "cell_type": "markdown",
   "metadata": {},
   "source": [
    "* Here I investigate the dependence of $\\mathrm{FoldChange}(T,\\bar T)$. I fix $T$ at 15,30,45,60 days, and then I vary $\\bar T$ between zero and $4T$. The example below is just a simulation for only one given value of $T$.  "
   ]
  },
  {
   "cell_type": "code",
   "execution_count": null,
   "metadata": {
    "collapsed": true,
    "scrolled": true
   },
   "outputs": [],
   "source": [
    "import csv\n",
    "from numpy.linalg import norm\n",
    "File = open(\"../results/sensitivity1.csv\", 'w')\n",
    "File.write(\"T,Tbar,mu,mubar,sw_end_t,sw_end_x,univ_point_t,univ_point_x,outcome,err_sw_t,err_sw_x\\n\")\n",
    "writer = csv.writer(File,lineterminator='\\n')\n",
    "\n",
    "tmx = 720.\n",
    "end_switching_curve = {'t': 23.36, 'x': .9592}\n",
    "end_switching_curve_prev_t = end_switching_curve['t']\n",
    "tuniv = tmx-30.\n",
    "Τ = 15\n",
    "Τbars_step = .5; Tbars = np.arange(Τ*4,0,-Τbars_step)\n",
    "for Τbar in Tbars:\n",
    "    μ = 1./Τ; μbar = 1./Τbar\n",
    "    print(\"* Parameters: T = %.1f, Tbar = %.1f (μ = %.5f, μbar = %.5f)\"%(Τ,Τbar,μ,μbar))\n",
    "    success = False; err = 1.\n",
    "    while (not success)|(norm(err)>1e-6):\n",
    "        end_switching_curve = {'t': 2*end_switching_curve['t']-end_switching_curve_prev_t-.001, \n",
    "                               'x': end_switching_curve['x']-0.002} \n",
    "        sol = root(get_δρ_ending,(end_switching_curve['t'],end_switching_curve['x']),args=(μ,μbar))\n",
    "        end_switching_curve_prev_t = end_switching_curve['t']\n",
    "        end_switching_curve_prev_x = end_switching_curve['x']\n",
    "        end_switching_curve['t'], end_switching_curve['x'] = sol.x   \n",
    "        success = sol.success\n",
    "        err = get_δρ_ending([end_switching_curve['t'],end_switching_curve['x']],μ,μbar)\n",
    "        if (not success): \n",
    "            print(\"! Trying again...\", sol.message)\n",
    "        elif (norm(err)>1e-6):\n",
    "            print(\"! Trying again... Convergence is not sufficient\")       \n",
    "    else:\n",
    "        end_point = [end_switching_curve['t']]+get_state(end_switching_curve['t'],end_switching_curve['x'],μ,μbar)\n",
    "        print(\"Ending point: t = %.2f, x = %.2f%%\"%(end_switching_curve['t'],100*end_switching_curve['x']),\" Checking the solution:\",err)\n",
    "        universal_curve = get_universal_curve(end_point,tmx,25,μ,μbar)\n",
    "        tuniv = root(get_finalizing_point_from_universal_curve,tuniv,args=(tmx,end_point,μ,μbar)).x\n",
    "        err_tuniv = get_finalizing_point_from_universal_curve(tuniv,tmx,end_point,μ,μbar)\n",
    "        univ_point = get_state_universal(tuniv,end_point,μ,μbar)\n",
    "        print(\"tuniv = %.2f\"%tuniv,\" Checking the solution: \",err_tuniv)\n",
    "        final_state = get_state_with_σstar(tmx,univ_point,μ,μbar)\n",
    "        outcome = exp((b-d)*tmx-final_state[-1])\n",
    "        print(\"Fold-change in tumor size: %.2f\"%(outcome))\n",
    "        output = [Τ,Τbar,μ,μbar,end_switching_curve['t'],end_switching_curve['x']]+list(univ_point[0:2])+[outcome]+list(err)+[err_tuniv]\n",
    "        writer.writerow(output)\n",
    "    \n",
    "File.close()"
   ]
  },
  {
   "cell_type": "markdown",
   "metadata": {},
   "source": [
    "* The results are aggregated in a file **sensitivity1_agg.csv**."
   ]
  },
  {
   "cell_type": "code",
   "execution_count": 21,
   "metadata": {},
   "outputs": [
    {
     "data": {
      "text/html": [
       "<div>\n",
       "<style>\n",
       "    .dataframe thead tr:only-child th {\n",
       "        text-align: right;\n",
       "    }\n",
       "\n",
       "    .dataframe thead th {\n",
       "        text-align: left;\n",
       "    }\n",
       "\n",
       "    .dataframe tbody tr th {\n",
       "        vertical-align: top;\n",
       "    }\n",
       "</style>\n",
       "<table border=\"1\" class=\"dataframe\">\n",
       "  <thead>\n",
       "    <tr style=\"text-align: right;\">\n",
       "      <th></th>\n",
       "      <th>T</th>\n",
       "      <th>Tbar</th>\n",
       "      <th>mu</th>\n",
       "      <th>mubar</th>\n",
       "      <th>sw_end_t</th>\n",
       "      <th>sw_end_x</th>\n",
       "      <th>univ_point_t</th>\n",
       "      <th>univ_point_x</th>\n",
       "      <th>outcome</th>\n",
       "      <th>Tratio</th>\n",
       "    </tr>\n",
       "  </thead>\n",
       "  <tbody>\n",
       "    <tr>\n",
       "      <th>0</th>\n",
       "      <td>45</td>\n",
       "      <td>180.0</td>\n",
       "      <td>0.022222</td>\n",
       "      <td>0.005556</td>\n",
       "      <td>29.936471</td>\n",
       "      <td>0.965414</td>\n",
       "      <td>667.300425</td>\n",
       "      <td>0.859250</td>\n",
       "      <td>4.737060</td>\n",
       "      <td>4.000000</td>\n",
       "    </tr>\n",
       "    <tr>\n",
       "      <th>1</th>\n",
       "      <td>45</td>\n",
       "      <td>179.0</td>\n",
       "      <td>0.022222</td>\n",
       "      <td>0.005587</td>\n",
       "      <td>29.925299</td>\n",
       "      <td>0.965235</td>\n",
       "      <td>667.383412</td>\n",
       "      <td>0.858656</td>\n",
       "      <td>4.718207</td>\n",
       "      <td>3.977778</td>\n",
       "    </tr>\n",
       "    <tr>\n",
       "      <th>2</th>\n",
       "      <td>45</td>\n",
       "      <td>178.0</td>\n",
       "      <td>0.022222</td>\n",
       "      <td>0.005618</td>\n",
       "      <td>29.914016</td>\n",
       "      <td>0.965055</td>\n",
       "      <td>667.466799</td>\n",
       "      <td>0.858057</td>\n",
       "      <td>4.699231</td>\n",
       "      <td>3.955556</td>\n",
       "    </tr>\n",
       "    <tr>\n",
       "      <th>3</th>\n",
       "      <td>45</td>\n",
       "      <td>177.0</td>\n",
       "      <td>0.022222</td>\n",
       "      <td>0.005650</td>\n",
       "      <td>29.902622</td>\n",
       "      <td>0.964873</td>\n",
       "      <td>667.550603</td>\n",
       "      <td>0.857452</td>\n",
       "      <td>4.680132</td>\n",
       "      <td>3.933333</td>\n",
       "    </tr>\n",
       "    <tr>\n",
       "      <th>4</th>\n",
       "      <td>45</td>\n",
       "      <td>176.0</td>\n",
       "      <td>0.022222</td>\n",
       "      <td>0.005682</td>\n",
       "      <td>29.891112</td>\n",
       "      <td>0.964689</td>\n",
       "      <td>667.634783</td>\n",
       "      <td>0.856842</td>\n",
       "      <td>4.660908</td>\n",
       "      <td>3.911111</td>\n",
       "    </tr>\n",
       "  </tbody>\n",
       "</table>\n",
       "</div>"
      ],
      "text/plain": [
       "    T   Tbar        mu     mubar   sw_end_t  sw_end_x  univ_point_t  \\\n",
       "0  45  180.0  0.022222  0.005556  29.936471  0.965414    667.300425   \n",
       "1  45  179.0  0.022222  0.005587  29.925299  0.965235    667.383412   \n",
       "2  45  178.0  0.022222  0.005618  29.914016  0.965055    667.466799   \n",
       "3  45  177.0  0.022222  0.005650  29.902622  0.964873    667.550603   \n",
       "4  45  176.0  0.022222  0.005682  29.891112  0.964689    667.634783   \n",
       "\n",
       "   univ_point_x   outcome    Tratio  \n",
       "0      0.859250  4.737060  4.000000  \n",
       "1      0.858656  4.718207  3.977778  \n",
       "2      0.858057  4.699231  3.955556  \n",
       "3      0.857452  4.680132  3.933333  \n",
       "4      0.856842  4.660908  3.911111  "
      ]
     },
     "execution_count": 21,
     "metadata": {},
     "output_type": "execute_result"
    }
   ],
   "source": [
    "df = pd.DataFrame.from_csv(\"../figures/draft/sensitivity1_agg.csv\").reset_index().drop(['err_sw_t','err_sw_x','err_tuniv'],1)\n",
    "df['Tratio'] = df['Tbar']/df['T']\n",
    "df.head()"
   ]
  },
  {
   "cell_type": "code",
   "execution_count": null,
   "metadata": {
    "collapsed": true
   },
   "outputs": [],
   "source": []
  }
 ],
 "metadata": {
  "anaconda-cloud": {},
  "kernelspec": {
   "display_name": "Python 3",
   "language": "python",
   "name": "python3"
  },
  "language_info": {
   "codemirror_mode": {
    "name": "ipython",
    "version": 3
   },
   "file_extension": ".py",
   "mimetype": "text/x-python",
   "name": "python",
   "nbconvert_exporter": "python",
   "pygments_lexer": "ipython3",
   "version": "3.6.3"
  }
 },
 "nbformat": 4,
 "nbformat_minor": 1
}
