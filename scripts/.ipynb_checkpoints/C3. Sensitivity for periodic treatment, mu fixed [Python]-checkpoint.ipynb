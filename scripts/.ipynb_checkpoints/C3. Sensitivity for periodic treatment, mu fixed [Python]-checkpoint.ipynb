{
 "cells": [
  {
   "cell_type": "markdown",
   "metadata": {
    "collapsed": true
   },
   "source": [
    "# Preamble"
   ]
  },
  {
   "cell_type": "code",
   "execution_count": 35,
   "metadata": {
    "scrolled": false
   },
   "outputs": [],
   "source": [
    "import numpy as np\n",
    "import pandas as pd\n",
    "from pylab import meshgrid\n",
    "from scipy import exp,optimize,log,floor\n",
    "from scipy.signal import argrelextrema\n",
    "from scipy.optimize import fsolve\n",
    "from scipy.integrate import ode\n",
    "backend = 'dopri5'\n",
    "\n",
    "import csv\n",
    "\n",
    "# Timer\n",
    "import time"
   ]
  },
  {
   "cell_type": "markdown",
   "metadata": {},
   "source": [
    "# Parameters values"
   ]
  },
  {
   "cell_type": "markdown",
   "metadata": {},
   "source": [
    "### Main pathway dynamics"
   ]
  },
  {
   "cell_type": "code",
   "execution_count": 36,
   "metadata": {},
   "outputs": [],
   "source": [
    "α = 0.3; θ = 0.45\n",
    "κ = 40.0 # Robustness parameter for the main pathway\n",
    "L = 0.2 # Parameter desribing the treatment action on the main pathway"
   ]
  },
  {
   "cell_type": "markdown",
   "metadata": {},
   "source": [
    "Reduction and translocation factors to the expression of the main pathway due to the treatment"
   ]
  },
  {
   "cell_type": "code",
   "execution_count": 37,
   "metadata": {},
   "outputs": [],
   "source": [
    "A = lambda σ: 1-σ*(1-θ)*(1-L)\n",
    "Θ = lambda σ: θ+(1-θ)*σ*L"
   ]
  },
  {
   "cell_type": "markdown",
   "metadata": {},
   "source": [
    "Production function as a step-like function and corresponding potential function"
   ]
  },
  {
   "cell_type": "code",
   "execution_count": 38,
   "metadata": {},
   "outputs": [],
   "source": [
    "# Heaviside function #\n",
    "Heaviside = lambda x: 1 * (x >= 0)\n",
    "\n",
    "f = lambda y, σ: A(σ)*(α+(1-α)*Heaviside(y-Θ(σ)))\n",
    "U = lambda y, σ: -A(σ)*(α+(1.-α)*Heaviside(y-Θ(σ)))*(y-Θ(σ))+(y**2-Θ(σ)**2)/2"
   ]
  },
  {
   "cell_type": "markdown",
   "metadata": {},
   "source": [
    "Corresponding potential bariers (will be required for the dynamics)"
   ]
  },
  {
   "cell_type": "code",
   "execution_count": 39,
   "metadata": {},
   "outputs": [],
   "source": [
    "Eplus = lambda σ: U(Θ(σ),σ)-U(f(1.,σ),σ)\n",
    "Eminus = lambda σ: U(Θ(σ),σ)-U(f(0.,σ),σ)"
   ]
  },
  {
   "cell_type": "markdown",
   "metadata": {},
   "source": [
    "Difference in potential bariers"
   ]
  },
  {
   "cell_type": "code",
   "execution_count": 40,
   "metadata": {},
   "outputs": [],
   "source": [
    "ΔE = lambda σ: Eplus(σ)-Eminus(σ)"
   ]
  },
  {
   "cell_type": "markdown",
   "metadata": {},
   "source": [
    "### Fitting some parameter values according with Bozic, Reiter et al 2013 *eLife*"
   ]
  },
  {
   "cell_type": "code",
   "execution_count": 41,
   "metadata": {},
   "outputs": [],
   "source": [
    "d = 0.13 # death rate per day"
   ]
  },
  {
   "cell_type": "code",
   "execution_count": 42,
   "metadata": {},
   "outputs": [
    {
     "name": "stdout",
     "output_type": "stream",
     "text": [
      "Birth rate: 0.1402\n",
      "Penalty χ: 0.2998\n"
     ]
    }
   ],
   "source": [
    "b = (0.1*(exp(κ*ΔE(1))+1)-0.14*(exp(κ*ΔE(0))+1))/(exp(κ*ΔE(1))-exp(κ*ΔE(0)))\n",
    "χ = 1-(0.14*(exp(κ*ΔE(0))+1)-b*exp(κ*ΔE(0)))/b\n",
    "print(\"Birth rate: %.4f\" % b)\n",
    "print(\"Penalty χ: %.4f\" % χ)"
   ]
  },
  {
   "cell_type": "markdown",
   "metadata": {},
   "source": [
    "### Other parameters"
   ]
  },
  {
   "cell_type": "code",
   "execution_count": 43,
   "metadata": {},
   "outputs": [],
   "source": [
    "c = 0.04 # cost of resistance"
   ]
  },
  {
   "cell_type": "code",
   "execution_count": 44,
   "metadata": {},
   "outputs": [],
   "source": [
    "ε = 0.01 # initial fraction of resistant cells"
   ]
  },
  {
   "cell_type": "markdown",
   "metadata": {},
   "source": [
    "# Periodic treatment\n",
    "\n",
    "** ¡It takes quite a substantial amount of time! **"
   ]
  },
  {
   "cell_type": "code",
   "execution_count": 45,
   "metadata": {},
   "outputs": [],
   "source": [
    "T = 2*12*30 # two years\n",
    "def func(μ,μbar,treatment_periodicity,σ):\n",
    "    ode_rhs = lambda t, X, σ: [b*(χ/(exp(κ*ΔE(σ))+1)-c)*X[0]*(1-X[0])+μ*(1-X[0])/(exp(κ*ΔE(σ))+1)-μbar*exp(-κ*Eminus(σ))*X[0],\\\n",
    "            b*(1-χ*(1-X[0])/(exp(κ*ΔE(σ))+1)-c*X[0])*X[1]-d*X[1]]\n",
    "    n = floor(T/(2*treatment_periodicity))\n",
    "    x = n*treatment_periodicity + (treatment_periodicity if (T/treatment_periodicity-2*n>1) else T-2*n*treatment_periodicity)\n",
    "    σx = σ*T/2/x #here σx is the double of one half of the applied treatment intensity\n",
    "    solver = ode(ode_rhs).set_integrator(backend).set_initial_value([ε,1.])\n",
    "    tme = 0; treatment = True\n",
    "    while (tme+treatment_periodicity < T):\n",
    "        tme += treatment_periodicity\n",
    "        solver.set_f_params(int(treatment)*σx).integrate(tme)\n",
    "        treatment = not treatment\n",
    "    solver.set_f_params(int(treatment)*σx).integrate(T)\n",
    "    return solver.y"
   ]
  },
  {
   "cell_type": "code",
   "execution_count": 82,
   "metadata": {},
   "outputs": [
    {
     "name": "stdout",
     "output_type": "stream",
     "text": [
      "This proccess took 10.8 minutes\n",
      "[28, 120, 25.0, 0.8000000000000004]\n",
      "This proccess took 10.3 minutes\n"
     ]
    },
    {
     "ename": "ValueError",
     "evalue": "I/O operation on closed file.",
     "output_type": "error",
     "traceback": [
      "\u001b[0;31m---------------------------------------------------------------------------\u001b[0m",
      "\u001b[0;31mValueError\u001b[0m                                Traceback (most recent call last)",
      "\u001b[0;32m<ipython-input-82-312d46973dc3>\u001b[0m in \u001b[0;36m<module>\u001b[0;34m()\u001b[0m\n\u001b[1;32m     28\u001b[0m     \u001b[0mres\u001b[0m \u001b[0;34m=\u001b[0m \u001b[0mmin\u001b[0m\u001b[0;34m(\u001b[0m\u001b[0menumerate\u001b[0m\u001b[0;34m(\u001b[0m\u001b[0mpts_z\u001b[0m\u001b[0;34m)\u001b[0m\u001b[0;34m,\u001b[0m \u001b[0mkey\u001b[0m\u001b[0;34m=\u001b[0m\u001b[0;32mlambda\u001b[0m \u001b[0mp\u001b[0m\u001b[0;34m:\u001b[0m \u001b[0mp\u001b[0m\u001b[0;34m[\u001b[0m\u001b[0;36m1\u001b[0m\u001b[0;34m]\u001b[0m\u001b[0;34m)\u001b[0m\u001b[0;34m\u001b[0m\u001b[0m\n\u001b[1;32m     29\u001b[0m     \u001b[0moutput\u001b[0m \u001b[0;34m=\u001b[0m \u001b[0;34m[\u001b[0m\u001b[0mmut\u001b[0m\u001b[0;34m,\u001b[0m\u001b[0mmubart\u001b[0m\u001b[0;34m,\u001b[0m\u001b[0mpts_x\u001b[0m\u001b[0;34m[\u001b[0m\u001b[0mres\u001b[0m\u001b[0;34m[\u001b[0m\u001b[0;36m0\u001b[0m\u001b[0;34m]\u001b[0m\u001b[0;34m]\u001b[0m\u001b[0;34m,\u001b[0m\u001b[0mpts_y\u001b[0m\u001b[0;34m[\u001b[0m\u001b[0mres\u001b[0m\u001b[0;34m[\u001b[0m\u001b[0;36m0\u001b[0m\u001b[0;34m]\u001b[0m\u001b[0;34m]\u001b[0m\u001b[0;34m]\u001b[0m\u001b[0;34m\u001b[0m\u001b[0m\n\u001b[0;32m---> 30\u001b[0;31m     \u001b[0mwriter\u001b[0m\u001b[0;34m.\u001b[0m\u001b[0mwriterow\u001b[0m\u001b[0;34m(\u001b[0m\u001b[0moutput\u001b[0m\u001b[0;34m)\u001b[0m\u001b[0;34m\u001b[0m\u001b[0m\n\u001b[0m\u001b[1;32m     31\u001b[0m     \u001b[0mprint\u001b[0m\u001b[0;34m(\u001b[0m\u001b[0moutput\u001b[0m\u001b[0;34m)\u001b[0m\u001b[0;34m\u001b[0m\u001b[0m\n\u001b[1;32m     32\u001b[0m \u001b[0;34m\u001b[0m\u001b[0m\n",
      "\u001b[0;31mValueError\u001b[0m: I/O operation on closed file."
     ]
    }
   ],
   "source": [
    "File = open(\"../figures/draft/sensitivity_periodic_mu_fixed.csv\", 'w')\n",
    "File.write(\"T,Tbar,period,sigma\\n\")\n",
    "writer = csv.writer(File,lineterminator='\\n')\n",
    "\n",
    "step_periods = 1; step_σFixed = .01\n",
    "Periods, σFixed = np.meshgrid(np.arange(1,60+step_periods,step_periods),np.arange(.4,1.+step_σFixed,step_σFixed))\n",
    "periods_n, σFixed_n = Periods.shape\n",
    "\n",
    "# for mut in np.arange(28,122,2):\n",
    "mut = 28\n",
    "for mubart in np.arange(120,2,-2):\n",
    "    time0=time.time()\n",
    "\n",
    "    Resistance = Periods*0.0\n",
    "    FoldChange = Periods*0.0\n",
    "    for xk in range(periods_n):\n",
    "        for yk in range(σFixed_n):\n",
    "            Resistance[xk,yk], FoldChange[xk,yk] = func(1./mut,1./mubart,Periods[xk,yk],σFixed[xk,yk])\n",
    "\n",
    "    print(\"This proccess took %0.1f minutes\" % ((time.time()-time0)/60.))\n",
    "    pts_x = []; pts_y = []; pts_z = []\n",
    "    for n in range(len(Periods[1,:])):\n",
    "        res = min(enumerate(FoldChange[:,n]), key=lambda p: p[1])\n",
    "        pts_x = np.append(pts_x,Periods[1,n])\n",
    "        pts_y = np.append(pts_y,σFixed[res[0],n])\n",
    "        pts_z = np.append(pts_z,res[1])\n",
    "\n",
    "    res = min(enumerate(pts_z), key=lambda p: p[1])\n",
    "    output = [mut,mubart,pts_x[res[0]],pts_y[res[0]]]\n",
    "    writer.writerow(output)\n",
    "    print(output)\n",
    "\n",
    "    File.close()"
   ]
  },
  {
   "cell_type": "code",
   "execution_count": 74,
   "metadata": {},
   "outputs": [],
   "source": [
    "pts_x = []; pts_y = []; pts_z = []\n",
    "for n in range(len(Periods[1,:])):\n",
    "    res = min(enumerate(FoldChange[:,n]), key=lambda p: p[1])\n",
    "    pts_x = np.append(pts_x,Periods[1,n])\n",
    "    pts_y = np.append(pts_y,σFixed[res[0],n])\n",
    "    pts_z = np.append(pts_z,res[1])\n",
    "\n",
    "# res = min(enumerate(pts_z), key=lambda p: p[1])\n",
    "# output = [mut,mubart,pts_x[res[0]],pts_y[res[0]]]\n",
    "# # writer.writerow(output)\n",
    "# print(output)\n",
    "        \n",
    "# File.close()"
   ]
  },
  {
   "cell_type": "code",
   "execution_count": 75,
   "metadata": {},
   "outputs": [
    {
     "data": {
      "text/plain": [
       "(0, 0)"
      ]
     },
     "execution_count": 75,
     "metadata": {},
     "output_type": "execute_result"
    }
   ],
   "source": [
    "res"
   ]
  },
  {
   "cell_type": "code",
   "execution_count": 76,
   "metadata": {},
   "outputs": [
    {
     "data": {
      "text/plain": [
       "array([0., 0., 0., 0., 0., 0., 0., 0., 0., 0., 0., 0., 0., 0., 0., 0., 0.,\n",
       "       0., 0., 0., 0., 0., 0., 0., 0., 0., 0., 0., 0., 0., 0., 0., 0., 0.,\n",
       "       0., 0., 0., 0., 0., 0., 0., 0., 0., 0., 0., 0., 0., 0., 0., 0., 0.,\n",
       "       0., 0., 0., 0., 0., 0., 0., 0., 0.])"
      ]
     },
     "execution_count": 76,
     "metadata": {},
     "output_type": "execute_result"
    }
   ],
   "source": [
    "pts_z"
   ]
  },
  {
   "cell_type": "code",
   "execution_count": 68,
   "metadata": {},
   "outputs": [
    {
     "data": {
      "text/plain": [
       "array([[0, 0, 0, ..., 0, 0, 0],\n",
       "       [0, 0, 0, ..., 0, 0, 0],\n",
       "       [0, 0, 0, ..., 0, 0, 0],\n",
       "       ...,\n",
       "       [0, 0, 0, ..., 0, 0, 0],\n",
       "       [0, 0, 0, ..., 0, 0, 0],\n",
       "       [0, 0, 0, ..., 0, 0, 0]])"
      ]
     },
     "execution_count": 68,
     "metadata": {},
     "output_type": "execute_result"
    }
   ],
   "source": [
    "Resistance"
   ]
  },
  {
   "cell_type": "code",
   "execution_count": 70,
   "metadata": {},
   "outputs": [],
   "source": [
    "x,y = func(1./mut,1./mubart,Periods[xk,yk],σFixed[xk,yk])"
   ]
  },
  {
   "cell_type": "code",
   "execution_count": 72,
   "metadata": {},
   "outputs": [
    {
     "data": {
      "text/plain": [
       "4.821412987039288"
      ]
     },
     "execution_count": 72,
     "metadata": {},
     "output_type": "execute_result"
    }
   ],
   "source": [
    "y"
   ]
  },
  {
   "cell_type": "code",
   "execution_count": null,
   "metadata": {},
   "outputs": [],
   "source": []
  }
 ],
 "metadata": {
  "anaconda-cloud": {},
  "kernelspec": {
   "display_name": "Python 3",
   "language": "python",
   "name": "python3"
  },
  "language_info": {
   "codemirror_mode": {
    "name": "ipython",
    "version": 3
   },
   "file_extension": ".py",
   "mimetype": "text/x-python",
   "name": "python",
   "nbconvert_exporter": "python",
   "pygments_lexer": "ipython3",
   "version": "3.6.5"
  }
 },
 "nbformat": 4,
 "nbformat_minor": 1
}
