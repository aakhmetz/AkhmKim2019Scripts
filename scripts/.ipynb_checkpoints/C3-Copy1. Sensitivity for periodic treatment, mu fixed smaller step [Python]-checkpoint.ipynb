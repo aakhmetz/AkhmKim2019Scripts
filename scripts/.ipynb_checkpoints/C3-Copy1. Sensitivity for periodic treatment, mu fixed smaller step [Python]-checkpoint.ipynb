{
 "cells": [
  {
   "cell_type": "markdown",
   "metadata": {
    "collapsed": true
   },
   "source": [
    "# Preamble"
   ]
  },
  {
   "cell_type": "code",
   "execution_count": 1,
   "metadata": {
    "scrolled": false
   },
   "outputs": [],
   "source": [
    "import numpy as np\n",
    "import pandas as pd\n",
    "from pylab import meshgrid\n",
    "from scipy import exp,optimize,log,floor\n",
    "from scipy.signal import argrelextrema\n",
    "from scipy.optimize import fsolve\n",
    "from scipy.integrate import ode\n",
    "backend = 'dopri5'\n",
    "\n",
    "import csv\n",
    "\n",
    "# Timer\n",
    "import time"
   ]
  },
  {
   "cell_type": "markdown",
   "metadata": {},
   "source": [
    "# Parameters values"
   ]
  },
  {
   "cell_type": "markdown",
   "metadata": {},
   "source": [
    "### Main pathway dynamics"
   ]
  },
  {
   "cell_type": "code",
   "execution_count": 2,
   "metadata": {},
   "outputs": [],
   "source": [
    "α = 0.3; θ = 0.45\n",
    "κ = 40.0 # Robustness parameter for the main pathway\n",
    "L = 0.2 # Parameter desribing the treatment action on the main pathway"
   ]
  },
  {
   "cell_type": "markdown",
   "metadata": {},
   "source": [
    "Reduction and translocation factors to the expression of the main pathway due to the treatment"
   ]
  },
  {
   "cell_type": "code",
   "execution_count": 3,
   "metadata": {},
   "outputs": [],
   "source": [
    "A = lambda σ: 1-σ*(1-θ)*(1-L)\n",
    "Θ = lambda σ: θ+(1-θ)*σ*L"
   ]
  },
  {
   "cell_type": "markdown",
   "metadata": {},
   "source": [
    "Production function as a step-like function and corresponding potential function"
   ]
  },
  {
   "cell_type": "code",
   "execution_count": 14,
   "metadata": {},
   "outputs": [],
   "source": [
    "# Heaviside function #\n",
    "Heaviside = lambda x: 1.0 * (x >= 0)\n",
    "\n",
    "f = lambda y, σ: A(σ)*(α+(1-α)*Heaviside(y-Θ(σ)))\n",
    "U = lambda y, σ: -A(σ)*(α+(1.-α)*Heaviside(y-Θ(σ)))*(y-Θ(σ))+(y**2-Θ(σ)**2)/2.0"
   ]
  },
  {
   "cell_type": "markdown",
   "metadata": {},
   "source": [
    "Corresponding potential bariers (will be required for the dynamics)"
   ]
  },
  {
   "cell_type": "code",
   "execution_count": 15,
   "metadata": {},
   "outputs": [],
   "source": [
    "Eplus = lambda σ: U(Θ(σ),σ)-U(f(1.,σ),σ)\n",
    "Eminus = lambda σ: U(Θ(σ),σ)-U(f(0.,σ),σ)"
   ]
  },
  {
   "cell_type": "markdown",
   "metadata": {},
   "source": [
    "Difference in potential bariers"
   ]
  },
  {
   "cell_type": "code",
   "execution_count": 16,
   "metadata": {},
   "outputs": [],
   "source": [
    "ΔE = lambda σ: Eplus(σ)-Eminus(σ)"
   ]
  },
  {
   "cell_type": "markdown",
   "metadata": {},
   "source": [
    "### Fitting some parameter values according with Bozic, Reiter et al 2013 *eLife*"
   ]
  },
  {
   "cell_type": "code",
   "execution_count": 17,
   "metadata": {},
   "outputs": [],
   "source": [
    "d = 0.13 # death rate per day"
   ]
  },
  {
   "cell_type": "code",
   "execution_count": 18,
   "metadata": {},
   "outputs": [
    {
     "name": "stdout",
     "output_type": "stream",
     "text": [
      "Birth rate: 0.1402\n",
      "Penalty χ: 0.2998\n"
     ]
    }
   ],
   "source": [
    "b = (0.1*(exp(κ*ΔE(1))+1)-0.14*(exp(κ*ΔE(0))+1))/(exp(κ*ΔE(1))-exp(κ*ΔE(0)))\n",
    "χ = 1-(0.14*(exp(κ*ΔE(0))+1)-b*exp(κ*ΔE(0)))/b\n",
    "print(\"Birth rate: %.4f\" % b)\n",
    "print(\"Penalty χ: %.4f\" % χ)"
   ]
  },
  {
   "cell_type": "markdown",
   "metadata": {},
   "source": [
    "### Other parameters"
   ]
  },
  {
   "cell_type": "code",
   "execution_count": 19,
   "metadata": {},
   "outputs": [],
   "source": [
    "c = 0.04 # cost of resistance"
   ]
  },
  {
   "cell_type": "code",
   "execution_count": 20,
   "metadata": {},
   "outputs": [],
   "source": [
    "ε = 0.01 # initial fraction of resistant cells"
   ]
  },
  {
   "cell_type": "markdown",
   "metadata": {},
   "source": [
    "# Periodic treatment\n",
    "\n",
    "** ¡It takes quite a substantial amount of time! **"
   ]
  },
  {
   "cell_type": "code",
   "execution_count": 21,
   "metadata": {},
   "outputs": [],
   "source": [
    "T = 2.0*12*30 # two years\n",
    "def func(μ,μbar,treatment_periodicity,σ):\n",
    "    ode_rhs = lambda t, X, σ: [b*(χ/(exp(κ*ΔE(σ))+1)-c)*X[0]*(1-X[0])+μ*(1-X[0])/(exp(κ*ΔE(σ))+1)-μbar*exp(-κ*Eminus(σ))*X[0],\\\n",
    "            b*(1-χ*(1-X[0])/(exp(κ*ΔE(σ))+1)-c*X[0])*X[1]-d*X[1]]\n",
    "    n = floor(T/(2*treatment_periodicity))\n",
    "    x = n*treatment_periodicity + (treatment_periodicity if (T/treatment_periodicity-2*n>1) else T-2*n*treatment_periodicity)\n",
    "    σx = σ*T/2/x #here σx is the double of one half of the applied treatment intensity\n",
    "    solver = ode(ode_rhs).set_integrator(backend).set_initial_value([ε,1.])\n",
    "    tme = 0.0; treatment = True\n",
    "    while (tme+treatment_periodicity < T):\n",
    "        tme += treatment_periodicity\n",
    "        solver.set_f_params(int(treatment)*σx).integrate(tme)\n",
    "        treatment = not treatment\n",
    "    solver.set_f_params(int(treatment)*σx).integrate(T)\n",
    "    return solver.y"
   ]
  },
  {
   "cell_type": "code",
   "execution_count": 22,
   "metadata": {},
   "outputs": [
    {
     "data": {
      "text/plain": [
       "array([0.91237541, 6.11969575])"
      ]
     },
     "execution_count": 22,
     "metadata": {},
     "output_type": "execute_result"
    }
   ],
   "source": [
    "func(1./mut,1./mubart,5.5,.8)"
   ]
  },
  {
   "cell_type": "code",
   "execution_count": 26,
   "metadata": {
    "scrolled": false
   },
   "outputs": [
    {
     "name": "stdout",
     "output_type": "stream",
     "text": [
      "This proccess took 26.3 minutes\n",
      "[28.0, 120, 26.700000000000003, 0.8, 0.9487799292779633, 5.949412476538993]\n",
      "This proccess took 26.1 minutes\n",
      "[28.0, 118, 26.700000000000003, 0.8, 0.9479471519888029, 5.870814120929659]\n",
      "This proccess took 26.1 minutes\n",
      "[28.0, 116, 24.900000000000002, 0.8, 0.9415935872360333, 5.790752308255301]\n",
      "This proccess took 26.1 minutes\n",
      "[28.0, 114, 24.900000000000002, 0.8, 0.9406148026633389, 5.708946061423756]\n",
      "This proccess took 26.1 minutes\n",
      "[28.0, 112, 20.6, 0.8, 0.9356474323842221, 5.624805898341981]\n",
      "This proccess took 26.2 minutes\n",
      "[28.0, 110, 20.6, 0.8, 0.9345325551318123, 5.539067256811435]\n",
      "This proccess took 26.5 minutes\n",
      "[28.0, 108, 20.6, 0.8, 0.9333785380503158, 5.451776464799295]\n",
      "This proccess took 26.7 minutes\n",
      "[28.0, 106, 20.6, 0.8, 0.9321832929942526, 5.362903005797829]\n",
      "This proccess took 26.6 minutes\n",
      "[28.0, 104, 20.6, 0.8, 0.9309445813534252, 5.272416546418765]\n",
      "This proccess took 26.3 minutes\n",
      "[28.0, 102, 20.6, 0.8, 0.9296600003278495, 5.180287076788735]\n",
      "This proccess took 26.7 minutes\n",
      "[28.0, 100, 20.6, 0.8, 0.9283269676816779, 5.086485078971347]\n",
      "This proccess took 26.7 minutes\n",
      "[28.0, 98, 20.6, 0.8, 0.9269427047771097, 4.99098169407374]\n",
      "This proccess took 26.7 minutes\n",
      "[28.0, 96, 20.6, 0.8, 0.9255042176591785, 4.893748959130526]\n",
      "This proccess took 26.8 minutes\n",
      "[28.0, 94, 20.6, 0.8, 0.9240082759270795, 4.794760044893085]\n",
      "This proccess took 26.8 minutes\n",
      "[28.0, 92, 20.6, 0.8, 0.9224513890862025, 4.693989540082732]\n",
      "This proccess took 26.7 minutes\n",
      "[28.0, 90, 20.6, 0.8, 0.9208297800262661, 4.591413775954391]\n",
      "This proccess took 26.7 minutes\n",
      "[28.0, 88, 20.6, 0.8, 0.9191393552132542, 4.487011197944056]\n",
      "This proccess took 26.8 minutes\n",
      "[28.0, 86, 20.6, 0.8, 0.9173756711145185, 4.380762790029335]\n",
      "This proccess took 26.8 minutes\n",
      "[28.0, 84, 20.6, 0.8, 0.9155338962947833, 4.272652559687772]\n",
      "This proccess took 26.8 minutes\n",
      "[28.0, 82, 20.6, 0.8, 0.913608768524301, 4.1626680921199934]\n",
      "This proccess took 26.8 minutes\n",
      "[28.0, 80, 16.0, 0.8, 0.9048328134893442, 4.049504309360435]\n",
      "This proccess took 26.9 minutes\n",
      "[28.0, 78, 16.0, 0.8, 0.9025650012916806, 3.934431453266348]\n",
      "This proccess took 26.9 minutes\n",
      "[28.0, 76, 16.0, 0.8, 0.9001873494292573, 3.817460278623084]\n",
      "This proccess took 27.0 minutes\n",
      "[28.0, 74, 16.0, 0.8, 0.8976917522354838, 3.698601308591183]\n",
      "This proccess took 27.4 minutes\n",
      "[28.0, 72, 16.0, 0.8, 0.8950692945278228, 3.5778730728280337]\n",
      "This proccess took 27.4 minutes\n",
      "[28.0, 70, 16.0, 0.8, 0.8923101491418968, 3.455303346489439]\n",
      "This proccess took 27.6 minutes\n",
      "[28.0, 68, 16.0, 0.8, 0.8894034587092673, 3.3309305534687206]\n",
      "This proccess took 27.6 minutes\n",
      "[28.0, 66, 16.0, 0.8, 0.8863371988236475, 3.2048053540291592]\n",
      "This proccess took 27.6 minutes\n",
      "[28.0, 64, 16.0, 0.81, 0.8849797648795931, 3.0768992765792214]\n",
      "This proccess took 27.7 minutes\n",
      "[28.0, 62, 16.0, 0.81, 0.8816022223935213, 2.947374201611697]\n",
      "This proccess took 27.7 minutes\n",
      "[28.0, 60, 16.0, 0.81, 0.8780228545783519, 2.8163316579716047]\n",
      "This proccess took 27.8 minutes\n",
      "[28.0, 58, 16.0, 0.81, 0.8742232790045461, 2.6838915178224325]\n",
      "This proccess took 27.9 minutes\n",
      "[28.0, 56, 16.0, 0.81, 0.8701828488505112, 2.55019741886457]\n",
      "This proccess took 27.9 minutes\n",
      "[28.0, 54, 16.0, 0.81, 0.8658783012543017, 2.4154200755020843]\n",
      "This proccess took 27.8 minutes\n",
      "[28.0, 52, 14.700000000000001, 0.81, 0.8545274761342717, 2.2794238041479695]\n",
      "This proccess took 27.9 minutes\n",
      "[28.0, 50, 14.700000000000001, 0.8200000000000001, 0.8515365365136648, 2.142543321473879]\n",
      "This proccess took 27.8 minutes\n",
      "[28.0, 48, 12.200000000000001, 0.8200000000000001, 0.8356598855190457, 2.0050050557779455]\n",
      "This proccess took 28.0 minutes\n",
      "[28.0, 46, 12.200000000000001, 0.8200000000000001, 0.8294361184302839, 1.8667197890089866]\n",
      "This proccess took 28.0 minutes\n",
      "[28.0, 44, 12.200000000000001, 0.8200000000000001, 0.8227325695772109, 1.728766285296899]\n",
      "This proccess took 28.1 minutes\n",
      "[28.0, 42, 11.8, 0.8300000000000001, 0.8158728068315461, 1.5913891431751026]\n",
      "This proccess took 28.2 minutes\n",
      "[28.0, 40, 11.8, 0.8300000000000001, 0.8080350629905344, 1.4550741076225975]\n",
      "This proccess took 28.3 minutes\n",
      "[28.0, 38, 9.6, 0.8400000000000001, 0.7929645858745017, 1.3199185619528313]\n",
      "This proccess took 28.5 minutes\n",
      "[28.0, 36, 9.6, 0.8400000000000001, 0.7833876800782419, 1.1868571036762012]\n",
      "This proccess took 28.7 minutes\n",
      "[28.0, 34, 9.6, 0.8500000000000001, 0.7752213017595253, 1.0569674428567815]\n",
      "This proccess took 28.7 minutes\n",
      "[28.0, 32, 9.6, 0.8500000000000001, 0.7638043184361063, 0.9307784875601048]\n",
      "This proccess took 28.8 minutes\n",
      "[28.0, 30, 9.6, 0.8600000000000001, 0.7535731778562154, 0.8093024592544515]\n",
      "This proccess took 28.8 minutes\n",
      "[28.0, 28, 9.6, 0.8700000000000001, 0.7420476983748883, 0.6933943764646068]\n",
      "This proccess took 28.5 minutes\n",
      "[28.0, 26, 9.6, 0.8700000000000001, 0.7267195518656266, 0.5839743432159694]\n",
      "This proccess took 28.1 minutes\n",
      "[28.0, 24, 9.6, 0.8900000000000001, 0.7142357395302964, 0.48205657715200645]\n",
      "This proccess took 27.8 minutes\n",
      "[28.0, 22, 5.5, 0.9000000000000001, 0.654389917585364, 0.3885716848188163]\n",
      "This proccess took 28.2 minutes\n",
      "[28.0, 20, 4.9, 0.9100000000000001, 0.63020954113581, 0.303428965715526]\n",
      "This proccess took 28.3 minutes\n",
      "[28.0, 18, 4.9, 0.9300000000000002, 0.6066517385649471, 0.22876419538020673]\n",
      "This proccess took 28.9 minutes\n",
      "[28.0, 16, 4.9, 0.9600000000000002, 0.5807043541059518, 0.16532784221666144]\n",
      "This proccess took 30.1 minutes\n",
      "[28.0, 14, 3.2, 0.9800000000000002, 0.5346304873751511, 0.1134173447109671]\n",
      "This proccess took 31.6 minutes\n",
      "[28.0, 12, 3.2, 1.0000000000000002, 0.4947511582892649, 0.0728586100251459]\n",
      "This proccess took 34.8 minutes\n",
      "[28.0, 10, 3.2, 1.0000000000000002, 0.4447613466469378, 0.04346016405400345]\n",
      "This proccess took 38.4 minutes\n",
      "[28.0, 8, 3.2, 1.0000000000000002, 0.3863724298117309, 0.023766292744768856]\n",
      "This proccess took 43.4 minutes\n",
      "[28.0, 6, 1.9000000000000001, 1.0000000000000002, 0.2954627605550935, 0.011741674752998402]\n",
      "This proccess took 54.9 minutes\n",
      "[28.0, 4, 1.9000000000000001, 1.0000000000000002, 0.21589073298620506, 0.005196517611709525]\n"
     ]
    }
   ],
   "source": [
    "File = open(\"../figures/draft/sensitivity_periodic_mu_fixed_smaller_step.csv\", 'w')\n",
    "File.write(\"T,Tbar,period,sigma,Resistance,FoldChange\\n\")\n",
    "writer = csv.writer(File,lineterminator='\\n')\n",
    "\n",
    "step_periods = .1; step_σFixed = .01\n",
    "Periods, σFixed = np.meshgrid(np.arange(step_periods,30.0+step_periods,step_periods),\n",
    "                              np.arange(0.7,1.0+step_σFixed,step_σFixed))\n",
    "periods_n, σFixed_n = Periods.shape\n",
    "\n",
    "mut = 28.0\n",
    "for mubart in np.arange(120,2,-2):\n",
    "    time0=time.time()\n",
    "\n",
    "    FoldChangeMin = 1e10\n",
    "    for xk in range(periods_n):\n",
    "        for yk in range(σFixed_n):\n",
    "            Resistance, FoldChange = func(1./mut,1./mubart,Periods[xk,yk],σFixed[xk,yk])\n",
    "            if FoldChange<FoldChangeMin:\n",
    "                FoldChangeMin = FoldChange\n",
    "                output = [mut,mubart,Periods[xk,yk],σFixed[xk,yk],Resistance,FoldChange]\n",
    "\n",
    "    print(\"This proccess took %0.1f minutes\" % ((time.time()-time0)/60.))\n",
    "    writer.writerow(output)\n",
    "    print(output)\n",
    "        \n",
    "File.close()"
   ]
  },
  {
   "cell_type": "code",
   "execution_count": null,
   "metadata": {},
   "outputs": [],
   "source": []
  }
 ],
 "metadata": {
  "anaconda-cloud": {},
  "kernelspec": {
   "display_name": "Python 3",
   "language": "python",
   "name": "python3"
  },
  "language_info": {
   "codemirror_mode": {
    "name": "ipython",
    "version": 3
   },
   "file_extension": ".py",
   "mimetype": "text/x-python",
   "name": "python",
   "nbconvert_exporter": "python",
   "pygments_lexer": "ipython3",
   "version": "3.6.5"
  }
 },
 "nbformat": 4,
 "nbformat_minor": 1
}
